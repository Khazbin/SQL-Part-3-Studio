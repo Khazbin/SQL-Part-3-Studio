{
    "metadata": {
        "kernelspec": {
            "name": "SQL",
            "display_name": "SQL",
            "language": "sql"
        },
        "language_info": {
            "name": "sql",
            "version": ""
        },
        "extensions": {
            "azuredatastudio": {
                "version": 1,
                "views": []
            }
        }
    },
    "nbformat_minor": 2,
    "nbformat": 4,
    "cells": [
        {
            "cell_type": "markdown",
            "source": [
                "# SQL Part 3 Studio\n",
                "\n",
                "### Let's practice your SQL quering skills!  For each question, work along in the notebook adding your query and answering the questions. \n",
                "\n",
                "### **DataSet**\n",
                "\n",
                "### <span style=\"font-size: 14px; font-family: -apple-system, BlinkMacSystemFont, sans-serif;\">We will be using the Goodbooks-10k dataset from the exercises in the prep work.&nbsp; Feel free reference your previous notebooks.</span>\n",
                "\n",
                "- The dataset can be found here: [goodbooks-10k](https://www.kaggle.com/zygmunt/goodbooks-10k)\n",
                "- You can access the **BooksDB** in the Launchcode server.\n",
                "\n",
                "### **Business Issue**\n",
                "\n",
                "You are an employee at a small independet bookstore and you have been tasked to increase sales.  You decide to use the BooksDB to find books and themes to highlight in fun promotions throughout each month / season.  We will be starting with March and then you will have a chance to explore another month of your choosing.  We want to come up with a list of events/ promotions to run each month.  If you are looking for ideas to include in your promotions:\n",
                "\n",
                "- [https://www.calendarr.com/united-states/calendar-2022/](https://www.calendarr.com/united-states/calendar-2022/)\n",
                "- [https://www.holidayinsights.com/moreholidays/](https://www.holidayinsights.com/moreholidays/)\n",
                "    - Click on a month and it will take you to a more detailed page"
            ],
            "metadata": {
                "azdata_cell_guid": "b9034d8a-b631-48bf-a895-1012a6ffa784"
            },
            "attachments": {}
        },
        {
            "cell_type": "markdown",
            "source": [
                "## Part 1:  March - Women's History Month, Dr Seuss Day(3/2), National Pie Day3/14, St Patrick's Day (3/17), Season - Spring"
            ],
            "metadata": {
                "azdata_cell_guid": "6e55eb1c-4a14-4076-90d2-95ed17a6309f"
            },
            "attachments": {}
        },
        {
            "cell_type": "markdown",
            "source": [
                "### **Event 1:** Women's History Month\n",
                "\n",
                "Goal: Highlight Popular Womans Authors based on ratings from the Good Reads DB.\n",
                "\n",
                "### **Write a query that returns tag\\_id, the number of times each tag\\_id is used and the tag\\_name.**  \n",
                "\n",
                "### Use the GROUP BY and HAVING clause to narrow your focus.\n",
                "\n",
                "Try multiple keywords, ie woman vs female (female ended up giving better results)"
            ],
            "metadata": {
                "azdata_cell_guid": "d220c097-e9cf-4edd-9abe-312d071217b7"
            },
            "attachments": {}
        },
        {
            "cell_type": "code",
            "source": [
                "-- Solution\r\n",
                "select * from BooksDB.dbo.tags where tag_name like '%woman%' or tag_name like '%female%';\r\n",
                "\r\n",
                "select tag_id from BooksDB.dbo.tags where tag_name like 'author-female' or tag_name like 'female-author%' or tag_name like 'female-writer&' or tag_name like 'woman-author' or tag_name like 'woman-trans-agender-authors';\r\n",
                "\r\n",
                "select t.tag_name, sum(t.tag_id) as TagID, bt.count\r\n",
                "from BooksDB.dbo.book_tags as bt\r\n",
                "left join BooksDB.dbo.tags as t\r\n",
                "on t.tag_id = bt.tag_id\r\n",
                "group by t.tag_name, t.tag_id, bt.count\r\n",
                "having t.tag_name like 'author-female' or t.tag_name like 'female-author%' or t.tag_name like 'female-writer&' or t.tag_name like 'woman-author' or t.tag_name like 'woman-trans-agender-authors'\r\n",
                "order by t.tag_name asc;"
            ],
            "metadata": {
                "azdata_cell_guid": "e31b9d26-0386-44c7-828e-85f4f06f3ee6",
                "language": "sql"
            },
            "outputs": [
                {
                    "output_type": "display_data",
                    "data": {
                        "text/html": "(59 rows affected)"
                    },
                    "metadata": {}
                },
                {
                    "output_type": "display_data",
                    "data": {
                        "text/html": "(5 rows affected)"
                    },
                    "metadata": {}
                },
                {
                    "output_type": "display_data",
                    "data": {
                        "text/html": "(173 rows affected)"
                    },
                    "metadata": {}
                },
                {
                    "output_type": "display_data",
                    "data": {
                        "text/html": "Total execution time: 00:00:00.737"
                    },
                    "metadata": {}
                },
                {
                    "output_type": "execute_result",
                    "metadata": {},
                    "execution_count": 49,
                    "data": {
                        "application/vnd.dataresource+json": {
                            "schema": {
                                "fields": [
                                    {
                                        "name": "tag_id"
                                    },
                                    {
                                        "name": "tag_name"
                                    }
                                ]
                            },
                            "data": [
                                {
                                    "tag_id": "937",
                                    "tag_name": "21-books-every-woman-should-read"
                                },
                                {
                                    "tag_id": "1386",
                                    "tag_name": "a-woman-after-god-s-own-heart"
                                },
                                {
                                    "tag_id": "1387",
                                    "tag_name": "a-woman-after-gods-own-heart"
                                },
                                {
                                    "tag_id": "1741",
                                    "tag_name": "afghan-female-entrepreneur-under-ta"
                                },
                                {
                                    "tag_id": "3514",
                                    "tag_name": "author-female"
                                },
                                {
                                    "tag_id": "4006",
                                    "tag_name": "batwoman"
                                },
                                {
                                    "tag_id": "4309",
                                    "tag_name": "best-adult-female-friendship-books"
                                },
                                {
                                    "tag_id": "4455",
                                    "tag_name": "biblical-womanhood"
                                },
                                {
                                    "tag_id": "4729",
                                    "tag_name": "black-ops-woman-team-cia-sean-case"
                                },
                                {
                                    "tag_id": "5132",
                                    "tag_name": "books-every-woman-should-read"
                                },
                                {
                                    "tag_id": "7194",
                                    "tag_name": "christian-woman"
                                },
                                {
                                    "tag_id": "10986",
                                    "tag_name": "every-woman-should-read"
                                },
                                {
                                    "tag_id": "11642",
                                    "tag_name": "female"
                                },
                                {
                                    "tag_id": "11643",
                                    "tag_name": "female-author"
                                },
                                {
                                    "tag_id": "11644",
                                    "tag_name": "female-authors"
                                },
                                {
                                    "tag_id": "11645",
                                    "tag_name": "female-biographies"
                                },
                                {
                                    "tag_id": "11646",
                                    "tag_name": "female-detective"
                                },
                                {
                                    "tag_id": "11647",
                                    "tag_name": "female-detectives"
                                },
                                {
                                    "tag_id": "11648",
                                    "tag_name": "female-doctor"
                                },
                                {
                                    "tag_id": "11649",
                                    "tag_name": "female-fiction"
                                },
                                {
                                    "tag_id": "11650",
                                    "tag_name": "female-friendship"
                                },
                                {
                                    "tag_id": "11651",
                                    "tag_name": "female-genre-authors"
                                },
                                {
                                    "tag_id": "11652",
                                    "tag_name": "female-lead"
                                },
                                {
                                    "tag_id": "11653",
                                    "tag_name": "female-main-character"
                                },
                                {
                                    "tag_id": "11654",
                                    "tag_name": "female-persuasion"
                                },
                                {
                                    "tag_id": "11655",
                                    "tag_name": "female-pi"
                                },
                                {
                                    "tag_id": "11656",
                                    "tag_name": "female-pov"
                                },
                                {
                                    "tag_id": "11657",
                                    "tag_name": "female-povs"
                                },
                                {
                                    "tag_id": "11658",
                                    "tag_name": "female-protagonist"
                                },
                                {
                                    "tag_id": "11659",
                                    "tag_name": "female-serial-killer"
                                },
                                {
                                    "tag_id": "11660",
                                    "tag_name": "female-spy"
                                },
                                {
                                    "tag_id": "11661",
                                    "tag_name": "female-writer"
                                },
                                {
                                    "tag_id": "11662",
                                    "tag_name": "female-writers"
                                },
                                {
                                    "tag_id": "15331",
                                    "tag_name": "important-female-authors"
                                },
                                {
                                    "tag_id": "17079",
                                    "tag_name": "kick-ass-female"
                                },
                                {
                                    "tag_id": "19038",
                                    "tag_name": "man-woman"
                                },
                                {
                                    "tag_id": "19757",
                                    "tag_name": "memorable-woman-characters"
                                },
                                {
                                    "tag_id": "22269",
                                    "tag_name": "older-man-younger-woman"
                                },
                                {
                                    "tag_id": "22270",
                                    "tag_name": "older-woman"
                                },
                                {
                                    "tag_id": "22271",
                                    "tag_name": "older-woman-younger-man"
                                },
                                {
                                    "tag_id": "23671",
                                    "tag_name": "pioneer-woman"
                                },
                                {
                                    "tag_id": "23891",
                                    "tag_name": "policewoman-potential-victim"
                                },
                                {
                                    "tag_id": "24455",
                                    "tag_name": "protagonist-female"
                                },
                                {
                                    "tag_id": "28830",
                                    "tag_name": "strong-female"
                                },
                                {
                                    "tag_id": "28831",
                                    "tag_name": "strong-female-character"
                                },
                                {
                                    "tag_id": "28832",
                                    "tag_name": "strong-female-character-s"
                                },
                                {
                                    "tag_id": "28833",
                                    "tag_name": "strong-female-characters"
                                },
                                {
                                    "tag_id": "28834",
                                    "tag_name": "strong-female-lead"
                                },
                                {
                                    "tag_id": "28835",
                                    "tag_name": "strong-female-protagonist"
                                },
                                {
                                    "tag_id": "28836",
                                    "tag_name": "strong-female-supporting-characters"
                                },
                                {
                                    "tag_id": "29324",
                                    "tag_name": "tbr-ax-female"
                                },
                                {
                                    "tag_id": "32679",
                                    "tag_name": "woman-author"
                                },
                                {
                                    "tag_id": "32680",
                                    "tag_name": "woman-s-fiction"
                                },
                                {
                                    "tag_id": "32681",
                                    "tag_name": "woman-s-murder-club"
                                },
                                {
                                    "tag_id": "32682",
                                    "tag_name": "woman-trans-agender-authors"
                                },
                                {
                                    "tag_id": "32683",
                                    "tag_name": "womanhood"
                                },
                                {
                                    "tag_id": "32684",
                                    "tag_name": "womans-literature"
                                },
                                {
                                    "tag_id": "32685",
                                    "tag_name": "womans-murder-club"
                                },
                                {
                                    "tag_id": "32740",
                                    "tag_name": "wonder-woman"
                                }
                            ]
                        },
                        "text/html": [
                            "<table>",
                            "<tr><th>tag_id</th><th>tag_name</th></tr>",
                            "<tr><td>937</td><td>21-books-every-woman-should-read</td></tr>",
                            "<tr><td>1386</td><td>a-woman-after-god-s-own-heart</td></tr>",
                            "<tr><td>1387</td><td>a-woman-after-gods-own-heart</td></tr>",
                            "<tr><td>1741</td><td>afghan-female-entrepreneur-under-ta</td></tr>",
                            "<tr><td>3514</td><td>author-female</td></tr>",
                            "<tr><td>4006</td><td>batwoman</td></tr>",
                            "<tr><td>4309</td><td>best-adult-female-friendship-books</td></tr>",
                            "<tr><td>4455</td><td>biblical-womanhood</td></tr>",
                            "<tr><td>4729</td><td>black-ops-woman-team-cia-sean-case</td></tr>",
                            "<tr><td>5132</td><td>books-every-woman-should-read</td></tr>",
                            "<tr><td>7194</td><td>christian-woman</td></tr>",
                            "<tr><td>10986</td><td>every-woman-should-read</td></tr>",
                            "<tr><td>11642</td><td>female</td></tr>",
                            "<tr><td>11643</td><td>female-author</td></tr>",
                            "<tr><td>11644</td><td>female-authors</td></tr>",
                            "<tr><td>11645</td><td>female-biographies</td></tr>",
                            "<tr><td>11646</td><td>female-detective</td></tr>",
                            "<tr><td>11647</td><td>female-detectives</td></tr>",
                            "<tr><td>11648</td><td>female-doctor</td></tr>",
                            "<tr><td>11649</td><td>female-fiction</td></tr>",
                            "<tr><td>11650</td><td>female-friendship</td></tr>",
                            "<tr><td>11651</td><td>female-genre-authors</td></tr>",
                            "<tr><td>11652</td><td>female-lead</td></tr>",
                            "<tr><td>11653</td><td>female-main-character</td></tr>",
                            "<tr><td>11654</td><td>female-persuasion</td></tr>",
                            "<tr><td>11655</td><td>female-pi</td></tr>",
                            "<tr><td>11656</td><td>female-pov</td></tr>",
                            "<tr><td>11657</td><td>female-povs</td></tr>",
                            "<tr><td>11658</td><td>female-protagonist</td></tr>",
                            "<tr><td>11659</td><td>female-serial-killer</td></tr>",
                            "<tr><td>11660</td><td>female-spy</td></tr>",
                            "<tr><td>11661</td><td>female-writer</td></tr>",
                            "<tr><td>11662</td><td>female-writers</td></tr>",
                            "<tr><td>15331</td><td>important-female-authors</td></tr>",
                            "<tr><td>17079</td><td>kick-ass-female</td></tr>",
                            "<tr><td>19038</td><td>man-woman</td></tr>",
                            "<tr><td>19757</td><td>memorable-woman-characters</td></tr>",
                            "<tr><td>22269</td><td>older-man-younger-woman</td></tr>",
                            "<tr><td>22270</td><td>older-woman</td></tr>",
                            "<tr><td>22271</td><td>older-woman-younger-man</td></tr>",
                            "<tr><td>23671</td><td>pioneer-woman</td></tr>",
                            "<tr><td>23891</td><td>policewoman-potential-victim</td></tr>",
                            "<tr><td>24455</td><td>protagonist-female</td></tr>",
                            "<tr><td>28830</td><td>strong-female</td></tr>",
                            "<tr><td>28831</td><td>strong-female-character</td></tr>",
                            "<tr><td>28832</td><td>strong-female-character-s</td></tr>",
                            "<tr><td>28833</td><td>strong-female-characters</td></tr>",
                            "<tr><td>28834</td><td>strong-female-lead</td></tr>",
                            "<tr><td>28835</td><td>strong-female-protagonist</td></tr>",
                            "<tr><td>28836</td><td>strong-female-supporting-characters</td></tr>",
                            "<tr><td>29324</td><td>tbr-ax-female</td></tr>",
                            "<tr><td>32679</td><td>woman-author</td></tr>",
                            "<tr><td>32680</td><td>woman-s-fiction</td></tr>",
                            "<tr><td>32681</td><td>woman-s-murder-club</td></tr>",
                            "<tr><td>32682</td><td>woman-trans-agender-authors</td></tr>",
                            "<tr><td>32683</td><td>womanhood</td></tr>",
                            "<tr><td>32684</td><td>womans-literature</td></tr>",
                            "<tr><td>32685</td><td>womans-murder-club</td></tr>",
                            "<tr><td>32740</td><td>wonder-woman</td></tr>",
                            "</table>"
                        ]
                    }
                },
                {
                    "output_type": "execute_result",
                    "metadata": {},
                    "execution_count": 49,
                    "data": {
                        "application/vnd.dataresource+json": {
                            "schema": {
                                "fields": [
                                    {
                                        "name": "tag_id"
                                    }
                                ]
                            },
                            "data": [
                                {
                                    "tag_id": "3514"
                                },
                                {
                                    "tag_id": "11643"
                                },
                                {
                                    "tag_id": "11644"
                                },
                                {
                                    "tag_id": "32679"
                                },
                                {
                                    "tag_id": "32682"
                                }
                            ]
                        },
                        "text/html": [
                            "<table>",
                            "<tr><th>tag_id</th></tr>",
                            "<tr><td>3514</td></tr>",
                            "<tr><td>11643</td></tr>",
                            "<tr><td>11644</td></tr>",
                            "<tr><td>32679</td></tr>",
                            "<tr><td>32682</td></tr>",
                            "</table>"
                        ]
                    }
                },
                {
                    "output_type": "execute_result",
                    "metadata": {},
                    "execution_count": 49,
                    "data": {
                        "application/vnd.dataresource+json": {
                            "schema": {
                                "fields": [
                                    {
                                        "name": "tag_name"
                                    },
                                    {
                                        "name": "TagID"
                                    },
                                    {
                                        "name": "count"
                                    }
                                ]
                            },
                            "data": [
                                {
                                    "tag_name": "author-female",
                                    "TagID": "3514",
                                    "count": "9"
                                },
                                {
                                    "tag_name": "author-female",
                                    "TagID": "3514",
                                    "count": "4"
                                },
                                {
                                    "tag_name": "author-female",
                                    "TagID": "3514",
                                    "count": "10"
                                },
                                {
                                    "tag_name": "author-female",
                                    "TagID": "17570",
                                    "count": "2"
                                },
                                {
                                    "tag_name": "author-female",
                                    "TagID": "10542",
                                    "count": "3"
                                },
                                {
                                    "tag_name": "author-female",
                                    "TagID": "3514",
                                    "count": "5"
                                },
                                {
                                    "tag_name": "female-author",
                                    "TagID": "698580",
                                    "count": "5"
                                },
                                {
                                    "tag_name": "female-author",
                                    "TagID": "11643",
                                    "count": "82"
                                },
                                {
                                    "tag_name": "female-author",
                                    "TagID": "46572",
                                    "count": "60"
                                },
                                {
                                    "tag_name": "female-author",
                                    "TagID": "46572",
                                    "count": "68"
                                },
                                {
                                    "tag_name": "female-author",
                                    "TagID": "23286",
                                    "count": "75"
                                },
                                {
                                    "tag_name": "female-author",
                                    "TagID": "93144",
                                    "count": "23"
                                },
                                {
                                    "tag_name": "female-author",
                                    "TagID": "11643",
                                    "count": "77"
                                },
                                {
                                    "tag_name": "female-author",
                                    "TagID": "34929",
                                    "count": "42"
                                },
                                {
                                    "tag_name": "female-author",
                                    "TagID": "151359",
                                    "count": "28"
                                },
                                {
                                    "tag_name": "female-author",
                                    "TagID": "360933",
                                    "count": "14"
                                },
                                {
                                    "tag_name": "female-author",
                                    "TagID": "11643",
                                    "count": "83"
                                },
                                {
                                    "tag_name": "female-author",
                                    "TagID": "104787",
                                    "count": "24"
                                },
                                {
                                    "tag_name": "female-author",
                                    "TagID": "11643",
                                    "count": "91"
                                },
                                {
                                    "tag_name": "female-author",
                                    "TagID": "279432",
                                    "count": "2"
                                },
                                {
                                    "tag_name": "female-author",
                                    "TagID": "34929",
                                    "count": "46"
                                },
                                {
                                    "tag_name": "female-author",
                                    "TagID": "430791",
                                    "count": "10"
                                },
                                {
                                    "tag_name": "female-author",
                                    "TagID": "11643",
                                    "count": "38"
                                },
                                {
                                    "tag_name": "female-author",
                                    "TagID": "23286",
                                    "count": "51"
                                },
                                {
                                    "tag_name": "female-author",
                                    "TagID": "605436",
                                    "count": "9"
                                },
                                {
                                    "tag_name": "female-author",
                                    "TagID": "58215",
                                    "count": "39"
                                },
                                {
                                    "tag_name": "female-author",
                                    "TagID": "593793",
                                    "count": "3"
                                },
                                {
                                    "tag_name": "female-author",
                                    "TagID": "93144",
                                    "count": "37"
                                },
                                {
                                    "tag_name": "female-author",
                                    "TagID": "326004",
                                    "count": "16"
                                },
                                {
                                    "tag_name": "female-author",
                                    "TagID": "11643",
                                    "count": "150"
                                },
                                {
                                    "tag_name": "female-author",
                                    "TagID": "46572",
                                    "count": "54"
                                },
                                {
                                    "tag_name": "female-author",
                                    "TagID": "11643",
                                    "count": "87"
                                },
                                {
                                    "tag_name": "female-author",
                                    "TagID": "34929",
                                    "count": "40"
                                },
                                {
                                    "tag_name": "female-author",
                                    "TagID": "23286",
                                    "count": "47"
                                },
                                {
                                    "tag_name": "female-author",
                                    "TagID": "46572",
                                    "count": "33"
                                },
                                {
                                    "tag_name": "female-author",
                                    "TagID": "558864",
                                    "count": "8"
                                },
                                {
                                    "tag_name": "female-author",
                                    "TagID": "23286",
                                    "count": "61"
                                },
                                {
                                    "tag_name": "female-author",
                                    "TagID": "128073",
                                    "count": "26"
                                },
                                {
                                    "tag_name": "female-author",
                                    "TagID": "46572",
                                    "count": "1"
                                },
                                {
                                    "tag_name": "female-author",
                                    "TagID": "232860",
                                    "count": "17"
                                },
                                {
                                    "tag_name": "female-author",
                                    "TagID": "337647",
                                    "count": "15"
                                },
                                {
                                    "tag_name": "female-author",
                                    "TagID": "267789",
                                    "count": "11"
                                },
                                {
                                    "tag_name": "female-author",
                                    "TagID": "69858",
                                    "count": "34"
                                },
                                {
                                    "tag_name": "female-author",
                                    "TagID": "314361",
                                    "count": "22"
                                },
                                {
                                    "tag_name": "female-author",
                                    "TagID": "128073",
                                    "count": "25"
                                },
                                {
                                    "tag_name": "female-author",
                                    "TagID": "58215",
                                    "count": "48"
                                },
                                {
                                    "tag_name": "female-author",
                                    "TagID": "11643",
                                    "count": "36"
                                },
                                {
                                    "tag_name": "female-author",
                                    "TagID": "430791",
                                    "count": "12"
                                },
                                {
                                    "tag_name": "female-author",
                                    "TagID": "23286",
                                    "count": "64"
                                },
                                {
                                    "tag_name": "female-author",
                                    "TagID": "34929",
                                    "count": "70"
                                },
                                {
                                    "tag_name": "female-author",
                                    "TagID": "11643",
                                    "count": "63"
                                },
                                {
                                    "tag_name": "female-author",
                                    "TagID": "11643",
                                    "count": "50"
                                },
                                {
                                    "tag_name": "female-author",
                                    "TagID": "11643",
                                    "count": "198"
                                },
                                {
                                    "tag_name": "female-author",
                                    "TagID": "58215",
                                    "count": "44"
                                },
                                {
                                    "tag_name": "female-author",
                                    "TagID": "128073",
                                    "count": "31"
                                },
                                {
                                    "tag_name": "female-author",
                                    "TagID": "11643",
                                    "count": "108"
                                },
                                {
                                    "tag_name": "female-author",
                                    "TagID": "46572",
                                    "count": "53"
                                },
                                {
                                    "tag_name": "female-author",
                                    "TagID": "11643",
                                    "count": "66"
                                },
                                {
                                    "tag_name": "female-author",
                                    "TagID": "93144",
                                    "count": "30"
                                },
                                {
                                    "tag_name": "female-author",
                                    "TagID": "174645",
                                    "count": "21"
                                },
                                {
                                    "tag_name": "female-author",
                                    "TagID": "617079",
                                    "count": "7"
                                },
                                {
                                    "tag_name": "female-author",
                                    "TagID": "11643",
                                    "count": "65"
                                },
                                {
                                    "tag_name": "female-author",
                                    "TagID": "58215",
                                    "count": "35"
                                },
                                {
                                    "tag_name": "female-author",
                                    "TagID": "244503",
                                    "count": "19"
                                },
                                {
                                    "tag_name": "female-author",
                                    "TagID": "768438",
                                    "count": "6"
                                },
                                {
                                    "tag_name": "female-author",
                                    "TagID": "34929",
                                    "count": "43"
                                },
                                {
                                    "tag_name": "female-author",
                                    "TagID": "11643",
                                    "count": "55"
                                },
                                {
                                    "tag_name": "female-author",
                                    "TagID": "34929",
                                    "count": "76"
                                },
                                {
                                    "tag_name": "female-author",
                                    "TagID": "23286",
                                    "count": "57"
                                },
                                {
                                    "tag_name": "female-author",
                                    "TagID": "11643",
                                    "count": "137"
                                },
                                {
                                    "tag_name": "female-author",
                                    "TagID": "34929",
                                    "count": "59"
                                },
                                {
                                    "tag_name": "female-author",
                                    "TagID": "11643",
                                    "count": "58"
                                },
                                {
                                    "tag_name": "female-author",
                                    "TagID": "11643",
                                    "count": "79"
                                },
                                {
                                    "tag_name": "female-author",
                                    "TagID": "34929",
                                    "count": "49"
                                },
                                {
                                    "tag_name": "female-author",
                                    "TagID": "11643",
                                    "count": "67"
                                },
                                {
                                    "tag_name": "female-author",
                                    "TagID": "11643",
                                    "count": "103"
                                },
                                {
                                    "tag_name": "female-author",
                                    "TagID": "465720",
                                    "count": "4"
                                },
                                {
                                    "tag_name": "female-author",
                                    "TagID": "11643",
                                    "count": "140"
                                },
                                {
                                    "tag_name": "female-author",
                                    "TagID": "11643",
                                    "count": "93"
                                },
                                {
                                    "tag_name": "female-author",
                                    "TagID": "512292",
                                    "count": "13"
                                },
                                {
                                    "tag_name": "female-author",
                                    "TagID": "11643",
                                    "count": "104"
                                },
                                {
                                    "tag_name": "female-author",
                                    "TagID": "81501",
                                    "count": "41"
                                },
                                {
                                    "tag_name": "female-author",
                                    "TagID": "384219",
                                    "count": "18"
                                },
                                {
                                    "tag_name": "female-author",
                                    "TagID": "11643",
                                    "count": "194"
                                },
                                {
                                    "tag_name": "female-author",
                                    "TagID": "197931",
                                    "count": "32"
                                },
                                {
                                    "tag_name": "female-author",
                                    "TagID": "116430",
                                    "count": "27"
                                },
                                {
                                    "tag_name": "female-author",
                                    "TagID": "232860",
                                    "count": "20"
                                },
                                {
                                    "tag_name": "female-author",
                                    "TagID": "46572",
                                    "count": "45"
                                },
                                {
                                    "tag_name": "female-author",
                                    "TagID": "128073",
                                    "count": "29"
                                },
                                {
                                    "tag_name": "female-authors",
                                    "TagID": "46576",
                                    "count": "23"
                                },
                                {
                                    "tag_name": "female-authors",
                                    "TagID": "81508",
                                    "count": "30"
                                },
                                {
                                    "tag_name": "female-authors",
                                    "TagID": "23288",
                                    "count": "66"
                                },
                                {
                                    "tag_name": "female-authors",
                                    "TagID": "11644",
                                    "count": "106"
                                },
                                {
                                    "tag_name": "female-authors",
                                    "TagID": "11644",
                                    "count": "53"
                                },
                                {
                                    "tag_name": "female-authors",
                                    "TagID": "34932",
                                    "count": "60"
                                },
                                {
                                    "tag_name": "female-authors",
                                    "TagID": "465760",
                                    "count": "5"
                                },
                                {
                                    "tag_name": "female-authors",
                                    "TagID": "11644",
                                    "count": "49"
                                },
                                {
                                    "tag_name": "female-authors",
                                    "TagID": "34932",
                                    "count": "62"
                                },
                                {
                                    "tag_name": "female-authors",
                                    "TagID": "11644",
                                    "count": "158"
                                },
                                {
                                    "tag_name": "female-authors",
                                    "TagID": "11644",
                                    "count": "214"
                                },
                                {
                                    "tag_name": "female-authors",
                                    "TagID": "11644",
                                    "count": "83"
                                },
                                {
                                    "tag_name": "female-authors",
                                    "TagID": "23288",
                                    "count": "75"
                                },
                                {
                                    "tag_name": "female-authors",
                                    "TagID": "104796",
                                    "count": "29"
                                },
                                {
                                    "tag_name": "female-authors",
                                    "TagID": "23288",
                                    "count": "76"
                                },
                                {
                                    "tag_name": "female-authors",
                                    "TagID": "11644",
                                    "count": "102"
                                },
                                {
                                    "tag_name": "female-authors",
                                    "TagID": "104796",
                                    "count": "24"
                                },
                                {
                                    "tag_name": "female-authors",
                                    "TagID": "326032",
                                    "count": "16"
                                },
                                {
                                    "tag_name": "female-authors",
                                    "TagID": "81508",
                                    "count": "26"
                                },
                                {
                                    "tag_name": "female-authors",
                                    "TagID": "23288",
                                    "count": "89"
                                },
                                {
                                    "tag_name": "female-authors",
                                    "TagID": "256168",
                                    "count": "2"
                                },
                                {
                                    "tag_name": "female-authors",
                                    "TagID": "11644",
                                    "count": "128"
                                },
                                {
                                    "tag_name": "female-authors",
                                    "TagID": "395896",
                                    "count": "10"
                                },
                                {
                                    "tag_name": "female-authors",
                                    "TagID": "11644",
                                    "count": "44"
                                },
                                {
                                    "tag_name": "female-authors",
                                    "TagID": "11644",
                                    "count": "47"
                                },
                                {
                                    "tag_name": "female-authors",
                                    "TagID": "81508",
                                    "count": "33"
                                },
                                {
                                    "tag_name": "female-authors",
                                    "TagID": "384252",
                                    "count": "11"
                                },
                                {
                                    "tag_name": "female-authors",
                                    "TagID": "34932",
                                    "count": "63"
                                },
                                {
                                    "tag_name": "female-authors",
                                    "TagID": "23288",
                                    "count": "93"
                                },
                                {
                                    "tag_name": "female-authors",
                                    "TagID": "104796",
                                    "count": "20"
                                },
                                {
                                    "tag_name": "female-authors",
                                    "TagID": "23288",
                                    "count": "34"
                                },
                                {
                                    "tag_name": "female-authors",
                                    "TagID": "11644",
                                    "count": "72"
                                },
                                {
                                    "tag_name": "female-authors",
                                    "TagID": "69864",
                                    "count": "41"
                                },
                                {
                                    "tag_name": "female-authors",
                                    "TagID": "407540",
                                    "count": "4"
                                },
                                {
                                    "tag_name": "female-authors",
                                    "TagID": "34932",
                                    "count": "25"
                                },
                                {
                                    "tag_name": "female-authors",
                                    "TagID": "558912",
                                    "count": "6"
                                },
                                {
                                    "tag_name": "female-authors",
                                    "TagID": "23288",
                                    "count": "48"
                                },
                                {
                                    "tag_name": "female-authors",
                                    "TagID": "69864",
                                    "count": "37"
                                },
                                {
                                    "tag_name": "female-authors",
                                    "TagID": "11644",
                                    "count": "54"
                                },
                                {
                                    "tag_name": "female-authors",
                                    "TagID": "81508",
                                    "count": "27"
                                },
                                {
                                    "tag_name": "female-authors",
                                    "TagID": "46576",
                                    "count": "35"
                                },
                                {
                                    "tag_name": "female-authors",
                                    "TagID": "58220",
                                    "count": "40"
                                },
                                {
                                    "tag_name": "female-authors",
                                    "TagID": "23288",
                                    "count": "51"
                                },
                                {
                                    "tag_name": "female-authors",
                                    "TagID": "256168",
                                    "count": "13"
                                },
                                {
                                    "tag_name": "female-authors",
                                    "TagID": "267812",
                                    "count": "18"
                                },
                                {
                                    "tag_name": "female-authors",
                                    "TagID": "46576",
                                    "count": "58"
                                },
                                {
                                    "tag_name": "female-authors",
                                    "TagID": "23288",
                                    "count": "32"
                                },
                                {
                                    "tag_name": "female-authors",
                                    "TagID": "360964",
                                    "count": "9"
                                },
                                {
                                    "tag_name": "female-authors",
                                    "TagID": "314388",
                                    "count": "3"
                                },
                                {
                                    "tag_name": "female-authors",
                                    "TagID": "11644",
                                    "count": "81"
                                },
                                {
                                    "tag_name": "female-authors",
                                    "TagID": "11644",
                                    "count": "170"
                                },
                                {
                                    "tag_name": "female-authors",
                                    "TagID": "116440",
                                    "count": "22"
                                },
                                {
                                    "tag_name": "female-authors",
                                    "TagID": "11644",
                                    "count": "90"
                                },
                                {
                                    "tag_name": "female-authors",
                                    "TagID": "11644",
                                    "count": "50"
                                },
                                {
                                    "tag_name": "female-authors",
                                    "TagID": "163016",
                                    "count": "17"
                                },
                                {
                                    "tag_name": "female-authors",
                                    "TagID": "23288",
                                    "count": "64"
                                },
                                {
                                    "tag_name": "female-authors",
                                    "TagID": "11644",
                                    "count": "84"
                                },
                                {
                                    "tag_name": "female-authors",
                                    "TagID": "69864",
                                    "count": "43"
                                },
                                {
                                    "tag_name": "female-authors",
                                    "TagID": "232880",
                                    "count": "15"
                                },
                                {
                                    "tag_name": "female-authors",
                                    "TagID": "11644",
                                    "count": "67"
                                },
                                {
                                    "tag_name": "female-authors",
                                    "TagID": "34932",
                                    "count": "56"
                                },
                                {
                                    "tag_name": "female-authors",
                                    "TagID": "23288",
                                    "count": "57"
                                },
                                {
                                    "tag_name": "female-authors",
                                    "TagID": "11644",
                                    "count": "91"
                                },
                                {
                                    "tag_name": "female-authors",
                                    "TagID": "34932",
                                    "count": "1"
                                },
                                {
                                    "tag_name": "female-authors",
                                    "TagID": "454116",
                                    "count": "8"
                                },
                                {
                                    "tag_name": "female-authors",
                                    "TagID": "11644",
                                    "count": "82"
                                },
                                {
                                    "tag_name": "female-authors",
                                    "TagID": "23288",
                                    "count": "52"
                                },
                                {
                                    "tag_name": "female-authors",
                                    "TagID": "11644",
                                    "count": "71"
                                },
                                {
                                    "tag_name": "female-authors",
                                    "TagID": "81508",
                                    "count": "36"
                                },
                                {
                                    "tag_name": "female-authors",
                                    "TagID": "11644",
                                    "count": "59"
                                },
                                {
                                    "tag_name": "female-authors",
                                    "TagID": "197948",
                                    "count": "19"
                                },
                                {
                                    "tag_name": "female-authors",
                                    "TagID": "104796",
                                    "count": "21"
                                },
                                {
                                    "tag_name": "female-authors",
                                    "TagID": "11644",
                                    "count": "146"
                                },
                                {
                                    "tag_name": "female-authors",
                                    "TagID": "174660",
                                    "count": "14"
                                },
                                {
                                    "tag_name": "female-authors",
                                    "TagID": "139728",
                                    "count": "31"
                                },
                                {
                                    "tag_name": "female-authors",
                                    "TagID": "23288",
                                    "count": "38"
                                },
                                {
                                    "tag_name": "female-authors",
                                    "TagID": "58220",
                                    "count": "28"
                                },
                                {
                                    "tag_name": "female-authors",
                                    "TagID": "34932",
                                    "count": "39"
                                },
                                {
                                    "tag_name": "female-authors",
                                    "TagID": "34932",
                                    "count": "42"
                                },
                                {
                                    "tag_name": "female-authors",
                                    "TagID": "267812",
                                    "count": "12"
                                },
                                {
                                    "tag_name": "female-authors",
                                    "TagID": "500692",
                                    "count": "7"
                                },
                                {
                                    "tag_name": "female-authors",
                                    "TagID": "11644",
                                    "count": "120"
                                },
                                {
                                    "tag_name": "woman-author",
                                    "TagID": "32679",
                                    "count": "3"
                                },
                                {
                                    "tag_name": "woman-trans-agender-authors",
                                    "TagID": "32682",
                                    "count": "2"
                                }
                            ]
                        },
                        "text/html": [
                            "<table>",
                            "<tr><th>tag_name</th><th>TagID</th><th>count</th></tr>",
                            "<tr><td>author-female</td><td>3514</td><td>9</td></tr>",
                            "<tr><td>author-female</td><td>3514</td><td>4</td></tr>",
                            "<tr><td>author-female</td><td>3514</td><td>10</td></tr>",
                            "<tr><td>author-female</td><td>17570</td><td>2</td></tr>",
                            "<tr><td>author-female</td><td>10542</td><td>3</td></tr>",
                            "<tr><td>author-female</td><td>3514</td><td>5</td></tr>",
                            "<tr><td>female-author</td><td>698580</td><td>5</td></tr>",
                            "<tr><td>female-author</td><td>11643</td><td>82</td></tr>",
                            "<tr><td>female-author</td><td>46572</td><td>60</td></tr>",
                            "<tr><td>female-author</td><td>46572</td><td>68</td></tr>",
                            "<tr><td>female-author</td><td>23286</td><td>75</td></tr>",
                            "<tr><td>female-author</td><td>93144</td><td>23</td></tr>",
                            "<tr><td>female-author</td><td>11643</td><td>77</td></tr>",
                            "<tr><td>female-author</td><td>34929</td><td>42</td></tr>",
                            "<tr><td>female-author</td><td>151359</td><td>28</td></tr>",
                            "<tr><td>female-author</td><td>360933</td><td>14</td></tr>",
                            "<tr><td>female-author</td><td>11643</td><td>83</td></tr>",
                            "<tr><td>female-author</td><td>104787</td><td>24</td></tr>",
                            "<tr><td>female-author</td><td>11643</td><td>91</td></tr>",
                            "<tr><td>female-author</td><td>279432</td><td>2</td></tr>",
                            "<tr><td>female-author</td><td>34929</td><td>46</td></tr>",
                            "<tr><td>female-author</td><td>430791</td><td>10</td></tr>",
                            "<tr><td>female-author</td><td>11643</td><td>38</td></tr>",
                            "<tr><td>female-author</td><td>23286</td><td>51</td></tr>",
                            "<tr><td>female-author</td><td>605436</td><td>9</td></tr>",
                            "<tr><td>female-author</td><td>58215</td><td>39</td></tr>",
                            "<tr><td>female-author</td><td>593793</td><td>3</td></tr>",
                            "<tr><td>female-author</td><td>93144</td><td>37</td></tr>",
                            "<tr><td>female-author</td><td>326004</td><td>16</td></tr>",
                            "<tr><td>female-author</td><td>11643</td><td>150</td></tr>",
                            "<tr><td>female-author</td><td>46572</td><td>54</td></tr>",
                            "<tr><td>female-author</td><td>11643</td><td>87</td></tr>",
                            "<tr><td>female-author</td><td>34929</td><td>40</td></tr>",
                            "<tr><td>female-author</td><td>23286</td><td>47</td></tr>",
                            "<tr><td>female-author</td><td>46572</td><td>33</td></tr>",
                            "<tr><td>female-author</td><td>558864</td><td>8</td></tr>",
                            "<tr><td>female-author</td><td>23286</td><td>61</td></tr>",
                            "<tr><td>female-author</td><td>128073</td><td>26</td></tr>",
                            "<tr><td>female-author</td><td>46572</td><td>1</td></tr>",
                            "<tr><td>female-author</td><td>232860</td><td>17</td></tr>",
                            "<tr><td>female-author</td><td>337647</td><td>15</td></tr>",
                            "<tr><td>female-author</td><td>267789</td><td>11</td></tr>",
                            "<tr><td>female-author</td><td>69858</td><td>34</td></tr>",
                            "<tr><td>female-author</td><td>314361</td><td>22</td></tr>",
                            "<tr><td>female-author</td><td>128073</td><td>25</td></tr>",
                            "<tr><td>female-author</td><td>58215</td><td>48</td></tr>",
                            "<tr><td>female-author</td><td>11643</td><td>36</td></tr>",
                            "<tr><td>female-author</td><td>430791</td><td>12</td></tr>",
                            "<tr><td>female-author</td><td>23286</td><td>64</td></tr>",
                            "<tr><td>female-author</td><td>34929</td><td>70</td></tr>",
                            "<tr><td>female-author</td><td>11643</td><td>63</td></tr>",
                            "<tr><td>female-author</td><td>11643</td><td>50</td></tr>",
                            "<tr><td>female-author</td><td>11643</td><td>198</td></tr>",
                            "<tr><td>female-author</td><td>58215</td><td>44</td></tr>",
                            "<tr><td>female-author</td><td>128073</td><td>31</td></tr>",
                            "<tr><td>female-author</td><td>11643</td><td>108</td></tr>",
                            "<tr><td>female-author</td><td>46572</td><td>53</td></tr>",
                            "<tr><td>female-author</td><td>11643</td><td>66</td></tr>",
                            "<tr><td>female-author</td><td>93144</td><td>30</td></tr>",
                            "<tr><td>female-author</td><td>174645</td><td>21</td></tr>",
                            "<tr><td>female-author</td><td>617079</td><td>7</td></tr>",
                            "<tr><td>female-author</td><td>11643</td><td>65</td></tr>",
                            "<tr><td>female-author</td><td>58215</td><td>35</td></tr>",
                            "<tr><td>female-author</td><td>244503</td><td>19</td></tr>",
                            "<tr><td>female-author</td><td>768438</td><td>6</td></tr>",
                            "<tr><td>female-author</td><td>34929</td><td>43</td></tr>",
                            "<tr><td>female-author</td><td>11643</td><td>55</td></tr>",
                            "<tr><td>female-author</td><td>34929</td><td>76</td></tr>",
                            "<tr><td>female-author</td><td>23286</td><td>57</td></tr>",
                            "<tr><td>female-author</td><td>11643</td><td>137</td></tr>",
                            "<tr><td>female-author</td><td>34929</td><td>59</td></tr>",
                            "<tr><td>female-author</td><td>11643</td><td>58</td></tr>",
                            "<tr><td>female-author</td><td>11643</td><td>79</td></tr>",
                            "<tr><td>female-author</td><td>34929</td><td>49</td></tr>",
                            "<tr><td>female-author</td><td>11643</td><td>67</td></tr>",
                            "<tr><td>female-author</td><td>11643</td><td>103</td></tr>",
                            "<tr><td>female-author</td><td>465720</td><td>4</td></tr>",
                            "<tr><td>female-author</td><td>11643</td><td>140</td></tr>",
                            "<tr><td>female-author</td><td>11643</td><td>93</td></tr>",
                            "<tr><td>female-author</td><td>512292</td><td>13</td></tr>",
                            "<tr><td>female-author</td><td>11643</td><td>104</td></tr>",
                            "<tr><td>female-author</td><td>81501</td><td>41</td></tr>",
                            "<tr><td>female-author</td><td>384219</td><td>18</td></tr>",
                            "<tr><td>female-author</td><td>11643</td><td>194</td></tr>",
                            "<tr><td>female-author</td><td>197931</td><td>32</td></tr>",
                            "<tr><td>female-author</td><td>116430</td><td>27</td></tr>",
                            "<tr><td>female-author</td><td>232860</td><td>20</td></tr>",
                            "<tr><td>female-author</td><td>46572</td><td>45</td></tr>",
                            "<tr><td>female-author</td><td>128073</td><td>29</td></tr>",
                            "<tr><td>female-authors</td><td>46576</td><td>23</td></tr>",
                            "<tr><td>female-authors</td><td>81508</td><td>30</td></tr>",
                            "<tr><td>female-authors</td><td>23288</td><td>66</td></tr>",
                            "<tr><td>female-authors</td><td>11644</td><td>106</td></tr>",
                            "<tr><td>female-authors</td><td>11644</td><td>53</td></tr>",
                            "<tr><td>female-authors</td><td>34932</td><td>60</td></tr>",
                            "<tr><td>female-authors</td><td>465760</td><td>5</td></tr>",
                            "<tr><td>female-authors</td><td>11644</td><td>49</td></tr>",
                            "<tr><td>female-authors</td><td>34932</td><td>62</td></tr>",
                            "<tr><td>female-authors</td><td>11644</td><td>158</td></tr>",
                            "<tr><td>female-authors</td><td>11644</td><td>214</td></tr>",
                            "<tr><td>female-authors</td><td>11644</td><td>83</td></tr>",
                            "<tr><td>female-authors</td><td>23288</td><td>75</td></tr>",
                            "<tr><td>female-authors</td><td>104796</td><td>29</td></tr>",
                            "<tr><td>female-authors</td><td>23288</td><td>76</td></tr>",
                            "<tr><td>female-authors</td><td>11644</td><td>102</td></tr>",
                            "<tr><td>female-authors</td><td>104796</td><td>24</td></tr>",
                            "<tr><td>female-authors</td><td>326032</td><td>16</td></tr>",
                            "<tr><td>female-authors</td><td>81508</td><td>26</td></tr>",
                            "<tr><td>female-authors</td><td>23288</td><td>89</td></tr>",
                            "<tr><td>female-authors</td><td>256168</td><td>2</td></tr>",
                            "<tr><td>female-authors</td><td>11644</td><td>128</td></tr>",
                            "<tr><td>female-authors</td><td>395896</td><td>10</td></tr>",
                            "<tr><td>female-authors</td><td>11644</td><td>44</td></tr>",
                            "<tr><td>female-authors</td><td>11644</td><td>47</td></tr>",
                            "<tr><td>female-authors</td><td>81508</td><td>33</td></tr>",
                            "<tr><td>female-authors</td><td>384252</td><td>11</td></tr>",
                            "<tr><td>female-authors</td><td>34932</td><td>63</td></tr>",
                            "<tr><td>female-authors</td><td>23288</td><td>93</td></tr>",
                            "<tr><td>female-authors</td><td>104796</td><td>20</td></tr>",
                            "<tr><td>female-authors</td><td>23288</td><td>34</td></tr>",
                            "<tr><td>female-authors</td><td>11644</td><td>72</td></tr>",
                            "<tr><td>female-authors</td><td>69864</td><td>41</td></tr>",
                            "<tr><td>female-authors</td><td>407540</td><td>4</td></tr>",
                            "<tr><td>female-authors</td><td>34932</td><td>25</td></tr>",
                            "<tr><td>female-authors</td><td>558912</td><td>6</td></tr>",
                            "<tr><td>female-authors</td><td>23288</td><td>48</td></tr>",
                            "<tr><td>female-authors</td><td>69864</td><td>37</td></tr>",
                            "<tr><td>female-authors</td><td>11644</td><td>54</td></tr>",
                            "<tr><td>female-authors</td><td>81508</td><td>27</td></tr>",
                            "<tr><td>female-authors</td><td>46576</td><td>35</td></tr>",
                            "<tr><td>female-authors</td><td>58220</td><td>40</td></tr>",
                            "<tr><td>female-authors</td><td>23288</td><td>51</td></tr>",
                            "<tr><td>female-authors</td><td>256168</td><td>13</td></tr>",
                            "<tr><td>female-authors</td><td>267812</td><td>18</td></tr>",
                            "<tr><td>female-authors</td><td>46576</td><td>58</td></tr>",
                            "<tr><td>female-authors</td><td>23288</td><td>32</td></tr>",
                            "<tr><td>female-authors</td><td>360964</td><td>9</td></tr>",
                            "<tr><td>female-authors</td><td>314388</td><td>3</td></tr>",
                            "<tr><td>female-authors</td><td>11644</td><td>81</td></tr>",
                            "<tr><td>female-authors</td><td>11644</td><td>170</td></tr>",
                            "<tr><td>female-authors</td><td>116440</td><td>22</td></tr>",
                            "<tr><td>female-authors</td><td>11644</td><td>90</td></tr>",
                            "<tr><td>female-authors</td><td>11644</td><td>50</td></tr>",
                            "<tr><td>female-authors</td><td>163016</td><td>17</td></tr>",
                            "<tr><td>female-authors</td><td>23288</td><td>64</td></tr>",
                            "<tr><td>female-authors</td><td>11644</td><td>84</td></tr>",
                            "<tr><td>female-authors</td><td>69864</td><td>43</td></tr>",
                            "<tr><td>female-authors</td><td>232880</td><td>15</td></tr>",
                            "<tr><td>female-authors</td><td>11644</td><td>67</td></tr>",
                            "<tr><td>female-authors</td><td>34932</td><td>56</td></tr>",
                            "<tr><td>female-authors</td><td>23288</td><td>57</td></tr>",
                            "<tr><td>female-authors</td><td>11644</td><td>91</td></tr>",
                            "<tr><td>female-authors</td><td>34932</td><td>1</td></tr>",
                            "<tr><td>female-authors</td><td>454116</td><td>8</td></tr>",
                            "<tr><td>female-authors</td><td>11644</td><td>82</td></tr>",
                            "<tr><td>female-authors</td><td>23288</td><td>52</td></tr>",
                            "<tr><td>female-authors</td><td>11644</td><td>71</td></tr>",
                            "<tr><td>female-authors</td><td>81508</td><td>36</td></tr>",
                            "<tr><td>female-authors</td><td>11644</td><td>59</td></tr>",
                            "<tr><td>female-authors</td><td>197948</td><td>19</td></tr>",
                            "<tr><td>female-authors</td><td>104796</td><td>21</td></tr>",
                            "<tr><td>female-authors</td><td>11644</td><td>146</td></tr>",
                            "<tr><td>female-authors</td><td>174660</td><td>14</td></tr>",
                            "<tr><td>female-authors</td><td>139728</td><td>31</td></tr>",
                            "<tr><td>female-authors</td><td>23288</td><td>38</td></tr>",
                            "<tr><td>female-authors</td><td>58220</td><td>28</td></tr>",
                            "<tr><td>female-authors</td><td>34932</td><td>39</td></tr>",
                            "<tr><td>female-authors</td><td>34932</td><td>42</td></tr>",
                            "<tr><td>female-authors</td><td>267812</td><td>12</td></tr>",
                            "<tr><td>female-authors</td><td>500692</td><td>7</td></tr>",
                            "<tr><td>female-authors</td><td>11644</td><td>120</td></tr>",
                            "<tr><td>woman-author</td><td>32679</td><td>3</td></tr>",
                            "<tr><td>woman-trans-agender-authors</td><td>32682</td><td>2</td></tr>",
                            "</table>"
                        ]
                    }
                }
            ],
            "execution_count": 49
        },
        {
            "cell_type": "markdown",
            "source": [
                "### **Which keyword(s) and tag(s) would you like to explore more?**\n",
                "\n",
                "author-female, female-author, female-authors, female-writer, <span style=\"color: var(--vscode-foreground);\">female-writers, woman-author, and woman-trans-agender-authors</span><span style=\"color: var(--vscode-foreground);\">.</span>"
            ],
            "metadata": {
                "azdata_cell_guid": "e9acd8b5-a62b-4ac0-bd07-19915b379ba6"
            },
            "attachments": {}
        },
        {
            "cell_type": "markdown",
            "source": [
                "### **Write a query to return authors, titles, ratings and** **selected tag(s)\\_id.**"
            ],
            "metadata": {
                "azdata_cell_guid": "59b84464-c0bc-4dac-9e02-0c803765b063"
            },
            "attachments": {}
        },
        {
            "cell_type": "code",
            "source": [
                "-- Solution\r\n",
                "-- select * from BooksDB.dbo.tags where tag_name like 'strong-female-lead' or tag_name like 'female-friendship';\r\n",
                "\r\n",
                "select b.original_title as \"Title\", b.authors as \"Authors\", b.average_rating as \"Average Rating\", bt.tag_id as \"Tag ID\"\r\n",
                "from BooksDB.dbo.book_tags as bt\r\n",
                "inner join BooksDB.dbo.books as b\r\n",
                "on b.best_book_id = bt.goodreads_book_id\r\n",
                "where b.original_title is not null\r\n",
                "group by b.original_title,b.authors,b.average_rating,bt.tag_id\r\n",
                "having bt.tag_id like '3514' or bt.tag_id like '11643' or bt.tag_id like '11644' or bt.tag_id like '32679' or bt.tag_id like '32682'\r\n",
                "order by b.average_rating desc;"
            ],
            "metadata": {
                "azdata_cell_guid": "51ffeaaf-6dde-4906-95f3-eb8757babf27",
                "tags": [],
                "language": "sql"
            },
            "outputs": [
                {
                    "output_type": "display_data",
                    "data": {
                        "text/html": "(1628 rows affected)"
                    },
                    "metadata": {}
                },
                {
                    "output_type": "display_data",
                    "data": {
                        "text/html": "Total execution time: 00:00:01.189"
                    },
                    "metadata": {}
                },
                {
                    "output_type": "execute_result",
                    "metadata": {},
                    "execution_count": 56,
                    "data": {
                        "application/vnd.dataresource+json": {
                            "schema": {
                                "fields": [
                                    {
                                        "name": "Title"
                                    },
                                    {
                                        "name": "Authors"
                                    },
                                    {
                                        "name": "Average Rating"
                                    },
                                    {
                                        "name": "Tag ID"
                                    }
                                ]
                            },
                            "data": [
                                {
                                    "Title": "Harry Potter Boxed Set Books 1-4",
                                    "Authors": "J.K. Rowling, Mary GrandPré",
                                    "Average Rating": "4.66",
                                    "Tag ID": "11643"
                                },
                                {
                                    "Title": "桜蘭高校ホスト部 15",
                                    "Authors": "Bisco Hatori",
                                    "Average Rating": "4.54",
                                    "Tag ID": "11643"
                                },
                                {
                                    "Title": "Fool's Quest",
                                    "Authors": "Robin Hobb",
                                    "Average Rating": "4.53",
                                    "Tag ID": "11643"
                                },
                                {
                                    "Title": "Fool's Quest",
                                    "Authors": "Robin Hobb",
                                    "Average Rating": "4.53",
                                    "Tag ID": "11644"
                                },
                                {
                                    "Title": "Kings Rising",
                                    "Authors": "C.S. Pacat",
                                    "Average Rating": "4.5",
                                    "Tag ID": "11644"
                                },
                                {
                                    "Title": "The New Jim Crow: Mass Incarceration in the Age of Colorblindness",
                                    "Authors": "Michelle Alexander",
                                    "Average Rating": "4.49",
                                    "Tag ID": "11643"
                                },
                                {
                                    "Title": "鋼の錬金術師 1",
                                    "Authors": "Hiromu Arakawa, Akira Watanabe",
                                    "Average Rating": "4.49",
                                    "Tag ID": "11644"
                                },
                                {
                                    "Title": "The Gruffalo",
                                    "Authors": "Julia Donaldson, Axel Scheffler",
                                    "Average Rating": "4.47",
                                    "Tag ID": "11643"
                                },
                                {
                                    "Title": "We Should All Be Feminists",
                                    "Authors": "Chimamanda Ngozi Adichie",
                                    "Average Rating": "4.47",
                                    "Tag ID": "11643"
                                },
                                {
                                    "Title": "We Should All Be Feminists",
                                    "Authors": "Chimamanda Ngozi Adichie",
                                    "Average Rating": "4.47",
                                    "Tag ID": "11644"
                                },
                                {
                                    "Title": "Harry Potter and the Order of the Phoenix",
                                    "Authors": "J.K. Rowling, Mary GrandPré",
                                    "Average Rating": "4.46",
                                    "Tag ID": "11643"
                                },
                                {
                                    "Title": "The Complete Stories",
                                    "Authors": "Flannery O'Connor",
                                    "Average Rating": "4.44",
                                    "Tag ID": "11643"
                                },
                                {
                                    "Title": "The Complete Stories",
                                    "Authors": "Flannery O'Connor",
                                    "Average Rating": "4.44",
                                    "Tag ID": "11644"
                                },
                                {
                                    "Title": "A Civil Campaign",
                                    "Authors": "Lois McMaster Bujold",
                                    "Average Rating": "4.43",
                                    "Tag ID": "11643"
                                },
                                {
                                    "Title": "Nothing to Envy: Ordinary Lives in North Korea",
                                    "Authors": "Barbara Demick",
                                    "Average Rating": "4.42",
                                    "Tag ID": "11644"
                                },
                                {
                                    "Title": "Homegoing",
                                    "Authors": "Yaa Gyasi",
                                    "Average Rating": "4.41",
                                    "Tag ID": "11643"
                                },
                                {
                                    "Title": "Homegoing",
                                    "Authors": "Yaa Gyasi",
                                    "Average Rating": "4.41",
                                    "Tag ID": "11644"
                                },
                                {
                                    "Title": "The Sunne in Splendour",
                                    "Authors": "Sharon Kay Penman",
                                    "Average Rating": "4.4",
                                    "Tag ID": "11643"
                                },
                                {
                                    "Title": "I Love You Through And Through",
                                    "Authors": "Bernadette Rossetti-Shustak, Caroline Jayne Church",
                                    "Average Rating": "4.39",
                                    "Tag ID": "11644"
                                },
                                {
                                    "Title": "Storia della bambina perduta",
                                    "Authors": "Elena Ferrante, Ann Goldstein",
                                    "Average Rating": "4.39",
                                    "Tag ID": "11643"
                                },
                                {
                                    "Title": "Storia della bambina perduta",
                                    "Authors": "Elena Ferrante, Ann Goldstein",
                                    "Average Rating": "4.39",
                                    "Tag ID": "11644"
                                },
                                {
                                    "Title": "Fool's Fate",
                                    "Authors": "Robin Hobb",
                                    "Average Rating": "4.38",
                                    "Tag ID": "11643"
                                },
                                {
                                    "Title": "Tales From a Not-So-Graceful Ice Princess",
                                    "Authors": "Rachel Renée Russell",
                                    "Average Rating": "4.38",
                                    "Tag ID": "11643"
                                },
                                {
                                    "Title": "Kushiel's Avatar",
                                    "Authors": "Jacqueline Carey",
                                    "Average Rating": "4.37",
                                    "Tag ID": "11643"
                                },
                                {
                                    "Title": "Queen of the Darkness",
                                    "Authors": "Anne Bishop",
                                    "Average Rating": "4.37",
                                    "Tag ID": "11643"
                                },
                                {
                                    "Title": "Storia del nuovo cognome",
                                    "Authors": "Elena Ferrante, Ann Goldstein",
                                    "Average Rating": "4.37",
                                    "Tag ID": "11643"
                                },
                                {
                                    "Title": "Storia del nuovo cognome",
                                    "Authors": "Elena Ferrante, Ann Goldstein",
                                    "Average Rating": "4.37",
                                    "Tag ID": "11644"
                                },
                                {
                                    "Title": "The King of Attolia",
                                    "Authors": "Megan Whalen Turner",
                                    "Average Rating": "4.37",
                                    "Tag ID": "11643"
                                },
                                {
                                    "Title": "Persepolis",
                                    "Authors": "Marjane Satrapi, Mattias Ripa, Blake Ferris, Anjali Singh",
                                    "Average Rating": "4.36",
                                    "Tag ID": "11643"
                                },
                                {
                                    "Title": "Persepolis",
                                    "Authors": "Marjane Satrapi, Mattias Ripa, Blake Ferris, Anjali Singh",
                                    "Average Rating": "4.36",
                                    "Tag ID": "11644"
                                },
                                {
                                    "Title": "The Obelisk Gate",
                                    "Authors": "N.K. Jemisin",
                                    "Average Rating": "4.36",
                                    "Tag ID": "11643"
                                },
                                {
                                    "Title": "Bröderna Lejonhjärta",
                                    "Authors": "Astrid Lindgren, Ilon Wikland, Jill M. Morgan",
                                    "Average Rating": "4.35",
                                    "Tag ID": "11643"
                                },
                                {
                                    "Title": "Fool's Assassin",
                                    "Authors": "Robin Hobb",
                                    "Average Rating": "4.35",
                                    "Tag ID": "11643"
                                },
                                {
                                    "Title": "Sunset",
                                    "Authors": "Erin Hunter",
                                    "Average Rating": "4.35",
                                    "Tag ID": "11643"
                                },
                                {
                                    "Title": "The Scar of David",
                                    "Authors": "Susan Abulhawa",
                                    "Average Rating": "4.35",
                                    "Tag ID": "11644"
                                },
                                {
                                    "Title": "A Gathering of Shadows",
                                    "Authors": "V.E. Schwab, Victoria Schwab",
                                    "Average Rating": "4.33",
                                    "Tag ID": "11643"
                                },
                                {
                                    "Title": "Amazing Grace",
                                    "Authors": "Mary Hoffman, Caroline Binch",
                                    "Average Rating": "4.33",
                                    "Tag ID": "11643"
                                },
                                {
                                    "Title": "Mastering the Art of French Cooking",
                                    "Authors": "Julia Child, Simone Beck, Louisette Bertholle",
                                    "Average Rating": "4.33",
                                    "Tag ID": "11644"
                                },
                                {
                                    "Title": "Mirror Dance",
                                    "Authors": "Lois McMaster Bujold",
                                    "Average Rating": "4.32",
                                    "Tag ID": "11643"
                                },
                                {
                                    "Title": "The Folk of Faraway Tree",
                                    "Authors": "Enid Blyton",
                                    "Average Rating": "4.32",
                                    "Tag ID": "11644"
                                },
                                {
                                    "Title": "The Golden Fool",
                                    "Authors": "Robin Hobb",
                                    "Average Rating": "4.32",
                                    "Tag ID": "11643"
                                },
                                {
                                    "Title": "The Realms of the Gods (Immortals, #4)",
                                    "Authors": "Tamora Pierce",
                                    "Average Rating": "4.32",
                                    "Tag ID": "11643"
                                },
                                {
                                    "Title": "Wild Magic (Immortals, #1)",
                                    "Authors": "Tamora Pierce",
                                    "Average Rating": "4.32",
                                    "Tag ID": "11643"
                                },
                                {
                                    "Title": "Wild Magic (Immortals, #1)",
                                    "Authors": "Tamora Pierce",
                                    "Average Rating": "4.32",
                                    "Tag ID": "11644"
                                },
                                {
                                    "Title": "Women's Bodies, Women's Wisdom: Creating Physical and Emotional Health and Healing",
                                    "Authors": "Christiane Northrup",
                                    "Average Rating": "4.32",
                                    "Tag ID": "11643"
                                },
                                {
                                    "Title": "A Kiss for Little Bear",
                                    "Authors": "Else Holmelund Minarik, Maurice Sendak",
                                    "Average Rating": "4.31",
                                    "Tag ID": "11643"
                                },
                                {
                                    "Title": "Dawn",
                                    "Authors": "Erin Hunter",
                                    "Average Rating": "4.31",
                                    "Tag ID": "11643"
                                },
                                {
                                    "Title": "Kushiel's Chosen",
                                    "Authors": "Jacqueline Carey",
                                    "Average Rating": "4.31",
                                    "Tag ID": "11643"
                                },
                                {
                                    "Title": "Moonrise",
                                    "Authors": "Erin Hunter",
                                    "Average Rating": "4.31",
                                    "Tag ID": "11643"
                                },
                                {
                                    "Title": "The Fifth Season",
                                    "Authors": "N.K. Jemisin",
                                    "Average Rating": "4.31",
                                    "Tag ID": "11643"
                                },
                                {
                                    "Title": "The Fifth Season",
                                    "Authors": "N.K. Jemisin",
                                    "Average Rating": "4.31",
                                    "Tag ID": "11644"
                                },
                                {
                                    "Title": "The Warmth of Other Suns: The Epic Story of America's Great Migration ",
                                    "Authors": "Isabel Wilkerson",
                                    "Average Rating": "4.31",
                                    "Tag ID": "11643"
                                },
                                {
                                    "Title": "The Way to Cook",
                                    "Authors": "Julia Child",
                                    "Average Rating": "4.31",
                                    "Tag ID": "11643"
                                },
                                {
                                    "Title": "The Way to Cook",
                                    "Authors": "Julia Child",
                                    "Average Rating": "4.31",
                                    "Tag ID": "11644"
                                },
                                {
                                    "Title": "Citizen: An American Lyric",
                                    "Authors": "Claudia Rankine",
                                    "Average Rating": "4.3",
                                    "Tag ID": "11643"
                                },
                                {
                                    "Title": "Citizen: An American Lyric",
                                    "Authors": "Claudia Rankine",
                                    "Average Rating": "4.3",
                                    "Tag ID": "11644"
                                },
                                {
                                    "Title": "Emperor Mage (Immortals, #3)",
                                    "Authors": "Tamora Pierce",
                                    "Average Rating": "4.3",
                                    "Tag ID": "11643"
                                },
                                {
                                    "Title": "Here be Dragons",
                                    "Authors": "Sharon Kay Penman",
                                    "Average Rating": "4.3",
                                    "Tag ID": "11643"
                                },
                                {
                                    "Title": "Howl's Moving Castle",
                                    "Authors": "Diana Wynne Jones",
                                    "Average Rating": "4.3",
                                    "Tag ID": "11643"
                                },
                                {
                                    "Title": "Howl's Moving Castle",
                                    "Authors": "Diana Wynne Jones",
                                    "Average Rating": "4.3",
                                    "Tag ID": "11644"
                                },
                                {
                                    "Title": "Kushiel's Mercy",
                                    "Authors": "Jacqueline Carey",
                                    "Average Rating": "4.3",
                                    "Tag ID": "11643"
                                },
                                {
                                    "Title": "Lady Knight ",
                                    "Authors": "Tamora Pierce",
                                    "Average Rating": "4.3",
                                    "Tag ID": "11643"
                                },
                                {
                                    "Title": "Rudolph the Red-Nosed Reindeer",
                                    "Authors": "Barbara Shook Hazen, Robert Lewis May, Richard Scarry",
                                    "Average Rating": "4.3",
                                    "Tag ID": "11644"
                                },
                                {
                                    "Title": "The Places That Scare You: A Guide to Fearlessness in Difficult Times",
                                    "Authors": "Pema Chödrön",
                                    "Average Rating": "4.3",
                                    "Tag ID": "11643"
                                },
                                {
                                    "Title": "Twilight",
                                    "Authors": "Erin Hunter",
                                    "Average Rating": "4.3",
                                    "Tag ID": "11643"
                                },
                                {
                                    "Title": "First They Killed My Father: A Daughter of Cambodia Remembers ",
                                    "Authors": "Loung Ung",
                                    "Average Rating": "4.29",
                                    "Tag ID": "11643"
                                },
                                {
                                    "Title": "First They Killed My Father: A Daughter of Cambodia Remembers ",
                                    "Authors": "Loung Ung",
                                    "Average Rating": "4.29",
                                    "Tag ID": "11644"
                                },
                                {
                                    "Title": "Fool's Errand",
                                    "Authors": "Robin Hobb",
                                    "Average Rating": "4.29",
                                    "Tag ID": "11643"
                                },
                                {
                                    "Title": "Storia di chi fugge e di chi resta",
                                    "Authors": "Elena Ferrante, Ann Goldstein",
                                    "Average Rating": "4.29",
                                    "Tag ID": "11643"
                                },
                                {
                                    "Title": "Storia di chi fugge e di chi resta",
                                    "Authors": "Elena Ferrante, Ann Goldstein",
                                    "Average Rating": "4.29",
                                    "Tag ID": "11644"
                                },
                                {
                                    "Title": "The Journals of Sylvia Plath",
                                    "Authors": "Sylvia Plath, Karen V. Kukil",
                                    "Average Rating": "4.29",
                                    "Tag ID": "11644"
                                },
                                {
                                    "Title": "The Little House",
                                    "Authors": "Virginia Lee Burton",
                                    "Average Rating": "4.29",
                                    "Tag ID": "11643"
                                },
                                {
                                    "Title": "The Magic Faraway Tree",
                                    "Authors": "Enid Blyton",
                                    "Average Rating": "4.29",
                                    "Tag ID": "11644"
                                },
                                {
                                    "Title": "The Road to the Dark Tower: Exploring Stephen King's Magnum Opus",
                                    "Authors": "Bev Vincent",
                                    "Average Rating": "4.29",
                                    "Tag ID": "11643"
                                },
                                {
                                    "Title": "The Warrior's Apprentice",
                                    "Authors": "Lois McMaster Bujold",
                                    "Average Rating": "4.29",
                                    "Tag ID": "11643"
                                },
                                {
                                    "Title": "The Warrior's Apprentice",
                                    "Authors": "Lois McMaster Bujold",
                                    "Average Rating": "4.29",
                                    "Tag ID": "11644"
                                },
                                {
                                    "Title": "The Winter Rose",
                                    "Authors": "Jennifer Donnelly",
                                    "Average Rating": "4.29",
                                    "Tag ID": "11643"
                                },
                                {
                                    "Title": "Tiny Beautiful Things: Advice on Love and Life from Dear Sugar",
                                    "Authors": "Cheryl Strayed",
                                    "Average Rating": "4.29",
                                    "Tag ID": "11643"
                                },
                                {
                                    "Title": "Tiny Beautiful Things: Advice on Love and Life from Dear Sugar",
                                    "Authors": "Cheryl Strayed",
                                    "Average Rating": "4.29",
                                    "Tag ID": "11644"
                                },
                                {
                                    "Title": "Daughter of the Forest",
                                    "Authors": "Juliet Marillier",
                                    "Average Rating": "4.28",
                                    "Tag ID": "11643"
                                },
                                {
                                    "Title": "Good Night, Mr. Tom",
                                    "Authors": "Michelle Magorian",
                                    "Average Rating": "4.28",
                                    "Tag ID": "11643"
                                },
                                {
                                    "Title": "Good Night, Mr. Tom",
                                    "Authors": "Michelle Magorian",
                                    "Average Rating": "4.28",
                                    "Tag ID": "11644"
                                },
                                {
                                    "Title": "Hairy Maclary from Donaldson's Dairy",
                                    "Authors": "Lynley Dodd",
                                    "Average Rating": "4.28",
                                    "Tag ID": "11643"
                                },
                                {
                                    "Title": "Half of a Yellow Sun",
                                    "Authors": "Chimamanda Ngozi Adichie",
                                    "Average Rating": "4.28",
                                    "Tag ID": "11643"
                                },
                                {
                                    "Title": "Lioness Rampant",
                                    "Authors": "Tamora Pierce",
                                    "Average Rating": "4.28",
                                    "Tag ID": "11643"
                                },
                                {
                                    "Title": "Lioness Rampant",
                                    "Authors": "Tamora Pierce",
                                    "Average Rating": "4.28",
                                    "Tag ID": "11644"
                                },
                                {
                                    "Title": "Out to Canaan (Mitford)",
                                    "Authors": "Jan Karon",
                                    "Average Rating": "4.28",
                                    "Tag ID": "11643"
                                },
                                {
                                    "Title": "Starlight (Warriors: The New Prophecy, #4)",
                                    "Authors": "Erin Hunter",
                                    "Average Rating": "4.28",
                                    "Tag ID": "11643"
                                },
                                {
                                    "Title": "The Complete Poems: Anne Sexton",
                                    "Authors": "Anne Sexton, Maxine Kumin",
                                    "Average Rating": "4.28",
                                    "Tag ID": "11644"
                                },
                                {
                                    "Title": "The Faraway Tree Stories (The Enchanted Wood, The Faraway Tree, The Folk of the Faraway Tree)",
                                    "Authors": "Enid Blyton",
                                    "Average Rating": "4.28",
                                    "Tag ID": "11644"
                                },
                                {
                                    "Title": "The Vor Game",
                                    "Authors": "Lois McMaster Bujold",
                                    "Average Rating": "4.28",
                                    "Tag ID": "11643"
                                },
                                {
                                    "Title": "Trickster's Queen",
                                    "Authors": "Tamora Pierce",
                                    "Average Rating": "4.28",
                                    "Tag ID": "11643"
                                },
                                {
                                    "Title": "Trickster's Queen",
                                    "Authors": "Tamora Pierce",
                                    "Average Rating": "4.28",
                                    "Tag ID": "11644"
                                },
                                {
                                    "Title": "A Little Life",
                                    "Authors": "Hanya Yanagihara",
                                    "Average Rating": "4.27",
                                    "Tag ID": "11643"
                                },
                                {
                                    "Title": "A Little Life",
                                    "Authors": "Hanya Yanagihara",
                                    "Average Rating": "4.27",
                                    "Tag ID": "11644"
                                },
                                {
                                    "Title": "Alanna: The First Adventure",
                                    "Authors": "Tamora Pierce",
                                    "Average Rating": "4.27",
                                    "Tag ID": "11643"
                                },
                                {
                                    "Title": "Alanna: The First Adventure",
                                    "Authors": "Tamora Pierce",
                                    "Average Rating": "4.27",
                                    "Tag ID": "11644"
                                },
                                {
                                    "Title": "Everything that Rises Must Converge",
                                    "Authors": "Flannery O'Connor, Robert Fitzgerald",
                                    "Average Rating": "4.27",
                                    "Tag ID": "11644"
                                },
                                {
                                    "Title": "For Colored Girls Who Have Considered Suicide When the Rainbow Is Enuf ",
                                    "Authors": "Ntozake Shange",
                                    "Average Rating": "4.27",
                                    "Tag ID": "11643"
                                },
                                {
                                    "Title": "For Colored Girls Who Have Considered Suicide When the Rainbow Is Enuf ",
                                    "Authors": "Ntozake Shange",
                                    "Average Rating": "4.27",
                                    "Tag ID": "11644"
                                },
                                {
                                    "Title": "Hark! A Vagrant",
                                    "Authors": "Kate Beaton",
                                    "Average Rating": "4.27",
                                    "Tag ID": "11643"
                                },
                                {
                                    "Title": "Hark! A Vagrant",
                                    "Authors": "Kate Beaton",
                                    "Average Rating": "4.27",
                                    "Tag ID": "11644"
                                },
                                {
                                    "Title": "milk and honey",
                                    "Authors": "Rupi Kaur",
                                    "Average Rating": "4.27",
                                    "Tag ID": "11643"
                                },
                                {
                                    "Title": "milk and honey",
                                    "Authors": "Rupi Kaur",
                                    "Average Rating": "4.27",
                                    "Tag ID": "11644"
                                },
                                {
                                    "Title": "Ronja Rövardotter",
                                    "Authors": "Astrid Lindgren, Patricia Crampton, Trina Schart Hyman",
                                    "Average Rating": "4.27",
                                    "Tag ID": "11643"
                                },
                                {
                                    "Title": "Servant of the Empire (The Empire Trilogy, #2)",
                                    "Authors": "Raymond E. Feist, Janny Wurts",
                                    "Average Rating": "4.27",
                                    "Tag ID": "11643"
                                },
                                {
                                    "Title": "Squire",
                                    "Authors": "Tamora Pierce",
                                    "Average Rating": "4.27",
                                    "Tag ID": "11643"
                                },
                                {
                                    "Title": "Squire",
                                    "Authors": "Tamora Pierce",
                                    "Average Rating": "4.27",
                                    "Tag ID": "11644"
                                },
                                {
                                    "Title": "Stone Butch Blues",
                                    "Authors": "Leslie Feinberg",
                                    "Average Rating": "4.27",
                                    "Tag ID": "11643"
                                },
                                {
                                    "Title": "The Song of Achilles",
                                    "Authors": "Madeline Miller",
                                    "Average Rating": "4.27",
                                    "Tag ID": "11643"
                                },
                                {
                                    "Title": "The Song of Achilles",
                                    "Authors": "Madeline Miller",
                                    "Average Rating": "4.27",
                                    "Tag ID": "11644"
                                },
                                {
                                    "Title": "These High, Green Hills",
                                    "Authors": "Jan Karon",
                                    "Average Rating": "4.27",
                                    "Tag ID": "11643"
                                },
                                {
                                    "Title": "Americanah",
                                    "Authors": "Chimamanda Ngozi Adichie",
                                    "Average Rating": "4.26",
                                    "Tag ID": "11643"
                                },
                                {
                                    "Title": "Americanah",
                                    "Authors": "Chimamanda Ngozi Adichie",
                                    "Average Rating": "4.26",
                                    "Tag ID": "11644"
                                },
                                {
                                    "Title": "Bloodhound (Beka Cooper, #2)",
                                    "Authors": "Tamora Pierce",
                                    "Average Rating": "4.26",
                                    "Tag ID": "11643"
                                },
                                {
                                    "Title": "Bloodhound (Beka Cooper, #2)",
                                    "Authors": "Tamora Pierce",
                                    "Average Rating": "4.26",
                                    "Tag ID": "11644"
                                },
                                {
                                    "Title": "Bring Up the Bodies",
                                    "Authors": "Hilary Mantel",
                                    "Average Rating": "4.26",
                                    "Tag ID": "11643"
                                },
                                {
                                    "Title": "Bring Up the Bodies",
                                    "Authors": "Hilary Mantel",
                                    "Average Rating": "4.26",
                                    "Tag ID": "11644"
                                },
                                {
                                    "Title": "Dragonsinger",
                                    "Authors": "Anne McCaffrey",
                                    "Average Rating": "4.26",
                                    "Tag ID": "11643"
                                },
                                {
                                    "Title": "Fried Green Tomatoes at the Whistle Stop Cafe",
                                    "Authors": "Fannie Flagg",
                                    "Average Rating": "4.26",
                                    "Tag ID": "11643"
                                },
                                {
                                    "Title": "Fried Green Tomatoes at the Whistle Stop Cafe",
                                    "Authors": "Fannie Flagg",
                                    "Average Rating": "4.26",
                                    "Tag ID": "11644"
                                },
                                {
                                    "Title": "Gaudy Night",
                                    "Authors": "Dorothy L. Sayers",
                                    "Average Rating": "4.26",
                                    "Tag ID": "11643"
                                },
                                {
                                    "Title": "Inside the Human Body",
                                    "Authors": "Joanna Cole, Bruce Degen",
                                    "Average Rating": "4.26",
                                    "Tag ID": "11644"
                                },
                                {
                                    "Title": "The Three Little Pigs (A Little Golden Book)",
                                    "Authors": "Elizabeth Ross, ROFry",
                                    "Average Rating": "4.26",
                                    "Tag ID": "11643"
                                },
                                {
                                    "Title": "Very Good Lives: The Fringe Benefits of Failure and the Importance of Imagination",
                                    "Authors": "J.K. Rowling, Joel Holland",
                                    "Average Rating": "4.26",
                                    "Tag ID": "11643"
                                },
                                {
                                    "Title": "Gregor and the Code of Claw",
                                    "Authors": "Suzanne Collins",
                                    "Average Rating": "4.25",
                                    "Tag ID": "11643"
                                },
                                {
                                    "Title": "In the Hand of the Goddess",
                                    "Authors": "Tamora Pierce",
                                    "Average Rating": "4.25",
                                    "Tag ID": "11643"
                                },
                                {
                                    "Title": "In the Hand of the Goddess",
                                    "Authors": "Tamora Pierce",
                                    "Average Rating": "4.25",
                                    "Tag ID": "11644"
                                },
                                {
                                    "Title": "Skippyjon Jones in Mummy Trouble (Skippyjon Jones)",
                                    "Authors": "Judy Schachner",
                                    "Average Rating": "4.25",
                                    "Tag ID": "11643"
                                },
                                {
                                    "Title": "Star Wars: Lost Stars",
                                    "Authors": "Claudia Gray",
                                    "Average Rating": "4.25",
                                    "Tag ID": "11643"
                                },
                                {
                                    "Title": "The Autobiography of Henry VIII. With Notes by His Fool, Will Somers",
                                    "Authors": "Margaret George",
                                    "Average Rating": "4.25",
                                    "Tag ID": "11644"
                                },
                                {
                                    "Title": "The Earthsea Trilogy",
                                    "Authors": "Ursula K. Le Guin",
                                    "Average Rating": "4.25",
                                    "Tag ID": "11643"
                                },
                                {
                                    "Title": "The Earthsea Trilogy",
                                    "Authors": "Ursula K. Le Guin",
                                    "Average Rating": "4.25",
                                    "Tag ID": "11644"
                                },
                                {
                                    "Title": "A Good Man Is Hard to Find, and Other Stories",
                                    "Authors": "Flannery O'Connor",
                                    "Average Rating": "4.24",
                                    "Tag ID": "11643"
                                },
                                {
                                    "Title": "A Good Man Is Hard to Find, and Other Stories",
                                    "Authors": "Flannery O'Connor",
                                    "Average Rating": "4.24",
                                    "Tag ID": "11644"
                                },
                                {
                                    "Title": "A Tree Grows In Brooklyn ",
                                    "Authors": "Betty  Smith",
                                    "Average Rating": "4.24",
                                    "Tag ID": "11644"
                                },
                                {
                                    "Title": "By the Sword",
                                    "Authors": "Mercedes Lackey",
                                    "Average Rating": "4.24",
                                    "Tag ID": "11643"
                                },
                                {
                                    "Title": "Dragonsong ",
                                    "Authors": "Anne McCaffrey",
                                    "Average Rating": "4.24",
                                    "Tag ID": "11643"
                                },
                                {
                                    "Title": "First Test",
                                    "Authors": "Tamora Pierce",
                                    "Average Rating": "4.24",
                                    "Tag ID": "11643"
                                },
                                {
                                    "Title": "Hello, Mrs. Piggle-Wiggle",
                                    "Authors": "Betty MacDonald, Alexandra Boiger",
                                    "Average Rating": "4.24",
                                    "Tag ID": "11644"
                                },
                                {
                                    "Title": "Kushiel's Justice",
                                    "Authors": "Jacqueline Carey",
                                    "Average Rating": "4.24",
                                    "Tag ID": "11643"
                                },
                                {
                                    "Title": "Mastiff",
                                    "Authors": "Tamora Pierce",
                                    "Average Rating": "4.24",
                                    "Tag ID": "11643"
                                },
                                {
                                    "Title": "Mastiff",
                                    "Authors": "Tamora Pierce",
                                    "Average Rating": "4.24",
                                    "Tag ID": "11644"
                                },
                                {
                                    "Title": "Slouching Towards Bethlehem: Essays",
                                    "Authors": "Joan Didion",
                                    "Average Rating": "4.24",
                                    "Tag ID": "11643"
                                },
                                {
                                    "Title": "Slouching Towards Bethlehem: Essays",
                                    "Authors": "Joan Didion",
                                    "Average Rating": "4.24",
                                    "Tag ID": "11644"
                                },
                                {
                                    "Title": "The Enchanted Wood",
                                    "Authors": "Enid Blyton",
                                    "Average Rating": "4.24",
                                    "Tag ID": "11643"
                                },
                                {
                                    "Title": "The Enchanted Wood",
                                    "Authors": "Enid Blyton",
                                    "Average Rating": "4.24",
                                    "Tag ID": "11644"
                                },
                                {
                                    "Title": "Ariel",
                                    "Authors": "Sylvia Plath",
                                    "Average Rating": "4.23",
                                    "Tag ID": "11643"
                                },
                                {
                                    "Title": "Ariel",
                                    "Authors": "Sylvia Plath",
                                    "Average Rating": "4.23",
                                    "Tag ID": "11644"
                                },
                                {
                                    "Title": "Joni",
                                    "Authors": "Joni Eareckson Tada, Joe Musser",
                                    "Average Rating": "4.23",
                                    "Tag ID": "11643"
                                },
                                {
                                    "Title": "Noughts & Crosses",
                                    "Authors": "Malorie Blackman",
                                    "Average Rating": "4.23",
                                    "Tag ID": "11644"
                                },
                                {
                                    "Title": "Persepolis",
                                    "Authors": "Marjane Satrapi, Mattias Ripa",
                                    "Average Rating": "4.23",
                                    "Tag ID": "11643"
                                },
                                {
                                    "Title": "Persepolis",
                                    "Authors": "Marjane Satrapi, Mattias Ripa",
                                    "Average Rating": "4.23",
                                    "Tag ID": "11644"
                                },
                                {
                                    "Title": "Persepolis 2 ",
                                    "Authors": "Marjane Satrapi, Anjali Singh",
                                    "Average Rating": "4.23",
                                    "Tag ID": "11643"
                                },
                                {
                                    "Title": "Persepolis 2 ",
                                    "Authors": "Marjane Satrapi, Anjali Singh",
                                    "Average Rating": "4.23",
                                    "Tag ID": "11644"
                                },
                                {
                                    "Title": "Shrill: Women Are Funny, It's Okay to Be Fat, and Feminists Don't Have to Be Nice",
                                    "Authors": "Lindy West",
                                    "Average Rating": "4.23",
                                    "Tag ID": "11643"
                                },
                                {
                                    "Title": "Shrill: Women Are Funny, It's Okay to Be Fat, and Feminists Don't Have to Be Nice",
                                    "Authors": "Lindy West",
                                    "Average Rating": "4.23",
                                    "Tag ID": "11644"
                                },
                                {
                                    "Title": "Ten Little Niggers",
                                    "Authors": "Agatha Christie",
                                    "Average Rating": "4.23",
                                    "Tag ID": "11643"
                                },
                                {
                                    "Title": "The Blue Castle",
                                    "Authors": "L.M. Montgomery",
                                    "Average Rating": "4.23",
                                    "Tag ID": "11643"
                                },
                                {
                                    "Title": "The Hollow Hills",
                                    "Authors": "Mary  Stewart",
                                    "Average Rating": "4.23",
                                    "Tag ID": "11644"
                                },
                                {
                                    "Title": "The Queen of Attolia",
                                    "Authors": "Megan Whalen Turner",
                                    "Average Rating": "4.23",
                                    "Tag ID": "11643"
                                },
                                {
                                    "Title": "The Tiger Who Came to Tea",
                                    "Authors": "Judith Kerr",
                                    "Average Rating": "4.23",
                                    "Tag ID": "11643"
                                },
                                {
                                    "Title": "The Tiger Who Came to Tea",
                                    "Authors": "Judith Kerr",
                                    "Average Rating": "4.23",
                                    "Tag ID": "11644"
                                },
                                {
                                    "Title": "The Twilight Saga: The Official Guide",
                                    "Authors": "Stephenie Meyer",
                                    "Average Rating": "4.23",
                                    "Tag ID": "11643"
                                },
                                {
                                    "Title": "Verhaaltjes, en gebeurtenissen uit het Achterhuis. Cady's leven",
                                    "Authors": "Anne Frank, Susan Massotty",
                                    "Average Rating": "4.23",
                                    "Tag ID": "11643"
                                },
                                {
                                    "Title": "Wild Swans: Three Daughters of China",
                                    "Authors": "Jung Chang",
                                    "Average Rating": "4.23",
                                    "Tag ID": "11643"
                                },
                                {
                                    "Title": "Wild Swans: Three Daughters of China",
                                    "Authors": "Jung Chang",
                                    "Average Rating": "4.23",
                                    "Tag ID": "11644"
                                },
                                {
                                    "Title": "学園アリス１",
                                    "Authors": "Tachibana Higuchi, 樋口 橘",
                                    "Average Rating": "4.23",
                                    "Tag ID": "11644"
                                },
                                {
                                    "Title": "A Mango-Shaped Space",
                                    "Authors": "Wendy Mass",
                                    "Average Rating": "4.22",
                                    "Tag ID": "11644"
                                },
                                {
                                    "Title": "Little Bear",
                                    "Authors": "Else Holmelund Minarik, Maurice Sendak",
                                    "Average Rating": "4.22",
                                    "Tag ID": "11643"
                                },
                                {
                                    "Title": "Page ",
                                    "Authors": "Tamora Pierce",
                                    "Average Rating": "4.22",
                                    "Tag ID": "11643"
                                },
                                {
                                    "Title": "Short Stories from Hogwarts of Heroism, Hardship and Dangerous Hobbies",
                                    "Authors": "J.K. Rowling, MinaLima",
                                    "Average Rating": "4.22",
                                    "Tag ID": "11643"
                                },
                                {
                                    "Title": "The Center Cannot Hold",
                                    "Authors": "Elyn R. Saks",
                                    "Average Rating": "4.22",
                                    "Tag ID": "11644"
                                },
                                {
                                    "Title": "The Dragonriders of Pern",
                                    "Authors": "Anne McCaffrey",
                                    "Average Rating": "4.22",
                                    "Tag ID": "11644"
                                },
                                {
                                    "Title": "The Lives of Christopher Chant",
                                    "Authors": "Diana Wynne Jones",
                                    "Average Rating": "4.22",
                                    "Tag ID": "11643"
                                },
                                {
                                    "Title": "The MasterHarper of Pern",
                                    "Authors": "Anne McCaffrey",
                                    "Average Rating": "4.22",
                                    "Tag ID": "11643"
                                },
                                {
                                    "Title": "The Shock Doctrine: The Rise of Disaster Capitalism",
                                    "Authors": "Naomi Klein",
                                    "Average Rating": "4.22",
                                    "Tag ID": "11643"
                                },
                                {
                                    "Title": "The Shock Doctrine: The Rise of Disaster Capitalism",
                                    "Authors": "Naomi Klein",
                                    "Average Rating": "4.22",
                                    "Tag ID": "11644"
                                },
                                {
                                    "Title": "The Thorn Birds",
                                    "Authors": "Colleen McCullough",
                                    "Average Rating": "4.22",
                                    "Tag ID": "11644"
                                },
                                {
                                    "Title": "Wild Seed (Patternmaster, #1)",
                                    "Authors": "Octavia E. Butler",
                                    "Average Rating": "4.22",
                                    "Tag ID": "11643"
                                },
                                {
                                    "Title": "Wild Seed (Patternmaster, #1)",
                                    "Authors": "Octavia E. Butler",
                                    "Average Rating": "4.22",
                                    "Tag ID": "11644"
                                },
                                {
                                    "Title": "Anne of Avonlea",
                                    "Authors": "L.M. Montgomery",
                                    "Average Rating": "4.21",
                                    "Tag ID": "11643"
                                },
                                {
                                    "Title": "Anne of Avonlea",
                                    "Authors": "L.M. Montgomery",
                                    "Average Rating": "4.21",
                                    "Tag ID": "11644"
                                },
                                {
                                    "Title": "Anne of the Island",
                                    "Authors": "L.M. Montgomery",
                                    "Average Rating": "4.21",
                                    "Tag ID": "11643"
                                },
                                {
                                    "Title": "Career of Evil",
                                    "Authors": "Robert Galbraith, J.K. Rowling",
                                    "Average Rating": "4.21",
                                    "Tag ID": "11643"
                                },
                                {
                                    "Title": "Dead Poets Society ",
                                    "Authors": "N.H. Kleinbaum",
                                    "Average Rating": "4.21",
                                    "Tag ID": "11643"
                                },
                                {
                                    "Title": "Hogwarts: An Incomplete and Unreliable Guide",
                                    "Authors": "J.K. Rowling",
                                    "Average Rating": "4.21",
                                    "Tag ID": "11643"
                                },
                                {
                                    "Title": "Magic's Pawn",
                                    "Authors": "Mercedes Lackey",
                                    "Average Rating": "4.21",
                                    "Tag ID": "11643"
                                },
                                {
                                    "Title": "Murder Must Advertise",
                                    "Authors": "Dorothy L. Sayers",
                                    "Average Rating": "4.21",
                                    "Tag ID": "11643"
                                },
                                {
                                    "Title": "NANA―ナナ― 1",
                                    "Authors": "Ai Yazawa",
                                    "Average Rating": "4.21",
                                    "Tag ID": "11644"
                                },
                                {
                                    "Title": "Parable of the Talents",
                                    "Authors": "Octavia E. Butler",
                                    "Average Rating": "4.21",
                                    "Tag ID": "11643"
                                },
                                {
                                    "Title": "Parable of the Talents",
                                    "Authors": "Octavia E. Butler",
                                    "Average Rating": "4.21",
                                    "Tag ID": "11644"
                                },
                                {
                                    "Title": "Ship of Destiny",
                                    "Authors": "Robin Hobb",
                                    "Average Rating": "4.21",
                                    "Tag ID": "11643"
                                },
                                {
                                    "Title": "Ship of Destiny",
                                    "Authors": "Robin Hobb",
                                    "Average Rating": "4.21",
                                    "Tag ID": "11644"
                                },
                                {
                                    "Title": "The Complete Poems of Emily Dickinson",
                                    "Authors": "Emily Dickinson, Thomas H. Johnson",
                                    "Average Rating": "4.21",
                                    "Tag ID": "11644"
                                },
                                {
                                    "Title": "The Little Red Caboose (Little Golden Book)",
                                    "Authors": "Marian Potter",
                                    "Average Rating": "4.21",
                                    "Tag ID": "11644"
                                },
                                {
                                    "Title": "The Mad Ship",
                                    "Authors": "Robin Hobb",
                                    "Average Rating": "4.21",
                                    "Tag ID": "11643"
                                },
                                {
                                    "Title": "The Mad Ship",
                                    "Authors": "Robin Hobb",
                                    "Average Rating": "4.21",
                                    "Tag ID": "11644"
                                },
                                {
                                    "Title": "Wolf-Speaker (Immortals, #2)",
                                    "Authors": "Tamora Pierce",
                                    "Average Rating": "4.21",
                                    "Tag ID": "11643"
                                },
                                {
                                    "Title": "Wolf-Speaker (Immortals, #2)",
                                    "Authors": "Tamora Pierce",
                                    "Average Rating": "4.21",
                                    "Tag ID": "11644"
                                },
                                {
                                    "Title": "A House in the Sky",
                                    "Authors": "Amanda Lindhout, Sara Corbett",
                                    "Average Rating": "4.2",
                                    "Tag ID": "11643"
                                },
                                {
                                    "Title": "Ancillary Mercy",
                                    "Authors": "Ann Leckie",
                                    "Average Rating": "4.2",
                                    "Tag ID": "11643"
                                },
                                {
                                    "Title": "Ancillary Mercy",
                                    "Authors": "Ann Leckie",
                                    "Average Rating": "4.2",
                                    "Tag ID": "11644"
                                },
                                {
                                    "Title": "Christy",
                                    "Authors": "Catherine Marshall",
                                    "Average Rating": "4.2",
                                    "Tag ID": "11643"
                                },
                                {
                                    "Title": "Eloise",
                                    "Authors": "Kay Thompson, Hilary Knight",
                                    "Average Rating": "4.2",
                                    "Tag ID": "11643"
                                },
                                {
                                    "Title": "La casa de los espíritus",
                                    "Authors": "Isabel Allende, Magda Bogin",
                                    "Average Rating": "4.2",
                                    "Tag ID": "11643"
                                },
                                {
                                    "Title": "La casa de los espíritus",
                                    "Authors": "Isabel Allende, Magda Bogin",
                                    "Average Rating": "4.2",
                                    "Tag ID": "11644"
                                },
                                {
                                    "Title": "Mike Mulligan and His Steam Shovel",
                                    "Authors": "Virginia Lee Burton",
                                    "Average Rating": "4.2",
                                    "Tag ID": "11643"
                                },
                                {
                                    "Title": "Nimona",
                                    "Authors": "Noelle Stevenson",
                                    "Average Rating": "4.2",
                                    "Tag ID": "11643"
                                },
                                {
                                    "Title": "Nimona",
                                    "Authors": "Noelle Stevenson",
                                    "Average Rating": "4.2",
                                    "Tag ID": "11644"
                                },
                                {
                                    "Title": "Short Stories from Hogwarts of Power, Politics and Pesky Poltergeists",
                                    "Authors": "J.K. Rowling, MinaLima",
                                    "Average Rating": "4.2",
                                    "Tag ID": "11643"
                                },
                                {
                                    "Title": "Small Sacrifices: A True Story of Passion and Murder",
                                    "Authors": "Ann Rule",
                                    "Average Rating": "4.2",
                                    "Tag ID": "11644"
                                },
                                {
                                    "Title": "The Cake Bible",
                                    "Authors": "Rose Levy Beranbaum, Maria Guarnaschelli, Vincent Lee, Manuela Paul, Dean G. Bornstein",
                                    "Average Rating": "4.2",
                                    "Tag ID": "11643"
                                },
                                {
                                    "Title": "The Collected Poems",
                                    "Authors": "Sylvia Plath, Ted Hughes",
                                    "Average Rating": "4.2",
                                    "Tag ID": "11644"
                                },
                                {
                                    "Title": "The Little Red Hen (Little Golden Book)",
                                    "Authors": "Diane Muldrow, J.P. Miller",
                                    "Average Rating": "4.2",
                                    "Tag ID": "11643"
                                },
                                {
                                    "Title": "The Murder of Roger Ackroyd",
                                    "Authors": "Agatha Christie",
                                    "Average Rating": "4.2",
                                    "Tag ID": "11643"
                                },
                                {
                                    "Title": "The Murder of Roger Ackroyd",
                                    "Authors": "Agatha Christie",
                                    "Average Rating": "4.2",
                                    "Tag ID": "11644"
                                },
                                {
                                    "Title": "The Woman Who Rides Like a Man",
                                    "Authors": "Tamora Pierce",
                                    "Average Rating": "4.2",
                                    "Tag ID": "11643"
                                },
                                {
                                    "Title": "The Woman Who Rides Like a Man",
                                    "Authors": "Tamora Pierce",
                                    "Average Rating": "4.2",
                                    "Tag ID": "11644"
                                },
                                {
                                    "Title": "There Was an Old Lady Who Swallowed a Fly (Classic Board Books with Holes)",
                                    "Authors": "Pam Adams",
                                    "Average Rating": "4.2",
                                    "Tag ID": "11643"
                                },
                                {
                                    "Title": "Wit : A Play",
                                    "Authors": "Margaret Edson",
                                    "Average Rating": "4.2",
                                    "Tag ID": "11643"
                                },
                                {
                                    "Title": "Wit : A Play",
                                    "Authors": "Margaret Edson",
                                    "Average Rating": "4.2",
                                    "Tag ID": "11644"
                                },
                                {
                                    "Title": "Zami: A New Spelling of My Name",
                                    "Authors": "Audre Lorde",
                                    "Average Rating": "4.2",
                                    "Tag ID": "11643"
                                },
                                {
                                    "Title": "Zami: A New Spelling of My Name",
                                    "Authors": "Audre Lorde",
                                    "Average Rating": "4.2",
                                    "Tag ID": "11644"
                                },
                                {
                                    "Title": "84, Charing Cross Road",
                                    "Authors": "Helene Hanff",
                                    "Average Rating": "4.19",
                                    "Tag ID": "11643"
                                },
                                {
                                    "Title": "I Know Why the Caged Bird Sings",
                                    "Authors": "Maya Angelou",
                                    "Average Rating": "4.19",
                                    "Tag ID": "11643"
                                },
                                {
                                    "Title": "I Know Why the Caged Bird Sings",
                                    "Authors": "Maya Angelou",
                                    "Average Rating": "4.19",
                                    "Tag ID": "11644"
                                },
                                {
                                    "Title": "Kushiel's Scion",
                                    "Authors": "Jacqueline Carey",
                                    "Average Rating": "4.19",
                                    "Tag ID": "11643"
                                },
                                {
                                    "Title": "The Heart of a Woman",
                                    "Authors": "Maya Angelou",
                                    "Average Rating": "4.19",
                                    "Tag ID": "11644"
                                },
                                {
                                    "Title": "The Tale of Mrs. Tiggy-Winkle",
                                    "Authors": "Beatrix Potter",
                                    "Average Rating": "4.19",
                                    "Tag ID": "11643"
                                },
                                {
                                    "Title": "The Tale of Mrs. Tiggy-Winkle",
                                    "Authors": "Beatrix Potter",
                                    "Average Rating": "4.19",
                                    "Tag ID": "11644"
                                },
                                {
                                    "Title": "Arrow's Fall",
                                    "Authors": "Mercedes Lackey",
                                    "Average Rating": "4.18",
                                    "Tag ID": "11643"
                                },
                                {
                                    "Title": "Kindred",
                                    "Authors": "Octavia E. Butler",
                                    "Average Rating": "4.18",
                                    "Tag ID": "11643"
                                },
                                {
                                    "Title": "Kindred",
                                    "Authors": "Octavia E. Butler",
                                    "Average Rating": "4.18",
                                    "Tag ID": "11644"
                                },
                                {
                                    "Title": "Little House on the Prairie",
                                    "Authors": "Laura Ingalls Wilder, Garth Williams",
                                    "Average Rating": "4.18",
                                    "Tag ID": "11643"
                                },
                                {
                                    "Title": "Little Town on the Prairie",
                                    "Authors": "Laura Ingalls Wilder, Garth Williams",
                                    "Average Rating": "4.18",
                                    "Tag ID": "11643"
                                },
                                {
                                    "Title": "The Dispossessed",
                                    "Authors": "Ursula K. Le Guin",
                                    "Average Rating": "4.18",
                                    "Tag ID": "11643"
                                },
                                {
                                    "Title": "The Dispossessed",
                                    "Authors": "Ursula K. Le Guin",
                                    "Average Rating": "4.18",
                                    "Tag ID": "11644"
                                },
                                {
                                    "Title": "The Grey King",
                                    "Authors": "Susan Cooper",
                                    "Average Rating": "4.18",
                                    "Tag ID": "11643"
                                },
                                {
                                    "Title": "The Guns of August",
                                    "Authors": "Barbara W. Tuchman, Robert K. Massie",
                                    "Average Rating": "4.18",
                                    "Tag ID": "11643"
                                },
                                {
                                    "Title": "The Long Way to a Small, Angry Planet",
                                    "Authors": "Becky  Chambers",
                                    "Average Rating": "4.18",
                                    "Tag ID": "11643"
                                },
                                {
                                    "Title": "The Long Way to a Small, Angry Planet",
                                    "Authors": "Becky  Chambers",
                                    "Average Rating": "4.18",
                                    "Tag ID": "11644"
                                },
                                {
                                    "Title": "The Pioneer Woman Cooks: Recipes from an Accidental Ranch Wife",
                                    "Authors": "Ree Drummond",
                                    "Average Rating": "4.18",
                                    "Tag ID": "11643"
                                },
                                {
                                    "Title": "The Thing Around Your Neck",
                                    "Authors": "Chimamanda Ngozi Adichie",
                                    "Average Rating": "4.18",
                                    "Tag ID": "11643"
                                },
                                {
                                    "Title": "The Thing Around Your Neck",
                                    "Authors": "Chimamanda Ngozi Adichie",
                                    "Average Rating": "4.18",
                                    "Tag ID": "11644"
                                },
                                {
                                    "Title": "West with the Night",
                                    "Authors": "Beryl Markham",
                                    "Average Rating": "4.18",
                                    "Tag ID": "11644"
                                },
                                {
                                    "Title": "Born Free: A Lioness of Two Worlds",
                                    "Authors": "Joy Adamson",
                                    "Average Rating": "4.17",
                                    "Tag ID": "11643"
                                },
                                {
                                    "Title": "Dragonsdawn (Pern: Dragonriders of Pern, #6)",
                                    "Authors": "Anne McCaffrey",
                                    "Average Rating": "4.17",
                                    "Tag ID": "11643"
                                },
                                {
                                    "Title": "The Color Purple",
                                    "Authors": "Alice Walker",
                                    "Average Rating": "4.17",
                                    "Tag ID": "11643"
                                },
                                {
                                    "Title": "The Color Purple",
                                    "Authors": "Alice Walker",
                                    "Average Rating": "4.17",
                                    "Tag ID": "11644"
                                },
                                {
                                    "Title": "The Gifts of Imperfection",
                                    "Authors": "Brené Brown",
                                    "Average Rating": "4.17",
                                    "Tag ID": "11644"
                                },
                                {
                                    "Title": "The Memoirs of Cleopatra",
                                    "Authors": "Margaret George",
                                    "Average Rating": "4.17",
                                    "Tag ID": "11644"
                                },
                                {
                                    "Title": "The Sparrow",
                                    "Authors": "Mary Doria Russell",
                                    "Average Rating": "4.17",
                                    "Tag ID": "11643"
                                },
                                {
                                    "Title": "The Sparrow",
                                    "Authors": "Mary Doria Russell",
                                    "Average Rating": "4.17",
                                    "Tag ID": "11644"
                                },
                                {
                                    "Title": "The White Dragon (Pern: Dragonriders of Pern, #3)",
                                    "Authors": "Anne McCaffrey",
                                    "Average Rating": "4.17",
                                    "Tag ID": "11643"
                                },
                                {
                                    "Title": "These Happy Golden Years",
                                    "Authors": "Laura Ingalls Wilder, Garth Williams",
                                    "Average Rating": "4.17",
                                    "Tag ID": "11643"
                                },
                                {
                                    "Title": "This Changes Everything: Capitalism vs. The Climate",
                                    "Authors": "Naomi Klein",
                                    "Average Rating": "4.17",
                                    "Tag ID": "11643"
                                },
                                {
                                    "Title": "Writing Down the Bones: Freeing the Writer Within",
                                    "Authors": "Natalie Goldberg",
                                    "Average Rating": "4.17",
                                    "Tag ID": "11644"
                                },
                                {
                                    "Title": "Arrows of the Queen (Heralds of Valdemar #1)",
                                    "Authors": "Mercedes Lackey",
                                    "Average Rating": "4.16",
                                    "Tag ID": "11643"
                                },
                                {
                                    "Title": "By the Shores of Silver Lake",
                                    "Authors": "Laura Ingalls Wilder, Garth Williams",
                                    "Average Rating": "4.16",
                                    "Tag ID": "11643"
                                },
                                {
                                    "Title": "Gorillas in the Mist",
                                    "Authors": "Dian Fossey",
                                    "Average Rating": "4.16",
                                    "Tag ID": "11643"
                                },
                                {
                                    "Title": "Little House In The Big Woods",
                                    "Authors": "Laura Ingalls Wilder, Garth Williams",
                                    "Average Rating": "4.16",
                                    "Tag ID": "11643"
                                },
                                {
                                    "Title": "Rilla of Ingleside",
                                    "Authors": "L.M. Montgomery",
                                    "Average Rating": "4.16",
                                    "Tag ID": "11643"
                                },
                                {
                                    "Title": "Rilla of Ingleside",
                                    "Authors": "L.M. Montgomery",
                                    "Average Rating": "4.16",
                                    "Tag ID": "11644"
                                },
                                {
                                    "Title": "Selected Poems of Emily Dickinson",
                                    "Authors": "Emily Dickinson",
                                    "Average Rating": "4.16",
                                    "Tag ID": "11643"
                                },
                                {
                                    "Title": "Selected Poems of Emily Dickinson",
                                    "Authors": "Emily Dickinson",
                                    "Average Rating": "4.16",
                                    "Tag ID": "11644"
                                },
                                {
                                    "Title": "Shatterglass",
                                    "Authors": "Tamora Pierce",
                                    "Average Rating": "4.16",
                                    "Tag ID": "11643"
                                },
                                {
                                    "Title": "Shatterglass",
                                    "Authors": "Tamora Pierce",
                                    "Average Rating": "4.16",
                                    "Tag ID": "11644"
                                },
                                {
                                    "Title": "Silver on the Tree",
                                    "Authors": "Susan Cooper",
                                    "Average Rating": "4.16",
                                    "Tag ID": "11643"
                                },
                                {
                                    "Title": "Terrier",
                                    "Authors": "Tamora Pierce",
                                    "Average Rating": "4.16",
                                    "Tag ID": "11643"
                                },
                                {
                                    "Title": "The Curse of Chalion",
                                    "Authors": "Lois McMaster Bujold",
                                    "Average Rating": "4.16",
                                    "Tag ID": "11643"
                                },
                                {
                                    "Title": "The Curse of Chalion",
                                    "Authors": "Lois McMaster Bujold",
                                    "Average Rating": "4.16",
                                    "Tag ID": "11644"
                                },
                                {
                                    "Title": "The Grand Sophy",
                                    "Authors": "Georgette Heyer",
                                    "Average Rating": "4.16",
                                    "Tag ID": "11643"
                                },
                                {
                                    "Title": "The Long Winter (Little House, #6)",
                                    "Authors": "Laura Ingalls Wilder, Garth Williams",
                                    "Average Rating": "4.16",
                                    "Tag ID": "11643"
                                },
                                {
                                    "Title": "The Red Tent",
                                    "Authors": "Anita Diamant",
                                    "Average Rating": "4.16",
                                    "Tag ID": "11643"
                                },
                                {
                                    "Title": "Wir Kinder vom Bahnhof Zoo",
                                    "Authors": "Christiane F., Kai Hermann, Horst Rieck",
                                    "Average Rating": "4.16",
                                    "Tag ID": "11644"
                                },
                                {
                                    "Title": "All the Weyrs of Pern",
                                    "Authors": "Anne McCaffrey",
                                    "Average Rating": "4.15",
                                    "Tag ID": "11643"
                                },
                                {
                                    "Title": "Frederica",
                                    "Authors": "Georgette Heyer",
                                    "Average Rating": "4.15",
                                    "Tag ID": "11643"
                                },
                                {
                                    "Title": "Haunted",
                                    "Authors": "Meg Cabot",
                                    "Average Rating": "4.15",
                                    "Tag ID": "11643"
                                },
                                {
                                    "Title": "Hawksong",
                                    "Authors": "Amelia Atwater-Rhodes",
                                    "Average Rating": "4.15",
                                    "Tag ID": "11643"
                                },
                                {
                                    "Title": "Loving What Is: Four Questions That Can Change Your Life",
                                    "Authors": "Byron Katie, Stephen Mitchell",
                                    "Average Rating": "4.15",
                                    "Tag ID": "11643"
                                },
                                {
                                    "Title": "My Friend Flicka (Flicka, #1)",
                                    "Authors": "Mary O'Hara, Dave Blossom",
                                    "Average Rating": "4.15",
                                    "Tag ID": "11643"
                                },
                                {
                                    "Title": "On Death and Dying",
                                    "Authors": "Elisabeth Kübler-Ross",
                                    "Average Rating": "4.15",
                                    "Tag ID": "11644"
                                },
                                {
                                    "Title": "The High Lord",
                                    "Authors": "Trudi Canavan",
                                    "Average Rating": "4.15",
                                    "Tag ID": "11643"
                                },
                                {
                                    "Title": "The Will of the Empress",
                                    "Authors": "Tamora Pierce",
                                    "Average Rating": "4.15",
                                    "Tag ID": "11643"
                                },
                                {
                                    "Title": "The Will of the Empress",
                                    "Authors": "Tamora Pierce",
                                    "Average Rating": "4.15",
                                    "Tag ID": "11644"
                                },
                                {
                                    "Title": "The Wives of Henry VIII",
                                    "Authors": "Antonia Fraser",
                                    "Average Rating": "4.15",
                                    "Tag ID": "11643"
                                },
                                {
                                    "Title": "Traveling Mercies: Some Thoughts on Faith",
                                    "Authors": "Anne Lamott",
                                    "Average Rating": "4.15",
                                    "Tag ID": "11643"
                                },
                                {
                                    "Title": "Wolf Brother",
                                    "Authors": "Michelle Paver, Geoff Taylor",
                                    "Average Rating": "4.15",
                                    "Tag ID": "11643"
                                },
                                {
                                    "Title": "Women Who Run With the Wolves",
                                    "Authors": "Clarissa Pinkola Estés",
                                    "Average Rating": "4.15",
                                    "Tag ID": "11643"
                                },
                                {
                                    "Title": "ビューティーポップ 1 [Byūtī poppu 1]",
                                    "Authors": "Kiyoko Arai",
                                    "Average Rating": "4.15",
                                    "Tag ID": "3514"
                                },
                                {
                                    "Title": "ヤマトナデシコ七変化",
                                    "Authors": "Tomoko Hayakawa, David Ury",
                                    "Average Rating": "4.15",
                                    "Tag ID": "11643"
                                },
                                {
                                    "Title": "A Ring of Endless Light (Austin Family, #4)",
                                    "Authors": "Madeleine L'Engle",
                                    "Average Rating": "4.14",
                                    "Tag ID": "11644"
                                },
                                {
                                    "Title": "Absent in the Spring ",
                                    "Authors": "Mary Westmacott, Agatha Christie",
                                    "Average Rating": "4.14",
                                    "Tag ID": "11644"
                                },
                                {
                                    "Title": "Adulthood Is a Myth: A \"Sarah's Scribbles\" Collection",
                                    "Authors": "Sarah Andersen",
                                    "Average Rating": "4.14",
                                    "Tag ID": "11643"
                                },
                                {
                                    "Title": "Adulthood Is a Myth: A \"Sarah's Scribbles\" Collection",
                                    "Authors": "Sarah Andersen",
                                    "Average Rating": "4.14",
                                    "Tag ID": "11644"
                                },
                                {
                                    "Title": "Beaches",
                                    "Authors": "Iris Rainer Dart",
                                    "Average Rating": "4.14",
                                    "Tag ID": "11644"
                                },
                                {
                                    "Title": "Briar's Book",
                                    "Authors": "Tamora Pierce",
                                    "Average Rating": "4.14",
                                    "Tag ID": "11643"
                                },
                                {
                                    "Title": "Briar's Book",
                                    "Authors": "Tamora Pierce",
                                    "Average Rating": "4.14",
                                    "Tag ID": "11644"
                                },
                                {
                                    "Title": "Dealing with Dragons",
                                    "Authors": "Patricia C. Wrede, Peter de Sève",
                                    "Average Rating": "4.14",
                                    "Tag ID": "11643"
                                },
                                {
                                    "Title": "Emily Climbs",
                                    "Authors": "L.M. Montgomery",
                                    "Average Rating": "4.14",
                                    "Tag ID": "11643"
                                },
                                {
                                    "Title": "Having Our Say: The Delany Sisters' First 100 Years",
                                    "Authors": "Sarah L. Delany, A. Elizabeth Delany, Amy Hill Hearth",
                                    "Average Rating": "4.14",
                                    "Tag ID": "11643"
                                },
                                {
                                    "Title": "Just Kids",
                                    "Authors": "Patti Smith",
                                    "Average Rating": "4.14",
                                    "Tag ID": "11643"
                                },
                                {
                                    "Title": "Just Kids",
                                    "Authors": "Patti Smith",
                                    "Average Rating": "4.14",
                                    "Tag ID": "11644"
                                },
                                {
                                    "Title": "Ms. Marvel, Vol. 2: Generation Why",
                                    "Authors": "G. Willow Wilson, Adrian Alphona, Jacob Wyatt",
                                    "Average Rating": "4.14",
                                    "Tag ID": "11643"
                                },
                                {
                                    "Title": "Ms. Marvel, Vol. 2: Generation Why",
                                    "Authors": "G. Willow Wilson, Adrian Alphona, Jacob Wyatt",
                                    "Average Rating": "4.14",
                                    "Tag ID": "11644"
                                },
                                {
                                    "Title": "Parable of the Sower (Earthseed, #1)",
                                    "Authors": "Octavia E. Butler",
                                    "Average Rating": "4.14",
                                    "Tag ID": "11643"
                                },
                                {
                                    "Title": "Parable of the Sower (Earthseed, #1)",
                                    "Authors": "Octavia E. Butler",
                                    "Average Rating": "4.14",
                                    "Tag ID": "11644"
                                },
                                {
                                    "Title": "The Apprentice",
                                    "Authors": "Tess Gerritsen",
                                    "Average Rating": "4.14",
                                    "Tag ID": "11644"
                                },
                                {
                                    "Title": "The Joy of Cooking",
                                    "Authors": "Irma S. Rombauer, Marion Rombauer Becker, Ethan Becker",
                                    "Average Rating": "4.14",
                                    "Tag ID": "11644"
                                },
                                {
                                    "Title": "The Smartest Guys in the Room: The Amazing Rise and Scandalous Fall of Enron",
                                    "Authors": "Bethany McLean, Peter Elkind",
                                    "Average Rating": "4.14",
                                    "Tag ID": "11643"
                                },
                                {
                                    "Title": "The Spirit Catches You and You Fall Down: A Hmong Child, Her American Doctors, and the Collision of Two Cultures",
                                    "Authors": "Anne Fadiman",
                                    "Average Rating": "4.14",
                                    "Tag ID": "11643"
                                },
                                {
                                    "Title": "The Spirit Catches You and You Fall Down: A Hmong Child, Her American Doctors, and the Collision of Two Cultures",
                                    "Authors": "Anne Fadiman",
                                    "Average Rating": "4.14",
                                    "Tag ID": "11644"
                                },
                                {
                                    "Title": "The Waves",
                                    "Authors": "Virginia Woolf",
                                    "Average Rating": "4.14",
                                    "Tag ID": "11643"
                                },
                                {
                                    "Title": "The Waves",
                                    "Authors": "Virginia Woolf",
                                    "Average Rating": "4.14",
                                    "Tag ID": "11644"
                                },
                                {
                                    "Title": "You're Never Weird on the Internet (Almost)",
                                    "Authors": "Felicia Day, Joss Whedon",
                                    "Average Rating": "4.14",
                                    "Tag ID": "11643"
                                },
                                {
                                    "Title": "You're Never Weird on the Internet (Almost)",
                                    "Authors": "Felicia Day, Joss Whedon",
                                    "Average Rating": "4.14",
                                    "Tag ID": "11644"
                                },
                                {
                                    "Title": "A Swiftly Tilting Planet",
                                    "Authors": "Madeleine L'Engle",
                                    "Average Rating": "4.13",
                                    "Tag ID": "11643"
                                },
                                {
                                    "Title": "A Swiftly Tilting Planet",
                                    "Authors": "Madeleine L'Engle",
                                    "Average Rating": "4.13",
                                    "Tag ID": "11644"
                                },
                                {
                                    "Title": "Arrow's Flight (Heralds of Valdemar, #2)",
                                    "Authors": "Mercedes Lackey",
                                    "Average Rating": "4.13",
                                    "Tag ID": "11643"
                                },
                                {
                                    "Title": "Creative Visualization: Use the Power of Your Imagination to Create What You Want in Your Life",
                                    "Authors": "Shakti Gawain",
                                    "Average Rating": "4.13",
                                    "Tag ID": "11643"
                                },
                                {
                                    "Title": "Dibs in Search of Self: Personality Development in Play Therapy",
                                    "Authors": "Virginia M. Axline",
                                    "Average Rating": "4.13",
                                    "Tag ID": "11643"
                                },
                                {
                                    "Title": "Dibs in Search of Self: Personality Development in Play Therapy",
                                    "Authors": "Virginia M. Axline",
                                    "Average Rating": "4.13",
                                    "Tag ID": "11644"
                                },
                                {
                                    "Title": "In the Time of the Butterflies",
                                    "Authors": "Julia Alvarez",
                                    "Average Rating": "4.13",
                                    "Tag ID": "11644"
                                },
                                {
                                    "Title": "Ms. Marvel, Vol. 1: No Normal",
                                    "Authors": "G. Willow Wilson, Adrian Alphona",
                                    "Average Rating": "4.13",
                                    "Tag ID": "11643"
                                },
                                {
                                    "Title": "Ms. Marvel, Vol. 1: No Normal",
                                    "Authors": "G. Willow Wilson, Adrian Alphona",
                                    "Average Rating": "4.13",
                                    "Tag ID": "11644"
                                },
                                {
                                    "Title": "North and South",
                                    "Authors": "Elizabeth Gaskell, Alan Shelston",
                                    "Average Rating": "4.13",
                                    "Tag ID": "11643"
                                },
                                {
                                    "Title": "North and South",
                                    "Authors": "Elizabeth Gaskell, Alan Shelston",
                                    "Average Rating": "4.13",
                                    "Tag ID": "11644"
                                },
                                {
                                    "Title": "Paladin of Souls",
                                    "Authors": "Lois McMaster Bujold",
                                    "Average Rating": "4.13",
                                    "Tag ID": "11643"
                                },
                                {
                                    "Title": "Personal History",
                                    "Authors": "Katharine Graham",
                                    "Average Rating": "4.13",
                                    "Tag ID": "11643"
                                },
                                {
                                    "Title": "Persuasion",
                                    "Authors": "Jane Austen, James Kinsley, Deidre Shauna Lynch",
                                    "Average Rating": "4.13",
                                    "Tag ID": "11643"
                                },
                                {
                                    "Title": "Persuasion",
                                    "Authors": "Jane Austen, James Kinsley, Deidre Shauna Lynch",
                                    "Average Rating": "4.13",
                                    "Tag ID": "11644"
                                },
                                {
                                    "Title": "Shards of Honor",
                                    "Authors": "Lois McMaster Bujold",
                                    "Average Rating": "4.13",
                                    "Tag ID": "11643"
                                },
                                {
                                    "Title": "Shards of Honor",
                                    "Authors": "Lois McMaster Bujold",
                                    "Average Rating": "4.13",
                                    "Tag ID": "11644"
                                },
                                {
                                    "Title": "The Shell Seekers",
                                    "Authors": "Rosamunde Pilcher",
                                    "Average Rating": "4.13",
                                    "Tag ID": "11643"
                                },
                                {
                                    "Title": "The Stranger Beside Me",
                                    "Authors": "Ann Rule",
                                    "Average Rating": "4.13",
                                    "Tag ID": "11643"
                                },
                                {
                                    "Title": "The Stranger Beside Me",
                                    "Authors": "Ann Rule",
                                    "Average Rating": "4.13",
                                    "Tag ID": "11644"
                                },
                                {
                                    "Title": "The Women of Brewster Place",
                                    "Authors": "Gloria Naylor",
                                    "Average Rating": "4.13",
                                    "Tag ID": "11644"
                                },
                                {
                                    "Title": "To Say Nothing of the Dog",
                                    "Authors": "Connie Willis",
                                    "Average Rating": "4.13",
                                    "Tag ID": "11643"
                                },
                                {
                                    "Title": "Uprooted",
                                    "Authors": "Naomi Novik",
                                    "Average Rating": "4.13",
                                    "Tag ID": "11643"
                                },
                                {
                                    "Title": "\"...And Ladies of the Club\"",
                                    "Authors": "Helen Hooven Santmyer",
                                    "Average Rating": "4.12",
                                    "Tag ID": "11643"
                                },
                                {
                                    "Title": "Anatomy of the Spirit: The Seven Stages of Power and Healing",
                                    "Authors": "Caroline Myss",
                                    "Average Rating": "4.12",
                                    "Tag ID": "11643"
                                },
                                {
                                    "Title": "Birds of America: Stories",
                                    "Authors": "Lorrie Moore",
                                    "Average Rating": "4.12",
                                    "Tag ID": "11644"
                                },
                                {
                                    "Title": "Daughter of the Blood",
                                    "Authors": "Anne Bishop",
                                    "Average Rating": "4.12",
                                    "Tag ID": "11643"
                                },
                                {
                                    "Title": "Dragons of Spring Dawning",
                                    "Authors": "Margaret Weis, Tracy Hickman",
                                    "Average Rating": "4.12",
                                    "Tag ID": "11643"
                                },
                                {
                                    "Title": "Ghettoside: A True Story of Murder in America",
                                    "Authors": "Jill Leovy",
                                    "Average Rating": "4.12",
                                    "Tag ID": "11643"
                                },
                                {
                                    "Title": "Interpreter of Maladies",
                                    "Authors": "Jhumpa Lahiri",
                                    "Average Rating": "4.12",
                                    "Tag ID": "11643"
                                },
                                {
                                    "Title": "Interpreter of Maladies",
                                    "Authors": "Jhumpa Lahiri",
                                    "Average Rating": "4.12",
                                    "Tag ID": "11644"
                                },
                                {
                                    "Title": "Rainbow Valley",
                                    "Authors": "L.M. Montgomery",
                                    "Average Rating": "4.12",
                                    "Tag ID": "11643"
                                },
                                {
                                    "Title": "Ship of Magic",
                                    "Authors": "Robin Hobb",
                                    "Average Rating": "4.12",
                                    "Tag ID": "11643"
                                },
                                {
                                    "Title": "Street Magic",
                                    "Authors": "Tamora Pierce",
                                    "Average Rating": "4.12",
                                    "Tag ID": "11643"
                                },
                                {
                                    "Title": "Street Magic",
                                    "Authors": "Tamora Pierce",
                                    "Average Rating": "4.12",
                                    "Tag ID": "11644"
                                },
                                {
                                    "Title": "Succulent Wild Woman",
                                    "Authors": "S.A.R.K.",
                                    "Average Rating": "4.12",
                                    "Tag ID": "11643"
                                },
                                {
                                    "Title": "Succulent Wild Woman",
                                    "Authors": "S.A.R.K.",
                                    "Average Rating": "4.12",
                                    "Tag ID": "11644"
                                },
                                {
                                    "Title": "The Crystal Cave",
                                    "Authors": "Mary  Stewart",
                                    "Average Rating": "4.12",
                                    "Tag ID": "11643"
                                },
                                {
                                    "Title": "The Crystal Cave",
                                    "Authors": "Mary  Stewart",
                                    "Average Rating": "4.12",
                                    "Tag ID": "11644"
                                },
                                {
                                    "Title": "The Giver",
                                    "Authors": "Lois Lowry",
                                    "Average Rating": "4.12",
                                    "Tag ID": "11643"
                                },
                                {
                                    "Title": "The Mists of Avalon",
                                    "Authors": "Marion Zimmer Bradley",
                                    "Average Rating": "4.12",
                                    "Tag ID": "11643"
                                },
                                {
                                    "Title": "The Mists of Avalon",
                                    "Authors": "Marion Zimmer Bradley",
                                    "Average Rating": "4.12",
                                    "Tag ID": "11644"
                                },
                                {
                                    "Title": "The Passion",
                                    "Authors": "Jeanette Winterson",
                                    "Average Rating": "4.12",
                                    "Tag ID": "11643"
                                },
                                {
                                    "Title": "The Passion",
                                    "Authors": "Jeanette Winterson",
                                    "Average Rating": "4.12",
                                    "Tag ID": "11644"
                                },
                                {
                                    "Title": "The Pearl that Broke Its Shell",
                                    "Authors": "Nadia Hashimi",
                                    "Average Rating": "4.12",
                                    "Tag ID": "11643"
                                },
                                {
                                    "Title": "Timeless",
                                    "Authors": "Gail Carriger",
                                    "Average Rating": "4.12",
                                    "Tag ID": "11643"
                                },
                                {
                                    "Title": "花より男子 1",
                                    "Authors": "Yoko Kamio, 神尾葉子",
                                    "Average Rating": "4.12",
                                    "Tag ID": "3514"
                                },
                                {
                                    "Title": "Blackout",
                                    "Authors": "Mira Grant",
                                    "Average Rating": "4.11",
                                    "Tag ID": "11643"
                                },
                                {
                                    "Title": "Cruel & Unusual",
                                    "Authors": "Patricia Cornwell",
                                    "Average Rating": "4.11",
                                    "Tag ID": "11643"
                                },
                                {
                                    "Title": "Curtsies & Conspiracies",
                                    "Authors": "Gail Carriger",
                                    "Average Rating": "4.11",
                                    "Tag ID": "11643"
                                },
                                {
                                    "Title": "Faithless",
                                    "Authors": "Karin Slaughter",
                                    "Average Rating": "4.11",
                                    "Tag ID": "11643"
                                },
                                {
                                    "Title": "Pippi Långstrump",
                                    "Authors": "Astrid Lindgren, Lauren Child, Florence Lamborn, Nancy Seligsohn",
                                    "Average Rating": "4.11",
                                    "Tag ID": "11643"
                                },
                                {
                                    "Title": "Purple Hibiscus",
                                    "Authors": "Chimamanda Ngozi Adichie",
                                    "Average Rating": "4.11",
                                    "Tag ID": "11643"
                                },
                                {
                                    "Title": "Purple Hibiscus",
                                    "Authors": "Chimamanda Ngozi Adichie",
                                    "Average Rating": "4.11",
                                    "Tag ID": "11644"
                                },
                                {
                                    "Title": "Scuffy the Tugboat and His Adventures Down the River",
                                    "Authors": "Gertrude Crampton",
                                    "Average Rating": "4.11",
                                    "Tag ID": "11643"
                                },
                                {
                                    "Title": "The Art of Simple Food: Notes and Recipes from a Delicious Revolution",
                                    "Authors": "Alice Waters",
                                    "Average Rating": "4.11",
                                    "Tag ID": "11643"
                                },
                                {
                                    "Title": "The Defining Decade: Why Your Twenties Matter--And How to Make the Most of Them Now",
                                    "Authors": "Meg Jay",
                                    "Average Rating": "4.11",
                                    "Tag ID": "11644"
                                },
                                {
                                    "Title": "The Farthest Shore",
                                    "Authors": "Ursula K. Le Guin",
                                    "Average Rating": "4.11",
                                    "Tag ID": "11643"
                                },
                                {
                                    "Title": "The Farthest Shore",
                                    "Authors": "Ursula K. Le Guin",
                                    "Average Rating": "4.11",
                                    "Tag ID": "11644"
                                },
                                {
                                    "Title": "The Ghost Road",
                                    "Authors": "Pat Barker",
                                    "Average Rating": "4.11",
                                    "Tag ID": "11643"
                                },
                                {
                                    "Title": "The Laughing Corpse",
                                    "Authors": "Laurell K. Hamilton",
                                    "Average Rating": "4.11",
                                    "Tag ID": "11643"
                                },
                                {
                                    "Title": "The Palace of Illusions",
                                    "Authors": "Chitra Banerjee Divakaruni",
                                    "Average Rating": "4.11",
                                    "Tag ID": "11643"
                                },
                                {
                                    "Title": "The Palace of Illusions",
                                    "Authors": "Chitra Banerjee Divakaruni",
                                    "Average Rating": "4.11",
                                    "Tag ID": "11644"
                                },
                                {
                                    "Title": "The Yellow Wall-paper. A story",
                                    "Authors": "Charlotte Perkins Gilman, Elaine Hedges",
                                    "Average Rating": "4.11",
                                    "Tag ID": "11643"
                                },
                                {
                                    "Title": "The Yellow Wall-paper. A story",
                                    "Authors": "Charlotte Perkins Gilman, Elaine Hedges",
                                    "Average Rating": "4.11",
                                    "Tag ID": "11644"
                                },
                                {
                                    "Title": "Unaccustomed Earth",
                                    "Authors": "Jhumpa Lahiri",
                                    "Average Rating": "4.11",
                                    "Tag ID": "11643"
                                },
                                {
                                    "Title": "Unaccustomed Earth",
                                    "Authors": "Jhumpa Lahiri",
                                    "Average Rating": "4.11",
                                    "Tag ID": "11644"
                                },
                                {
                                    "Title": "Unnatural Death",
                                    "Authors": "Dorothy L. Sayers",
                                    "Average Rating": "4.11",
                                    "Tag ID": "11644"
                                },
                                {
                                    "Title": "War of the Twins",
                                    "Authors": "Margaret Weis, Tracy Hickman",
                                    "Average Rating": "4.11",
                                    "Tag ID": "11643"
                                },
                                {
                                    "Title": "A Room of One's Own",
                                    "Authors": "Virginia Woolf",
                                    "Average Rating": "4.1",
                                    "Tag ID": "11643"
                                },
                                {
                                    "Title": "A Room of One's Own",
                                    "Authors": "Virginia Woolf",
                                    "Average Rating": "4.1",
                                    "Tag ID": "11644"
                                },
                                {
                                    "Title": "Can't We Talk about Something More Pleasant?",
                                    "Authors": "Roz Chast",
                                    "Average Rating": "4.1",
                                    "Tag ID": "11643"
                                },
                                {
                                    "Title": "Can't We Talk about Something More Pleasant?",
                                    "Authors": "Roz Chast",
                                    "Average Rating": "4.1",
                                    "Tag ID": "11644"
                                },
                                {
                                    "Title": "Dawn",
                                    "Authors": "Octavia E. Butler",
                                    "Average Rating": "4.1",
                                    "Tag ID": "11643"
                                },
                                {
                                    "Title": "Dawn",
                                    "Authors": "Octavia E. Butler",
                                    "Average Rating": "4.1",
                                    "Tag ID": "11644"
                                },
                                {
                                    "Title": "Deadline",
                                    "Authors": "Mira Grant",
                                    "Average Rating": "4.1",
                                    "Tag ID": "11643"
                                },
                                {
                                    "Title": "Dragonflight",
                                    "Authors": "Anne McCaffrey, Teodor Panasiński",
                                    "Average Rating": "4.1",
                                    "Tag ID": "11643"
                                },
                                {
                                    "Title": "Ensemble, c'est tout",
                                    "Authors": "Anna Gavalda, Alison Anderson",
                                    "Average Rating": "4.1",
                                    "Tag ID": "11644"
                                },
                                {
                                    "Title": "Het Achterhuis: Dagboekbrieven 14 juni 1942 - 1 augustus 1944",
                                    "Authors": "Anne Frank, Eleanor Roosevelt, B.M. Mooyaart-Doubleday",
                                    "Average Rating": "4.1",
                                    "Tag ID": "11644"
                                },
                                {
                                    "Title": "Jane Eyre",
                                    "Authors": "Charlotte Brontë, Michael Mason",
                                    "Average Rating": "4.1",
                                    "Tag ID": "11643"
                                },
                                {
                                    "Title": "Jane Eyre",
                                    "Authors": "Charlotte Brontë, Michael Mason",
                                    "Average Rating": "4.1",
                                    "Tag ID": "11644"
                                },
                                {
                                    "Title": "Manga Classics: Les Misérables",
                                    "Authors": "Stacy King, SunNeko Lee, Crystal S. Chan, Victor Hugo",
                                    "Average Rating": "4.1",
                                    "Tag ID": "11644"
                                },
                                {
                                    "Title": "Pilgrim at Tinker Creek",
                                    "Authors": "Annie Dillard",
                                    "Average Rating": "4.1",
                                    "Tag ID": "11643"
                                },
                                {
                                    "Title": "Pilgrim at Tinker Creek",
                                    "Authors": "Annie Dillard",
                                    "Average Rating": "4.1",
                                    "Tag ID": "11644"
                                },
                                {
                                    "Title": "Pippi Långstrump i Söderhavet",
                                    "Authors": "Astrid Lindgren, Gerry Bothmer",
                                    "Average Rating": "4.1",
                                    "Tag ID": "11643"
                                },
                                {
                                    "Title": "Prinsessen på ærten",
                                    "Authors": "Janet Stevens, Hans Christian Andersen",
                                    "Average Rating": "4.1",
                                    "Tag ID": "11643"
                                },
                                {
                                    "Title": "Prinsessen på ærten",
                                    "Authors": "Janet Stevens, Hans Christian Andersen",
                                    "Average Rating": "4.1",
                                    "Tag ID": "11644"
                                },
                                {
                                    "Title": "The Boston Cooking-School Cook Book 1896",
                                    "Authors": "Marion Cunningham, Fannie Merritt Farmer, Archibald Candy Corporation",
                                    "Average Rating": "4.1",
                                    "Tag ID": "11644"
                                },
                                {
                                    "Title": "The Golem and the Jinni",
                                    "Authors": "Helene Wecker",
                                    "Average Rating": "4.1",
                                    "Tag ID": "11643"
                                },
                                {
                                    "Title": "The Golem and the Jinni",
                                    "Authors": "Helene Wecker",
                                    "Average Rating": "4.1",
                                    "Tag ID": "11644"
                                },
                                {
                                    "Title": "Bastard Out of Carolina",
                                    "Authors": "Dorothy Allison",
                                    "Average Rating": "4.09",
                                    "Tag ID": "11643"
                                },
                                {
                                    "Title": "Bastard Out of Carolina",
                                    "Authors": "Dorothy Allison",
                                    "Average Rating": "4.09",
                                    "Tag ID": "11644"
                                },
                                {
                                    "Title": "Daddy-Long-Legs       ",
                                    "Authors": "Jean Webster",
                                    "Average Rating": "4.09",
                                    "Tag ID": "11643"
                                },
                                {
                                    "Title": "Das Drama des begabten Kindes und die Suche nach dem wahren Selbst: eine Um- und Fortschreibung",
                                    "Authors": "Alice  Miller, Ruth Ward",
                                    "Average Rating": "4.09",
                                    "Tag ID": "11643"
                                },
                                {
                                    "Title": "Das Drama des begabten Kindes und die Suche nach dem wahren Selbst: eine Um- und Fortschreibung",
                                    "Authors": "Alice  Miller, Ruth Ward",
                                    "Average Rating": "4.09",
                                    "Tag ID": "11644"
                                },
                                {
                                    "Title": "Desert Flower: The Extraordinary Journey of a Desert Nomad",
                                    "Authors": "Waris Dirie, Cathleen Miller",
                                    "Average Rating": "4.09",
                                    "Tag ID": "11644"
                                },
                                {
                                    "Title": "Dragonquest",
                                    "Authors": "Anne McCaffrey",
                                    "Average Rating": "4.09",
                                    "Tag ID": "11643"
                                },
                                {
                                    "Title": "Emily of New Moon",
                                    "Authors": "L.M. Montgomery",
                                    "Average Rating": "4.09",
                                    "Tag ID": "11643"
                                },
                                {
                                    "Title": "Harry, A History: The True Story of a Boy Wizard, His Fans, and Life Inside the Harry Potter Phenomenon",
                                    "Authors": "Melissa Anelli, J.K. Rowling",
                                    "Average Rating": "4.09",
                                    "Tag ID": "11643"
                                },
                                {
                                    "Title": "Into the Labyrinth",
                                    "Authors": "Margaret Weis, Tracy Hickman",
                                    "Average Rating": "4.09",
                                    "Tag ID": "11643"
                                },
                                {
                                    "Title": "Le deuxième sexe: I. Les faits et les mythes, II. L'expérience vécue",
                                    "Authors": "Simone de Beauvoir, H.M. Parshley, Deirdre Bair",
                                    "Average Rating": "4.09",
                                    "Tag ID": "11643"
                                },
                                {
                                    "Title": "Le deuxième sexe: I. Les faits et les mythes, II. L'expérience vécue",
                                    "Authors": "Simone de Beauvoir, H.M. Parshley, Deirdre Bair",
                                    "Average Rating": "4.09",
                                    "Tag ID": "11644"
                                },
                                {
                                    "Title": "National Velvet",
                                    "Authors": "Enid Bagnold",
                                    "Average Rating": "4.09",
                                    "Tag ID": "11643"
                                },
                                {
                                    "Title": "Reunion",
                                    "Authors": "Meg Cabot",
                                    "Average Rating": "4.09",
                                    "Tag ID": "11643"
                                },
                                {
                                    "Title": "Sadako and the Thousand Paper Cranes",
                                    "Authors": "Eleanor Coerr, Ronald Himler",
                                    "Average Rating": "4.09",
                                    "Tag ID": "11643"
                                },
                                {
                                    "Title": "The Lathe of Heaven",
                                    "Authors": "Ursula K. Le Guin",
                                    "Average Rating": "4.09",
                                    "Tag ID": "11643"
                                },
                                {
                                    "Title": "The Lathe of Heaven",
                                    "Authors": "Ursula K. Le Guin",
                                    "Average Rating": "4.09",
                                    "Tag ID": "11644"
                                },
                                {
                                    "Title": "The Lottery",
                                    "Authors": "Shirley Jackson",
                                    "Average Rating": "4.09",
                                    "Tag ID": "11643"
                                },
                                {
                                    "Title": "The Lottery",
                                    "Authors": "Shirley Jackson",
                                    "Average Rating": "4.09",
                                    "Tag ID": "11644"
                                },
                                {
                                    "Title": "The Many Lives & Secret Sorrows of Josephine B.",
                                    "Authors": "Sandra Gulland",
                                    "Average Rating": "4.09",
                                    "Tag ID": "11644"
                                },
                                {
                                    "Title": "The Seventh Gate",
                                    "Authors": "Margaret Weis, Tracy Hickman",
                                    "Average Rating": "4.09",
                                    "Tag ID": "11643"
                                },
                                {
                                    "Title": "The Sixth Extinction: An Unnatural History",
                                    "Authors": "Elizabeth Kolbert",
                                    "Average Rating": "4.09",
                                    "Tag ID": "11643"
                                },
                                {
                                    "Title": "The Sixth Extinction: An Unnatural History",
                                    "Authors": "Elizabeth Kolbert",
                                    "Average Rating": "4.09",
                                    "Tag ID": "11644"
                                },
                                {
                                    "Title": "Incidents in the Life of a Slave Girl Written by Herself",
                                    "Authors": "Harriet Jacobs",
                                    "Average Rating": "4.08",
                                    "Tag ID": "11643"
                                },
                                {
                                    "Title": "Incidents in the Life of a Slave Girl Written by Herself",
                                    "Authors": "Harriet Jacobs",
                                    "Average Rating": "4.08",
                                    "Tag ID": "11644"
                                },
                                {
                                    "Title": "Letter to My Daughter",
                                    "Authors": "Maya Angelou",
                                    "Average Rating": "4.08",
                                    "Tag ID": "11644"
                                },
                                {
                                    "Title": "Luck in the Shadows",
                                    "Authors": "Lynn Flewelling",
                                    "Average Rating": "4.08",
                                    "Tag ID": "11643"
                                },
                                {
                                    "Title": "Luck in the Shadows",
                                    "Authors": "Lynn Flewelling",
                                    "Average Rating": "4.08",
                                    "Tag ID": "11644"
                                },
                                {
                                    "Title": "My Life on the Road",
                                    "Authors": "Gloria Steinem",
                                    "Average Rating": "4.08",
                                    "Tag ID": "11643"
                                },
                                {
                                    "Title": "My Life on the Road",
                                    "Authors": "Gloria Steinem",
                                    "Average Rating": "4.08",
                                    "Tag ID": "11644"
                                },
                                {
                                    "Title": "The Beekeeper's Apprentice",
                                    "Authors": "Laurie R. King",
                                    "Average Rating": "4.08",
                                    "Tag ID": "11643"
                                },
                                {
                                    "Title": "The Story of an Hour",
                                    "Authors": "Kate Chopin",
                                    "Average Rating": "4.08",
                                    "Tag ID": "11643"
                                },
                                {
                                    "Title": "The Story of an Hour",
                                    "Authors": "Kate Chopin",
                                    "Average Rating": "4.08",
                                    "Tag ID": "11644"
                                },
                                {
                                    "Title": "The Wolves of Willoughby Chase ",
                                    "Authors": "Joan Aiken, Pat Marriott",
                                    "Average Rating": "4.08",
                                    "Tag ID": "11643"
                                },
                                {
                                    "Title": "Vegan Cupcakes Take Over the World: 75 Dairy-Free Recipes for Cupcakes that Rule",
                                    "Authors": "Isa Chandra Moskowitz, Terry Hope Romero, Sara Quin",
                                    "Average Rating": "4.08",
                                    "Tag ID": "11643"
                                },
                                {
                                    "Title": "Written on the Body",
                                    "Authors": "Jeanette Winterson",
                                    "Average Rating": "4.08",
                                    "Tag ID": "11643"
                                },
                                {
                                    "Title": "Written on the Body",
                                    "Authors": "Jeanette Winterson",
                                    "Average Rating": "4.08",
                                    "Tag ID": "11644"
                                },
                                {
                                    "Title": "A Darker Shade of Magic",
                                    "Authors": "V.E. Schwab, Victoria Schwab",
                                    "Average Rating": "4.07",
                                    "Tag ID": "11643"
                                },
                                {
                                    "Title": "A Wind in the Door",
                                    "Authors": "Madeleine L'Engle",
                                    "Average Rating": "4.07",
                                    "Tag ID": "11643"
                                },
                                {
                                    "Title": "Betsy-Tacy",
                                    "Authors": "Maud Hart Lovelace, Lois Lenski",
                                    "Average Rating": "4.07",
                                    "Tag ID": "11643"
                                },
                                {
                                    "Title": "Crystal Singer",
                                    "Authors": "Anne McCaffrey",
                                    "Average Rating": "4.07",
                                    "Tag ID": "11643"
                                },
                                {
                                    "Title": "Drift: The Unmooring of American Military Power",
                                    "Authors": "Rachel Maddow",
                                    "Average Rating": "4.07",
                                    "Tag ID": "11643"
                                },
                                {
                                    "Title": "Drift: The Unmooring of American Military Power",
                                    "Authors": "Rachel Maddow",
                                    "Average Rating": "4.07",
                                    "Tag ID": "11644"
                                },
                                {
                                    "Title": "Heartless",
                                    "Authors": "Gail Carriger",
                                    "Average Rating": "4.07",
                                    "Tag ID": "11643"
                                },
                                {
                                    "Title": "How I Became a Pirate",
                                    "Authors": "Melinda Long, David Shannon",
                                    "Average Rating": "4.07",
                                    "Tag ID": "11643"
                                },
                                {
                                    "Title": "Ninth Key",
                                    "Authors": "Meg Cabot",
                                    "Average Rating": "4.07",
                                    "Tag ID": "11643"
                                },
                                {
                                    "Title": "Paula",
                                    "Authors": "Isabel Allende",
                                    "Average Rating": "4.07",
                                    "Tag ID": "11644"
                                },
                                {
                                    "Title": "Stones from the River",
                                    "Authors": "Ursula Hegi",
                                    "Average Rating": "4.07",
                                    "Tag ID": "11644"
                                },
                                {
                                    "Title": "The Dark Is Rising",
                                    "Authors": "Susan Cooper",
                                    "Average Rating": "4.07",
                                    "Tag ID": "11643"
                                },
                                {
                                    "Title": "The Dry",
                                    "Authors": "Jane Harper",
                                    "Average Rating": "4.07",
                                    "Tag ID": "11643"
                                },
                                {
                                    "Title": "The Language of Flowers",
                                    "Authors": "Vanessa Diffenbaugh",
                                    "Average Rating": "4.07",
                                    "Tag ID": "11643"
                                },
                                {
                                    "Title": "The Novice",
                                    "Authors": "Trudi Canavan",
                                    "Average Rating": "4.07",
                                    "Tag ID": "11643"
                                },
                                {
                                    "Title": "The Secret History",
                                    "Authors": "Donna Tartt",
                                    "Average Rating": "4.07",
                                    "Tag ID": "11643"
                                },
                                {
                                    "Title": "The Secret History",
                                    "Authors": "Donna Tartt",
                                    "Average Rating": "4.07",
                                    "Tag ID": "11644"
                                },
                                {
                                    "Title": "The Story of My Life",
                                    "Authors": "Helen Keller",
                                    "Average Rating": "4.07",
                                    "Tag ID": "11643"
                                },
                                {
                                    "Title": "The Story of My Life",
                                    "Authors": "Helen Keller",
                                    "Average Rating": "4.07",
                                    "Tag ID": "11644"
                                },
                                {
                                    "Title": "The Tombs of Atuan",
                                    "Authors": "Ursula K. Le Guin",
                                    "Average Rating": "4.07",
                                    "Tag ID": "11643"
                                },
                                {
                                    "Title": "The Tombs of Atuan",
                                    "Authors": "Ursula K. Le Guin",
                                    "Average Rating": "4.07",
                                    "Tag ID": "11644"
                                },
                                {
                                    "Title": "Tris's Book",
                                    "Authors": "Tamora Pierce",
                                    "Average Rating": "4.07",
                                    "Tag ID": "11643"
                                },
                                {
                                    "Title": "Tris's Book",
                                    "Authors": "Tamora Pierce",
                                    "Average Rating": "4.07",
                                    "Tag ID": "11644"
                                },
                                {
                                    "Title": "Water for Elephants",
                                    "Authors": "Sara Gruen",
                                    "Average Rating": "4.07",
                                    "Tag ID": "11643"
                                },
                                {
                                    "Title": "Water for Elephants",
                                    "Authors": "Sara Gruen",
                                    "Average Rating": "4.07",
                                    "Tag ID": "11644"
                                },
                                {
                                    "Title": "We Need to Talk About Kevin",
                                    "Authors": "Lionel Shriver",
                                    "Average Rating": "4.07",
                                    "Tag ID": "11643"
                                },
                                {
                                    "Title": "Wives and Daughters",
                                    "Authors": "Elizabeth Gaskell, Pam Morris",
                                    "Average Rating": "4.07",
                                    "Tag ID": "11643"
                                },
                                {
                                    "Title": "Wives and Daughters",
                                    "Authors": "Elizabeth Gaskell, Pam Morris",
                                    "Average Rating": "4.07",
                                    "Tag ID": "11644"
                                },
                                {
                                    "Title": "A Great Deliverance",
                                    "Authors": "Elizabeth  George",
                                    "Average Rating": "4.06",
                                    "Tag ID": "11643"
                                },
                                {
                                    "Title": "Across the Nightingale Floor ",
                                    "Authors": "Lian Hearn",
                                    "Average Rating": "4.06",
                                    "Tag ID": "11643"
                                },
                                {
                                    "Title": "Daja's Book",
                                    "Authors": "Tamora Pierce",
                                    "Average Rating": "4.06",
                                    "Tag ID": "11643"
                                },
                                {
                                    "Title": "Daja's Book",
                                    "Authors": "Tamora Pierce",
                                    "Average Rating": "4.06",
                                    "Tag ID": "11644"
                                },
                                {
                                    "Title": "Death on the Nile",
                                    "Authors": "Agatha Christie",
                                    "Average Rating": "4.06",
                                    "Tag ID": "11643"
                                },
                                {
                                    "Title": "Dragon Haven",
                                    "Authors": "Robin Hobb",
                                    "Average Rating": "4.06",
                                    "Tag ID": "11643"
                                },
                                {
                                    "Title": "Five on a Treasure Island ",
                                    "Authors": "Enid Blyton",
                                    "Average Rating": "4.06",
                                    "Tag ID": "11644"
                                },
                                {
                                    "Title": "Hateship, Friendship, Courtship, Loveship, Marriage",
                                    "Authors": "Alice Munro",
                                    "Average Rating": "4.06",
                                    "Tag ID": "11643"
                                },
                                {
                                    "Title": "Hateship, Friendship, Courtship, Loveship, Marriage",
                                    "Authors": "Alice Munro",
                                    "Average Rating": "4.06",
                                    "Tag ID": "11644"
                                },
                                {
                                    "Title": "I Am Malala: The Girl Who Stood Up for Education and Was Shot by the Taliban",
                                    "Authors": "Malala Yousafzai, Christina Lamb",
                                    "Average Rating": "4.06",
                                    "Tag ID": "11644"
                                },
                                {
                                    "Title": "Possessing the Secret of Joy",
                                    "Authors": "Alice Walker",
                                    "Average Rating": "4.06",
                                    "Tag ID": "11643"
                                },
                                {
                                    "Title": "Possessing the Secret of Joy",
                                    "Authors": "Alice Walker",
                                    "Average Rating": "4.06",
                                    "Tag ID": "11644"
                                },
                                {
                                    "Title": "Sense and Sensibility",
                                    "Authors": "Jane Austen, Tony Tanner, Ros Ballaster",
                                    "Average Rating": "4.06",
                                    "Tag ID": "11643"
                                },
                                {
                                    "Title": "Sense and Sensibility",
                                    "Authors": "Jane Austen, Tony Tanner, Ros Ballaster",
                                    "Average Rating": "4.06",
                                    "Tag ID": "11644"
                                },
                                {
                                    "Title": "Serpent Mage",
                                    "Authors": "Margaret Weis, Tracy Hickman",
                                    "Average Rating": "4.06",
                                    "Tag ID": "11643"
                                },
                                {
                                    "Title": "Stormy, Misty's Foal",
                                    "Authors": "Marguerite Henry",
                                    "Average Rating": "4.06",
                                    "Tag ID": "3514"
                                },
                                {
                                    "Title": "Stormy, Misty's Foal",
                                    "Authors": "Marguerite Henry",
                                    "Average Rating": "4.06",
                                    "Tag ID": "11643"
                                },
                                {
                                    "Title": "Stormy, Misty's Foal",
                                    "Authors": "Marguerite Henry",
                                    "Average Rating": "4.06",
                                    "Tag ID": "11644"
                                },
                                {
                                    "Title": "The Bone People",
                                    "Authors": "Keri Hulme",
                                    "Average Rating": "4.06",
                                    "Tag ID": "11643"
                                },
                                {
                                    "Title": "The Bone People",
                                    "Authors": "Keri Hulme",
                                    "Average Rating": "4.06",
                                    "Tag ID": "11644"
                                },
                                {
                                    "Title": "The Handmaid's Tale",
                                    "Authors": "Margaret Atwood",
                                    "Average Rating": "4.06",
                                    "Tag ID": "11643"
                                },
                                {
                                    "Title": "The Handmaid's Tale",
                                    "Authors": "Margaret Atwood",
                                    "Average Rating": "4.06",
                                    "Tag ID": "11644"
                                },
                                {
                                    "Title": "The Lottery: Adventures of the Demon Lover",
                                    "Authors": "Shirley Jackson",
                                    "Average Rating": "4.06",
                                    "Tag ID": "11643"
                                },
                                {
                                    "Title": "The Lottery: Adventures of the Demon Lover",
                                    "Authors": "Shirley Jackson",
                                    "Average Rating": "4.06",
                                    "Tag ID": "11644"
                                },
                                {
                                    "Title": "The Other Wind",
                                    "Authors": "Ursula K. Le Guin",
                                    "Average Rating": "4.06",
                                    "Tag ID": "11643"
                                },
                                {
                                    "Title": "The Other Wind",
                                    "Authors": "Ursula K. Le Guin",
                                    "Average Rating": "4.06",
                                    "Tag ID": "11644"
                                },
                                {
                                    "Title": "The Scarlet Pimpernel",
                                    "Authors": "Emmuska Orczy",
                                    "Average Rating": "4.06",
                                    "Tag ID": "11643"
                                },
                                {
                                    "Title": "The Tales of Beedle the Bard",
                                    "Authors": "J.K. Rowling",
                                    "Average Rating": "4.06",
                                    "Tag ID": "11643"
                                },
                                {
                                    "Title": "All That Remains",
                                    "Authors": "Patricia Cornwell",
                                    "Average Rating": "4.05",
                                    "Tag ID": "11643"
                                },
                                {
                                    "Title": "An Old-Fashioned Girl",
                                    "Authors": "Louisa May Alcott",
                                    "Average Rating": "4.05",
                                    "Tag ID": "11643"
                                },
                                {
                                    "Title": "An Untamed State",
                                    "Authors": "Roxane Gay",
                                    "Average Rating": "4.05",
                                    "Tag ID": "11643"
                                },
                                {
                                    "Title": "An Untamed State",
                                    "Authors": "Roxane Gay",
                                    "Average Rating": "4.05",
                                    "Tag ID": "11644"
                                },
                                {
                                    "Title": "Animal Dreams",
                                    "Authors": "Barbara Kingsolver",
                                    "Average Rating": "4.05",
                                    "Tag ID": "11643"
                                },
                                {
                                    "Title": "Animal Dreams",
                                    "Authors": "Barbara Kingsolver",
                                    "Average Rating": "4.05",
                                    "Tag ID": "11644"
                                },
                                {
                                    "Title": "Anne of Ingleside",
                                    "Authors": "L.M. Montgomery",
                                    "Average Rating": "4.05",
                                    "Tag ID": "11643"
                                },
                                {
                                    "Title": "Anne of Ingleside",
                                    "Authors": "L.M. Montgomery",
                                    "Average Rating": "4.05",
                                    "Tag ID": "11644"
                                },
                                {
                                    "Title": "Beauty: A Retelling of the Story of Beauty and the Beast",
                                    "Authors": "Robin McKinley",
                                    "Average Rating": "4.05",
                                    "Tag ID": "11643"
                                },
                                {
                                    "Title": "Children of God",
                                    "Authors": "Mary Doria Russell",
                                    "Average Rating": "4.05",
                                    "Tag ID": "11643"
                                },
                                {
                                    "Title": "Children of God",
                                    "Authors": "Mary Doria Russell",
                                    "Average Rating": "4.05",
                                    "Tag ID": "11644"
                                },
                                {
                                    "Title": "City of Dragons",
                                    "Authors": "Robin Hobb",
                                    "Average Rating": "4.05",
                                    "Tag ID": "11644"
                                },
                                {
                                    "Title": "Cold Fire",
                                    "Authors": "Tamora Pierce",
                                    "Average Rating": "4.05",
                                    "Tag ID": "11643"
                                },
                                {
                                    "Title": "Cold Fire",
                                    "Authors": "Tamora Pierce",
                                    "Average Rating": "4.05",
                                    "Tag ID": "11644"
                                },
                                {
                                    "Title": "Farmer Boy",
                                    "Authors": "Laura Ingalls Wilder, Garth Williams",
                                    "Average Rating": "4.05",
                                    "Tag ID": "11643"
                                },
                                {
                                    "Title": "Fire Sea",
                                    "Authors": "Margaret Weis, Tracy Hickman",
                                    "Average Rating": "4.05",
                                    "Tag ID": "11643"
                                },
                                {
                                    "Title": "His Majesty's Dragon",
                                    "Authors": "Naomi Novik",
                                    "Average Rating": "4.05",
                                    "Tag ID": "11643"
                                },
                                {
                                    "Title": "Mary Poppins",
                                    "Authors": "P.L. Travers, Mary Shepard",
                                    "Average Rating": "4.05",
                                    "Tag ID": "11643"
                                },
                                {
                                    "Title": "Snow Flower and the Secret Fan",
                                    "Authors": "Lisa See",
                                    "Average Rating": "4.05",
                                    "Tag ID": "11643"
                                },
                                {
                                    "Title": "Snow Flower and the Secret Fan",
                                    "Authors": "Lisa See",
                                    "Average Rating": "4.05",
                                    "Tag ID": "11644"
                                },
                                {
                                    "Title": "Stiff: The Curious Lives of Human Cadavers",
                                    "Authors": "Mary Roach",
                                    "Average Rating": "4.05",
                                    "Tag ID": "11643"
                                },
                                {
                                    "Title": "Stiff: The Curious Lives of Human Cadavers",
                                    "Authors": "Mary Roach",
                                    "Average Rating": "4.05",
                                    "Tag ID": "11644"
                                },
                                {
                                    "Title": "Sweetheart",
                                    "Authors": "Chelsea Cain",
                                    "Average Rating": "4.05",
                                    "Tag ID": "11644"
                                },
                                {
                                    "Title": "Tender at the Bone: Growing Up at the Table",
                                    "Authors": "Ruth Reichl",
                                    "Average Rating": "4.05",
                                    "Tag ID": "11643"
                                },
                                {
                                    "Title": "The Goblin Emperor",
                                    "Authors": "Katherine Addison",
                                    "Average Rating": "4.05",
                                    "Tag ID": "3514"
                                },
                                {
                                    "Title": "The Goblin Emperor",
                                    "Authors": "Katherine Addison",
                                    "Average Rating": "4.05",
                                    "Tag ID": "11643"
                                },
                                {
                                    "Title": "The Goblin Emperor",
                                    "Authors": "Katherine Addison",
                                    "Average Rating": "4.05",
                                    "Tag ID": "11644"
                                },
                                {
                                    "Title": "The Hand of Chaos",
                                    "Authors": "Margaret Weis, Tracy Hickman",
                                    "Average Rating": "4.05",
                                    "Tag ID": "11643"
                                },
                                {
                                    "Title": "The Left Hand of Darkness",
                                    "Authors": "Ursula K. Le Guin, Lech Jęczmyk",
                                    "Average Rating": "4.05",
                                    "Tag ID": "11643"
                                },
                                {
                                    "Title": "The Left Hand of Darkness",
                                    "Authors": "Ursula K. Le Guin, Lech Jęczmyk",
                                    "Average Rating": "4.05",
                                    "Tag ID": "11644"
                                },
                                {
                                    "Title": "The Likeness",
                                    "Authors": "Tana French",
                                    "Average Rating": "4.05",
                                    "Tag ID": "11643"
                                },
                                {
                                    "Title": "The Likeness",
                                    "Authors": "Tana French",
                                    "Average Rating": "4.05",
                                    "Tag ID": "11644"
                                },
                                {
                                    "Title": "The Temple of My Familiar",
                                    "Authors": "Alice Walker",
                                    "Average Rating": "4.05",
                                    "Tag ID": "11644"
                                },
                                {
                                    "Title": "The Vampire Lestat",
                                    "Authors": "Anne Rice",
                                    "Average Rating": "4.05",
                                    "Tag ID": "11644"
                                },
                                {
                                    "Title": "The Year of the Flood",
                                    "Authors": "Margaret Atwood",
                                    "Average Rating": "4.05",
                                    "Tag ID": "11643"
                                },
                                {
                                    "Title": "The Year of the Flood",
                                    "Authors": "Margaret Atwood",
                                    "Average Rating": "4.05",
                                    "Tag ID": "11644"
                                },
                                {
                                    "Title": "Tom's Midnight Garden",
                                    "Authors": "Philippa Pearce, Susan Einzig",
                                    "Average Rating": "4.05",
                                    "Tag ID": "11643"
                                },
                                {
                                    "Title": "Unnatural Exposure",
                                    "Authors": "Patricia Cornwell",
                                    "Average Rating": "4.05",
                                    "Tag ID": "11643"
                                },
                                {
                                    "Title": "We Have Always Lived in the Castle",
                                    "Authors": "Shirley Jackson, Jonathan Lethem",
                                    "Average Rating": "4.05",
                                    "Tag ID": "11643"
                                },
                                {
                                    "Title": "We Have Always Lived in the Castle",
                                    "Authors": "Shirley Jackson, Jonathan Lethem",
                                    "Average Rating": "4.05",
                                    "Tag ID": "11644"
                                },
                                {
                                    "Title": "A Monstrous Regiment of Women",
                                    "Authors": "Laurie R. King",
                                    "Average Rating": "4.04",
                                    "Tag ID": "11643"
                                },
                                {
                                    "Title": "A Monstrous Regiment of Women",
                                    "Authors": "Laurie R. King",
                                    "Average Rating": "4.04",
                                    "Tag ID": "11644"
                                },
                                {
                                    "Title": "Anne of Windy Poplars",
                                    "Authors": "L.M. Montgomery",
                                    "Average Rating": "4.04",
                                    "Tag ID": "11643"
                                },
                                {
                                    "Title": "Anne of Windy Poplars",
                                    "Authors": "L.M. Montgomery",
                                    "Average Rating": "4.04",
                                    "Tag ID": "11644"
                                },
                                {
                                    "Title": "Book of Shadows",
                                    "Authors": "Cate Tiernan",
                                    "Average Rating": "4.04",
                                    "Tag ID": "11644"
                                },
                                {
                                    "Title": "Brilliance of the Moon ",
                                    "Authors": "Lian Hearn",
                                    "Average Rating": "4.04",
                                    "Tag ID": "11643"
                                },
                                {
                                    "Title": "Clouds of Witness",
                                    "Authors": "Dorothy L. Sayers",
                                    "Average Rating": "4.04",
                                    "Tag ID": "11643"
                                },
                                {
                                    "Title": "Dragondrums (Pern: Harper Hall, #3)",
                                    "Authors": "Anne McCaffrey",
                                    "Average Rating": "4.04",
                                    "Tag ID": "11643"
                                },
                                {
                                    "Title": "Drinking: A Love Story",
                                    "Authors": "Caroline Knapp",
                                    "Average Rating": "4.04",
                                    "Tag ID": "11644"
                                },
                                {
                                    "Title": "Fatal Voyage",
                                    "Authors": "Kathy Reichs",
                                    "Average Rating": "4.04",
                                    "Tag ID": "11643"
                                },
                                {
                                    "Title": "Kushiel's Dart",
                                    "Authors": "Jacqueline Carey",
                                    "Average Rating": "4.04",
                                    "Tag ID": "11643"
                                },
                                {
                                    "Title": "Lab Girl",
                                    "Authors": "Hope Jahren",
                                    "Average Rating": "4.04",
                                    "Tag ID": "11644"
                                },
                                {
                                    "Title": "Little Women",
                                    "Authors": "Louisa May Alcott",
                                    "Average Rating": "4.04",
                                    "Tag ID": "11644"
                                },
                                {
                                    "Title": "Martha Stewart's Cookies",
                                    "Authors": "Martha Stewart, Victor Schrager",
                                    "Average Rating": "4.04",
                                    "Tag ID": "11644"
                                },
                                {
                                    "Title": "Misty of Chincoteague",
                                    "Authors": "Marguerite Henry, Wesley Dennis",
                                    "Average Rating": "4.04",
                                    "Tag ID": "11643"
                                },
                                {
                                    "Title": "Nine Parts of Desire: The Hidden World of Islamic Women",
                                    "Authors": "Geraldine Brooks",
                                    "Average Rating": "4.04",
                                    "Tag ID": "11643"
                                },
                                {
                                    "Title": "Nine Parts of Desire: The Hidden World of Islamic Women",
                                    "Authors": "Geraldine Brooks",
                                    "Average Rating": "4.04",
                                    "Tag ID": "11644"
                                },
                                {
                                    "Title": "Not Without My Daughter",
                                    "Authors": "Betty Mahmoody",
                                    "Average Rating": "4.04",
                                    "Tag ID": "11644"
                                },
                                {
                                    "Title": "Talking as Fast as I Can: From Gilmore Girls to Gilmore Girls, and Everything in Between",
                                    "Authors": "Lauren Graham",
                                    "Average Rating": "4.04",
                                    "Tag ID": "11643"
                                },
                                {
                                    "Title": "Tell the Wolves I'm Home",
                                    "Authors": "Carol Rifka Brunt",
                                    "Average Rating": "4.04",
                                    "Tag ID": "11643"
                                },
                                {
                                    "Title": "The Body Farm",
                                    "Authors": "Patricia Cornwell",
                                    "Average Rating": "4.04",
                                    "Tag ID": "11643"
                                },
                                {
                                    "Title": "The Broken Kingdoms",
                                    "Authors": "N.K. Jemisin",
                                    "Average Rating": "4.04",
                                    "Tag ID": "11643"
                                },
                                {
                                    "Title": "The Broken Kingdoms",
                                    "Authors": "N.K. Jemisin",
                                    "Average Rating": "4.04",
                                    "Tag ID": "11644"
                                },
                                {
                                    "Title": "The First Fifteen Lives of Harry August",
                                    "Authors": "Claire North",
                                    "Average Rating": "4.04",
                                    "Tag ID": "11643"
                                },
                                {
                                    "Title": "The Immortal Life of Henrietta Lacks",
                                    "Authors": "Rebecca Skloot",
                                    "Average Rating": "4.04",
                                    "Tag ID": "11643"
                                },
                                {
                                    "Title": "The Other Boleyn Girl",
                                    "Authors": "Philippa Gregory",
                                    "Average Rating": "4.04",
                                    "Tag ID": "11643"
                                },
                                {
                                    "Title": "千年の雪, 1",
                                    "Authors": "Bisco Hatori",
                                    "Average Rating": "4.04",
                                    "Tag ID": "3514"
                                },
                                {
                                    "Title": "An Unquiet Mind: A Memoir of Moods and Madness",
                                    "Authors": "Kay Redfield Jamison",
                                    "Average Rating": "4.03",
                                    "Tag ID": "11644"
                                },
                                {
                                    "Title": "Ancillary Sword",
                                    "Authors": "Ann Leckie",
                                    "Average Rating": "4.03",
                                    "Tag ID": "3514"
                                },
                                {
                                    "Title": "Ancillary Sword",
                                    "Authors": "Ann Leckie",
                                    "Average Rating": "4.03",
                                    "Tag ID": "11643"
                                },
                                {
                                    "Title": "Ancillary Sword",
                                    "Authors": "Ann Leckie",
                                    "Average Rating": "4.03",
                                    "Tag ID": "11644"
                                },
                                {
                                    "Title": "Animal, Vegetable, Miracle: A Year of Food Life",
                                    "Authors": "Barbara Kingsolver, Steven L. Hopp, Camille Kingsolver, Richard A. Houser",
                                    "Average Rating": "4.03",
                                    "Tag ID": "11643"
                                },
                                {
                                    "Title": "Doomsday Book",
                                    "Authors": "Connie Willis",
                                    "Average Rating": "4.03",
                                    "Tag ID": "11643"
                                },
                                {
                                    "Title": "Evil at Heart",
                                    "Authors": "Chelsea Cain",
                                    "Average Rating": "4.03",
                                    "Tag ID": "11644"
                                },
                                {
                                    "Title": "Five Go to Smuggler's Top",
                                    "Authors": "Enid Blyton",
                                    "Average Rating": "4.03",
                                    "Tag ID": "11643"
                                },
                                {
                                    "Title": "House of Many Ways",
                                    "Authors": "Diana Wynne Jones",
                                    "Average Rating": "4.03",
                                    "Tag ID": "11643"
                                },
                                {
                                    "Title": "Murder at the Vicarage",
                                    "Authors": "Agatha Christie",
                                    "Average Rating": "4.03",
                                    "Tag ID": "11643"
                                },
                                {
                                    "Title": "Murder at the Vicarage",
                                    "Authors": "Agatha Christie",
                                    "Average Rating": "4.03",
                                    "Tag ID": "11644"
                                },
                                {
                                    "Title": "Priestess of Avalon ",
                                    "Authors": "Marion Zimmer Bradley, Diana L. Paxson",
                                    "Average Rating": "4.03",
                                    "Tag ID": "11644"
                                },
                                {
                                    "Title": "Regeneration",
                                    "Authors": "Pat Barker",
                                    "Average Rating": "4.03",
                                    "Tag ID": "11643"
                                },
                                {
                                    "Title": "Regeneration",
                                    "Authors": "Pat Barker",
                                    "Average Rating": "4.03",
                                    "Tag ID": "11644"
                                },
                                {
                                    "Title": "Room",
                                    "Authors": "Emma Donoghue",
                                    "Average Rating": "4.03",
                                    "Tag ID": "11643"
                                },
                                {
                                    "Title": "Room",
                                    "Authors": "Emma Donoghue",
                                    "Average Rating": "4.03",
                                    "Tag ID": "11644"
                                },
                                {
                                    "Title": "Rose in Bloom",
                                    "Authors": "Louisa May Alcott",
                                    "Average Rating": "4.03",
                                    "Tag ID": "11643"
                                },
                                {
                                    "Title": "The Silkworm",
                                    "Authors": "Robert Galbraith, J.K. Rowling",
                                    "Average Rating": "4.03",
                                    "Tag ID": "11643"
                                },
                                {
                                    "Title": "This Is the Story of a Happy Marriage",
                                    "Authors": "Ann Patchett",
                                    "Average Rating": "4.03",
                                    "Tag ID": "11643"
                                },
                                {
                                    "Title": "When Rabbit Howls",
                                    "Authors": "Truddi Chase, Robert A. Phillips Jr.",
                                    "Average Rating": "4.03",
                                    "Tag ID": "11644"
                                },
                                {
                                    "Title": "Crocodile on the Sandbank",
                                    "Authors": "Elizabeth Peters",
                                    "Average Rating": "4.02",
                                    "Tag ID": "11643"
                                },
                                {
                                    "Title": "Eight Cousins",
                                    "Authors": "Louisa May Alcott",
                                    "Average Rating": "4.02",
                                    "Tag ID": "11643"
                                },
                                {
                                    "Title": "From Potter's Field",
                                    "Authors": "Patricia Cornwell",
                                    "Average Rating": "4.02",
                                    "Tag ID": "11643"
                                },
                                {
                                    "Title": "How to Fall in Love",
                                    "Authors": "Cecelia Ahern",
                                    "Average Rating": "4.02",
                                    "Tag ID": "11644"
                                },
                                {
                                    "Title": "Point of Origin",
                                    "Authors": "Patricia Cornwell",
                                    "Average Rating": "4.02",
                                    "Tag ID": "11643"
                                },
                                {
                                    "Title": "Station Eleven",
                                    "Authors": "Emily St. John Mandel",
                                    "Average Rating": "4.02",
                                    "Tag ID": "11643"
                                },
                                {
                                    "Title": "Station Eleven",
                                    "Authors": "Emily St. John Mandel",
                                    "Average Rating": "4.02",
                                    "Tag ID": "11644"
                                },
                                {
                                    "Title": "The Bloody Chamber & Other Stories",
                                    "Authors": "Angela Carter",
                                    "Average Rating": "4.02",
                                    "Tag ID": "11643"
                                },
                                {
                                    "Title": "The Bloody Chamber & Other Stories",
                                    "Authors": "Angela Carter",
                                    "Average Rating": "4.02",
                                    "Tag ID": "11644"
                                },
                                {
                                    "Title": "The Bone Garden",
                                    "Authors": "Tess Gerritsen",
                                    "Average Rating": "4.02",
                                    "Tag ID": "11643"
                                },
                                {
                                    "Title": "The Borrowers Afield",
                                    "Authors": "Mary Norton, Beth Krush, Joe Krush",
                                    "Average Rating": "4.02",
                                    "Tag ID": "11643"
                                },
                                {
                                    "Title": "The Clan of the Cave Bear",
                                    "Authors": "Jean M. Auel",
                                    "Average Rating": "4.02",
                                    "Tag ID": "11643"
                                },
                                {
                                    "Title": "The Dance of Anger: A Woman's Guide to Changing the Patterns of Intimate Relationships",
                                    "Authors": "Harriet Lerner",
                                    "Average Rating": "4.02",
                                    "Tag ID": "11643"
                                },
                                {
                                    "Title": "The Master Butchers Singing Club",
                                    "Authors": "Louise Erdrich",
                                    "Average Rating": "4.02",
                                    "Tag ID": "11643"
                                },
                                {
                                    "Title": "The Master Butchers Singing Club",
                                    "Authors": "Louise Erdrich",
                                    "Average Rating": "4.02",
                                    "Tag ID": "11644"
                                },
                                {
                                    "Title": "The Poisonwood Bible",
                                    "Authors": "Barbara Kingsolver",
                                    "Average Rating": "4.02",
                                    "Tag ID": "11643"
                                },
                                {
                                    "Title": "The Poisonwood Bible",
                                    "Authors": "Barbara Kingsolver",
                                    "Average Rating": "4.02",
                                    "Tag ID": "11644"
                                },
                                {
                                    "Title": "The Two Princesses of Bamarre",
                                    "Authors": "Gail Carson Levine",
                                    "Average Rating": "4.02",
                                    "Tag ID": "11643"
                                },
                                {
                                    "Title": "The Yellow Wallpaper",
                                    "Authors": "Charlotte Perkins Gilman",
                                    "Average Rating": "4.02",
                                    "Tag ID": "11643"
                                },
                                {
                                    "Title": "The Yellow Wallpaper",
                                    "Authors": "Charlotte Perkins Gilman",
                                    "Average Rating": "4.02",
                                    "Tag ID": "11644"
                                },
                                {
                                    "Title": "What I Loved",
                                    "Authors": "Siri Hustvedt",
                                    "Average Rating": "4.02",
                                    "Tag ID": "11643"
                                },
                                {
                                    "Title": "What I Loved",
                                    "Authors": "Siri Hustvedt",
                                    "Average Rating": "4.02",
                                    "Tag ID": "11644"
                                },
                                {
                                    "Title": "Blameless",
                                    "Authors": "Gail Carriger",
                                    "Average Rating": "4.01",
                                    "Tag ID": "11643"
                                },
                                {
                                    "Title": "Burial Rites",
                                    "Authors": "Hannah Kent",
                                    "Average Rating": "4.01",
                                    "Tag ID": "11643"
                                },
                                {
                                    "Title": "Burial Rites",
                                    "Authors": "Hannah Kent",
                                    "Average Rating": "4.01",
                                    "Tag ID": "11644"
                                },
                                {
                                    "Title": "Dancing in my nuddy-pants!",
                                    "Authors": "Louise Rennison",
                                    "Average Rating": "4.01",
                                    "Tag ID": "11644"
                                },
                                {
                                    "Title": "Grass for His Pillow ",
                                    "Authors": "Lian Hearn",
                                    "Average Rating": "4.01",
                                    "Tag ID": "11643"
                                },
                                {
                                    "Title": "Heaven",
                                    "Authors": "V.C. Andrews",
                                    "Average Rating": "4.01",
                                    "Tag ID": "11644"
                                },
                                {
                                    "Title": "I, Elizabeth",
                                    "Authors": "Rosalind Miles",
                                    "Average Rating": "4.01",
                                    "Tag ID": "11644"
                                },
                                {
                                    "Title": "La isla bajo el mar",
                                    "Authors": "Isabel Allende, Margaret Sayers Peden",
                                    "Average Rating": "4.01",
                                    "Tag ID": "11644"
                                },
                                {
                                    "Title": "Post-Mortem:  A Mystery Introducing Dr. Kay Scarpetta",
                                    "Authors": "Patricia Cornwell",
                                    "Average Rating": "4.01",
                                    "Tag ID": "11643"
                                },
                                {
                                    "Title": "Song of Solomon",
                                    "Authors": "Toni Morrison",
                                    "Average Rating": "4.01",
                                    "Tag ID": "11643"
                                },
                                {
                                    "Title": "Song of Solomon",
                                    "Authors": "Toni Morrison",
                                    "Average Rating": "4.01",
                                    "Tag ID": "11644"
                                },
                                {
                                    "Title": "The Mephisto Club",
                                    "Authors": "Tess Gerritsen",
                                    "Average Rating": "4.01",
                                    "Tag ID": "11644"
                                },
                                {
                                    "Title": "The Secret Life of Bees",
                                    "Authors": "Sue Monk Kidd",
                                    "Average Rating": "4.01",
                                    "Tag ID": "11644"
                                },
                                {
                                    "Title": "Victory of Eagles (Temeraire, #5)",
                                    "Authors": "Naomi Novik",
                                    "Average Rating": "4.01",
                                    "Tag ID": "11643"
                                },
                                {
                                    "Title": "Body of Evidence ",
                                    "Authors": "Patricia Cornwell",
                                    "Average Rating": "4",
                                    "Tag ID": "11643"
                                },
                                {
                                    "Title": "Changeless",
                                    "Authors": "Gail Carriger",
                                    "Average Rating": "4",
                                    "Tag ID": "11643"
                                },
                                {
                                    "Title": "Greenwitch",
                                    "Authors": "Susan Cooper",
                                    "Average Rating": "4",
                                    "Tag ID": "11643"
                                },
                                {
                                    "Title": "How to Be a Domestic Goddess: Baking and the Art of Comfort Cooking",
                                    "Authors": "Nigella Lawson",
                                    "Average Rating": "4",
                                    "Tag ID": "11643"
                                },
                                {
                                    "Title": "Oryx and Crake",
                                    "Authors": "Margaret Atwood",
                                    "Average Rating": "4",
                                    "Tag ID": "11643"
                                },
                                {
                                    "Title": "Oryx and Crake",
                                    "Authors": "Margaret Atwood",
                                    "Average Rating": "4",
                                    "Tag ID": "11644"
                                },
                                {
                                    "Title": "Rainbow Valley",
                                    "Authors": "L.M. Montgomery",
                                    "Average Rating": "4",
                                    "Tag ID": "11643"
                                },
                                {
                                    "Title": "Rainbow Valley",
                                    "Authors": "L.M. Montgomery",
                                    "Average Rating": "4",
                                    "Tag ID": "11644"
                                },
                                {
                                    "Title": "Tales from Earthsea",
                                    "Authors": "Ursula K. Le Guin",
                                    "Average Rating": "4",
                                    "Tag ID": "11643"
                                },
                                {
                                    "Title": "Tales from Earthsea",
                                    "Authors": "Ursula K. Le Guin",
                                    "Average Rating": "4",
                                    "Tag ID": "11644"
                                },
                                {
                                    "Title": "The Creative Habit: Learn It and Use It for Life",
                                    "Authors": "Twyla Tharp",
                                    "Average Rating": "4",
                                    "Tag ID": "11643"
                                },
                                {
                                    "Title": "The Creative Habit: Learn It and Use It for Life",
                                    "Authors": "Twyla Tharp",
                                    "Average Rating": "4",
                                    "Tag ID": "11644"
                                },
                                {
                                    "Title": "The Gift",
                                    "Authors": "Alison Croggon",
                                    "Average Rating": "4",
                                    "Tag ID": "11643"
                                },
                                {
                                    "Title": "The Poisoner's Handbook: Murder and the Birth of Forensic Medicine in Jazz Age New York",
                                    "Authors": "Deborah Blum",
                                    "Average Rating": "4",
                                    "Tag ID": "11643"
                                },
                                {
                                    "Title": "The Poisoner's Handbook: Murder and the Birth of Forensic Medicine in Jazz Age New York",
                                    "Authors": "Deborah Blum",
                                    "Average Rating": "4",
                                    "Tag ID": "11644"
                                },
                                {
                                    "Title": "The Ship Who Sang",
                                    "Authors": "Anne McCaffrey",
                                    "Average Rating": "4",
                                    "Tag ID": "11643"
                                },
                                {
                                    "Title": "Year of Wonders: A Novel of the Plague",
                                    "Authors": "Geraldine Brooks",
                                    "Average Rating": "4",
                                    "Tag ID": "11643"
                                },
                                {
                                    "Title": "A Morbid Taste for Bones",
                                    "Authors": "Ellis Peters",
                                    "Average Rating": "3.99",
                                    "Tag ID": "11643"
                                },
                                {
                                    "Title": "A Wizard of Earthsea",
                                    "Authors": "Ursula K. Le Guin",
                                    "Average Rating": "3.99",
                                    "Tag ID": "11643"
                                },
                                {
                                    "Title": "A Wizard of Earthsea",
                                    "Authors": "Ursula K. Le Guin",
                                    "Average Rating": "3.99",
                                    "Tag ID": "11644"
                                },
                                {
                                    "Title": "Caddie Woodlawn",
                                    "Authors": "Carol Ryrie Brink",
                                    "Average Rating": "3.99",
                                    "Tag ID": "11643"
                                },
                                {
                                    "Title": "Close Range: Wyoming Stories",
                                    "Authors": "Annie Proulx",
                                    "Average Rating": "3.99",
                                    "Tag ID": "11643"
                                },
                                {
                                    "Title": "Close Range: Wyoming Stories",
                                    "Authors": "Annie Proulx",
                                    "Average Rating": "3.99",
                                    "Tag ID": "11644"
                                },
                                {
                                    "Title": "Cold Sassy Tree",
                                    "Authors": "Olive Ann Burns",
                                    "Average Rating": "3.99",
                                    "Tag ID": "11643"
                                },
                                {
                                    "Title": "Darm mit Charme",
                                    "Authors": "Giulia Enders, Jill Enders",
                                    "Average Rating": "3.99",
                                    "Tag ID": "11643"
                                },
                                {
                                    "Title": "Darm mit Charme",
                                    "Authors": "Giulia Enders, Jill Enders",
                                    "Average Rating": "3.99",
                                    "Tag ID": "11644"
                                },
                                {
                                    "Title": "Emma",
                                    "Authors": "Jane Austen, Fiona Stafford",
                                    "Average Rating": "3.99",
                                    "Tag ID": "11643"
                                },
                                {
                                    "Title": "Emma",
                                    "Authors": "Jane Austen, Fiona Stafford",
                                    "Average Rating": "3.99",
                                    "Tag ID": "11644"
                                },
                                {
                                    "Title": "Five Go Adventuring Again",
                                    "Authors": "Enid Blyton",
                                    "Average Rating": "3.99",
                                    "Tag ID": "11643"
                                },
                                {
                                    "Title": "Five Go Adventuring Again",
                                    "Authors": "Enid Blyton",
                                    "Average Rating": "3.99",
                                    "Tag ID": "11644"
                                },
                                {
                                    "Title": "Messenger of Truth",
                                    "Authors": "Jacqueline Winspear",
                                    "Average Rating": "3.99",
                                    "Tag ID": "11643"
                                },
                                {
                                    "Title": "Sandry's Book",
                                    "Authors": "Tamora Pierce",
                                    "Average Rating": "3.99",
                                    "Tag ID": "11643"
                                },
                                {
                                    "Title": "Sandry's Book",
                                    "Authors": "Tamora Pierce",
                                    "Average Rating": "3.99",
                                    "Tag ID": "11644"
                                },
                                {
                                    "Title": "The Argonauts",
                                    "Authors": "Maggie Nelson",
                                    "Average Rating": "3.99",
                                    "Tag ID": "11643"
                                },
                                {
                                    "Title": "The Argonauts",
                                    "Authors": "Maggie Nelson",
                                    "Average Rating": "3.99",
                                    "Tag ID": "11644"
                                },
                                {
                                    "Title": "The Bluest Eye",
                                    "Authors": "Toni Morrison",
                                    "Average Rating": "3.99",
                                    "Tag ID": "11643"
                                },
                                {
                                    "Title": "The Bluest Eye",
                                    "Authors": "Toni Morrison",
                                    "Average Rating": "3.99",
                                    "Tag ID": "11644"
                                },
                                {
                                    "Title": "The Island",
                                    "Authors": "Victoria Hislop",
                                    "Average Rating": "3.99",
                                    "Tag ID": "11643"
                                },
                                {
                                    "Title": "The Miseducation of Cameron Post",
                                    "Authors": "Emily M. Danforth",
                                    "Average Rating": "3.99",
                                    "Tag ID": "11643"
                                },
                                {
                                    "Title": "The Miseducation of Cameron Post",
                                    "Authors": "Emily M. Danforth",
                                    "Average Rating": "3.99",
                                    "Tag ID": "11644"
                                },
                                {
                                    "Title": "The Railway Children",
                                    "Authors": "E. Nesbit",
                                    "Average Rating": "3.99",
                                    "Tag ID": "11643"
                                },
                                {
                                    "Title": "A Tale for the Time Being",
                                    "Authors": "Ruth Ozeki",
                                    "Average Rating": "3.98",
                                    "Tag ID": "11643"
                                },
                                {
                                    "Title": "A Tale for the Time Being",
                                    "Authors": "Ruth Ozeki",
                                    "Average Rating": "3.98",
                                    "Tag ID": "11644"
                                },
                                {
                                    "Title": "Assassination Vacation",
                                    "Authors": "Sarah Vowell",
                                    "Average Rating": "3.98",
                                    "Tag ID": "11643"
                                },
                                {
                                    "Title": "Assassination Vacation",
                                    "Authors": "Sarah Vowell",
                                    "Average Rating": "3.98",
                                    "Tag ID": "11644"
                                },
                                {
                                    "Title": "Elven Star (The Death Gate Cycle, #2)",
                                    "Authors": "Margaret Weis, Tracy Hickman",
                                    "Average Rating": "3.98",
                                    "Tag ID": "11643"
                                },
                                {
                                    "Title": "Forever Amber",
                                    "Authors": "Kathleen Winsor",
                                    "Average Rating": "3.98",
                                    "Tag ID": "11643"
                                },
                                {
                                    "Title": "Geek Love",
                                    "Authors": "Katherine Dunn",
                                    "Average Rating": "3.98",
                                    "Tag ID": "11643"
                                },
                                {
                                    "Title": "Geek Love",
                                    "Authors": "Katherine Dunn",
                                    "Average Rating": "3.98",
                                    "Tag ID": "11644"
                                },
                                {
                                    "Title": "Girl at War",
                                    "Authors": "Sara Nović",
                                    "Average Rating": "3.98",
                                    "Tag ID": "11643"
                                },
                                {
                                    "Title": "Girl at War",
                                    "Authors": "Sara Nović",
                                    "Average Rating": "3.98",
                                    "Tag ID": "11644"
                                },
                                {
                                    "Title": "Grace [Eventually]: Thoughts on Faith",
                                    "Authors": "Anne Lamott",
                                    "Average Rating": "3.98",
                                    "Tag ID": "3514"
                                },
                                {
                                    "Title": "Grave Secrets",
                                    "Authors": "Kathy Reichs",
                                    "Average Rating": "3.98",
                                    "Tag ID": "11643"
                                },
                                {
                                    "Title": "Inside the O'Briens",
                                    "Authors": "Lisa Genova",
                                    "Average Rating": "3.98",
                                    "Tag ID": "11643"
                                },
                                {
                                    "Title": "Keeping You a Secret",
                                    "Authors": "Julie Anne Peters",
                                    "Average Rating": "3.98",
                                    "Tag ID": "11644"
                                },
                                {
                                    "Title": "Love Medicine",
                                    "Authors": "Louise Erdrich",
                                    "Average Rating": "3.98",
                                    "Tag ID": "11643"
                                },
                                {
                                    "Title": "Love Medicine",
                                    "Authors": "Louise Erdrich",
                                    "Average Rating": "3.98",
                                    "Tag ID": "11644"
                                },
                                {
                                    "Title": "MaddAddam",
                                    "Authors": "Margaret Atwood",
                                    "Average Rating": "3.98",
                                    "Tag ID": "11643"
                                },
                                {
                                    "Title": "MaddAddam",
                                    "Authors": "Margaret Atwood",
                                    "Average Rating": "3.98",
                                    "Tag ID": "11644"
                                },
                                {
                                    "Title": "Magic Steps",
                                    "Authors": "Tamora Pierce",
                                    "Average Rating": "3.98",
                                    "Tag ID": "11643"
                                },
                                {
                                    "Title": "Magic Steps",
                                    "Authors": "Tamora Pierce",
                                    "Average Rating": "3.98",
                                    "Tag ID": "11644"
                                },
                                {
                                    "Title": "Mythology",
                                    "Authors": "Edith Hamilton, Steele Savage",
                                    "Average Rating": "3.98",
                                    "Tag ID": "11643"
                                },
                                {
                                    "Title": "Prodigal Summer",
                                    "Authors": "Barbara Kingsolver",
                                    "Average Rating": "3.98",
                                    "Tag ID": "11643"
                                },
                                {
                                    "Title": "Prodigal Summer",
                                    "Authors": "Barbara Kingsolver",
                                    "Average Rating": "3.98",
                                    "Tag ID": "11644"
                                },
                                {
                                    "Title": "Runaway",
                                    "Authors": "Alice Munro",
                                    "Average Rating": "3.98",
                                    "Tag ID": "11644"
                                },
                                {
                                    "Title": "Running Out of Time",
                                    "Authors": "Margaret Peterson Haddix",
                                    "Average Rating": "3.98",
                                    "Tag ID": "11643"
                                },
                                {
                                    "Title": "Running Out of Time",
                                    "Authors": "Margaret Peterson Haddix",
                                    "Average Rating": "3.98",
                                    "Tag ID": "11644"
                                },
                                {
                                    "Title": "Sleeping Beauty Box Set",
                                    "Authors": "A.N. Roquelaure, Anne Rice",
                                    "Average Rating": "3.98",
                                    "Tag ID": "11644"
                                },
                                {
                                    "Title": "The Bonesetter's Daughter",
                                    "Authors": "Amy Tan",
                                    "Average Rating": "3.98",
                                    "Tag ID": "11643"
                                },
                                {
                                    "Title": "The Bonesetter's Daughter",
                                    "Authors": "Amy Tan",
                                    "Average Rating": "3.98",
                                    "Tag ID": "11644"
                                },
                                {
                                    "Title": "The Hundred Secret Senses",
                                    "Authors": "Amy Tan",
                                    "Average Rating": "3.98",
                                    "Tag ID": "11643"
                                },
                                {
                                    "Title": "The Hundred Secret Senses",
                                    "Authors": "Amy Tan",
                                    "Average Rating": "3.98",
                                    "Tag ID": "11644"
                                },
                                {
                                    "Title": "The Kitchen God's Wife",
                                    "Authors": "Amy Tan",
                                    "Average Rating": "3.98",
                                    "Tag ID": "11644"
                                },
                                {
                                    "Title": "The Mermaids Singing ",
                                    "Authors": "Val McDermid",
                                    "Average Rating": "3.98",
                                    "Tag ID": "11643"
                                },
                                {
                                    "Title": "The Mysterious Affair at Styles",
                                    "Authors": "Agatha Christie, Ροζίτα Σώκου",
                                    "Average Rating": "3.98",
                                    "Tag ID": "11643"
                                },
                                {
                                    "Title": "The Mysterious Affair at Styles",
                                    "Authors": "Agatha Christie, Ροζίτα Σώκου",
                                    "Average Rating": "3.98",
                                    "Tag ID": "11644"
                                },
                                {
                                    "Title": "The Secret of the Old Clock (Nancy Drew Mystery Stories, #1)",
                                    "Authors": "Carolyn Keene, Russell H. Tandy, Sara Paretsky",
                                    "Average Rating": "3.98",
                                    "Tag ID": "11643"
                                },
                                {
                                    "Title": "The Space Between Us",
                                    "Authors": "Thrity Umrigar",
                                    "Average Rating": "3.98",
                                    "Tag ID": "11644"
                                },
                                {
                                    "Title": "The Two Pearls of Wisdom",
                                    "Authors": "Alison Goodman",
                                    "Average Rating": "3.98",
                                    "Tag ID": "11643"
                                },
                                {
                                    "Title": "The Valley of Horses",
                                    "Authors": "Jean M. Auel",
                                    "Average Rating": "3.98",
                                    "Tag ID": "11643"
                                },
                                {
                                    "Title": "Veganomicon: The Ultimate Vegan Cookbook",
                                    "Authors": "Isa Chandra Moskowitz, Terry Hope Romero",
                                    "Average Rating": "3.98",
                                    "Tag ID": "11643"
                                },
                                {
                                    "Title": "Anatomy for the Artist",
                                    "Authors": "Sarah Simblet",
                                    "Average Rating": "3.97",
                                    "Tag ID": "11643"
                                },
                                {
                                    "Title": "Ancillary Justice",
                                    "Authors": "Ann Leckie",
                                    "Average Rating": "3.97",
                                    "Tag ID": "11643"
                                },
                                {
                                    "Title": "Ancillary Justice",
                                    "Authors": "Ann Leckie",
                                    "Average Rating": "3.97",
                                    "Tag ID": "11644"
                                },
                                {
                                    "Title": "Annie on My Mind",
                                    "Authors": "Nancy Garden",
                                    "Average Rating": "3.97",
                                    "Tag ID": "11644"
                                },
                                {
                                    "Title": "Behind the Beautiful Forevers: Life, Death, and Hope in a Mumbai Undercity",
                                    "Authors": "Katherine Boo",
                                    "Average Rating": "3.97",
                                    "Tag ID": "11643"
                                },
                                {
                                    "Title": "Behind the Beautiful Forevers: Life, Death, and Hope in a Mumbai Undercity",
                                    "Authors": "Katherine Boo",
                                    "Average Rating": "3.97",
                                    "Tag ID": "11644"
                                },
                                {
                                    "Title": "Faithful Place",
                                    "Authors": "Tana French",
                                    "Average Rating": "3.97",
                                    "Tag ID": "11643"
                                },
                                {
                                    "Title": "Faithful Place",
                                    "Authors": "Tana French",
                                    "Average Rating": "3.97",
                                    "Tag ID": "11644"
                                },
                                {
                                    "Title": "Heidi",
                                    "Authors": "Johanna Spyri, Angelo  Rinaldi, Beverly Cleary",
                                    "Average Rating": "3.97",
                                    "Tag ID": "11643"
                                },
                                {
                                    "Title": "Heidi",
                                    "Authors": "Johanna Spyri, Angelo  Rinaldi, Beverly Cleary",
                                    "Average Rating": "3.97",
                                    "Tag ID": "11644"
                                },
                                {
                                    "Title": "Interview with the Vampire",
                                    "Authors": "Anne Rice",
                                    "Average Rating": "3.97",
                                    "Tag ID": "11643"
                                },
                                {
                                    "Title": "Interview with the Vampire",
                                    "Authors": "Anne Rice",
                                    "Average Rating": "3.97",
                                    "Tag ID": "11644"
                                },
                                {
                                    "Title": "Knocked out by my nunga-nungas",
                                    "Authors": "Louise Rennison",
                                    "Average Rating": "3.97",
                                    "Tag ID": "11644"
                                },
                                {
                                    "Title": "Moreta: Dragonlady Of Pern",
                                    "Authors": "Anne McCaffrey",
                                    "Average Rating": "3.97",
                                    "Tag ID": "11643"
                                },
                                {
                                    "Title": "Pigs in Heaven",
                                    "Authors": "Barbara Kingsolver",
                                    "Average Rating": "3.97",
                                    "Tag ID": "11643"
                                },
                                {
                                    "Title": "The Art of Asking; or, How I Learned to Stop Worrying and Let People Help",
                                    "Authors": "Amanda Palmer",
                                    "Average Rating": "3.97",
                                    "Tag ID": "11643"
                                },
                                {
                                    "Title": "The Art of Asking; or, How I Learned to Stop Worrying and Let People Help",
                                    "Authors": "Amanda Palmer",
                                    "Average Rating": "3.97",
                                    "Tag ID": "11644"
                                },
                                {
                                    "Title": "The Girl Who Circumnavigated Fairyland in a Ship of Her Own Making",
                                    "Authors": "Catherynne M. Valente, Ana Juan",
                                    "Average Rating": "3.97",
                                    "Tag ID": "11643"
                                },
                                {
                                    "Title": "The Girl Who Circumnavigated Fairyland in a Ship of Her Own Making",
                                    "Authors": "Catherynne M. Valente, Ana Juan",
                                    "Average Rating": "3.97",
                                    "Tag ID": "11644"
                                },
                                {
                                    "Title": "The Good Earth",
                                    "Authors": "Pearl S. Buck",
                                    "Average Rating": "3.97",
                                    "Tag ID": "11643"
                                },
                                {
                                    "Title": "The Good Earth",
                                    "Authors": "Pearl S. Buck",
                                    "Average Rating": "3.97",
                                    "Tag ID": "11644"
                                },
                                {
                                    "Title": "The Heart is a Lonely Hunter",
                                    "Authors": "Carson McCullers",
                                    "Average Rating": "3.97",
                                    "Tag ID": "11643"
                                },
                                {
                                    "Title": "The Heart is a Lonely Hunter",
                                    "Authors": "Carson McCullers",
                                    "Average Rating": "3.97",
                                    "Tag ID": "11644"
                                },
                                {
                                    "Title": "The Man in the Brown Suit",
                                    "Authors": "Agatha Christie",
                                    "Average Rating": "3.97",
                                    "Tag ID": "11643"
                                },
                                {
                                    "Title": "The Perfect Son",
                                    "Authors": "Barbara Claypole White",
                                    "Average Rating": "3.97",
                                    "Tag ID": "11643"
                                },
                                {
                                    "Title": "The Secret Life of Violet Grant",
                                    "Authors": "Beatriz Williams",
                                    "Average Rating": "3.97",
                                    "Tag ID": "11643"
                                },
                                {
                                    "Title": "When Will There Be Good News?",
                                    "Authors": "Kate Atkinson",
                                    "Average Rating": "3.97",
                                    "Tag ID": "11643"
                                },
                                {
                                    "Title": "A Murder is Announced",
                                    "Authors": "Agatha Christie",
                                    "Average Rating": "3.96",
                                    "Tag ID": "11643"
                                },
                                {
                                    "Title": "A Murder is Announced",
                                    "Authors": "Agatha Christie",
                                    "Average Rating": "3.96",
                                    "Tag ID": "11644"
                                },
                                {
                                    "Title": "Autobiography of a Face",
                                    "Authors": "Lucy Grealy",
                                    "Average Rating": "3.96",
                                    "Tag ID": "11643"
                                },
                                {
                                    "Title": "Blackout: Remembering the Things I Drank to Forget",
                                    "Authors": "Sarah Hepola",
                                    "Average Rating": "3.96",
                                    "Tag ID": "11643"
                                },
                                {
                                    "Title": "Blackout: Remembering the Things I Drank to Forget",
                                    "Authors": "Sarah Hepola",
                                    "Average Rating": "3.96",
                                    "Tag ID": "11644"
                                },
                                {
                                    "Title": "Cuentos de Eva Luna",
                                    "Authors": "Isabel Allende",
                                    "Average Rating": "3.96",
                                    "Tag ID": "11644"
                                },
                                {
                                    "Title": "Dark Angel",
                                    "Authors": "V.C. Andrews",
                                    "Average Rating": "3.96",
                                    "Tag ID": "3514"
                                },
                                {
                                    "Title": "Dark Angel",
                                    "Authors": "V.C. Andrews",
                                    "Average Rating": "3.96",
                                    "Tag ID": "11644"
                                },
                                {
                                    "Title": "De amor y de sombra",
                                    "Authors": "Isabel Allende, Margaret Sayers Peden",
                                    "Average Rating": "3.96",
                                    "Tag ID": "11643"
                                },
                                {
                                    "Title": "Death du Jour",
                                    "Authors": "Kathy Reichs",
                                    "Average Rating": "3.96",
                                    "Tag ID": "11643"
                                },
                                {
                                    "Title": "Don't Let's Go to the Dogs Tonight: An African Childhood",
                                    "Authors": "Alexandra Fuller",
                                    "Average Rating": "3.96",
                                    "Tag ID": "11644"
                                },
                                {
                                    "Title": "Girl in Translation",
                                    "Authors": "Jean Kwok",
                                    "Average Rating": "3.96",
                                    "Tag ID": "11644"
                                },
                                {
                                    "Title": "Harriet the Spy",
                                    "Authors": "Louise Fitzhugh",
                                    "Average Rating": "3.96",
                                    "Tag ID": "11643"
                                },
                                {
                                    "Title": "Harriet the Spy",
                                    "Authors": "Louise Fitzhugh",
                                    "Average Rating": "3.96",
                                    "Tag ID": "11644"
                                },
                                {
                                    "Title": "Heft",
                                    "Authors": "Liz Moore",
                                    "Average Rating": "3.96",
                                    "Tag ID": "11643"
                                },
                                {
                                    "Title": "Heft",
                                    "Authors": "Liz Moore",
                                    "Average Rating": "3.96",
                                    "Tag ID": "11644"
                                },
                                {
                                    "Title": "It's OK, I'm Wearing Really Big Knickers! (Confessions of Georgia Nicolson, #2)",
                                    "Authors": "Louise Rennison",
                                    "Average Rating": "3.96",
                                    "Tag ID": "11644"
                                },
                                {
                                    "Title": "Nigella Express: Good Food Fast",
                                    "Authors": "Nigella Lawson",
                                    "Average Rating": "3.96",
                                    "Tag ID": "11644"
                                },
                                {
                                    "Title": "Out of Africa",
                                    "Authors": "Isak Dinesen, Karen Blixen",
                                    "Average Rating": "3.96",
                                    "Tag ID": "11643"
                                },
                                {
                                    "Title": "Simple Abundance:  A Daybook of Comfort and Joy",
                                    "Authors": "Sarah Ban Breathnach",
                                    "Average Rating": "3.96",
                                    "Tag ID": "11644"
                                },
                                {
                                    "Title": "The Enchanted",
                                    "Authors": "Rene Denfeld",
                                    "Average Rating": "3.96",
                                    "Tag ID": "11643"
                                },
                                {
                                    "Title": "The Enchanted",
                                    "Authors": "Rene Denfeld",
                                    "Average Rating": "3.96",
                                    "Tag ID": "11644"
                                },
                                {
                                    "Title": "The Magicians' Guild",
                                    "Authors": "Trudi Canavan",
                                    "Average Rating": "3.96",
                                    "Tag ID": "11643"
                                },
                                {
                                    "Title": "The Namesake",
                                    "Authors": "Jhumpa Lahiri",
                                    "Average Rating": "3.96",
                                    "Tag ID": "11644"
                                },
                                {
                                    "Title": "Bare Bones",
                                    "Authors": "Kathy Reichs",
                                    "Average Rating": "3.95",
                                    "Tag ID": "11643"
                                },
                                {
                                    "Title": "Birds of a Feather",
                                    "Authors": "Jacqueline Winspear",
                                    "Average Rating": "3.95",
                                    "Tag ID": "11643"
                                },
                                {
                                    "Title": "Book of a Thousand Days",
                                    "Authors": "Shannon Hale, James Noel Smith",
                                    "Average Rating": "3.95",
                                    "Tag ID": "11643"
                                },
                                {
                                    "Title": "Bringing up Bébé",
                                    "Authors": "Pamela Druckerman, Abby Craden",
                                    "Average Rating": "3.95",
                                    "Tag ID": "11644"
                                },
                                {
                                    "Title": "Charmed Life ",
                                    "Authors": "Diana Wynne Jones",
                                    "Average Rating": "3.95",
                                    "Tag ID": "11643"
                                },
                                {
                                    "Title": "Chocolat",
                                    "Authors": "Joanne Harris",
                                    "Average Rating": "3.95",
                                    "Tag ID": "11643"
                                },
                                {
                                    "Title": "Chocolat",
                                    "Authors": "Joanne Harris",
                                    "Average Rating": "3.95",
                                    "Tag ID": "11644"
                                },
                                {
                                    "Title": "Eva Luna",
                                    "Authors": "Isabel Allende, Margaret Sayers Peden",
                                    "Average Rating": "3.95",
                                    "Tag ID": "11644"
                                },
                                {
                                    "Title": "Fall on Your Knees",
                                    "Authors": "Ann-Marie MacDonald",
                                    "Average Rating": "3.95",
                                    "Tag ID": "11644"
                                },
                                {
                                    "Title": "Fantastic Beasts and Where to Find Them",
                                    "Authors": "Newt Scamander, J.K. Rowling, Albus Dumbledore",
                                    "Average Rating": "3.95",
                                    "Tag ID": "11643"
                                },
                                {
                                    "Title": "Fantastic Beasts and Where to Find Them",
                                    "Authors": "Newt Scamander, J.K. Rowling, Albus Dumbledore",
                                    "Average Rating": "3.95",
                                    "Tag ID": "11644"
                                },
                                {
                                    "Title": "Fugitive Pieces",
                                    "Authors": "Anne Michaels",
                                    "Average Rating": "3.95",
                                    "Tag ID": "11643"
                                },
                                {
                                    "Title": "Fugitive Pieces",
                                    "Authors": "Anne Michaels",
                                    "Average Rating": "3.95",
                                    "Tag ID": "11644"
                                },
                                {
                                    "Title": "Longitude",
                                    "Authors": "Dava Sobel, Neil Armstrong",
                                    "Average Rating": "3.95",
                                    "Tag ID": "11643"
                                },
                                {
                                    "Title": "Lullabies for Little Criminals",
                                    "Authors": "Heather O'Neill",
                                    "Average Rating": "3.95",
                                    "Tag ID": "11643"
                                },
                                {
                                    "Title": "Lullabies for Little Criminals",
                                    "Authors": "Heather O'Neill",
                                    "Average Rating": "3.95",
                                    "Tag ID": "11644"
                                },
                                {
                                    "Title": "Meet Samantha: An American Girl (American Girls: Samantha, #1)",
                                    "Authors": "Susan S. Adler, Renée Graef, Nancy Niles",
                                    "Average Rating": "3.95",
                                    "Tag ID": "11643"
                                },
                                {
                                    "Title": "Pollyanna",
                                    "Authors": "Eleanor H. Porter",
                                    "Average Rating": "3.95",
                                    "Tag ID": "11643"
                                },
                                {
                                    "Title": "Rhapsody: Child of Blood",
                                    "Authors": "Elizabeth Haydon",
                                    "Average Rating": "3.95",
                                    "Tag ID": "11643"
                                },
                                {
                                    "Title": "Runaway Ralph",
                                    "Authors": "Beverly Cleary",
                                    "Average Rating": "3.95",
                                    "Tag ID": "11643"
                                },
                                {
                                    "Title": "The Blind Assassin",
                                    "Authors": "Margaret Atwood",
                                    "Average Rating": "3.95",
                                    "Tag ID": "11643"
                                },
                                {
                                    "Title": "The Blind Assassin",
                                    "Authors": "Margaret Atwood",
                                    "Average Rating": "3.95",
                                    "Tag ID": "11644"
                                },
                                {
                                    "Title": "The Blood of Flowers",
                                    "Authors": "Anita Amirrezvani",
                                    "Average Rating": "3.95",
                                    "Tag ID": "11643"
                                },
                                {
                                    "Title": "The Daughter of Time",
                                    "Authors": "Josephine Tey",
                                    "Average Rating": "3.95",
                                    "Tag ID": "11643"
                                },
                                {
                                    "Title": "The Moosewood Cookbook: Recipes from Moosewood Restaurant, Ithaca, New York",
                                    "Authors": "Mollie Katzen",
                                    "Average Rating": "3.95",
                                    "Tag ID": "11644"
                                },
                                {
                                    "Title": "The Snow Child",
                                    "Authors": "Eowyn Ivey",
                                    "Average Rating": "3.95",
                                    "Tag ID": "11643"
                                },
                                {
                                    "Title": "The Snow Child",
                                    "Authors": "Eowyn Ivey",
                                    "Average Rating": "3.95",
                                    "Tag ID": "11644"
                                },
                                {
                                    "Title": "The Thirteenth Tale",
                                    "Authors": "Diane Setterfield",
                                    "Average Rating": "3.95",
                                    "Tag ID": "11643"
                                },
                                {
                                    "Title": "All Around the Town",
                                    "Authors": "Mary Higgins Clark",
                                    "Average Rating": "3.94",
                                    "Tag ID": "11643"
                                },
                                {
                                    "Title": "Black Beauty",
                                    "Authors": "Anna Sewell",
                                    "Average Rating": "3.94",
                                    "Tag ID": "11644"
                                },
                                {
                                    "Title": "Bossypants",
                                    "Authors": "Tina Fey",
                                    "Average Rating": "3.94",
                                    "Tag ID": "11643"
                                },
                                {
                                    "Title": "Bossypants",
                                    "Authors": "Tina Fey",
                                    "Average Rating": "3.94",
                                    "Tag ID": "11644"
                                },
                                {
                                    "Title": "Como agua para chocolate",
                                    "Authors": "Laura Esquivel, Thomas  Christensen, Carol Christensen",
                                    "Average Rating": "3.94",
                                    "Tag ID": "11644"
                                },
                                {
                                    "Title": "Cover Her Face",
                                    "Authors": "P.D. James",
                                    "Average Rating": "3.94",
                                    "Tag ID": "11643"
                                },
                                {
                                    "Title": "Cover Her Face",
                                    "Authors": "P.D. James",
                                    "Average Rating": "3.94",
                                    "Tag ID": "11644"
                                },
                                {
                                    "Title": "Dragon Prince",
                                    "Authors": "Melanie Rawn",
                                    "Average Rating": "3.94",
                                    "Tag ID": "11643"
                                },
                                {
                                    "Title": "Dragon Prince",
                                    "Authors": "Melanie Rawn",
                                    "Average Rating": "3.94",
                                    "Tag ID": "11644"
                                },
                                {
                                    "Title": "Evil Under the Sun",
                                    "Authors": "Agatha Christie",
                                    "Average Rating": "3.94",
                                    "Tag ID": "11644"
                                },
                                {
                                    "Title": "Innocent Traitor",
                                    "Authors": "Alison Weir",
                                    "Average Rating": "3.94",
                                    "Tag ID": "11644"
                                },
                                {
                                    "Title": "Kristy's Great Idea",
                                    "Authors": "Ann M. Martin",
                                    "Average Rating": "3.94",
                                    "Tag ID": "11644"
                                },
                                {
                                    "Title": "Love Anthony",
                                    "Authors": "Lisa Genova",
                                    "Average Rating": "3.94",
                                    "Tag ID": "11643"
                                },
                                {
                                    "Title": "M Train",
                                    "Authors": "Patti Smith",
                                    "Average Rating": "3.94",
                                    "Tag ID": "11643"
                                },
                                {
                                    "Title": "M Train",
                                    "Authors": "Patti Smith",
                                    "Average Rating": "3.94",
                                    "Tag ID": "11644"
                                },
                                {
                                    "Title": "Otherwise Known as Sheila the Great",
                                    "Authors": "Judy Blume",
                                    "Average Rating": "3.94",
                                    "Tag ID": "11644"
                                },
                                {
                                    "Title": "Silent Spring",
                                    "Authors": "Rachel Carson, Linda Lear, Edward O. Wilson",
                                    "Average Rating": "3.94",
                                    "Tag ID": "11643"
                                },
                                {
                                    "Title": "Silent Spring",
                                    "Authors": "Rachel Carson, Linda Lear, Edward O. Wilson",
                                    "Average Rating": "3.94",
                                    "Tag ID": "11644"
                                },
                                {
                                    "Title": "The Bean Trees",
                                    "Authors": "Barbara Kingsolver",
                                    "Average Rating": "3.94",
                                    "Tag ID": "11643"
                                },
                                {
                                    "Title": "The Bean Trees",
                                    "Authors": "Barbara Kingsolver",
                                    "Average Rating": "3.94",
                                    "Tag ID": "11644"
                                },
                                {
                                    "Title": "The Dolphins of Pern",
                                    "Authors": "Anne McCaffrey",
                                    "Average Rating": "3.94",
                                    "Tag ID": "11643"
                                },
                                {
                                    "Title": "The Hidden Staircase (Nancy Drew Mystery Stories, #2)",
                                    "Authors": "Carolyn Keene, Mildred Benson",
                                    "Average Rating": "3.94",
                                    "Tag ID": "11643"
                                },
                                {
                                    "Title": "The House of Mirth",
                                    "Authors": "Edith Wharton, Nina Bawden",
                                    "Average Rating": "3.94",
                                    "Tag ID": "11643"
                                },
                                {
                                    "Title": "The House of Mirth",
                                    "Authors": "Edith Wharton, Nina Bawden",
                                    "Average Rating": "3.94",
                                    "Tag ID": "11644"
                                },
                                {
                                    "Title": "The Magician's Apprentice",
                                    "Authors": "Trudi Canavan",
                                    "Average Rating": "3.94",
                                    "Tag ID": "11643"
                                },
                                {
                                    "Title": "The Worst Witch",
                                    "Authors": "Jill Murphy",
                                    "Average Rating": "3.94",
                                    "Tag ID": "11643"
                                },
                                {
                                    "Title": "The Worst Witch",
                                    "Authors": "Jill Murphy",
                                    "Average Rating": "3.94",
                                    "Tag ID": "11644"
                                },
                                {
                                    "Title": "Waiting to Exhale",
                                    "Authors": "Terry McMillan",
                                    "Average Rating": "3.94",
                                    "Tag ID": "11644"
                                },
                                {
                                    "Title": "Why Be Happy When You Could Be Normal?",
                                    "Authors": "Jeanette Winterson",
                                    "Average Rating": "3.94",
                                    "Tag ID": "11643"
                                },
                                {
                                    "Title": "Why Be Happy When You Could Be Normal?",
                                    "Authors": "Jeanette Winterson",
                                    "Average Rating": "3.94",
                                    "Tag ID": "11644"
                                },
                                {
                                    "Title": "Women of the Silk",
                                    "Authors": "Gail Tsukiyama",
                                    "Average Rating": "3.94",
                                    "Tag ID": "11643"
                                },
                                {
                                    "Title": "Women of the Silk",
                                    "Authors": "Gail Tsukiyama",
                                    "Average Rating": "3.94",
                                    "Tag ID": "11644"
                                },
                                {
                                    "Title": "博士の愛した数式 ",
                                    "Authors": "Yōko Ogawa, Stephen Snyder",
                                    "Average Rating": "3.94",
                                    "Tag ID": "11643"
                                },
                                {
                                    "Title": "博士の愛した数式 ",
                                    "Authors": "Yōko Ogawa, Stephen Snyder",
                                    "Average Rating": "3.94",
                                    "Tag ID": "11644"
                                },
                                {
                                    "Title": "All My Puny Sorrows",
                                    "Authors": "Miriam Toews",
                                    "Average Rating": "3.93",
                                    "Tag ID": "11643"
                                },
                                {
                                    "Title": "Battleaxe (The Axis Trilogy #1)",
                                    "Authors": "Sara Douglass",
                                    "Average Rating": "3.93",
                                    "Tag ID": "11644"
                                },
                                {
                                    "Title": "Black Sun Rising",
                                    "Authors": "C.S. Friedman",
                                    "Average Rating": "3.93",
                                    "Tag ID": "11643"
                                },
                                {
                                    "Title": "Brokeback Mountain",
                                    "Authors": "Annie Proulx",
                                    "Average Rating": "3.93",
                                    "Tag ID": "11643"
                                },
                                {
                                    "Title": "Brokeback Mountain",
                                    "Authors": "Annie Proulx",
                                    "Average Rating": "3.93",
                                    "Tag ID": "11644"
                                },
                                {
                                    "Title": "Castle in the Air",
                                    "Authors": "Diana Wynne Jones",
                                    "Average Rating": "3.93",
                                    "Tag ID": "11643"
                                },
                                {
                                    "Title": "Cause of Death",
                                    "Authors": "Patricia Cornwell",
                                    "Average Rating": "3.93",
                                    "Tag ID": "11643"
                                },
                                {
                                    "Title": "Deadly Décisions",
                                    "Authors": "Kathy Reichs",
                                    "Average Rating": "3.93",
                                    "Tag ID": "11643"
                                },
                                {
                                    "Title": "Dragon Wing (The Death Gate Cycle, #1)",
                                    "Authors": "Margaret Weis, Tracy Hickman",
                                    "Average Rating": "3.93",
                                    "Tag ID": "11643"
                                },
                                {
                                    "Title": "Empire of Ivory",
                                    "Authors": "Naomi Novik",
                                    "Average Rating": "3.93",
                                    "Tag ID": "11643"
                                },
                                {
                                    "Title": "Furiously Happy",
                                    "Authors": "Jenny  Lawson",
                                    "Average Rating": "3.93",
                                    "Tag ID": "11643"
                                },
                                {
                                    "Title": "Furiously Happy",
                                    "Authors": "Jenny  Lawson",
                                    "Average Rating": "3.93",
                                    "Tag ID": "11644"
                                },
                                {
                                    "Title": "Men Explain Things to Me",
                                    "Authors": "Rebecca Solnit",
                                    "Average Rating": "3.93",
                                    "Tag ID": "11643"
                                },
                                {
                                    "Title": "Men Explain Things to Me",
                                    "Authors": "Rebecca Solnit",
                                    "Average Rating": "3.93",
                                    "Tag ID": "11644"
                                },
                                {
                                    "Title": "Middlemarch",
                                    "Authors": "George Eliot, Michel Faber",
                                    "Average Rating": "3.93",
                                    "Tag ID": "11643"
                                },
                                {
                                    "Title": "Middlemarch",
                                    "Authors": "George Eliot, Michel Faber",
                                    "Average Rating": "3.93",
                                    "Tag ID": "11644"
                                },
                                {
                                    "Title": "My Year of Meats",
                                    "Authors": "Ruth Ozeki",
                                    "Average Rating": "3.93",
                                    "Tag ID": "11643"
                                },
                                {
                                    "Title": "My Year of Meats",
                                    "Authors": "Ruth Ozeki",
                                    "Average Rating": "3.93",
                                    "Tag ID": "11644"
                                },
                                {
                                    "Title": "Out  アウト",
                                    "Authors": "Natsuo Kirino, Stephen Snyder",
                                    "Average Rating": "3.93",
                                    "Tag ID": "11643"
                                },
                                {
                                    "Title": "Out  アウト",
                                    "Authors": "Natsuo Kirino, Stephen Snyder",
                                    "Average Rating": "3.93",
                                    "Tag ID": "11644"
                                },
                                {
                                    "Title": "Packing for Mars: The Curious Science of Life in the Void ",
                                    "Authors": "Mary Roach",
                                    "Average Rating": "3.93",
                                    "Tag ID": "11643"
                                },
                                {
                                    "Title": "Packing for Mars: The Curious Science of Life in the Void ",
                                    "Authors": "Mary Roach",
                                    "Average Rating": "3.93",
                                    "Tag ID": "11644"
                                },
                                {
                                    "Title": "Rachel's Holiday",
                                    "Authors": "Marian Keyes",
                                    "Average Rating": "3.93",
                                    "Tag ID": "11643"
                                },
                                {
                                    "Title": "Rachel's Holiday",
                                    "Authors": "Marian Keyes",
                                    "Average Rating": "3.93",
                                    "Tag ID": "11644"
                                },
                                {
                                    "Title": "Retrato en sepia",
                                    "Authors": "Isabel Allende, Margaret Sayers Peden",
                                    "Average Rating": "3.93",
                                    "Tag ID": "11644"
                                },
                                {
                                    "Title": "Stone Mattress",
                                    "Authors": "Margaret Atwood",
                                    "Average Rating": "3.93",
                                    "Tag ID": "11643"
                                },
                                {
                                    "Title": "Stone Mattress",
                                    "Authors": "Margaret Atwood",
                                    "Average Rating": "3.93",
                                    "Tag ID": "11644"
                                },
                                {
                                    "Title": "The Age of Innocence",
                                    "Authors": "Edith Wharton, Maureen Howard",
                                    "Average Rating": "3.93",
                                    "Tag ID": "11643"
                                },
                                {
                                    "Title": "The Age of Innocence",
                                    "Authors": "Edith Wharton, Maureen Howard",
                                    "Average Rating": "3.93",
                                    "Tag ID": "11644"
                                },
                                {
                                    "Title": "The Dragon Keeper",
                                    "Authors": "Robin Hobb",
                                    "Average Rating": "3.93",
                                    "Tag ID": "11643"
                                },
                                {
                                    "Title": "The Gnostic Gospels",
                                    "Authors": "Elaine Pagels",
                                    "Average Rating": "3.93",
                                    "Tag ID": "11643"
                                },
                                {
                                    "Title": "The Scarlet Feather",
                                    "Authors": "Maeve Binchy",
                                    "Average Rating": "3.93",
                                    "Tag ID": "11643"
                                },
                                {
                                    "Title": "The Talented Mr. Ripley",
                                    "Authors": "Patricia Highsmith",
                                    "Average Rating": "3.93",
                                    "Tag ID": "11643"
                                },
                                {
                                    "Title": "The Talented Mr. Ripley",
                                    "Authors": "Patricia Highsmith",
                                    "Average Rating": "3.93",
                                    "Tag ID": "11644"
                                },
                                {
                                    "Title": "White Oleander",
                                    "Authors": "Janet Fitch",
                                    "Average Rating": "3.93",
                                    "Tag ID": "11643"
                                },
                                {
                                    "Title": "White Oleander",
                                    "Authors": "Janet Fitch",
                                    "Average Rating": "3.93",
                                    "Tag ID": "11644"
                                },
                                {
                                    "Title": "4.50 From Paddington",
                                    "Authors": "Agatha Christie",
                                    "Average Rating": "3.92",
                                    "Tag ID": "11643"
                                },
                                {
                                    "Title": "4.50 From Paddington",
                                    "Authors": "Agatha Christie",
                                    "Average Rating": "3.92",
                                    "Tag ID": "11644"
                                },
                                {
                                    "Title": "A God in Ruins",
                                    "Authors": "Kate Atkinson",
                                    "Average Rating": "3.92",
                                    "Tag ID": "11644"
                                },
                                {
                                    "Title": "Bel Canto",
                                    "Authors": "Ann Patchett",
                                    "Average Rating": "3.92",
                                    "Tag ID": "11644"
                                },
                                {
                                    "Title": "Broken Harbor",
                                    "Authors": "Tana French",
                                    "Average Rating": "3.92",
                                    "Tag ID": "11643"
                                },
                                {
                                    "Title": "Cat's Eye",
                                    "Authors": "Margaret Atwood",
                                    "Average Rating": "3.92",
                                    "Tag ID": "11643"
                                },
                                {
                                    "Title": "Cat's Eye",
                                    "Authors": "Margaret Atwood",
                                    "Average Rating": "3.92",
                                    "Tag ID": "11644"
                                },
                                {
                                    "Title": "Cold Comfort Farm",
                                    "Authors": "Stella Gibbons, Lynne Truss, Roz Chast",
                                    "Average Rating": "3.92",
                                    "Tag ID": "11643"
                                },
                                {
                                    "Title": "Cold Comfort Farm",
                                    "Authors": "Stella Gibbons, Lynne Truss, Roz Chast",
                                    "Average Rating": "3.92",
                                    "Tag ID": "11644"
                                },
                                {
                                    "Title": "Geisha: A Life",
                                    "Authors": "Mineko Iwasaki, Rande Brown",
                                    "Average Rating": "3.92",
                                    "Tag ID": "11643"
                                },
                                {
                                    "Title": "Geisha: A Life",
                                    "Authors": "Mineko Iwasaki, Rande Brown",
                                    "Average Rating": "3.92",
                                    "Tag ID": "11644"
                                },
                                {
                                    "Title": "Good Wives",
                                    "Authors": "Louisa May Alcott",
                                    "Average Rating": "3.92",
                                    "Tag ID": "11643"
                                },
                                {
                                    "Title": "Good Wives",
                                    "Authors": "Louisa May Alcott",
                                    "Average Rating": "3.92",
                                    "Tag ID": "11644"
                                },
                                {
                                    "Title": "Gulp: Adventures on the Alimentary Canal",
                                    "Authors": "Mary Roach",
                                    "Average Rating": "3.92",
                                    "Tag ID": "11643"
                                },
                                {
                                    "Title": "Gulp: Adventures on the Alimentary Canal",
                                    "Authors": "Mary Roach",
                                    "Average Rating": "3.92",
                                    "Tag ID": "11644"
                                },
                                {
                                    "Title": "Heartsick",
                                    "Authors": "Chelsea Cain",
                                    "Average Rating": "3.92",
                                    "Tag ID": "11644"
                                },
                                {
                                    "Title": "Hidden Figures: The American Dream and the Untold Story of the Black Women Mathematicians Who Helped Win the Space Race",
                                    "Authors": "Margot Lee Shetterly",
                                    "Average Rating": "3.92",
                                    "Tag ID": "11643"
                                },
                                {
                                    "Title": "Homecoming (Tillerman Family, #1)",
                                    "Authors": "Cynthia Voigt",
                                    "Average Rating": "3.92",
                                    "Tag ID": "11643"
                                },
                                {
                                    "Title": "Homecoming (Tillerman Family, #1)",
                                    "Authors": "Cynthia Voigt",
                                    "Average Rating": "3.92",
                                    "Tag ID": "11644"
                                },
                                {
                                    "Title": "Le bleu est une couleur chaude",
                                    "Authors": "Julie Maroh",
                                    "Average Rating": "3.92",
                                    "Tag ID": "11643"
                                },
                                {
                                    "Title": "Le bleu est une couleur chaude",
                                    "Authors": "Julie Maroh",
                                    "Average Rating": "3.92",
                                    "Tag ID": "11644"
                                },
                                {
                                    "Title": "My Cousin Rachel",
                                    "Authors": "Daphne du Maurier",
                                    "Average Rating": "3.92",
                                    "Tag ID": "11644"
                                },
                                {
                                    "Title": "The Liars' Club: A Memoir",
                                    "Authors": "Mary Karr",
                                    "Average Rating": "3.92",
                                    "Tag ID": "11643"
                                },
                                {
                                    "Title": "The Liars' Club: A Memoir",
                                    "Authors": "Mary Karr",
                                    "Average Rating": "3.92",
                                    "Tag ID": "11644"
                                },
                                {
                                    "Title": "The Thief",
                                    "Authors": "Megan Whalen Turner",
                                    "Average Rating": "3.92",
                                    "Tag ID": "11643"
                                },
                                {
                                    "Title": "Bad Feminist ",
                                    "Authors": "Roxane Gay",
                                    "Average Rating": "3.91",
                                    "Tag ID": "11643"
                                },
                                {
                                    "Title": "Bad Feminist ",
                                    "Authors": "Roxane Gay",
                                    "Average Rating": "3.91",
                                    "Tag ID": "11644"
                                },
                                {
                                    "Title": "Change of Heart",
                                    "Authors": "Jodi Picoult",
                                    "Average Rating": "3.91",
                                    "Tag ID": "11644"
                                },
                                {
                                    "Title": "Marie Antoinette: The Journey",
                                    "Authors": "Antonia Fraser",
                                    "Average Rating": "3.91",
                                    "Tag ID": "11643"
                                },
                                {
                                    "Title": "Romancing the Duke",
                                    "Authors": "Tessa Dare",
                                    "Average Rating": "3.91",
                                    "Tag ID": "11643"
                                },
                                {
                                    "Title": "Scrappy Little Nobody",
                                    "Authors": "Anna Kendrick",
                                    "Average Rating": "3.91",
                                    "Tag ID": "11643"
                                },
                                {
                                    "Title": "Soulless",
                                    "Authors": "Gail Carriger",
                                    "Average Rating": "3.91",
                                    "Tag ID": "11643"
                                },
                                {
                                    "Title": "Tar Baby",
                                    "Authors": "Toni Morrison",
                                    "Average Rating": "3.91",
                                    "Tag ID": "11643"
                                },
                                {
                                    "Title": "Tar Baby",
                                    "Authors": "Toni Morrison",
                                    "Average Rating": "3.91",
                                    "Tag ID": "11644"
                                },
                                {
                                    "Title": "The Gift",
                                    "Authors": "Danielle Steel",
                                    "Average Rating": "3.91",
                                    "Tag ID": "11644"
                                },
                                {
                                    "Title": "The God of Small Things",
                                    "Authors": "Arundhati Roy",
                                    "Average Rating": "3.91",
                                    "Tag ID": "11643"
                                },
                                {
                                    "Title": "The God of Small Things",
                                    "Authors": "Arundhati Roy",
                                    "Average Rating": "3.91",
                                    "Tag ID": "11644"
                                },
                                {
                                    "Title": "The History of Love",
                                    "Authors": "Nicole Krauss",
                                    "Average Rating": "3.91",
                                    "Tag ID": "11643"
                                },
                                {
                                    "Title": "The History of Love",
                                    "Authors": "Nicole Krauss",
                                    "Average Rating": "3.91",
                                    "Tag ID": "11644"
                                },
                                {
                                    "Title": "The Round House",
                                    "Authors": "Louise Erdrich",
                                    "Average Rating": "3.91",
                                    "Tag ID": "11643"
                                },
                                {
                                    "Title": "The Round House",
                                    "Authors": "Louise Erdrich",
                                    "Average Rating": "3.91",
                                    "Tag ID": "11644"
                                },
                                {
                                    "Title": "The Tenant of Wildfell Hall",
                                    "Authors": "Anne Brontë, Stevie Davies",
                                    "Average Rating": "3.91",
                                    "Tag ID": "11643"
                                },
                                {
                                    "Title": "The Tenant of Wildfell Hall",
                                    "Authors": "Anne Brontë, Stevie Davies",
                                    "Average Rating": "3.91",
                                    "Tag ID": "11644"
                                },
                                {
                                    "Title": "What We Keep ",
                                    "Authors": "Elizabeth Berg",
                                    "Average Rating": "3.91",
                                    "Tag ID": "11644"
                                },
                                {
                                    "Title": "Whose Body?",
                                    "Authors": "Dorothy L. Sayers",
                                    "Average Rating": "3.91",
                                    "Tag ID": "11643"
                                },
                                {
                                    "Title": "Whose Body?",
                                    "Authors": "Dorothy L. Sayers",
                                    "Average Rating": "3.91",
                                    "Tag ID": "11644"
                                },
                                {
                                    "Title": "Big Magic: Creative Living Beyond Fear",
                                    "Authors": "Elizabeth Gilbert",
                                    "Average Rating": "3.9",
                                    "Tag ID": "11643"
                                },
                                {
                                    "Title": "Black Powder War",
                                    "Authors": "Naomi Novik",
                                    "Average Rating": "3.9",
                                    "Tag ID": "11643"
                                },
                                {
                                    "Title": "City of Masks",
                                    "Authors": "Mary Hoffman",
                                    "Average Rating": "3.9",
                                    "Tag ID": "11643"
                                },
                                {
                                    "Title": "Faking It ",
                                    "Authors": "Jennifer Crusie",
                                    "Average Rating": "3.9",
                                    "Tag ID": "11643"
                                },
                                {
                                    "Title": "Fledgling",
                                    "Authors": "Octavia E. Butler",
                                    "Average Rating": "3.9",
                                    "Tag ID": "11643"
                                },
                                {
                                    "Title": "Fledgling",
                                    "Authors": "Octavia E. Butler",
                                    "Average Rating": "3.9",
                                    "Tag ID": "11644"
                                },
                                {
                                    "Title": "Girl, Interrupted",
                                    "Authors": "Susanna Kaysen",
                                    "Average Rating": "3.9",
                                    "Tag ID": "11643"
                                },
                                {
                                    "Title": "Girl, Interrupted",
                                    "Authors": "Susanna Kaysen",
                                    "Average Rating": "3.9",
                                    "Tag ID": "11644"
                                },
                                {
                                    "Title": "Hercule Poirot's Christmas",
                                    "Authors": "Agatha Christie",
                                    "Average Rating": "3.9",
                                    "Tag ID": "11643"
                                },
                                {
                                    "Title": "Hercule Poirot's Christmas",
                                    "Authors": "Agatha Christie",
                                    "Average Rating": "3.9",
                                    "Tag ID": "11644"
                                },
                                {
                                    "Title": "Inés del alma mía",
                                    "Authors": "Isabel Allende, Margaret Sayers Peden",
                                    "Average Rating": "3.9",
                                    "Tag ID": "11644"
                                },
                                {
                                    "Title": "Ordinary People",
                                    "Authors": "Judith Guest",
                                    "Average Rating": "3.9",
                                    "Tag ID": "11643"
                                },
                                {
                                    "Title": "Ordinary People",
                                    "Authors": "Judith Guest",
                                    "Average Rating": "3.9",
                                    "Tag ID": "11644"
                                },
                                {
                                    "Title": "The Accidental Tourist",
                                    "Authors": "Anne Tyler, Jennifer Bassett",
                                    "Average Rating": "3.9",
                                    "Tag ID": "11643"
                                },
                                {
                                    "Title": "The Joy Luck Club",
                                    "Authors": "Amy Tan",
                                    "Average Rating": "3.9",
                                    "Tag ID": "11643"
                                },
                                {
                                    "Title": "The Joy Luck Club",
                                    "Authors": "Amy Tan",
                                    "Average Rating": "3.9",
                                    "Tag ID": "11644"
                                },
                                {
                                    "Title": "The Partly Cloudy Patriot",
                                    "Authors": "Sarah Vowell, Katherine Streeter",
                                    "Average Rating": "3.9",
                                    "Tag ID": "11643"
                                },
                                {
                                    "Title": "The Partly Cloudy Patriot",
                                    "Authors": "Sarah Vowell, Katherine Streeter",
                                    "Average Rating": "3.9",
                                    "Tag ID": "11644"
                                },
                                {
                                    "Title": "The Sea, the Sea",
                                    "Authors": "Iris Murdoch, Mary Kinzie",
                                    "Average Rating": "3.9",
                                    "Tag ID": "11643"
                                },
                                {
                                    "Title": "The Sea, the Sea",
                                    "Authors": "Iris Murdoch, Mary Kinzie",
                                    "Average Rating": "3.9",
                                    "Tag ID": "11644"
                                },
                                {
                                    "Title": "Where'd You Go, Bernadette",
                                    "Authors": "Maria Semple",
                                    "Average Rating": "3.9",
                                    "Tag ID": "11643"
                                },
                                {
                                    "Title": "Anastasia Krupnik",
                                    "Authors": "Lois Lowry",
                                    "Average Rating": "3.89",
                                    "Tag ID": "11643"
                                },
                                {
                                    "Title": "Are You There God? It's Me, Margaret",
                                    "Authors": "Judy Blume",
                                    "Average Rating": "3.89",
                                    "Tag ID": "11644"
                                },
                                {
                                    "Title": "Everything Leads to You",
                                    "Authors": "Nina LaCour",
                                    "Average Rating": "3.89",
                                    "Tag ID": "11643"
                                },
                                {
                                    "Title": "Hija de la fortuna",
                                    "Authors": "Isabel Allende, Margaret Sayers Peden",
                                    "Average Rating": "3.89",
                                    "Tag ID": "11644"
                                },
                                {
                                    "Title": "Indemnity Only",
                                    "Authors": "Sara Paretsky",
                                    "Average Rating": "3.89",
                                    "Tag ID": "11643"
                                },
                                {
                                    "Title": "Lost Souls",
                                    "Authors": "Poppy Z. Brite",
                                    "Average Rating": "3.89",
                                    "Tag ID": "11643"
                                },
                                {
                                    "Title": "Loves Music, Loves to Dance",
                                    "Authors": "Mary Higgins Clark",
                                    "Average Rating": "3.89",
                                    "Tag ID": "11643"
                                },
                                {
                                    "Title": "Peril at End House",
                                    "Authors": "Agatha Christie",
                                    "Average Rating": "3.89",
                                    "Tag ID": "11643"
                                },
                                {
                                    "Title": "Peril at End House",
                                    "Authors": "Agatha Christie",
                                    "Average Rating": "3.89",
                                    "Tag ID": "11644"
                                },
                                {
                                    "Title": "Small Island",
                                    "Authors": "Andrea Levy",
                                    "Average Rating": "3.89",
                                    "Tag ID": "11643"
                                },
                                {
                                    "Title": "Started Early, Took My Dog",
                                    "Authors": "Kate Atkinson",
                                    "Average Rating": "3.89",
                                    "Tag ID": "11643"
                                },
                                {
                                    "Title": "Tehanu",
                                    "Authors": "Ursula K. Le Guin",
                                    "Average Rating": "3.89",
                                    "Tag ID": "11643"
                                },
                                {
                                    "Title": "Tehanu",
                                    "Authors": "Ursula K. Le Guin",
                                    "Average Rating": "3.89",
                                    "Tag ID": "11644"
                                },
                                {
                                    "Title": "That Was Then, This Is Now",
                                    "Authors": "S.E. Hinton",
                                    "Average Rating": "3.89",
                                    "Tag ID": "11644"
                                },
                                {
                                    "Title": "The Beauty Myth: How Images of Beauty Are Used Against Women",
                                    "Authors": "Naomi Wolf",
                                    "Average Rating": "3.89",
                                    "Tag ID": "11643"
                                },
                                {
                                    "Title": "The Beauty Myth: How Images of Beauty Are Used Against Women",
                                    "Authors": "Naomi Wolf",
                                    "Average Rating": "3.89",
                                    "Tag ID": "11644"
                                },
                                {
                                    "Title": "The Beet Queen",
                                    "Authors": "Louise Erdrich",
                                    "Average Rating": "3.89",
                                    "Tag ID": "11643"
                                },
                                {
                                    "Title": "The Beet Queen",
                                    "Authors": "Louise Erdrich",
                                    "Average Rating": "3.89",
                                    "Tag ID": "11644"
                                },
                                {
                                    "Title": "The Copper Beech",
                                    "Authors": "Maeve Binchy",
                                    "Average Rating": "3.89",
                                    "Tag ID": "11643"
                                },
                                {
                                    "Title": "The Cradle Will Fall",
                                    "Authors": "Mary Higgins Clark",
                                    "Average Rating": "3.89",
                                    "Tag ID": "11643"
                                },
                                {
                                    "Title": "The Haunting οf Hill House",
                                    "Authors": "Shirley Jackson, Laura   Miller",
                                    "Average Rating": "3.89",
                                    "Tag ID": "11643"
                                },
                                {
                                    "Title": "The Haunting οf Hill House",
                                    "Authors": "Shirley Jackson, Laura   Miller",
                                    "Average Rating": "3.89",
                                    "Tag ID": "11644"
                                },
                                {
                                    "Title": "The Indian in the Cupboard",
                                    "Authors": "Lynne Reid Banks",
                                    "Average Rating": "3.89",
                                    "Tag ID": "11643"
                                },
                                {
                                    "Title": "The Mirror Crack'd from Side to Side",
                                    "Authors": "Agatha Christie",
                                    "Average Rating": "3.89",
                                    "Tag ID": "11644"
                                },
                                {
                                    "Title": "The Tail of Emily Windsnap",
                                    "Authors": "Liz Kessler, Sarah Gibb",
                                    "Average Rating": "3.89",
                                    "Tag ID": "11644"
                                },
                                {
                                    "Title": "Throne of Jade",
                                    "Authors": "Naomi Novik",
                                    "Average Rating": "3.89",
                                    "Tag ID": "11643"
                                },
                                {
                                    "Title": "We the Living",
                                    "Authors": "Ayn Rand, Leonard Peikoff",
                                    "Average Rating": "3.89",
                                    "Tag ID": "11643"
                                },
                                {
                                    "Title": "What Katy Did  ",
                                    "Authors": "Susan Coolidge",
                                    "Average Rating": "3.89",
                                    "Tag ID": "11643"
                                },
                                {
                                    "Title": "Anya's Ghost",
                                    "Authors": "Vera Brosgol",
                                    "Average Rating": "3.88",
                                    "Tag ID": "11643"
                                },
                                {
                                    "Title": "Anya's Ghost",
                                    "Authors": "Vera Brosgol",
                                    "Average Rating": "3.88",
                                    "Tag ID": "11644"
                                },
                                {
                                    "Title": "Cunt: A Declaration of Independence",
                                    "Authors": "Inga Muscio, Betty Dodson",
                                    "Average Rating": "3.88",
                                    "Tag ID": "11643"
                                },
                                {
                                    "Title": "Cunt: A Declaration of Independence",
                                    "Authors": "Inga Muscio, Betty Dodson",
                                    "Average Rating": "3.88",
                                    "Tag ID": "11644"
                                },
                                {
                                    "Title": "Death Comes for the Archbishop",
                                    "Authors": "Willa Cather",
                                    "Average Rating": "3.88",
                                    "Tag ID": "11643"
                                },
                                {
                                    "Title": "Death Comes for the Archbishop",
                                    "Authors": "Willa Cather",
                                    "Average Rating": "3.88",
                                    "Tag ID": "11644"
                                },
                                {
                                    "Title": "Deerskin",
                                    "Authors": "Robin McKinley",
                                    "Average Rating": "3.88",
                                    "Tag ID": "11643"
                                },
                                {
                                    "Title": "El diario de Frida Kahlo: Un íntimo autorretrato ",
                                    "Authors": "Frida Kahlo, Carlos Fuentes, Sarah M. Lowe",
                                    "Average Rating": "3.88",
                                    "Tag ID": "11644"
                                },
                                {
                                    "Title": "Five Children and It ",
                                    "Authors": "E. Nesbit",
                                    "Average Rating": "3.88",
                                    "Tag ID": "11643"
                                },
                                {
                                    "Title": "Hunger Makes Me a Modern Girl",
                                    "Authors": "Carrie Brownstein",
                                    "Average Rating": "3.88",
                                    "Tag ID": "11643"
                                },
                                {
                                    "Title": "Hunger Makes Me a Modern Girl",
                                    "Authors": "Carrie Brownstein",
                                    "Average Rating": "3.88",
                                    "Tag ID": "11644"
                                },
                                {
                                    "Title": "Lady of Avalon",
                                    "Authors": "Marion Zimmer Bradley, Diana L. Paxson",
                                    "Average Rating": "3.88",
                                    "Tag ID": "11643"
                                },
                                {
                                    "Title": "Light A Penny Candle",
                                    "Authors": "Maeve Binchy",
                                    "Average Rating": "3.88",
                                    "Tag ID": "11643"
                                },
                                {
                                    "Title": "Possession",
                                    "Authors": "A.S. Byatt",
                                    "Average Rating": "3.88",
                                    "Tag ID": "11643"
                                },
                                {
                                    "Title": "Possession",
                                    "Authors": "A.S. Byatt",
                                    "Average Rating": "3.88",
                                    "Tag ID": "11644"
                                },
                                {
                                    "Title": "Rubyfruit Jungle",
                                    "Authors": "Rita Mae Brown",
                                    "Average Rating": "3.88",
                                    "Tag ID": "11643"
                                },
                                {
                                    "Title": "Rubyfruit Jungle",
                                    "Authors": "Rita Mae Brown",
                                    "Average Rating": "3.88",
                                    "Tag ID": "11644"
                                },
                                {
                                    "Title": "Saint Maybe",
                                    "Authors": "Anne Tyler",
                                    "Average Rating": "3.88",
                                    "Tag ID": "11643"
                                },
                                {
                                    "Title": "Tara Road",
                                    "Authors": "Maeve Binchy",
                                    "Average Rating": "3.88",
                                    "Tag ID": "11643"
                                },
                                {
                                    "Title": "The Mammoth Hunters",
                                    "Authors": "Jean M. Auel",
                                    "Average Rating": "3.88",
                                    "Tag ID": "11644"
                                },
                                {
                                    "Title": "The Spellman Files",
                                    "Authors": "Lisa Lutz",
                                    "Average Rating": "3.88",
                                    "Tag ID": "11643"
                                },
                                {
                                    "Title": "Wise Blood",
                                    "Authors": "Flannery O'Connor",
                                    "Average Rating": "3.88",
                                    "Tag ID": "11643"
                                },
                                {
                                    "Title": "Wise Blood",
                                    "Authors": "Flannery O'Connor",
                                    "Average Rating": "3.88",
                                    "Tag ID": "11644"
                                },
                                {
                                    "Title": "Another Brooklyn",
                                    "Authors": "Jacqueline Woodson",
                                    "Average Rating": "3.87",
                                    "Tag ID": "11643"
                                },
                                {
                                    "Title": "Another Brooklyn",
                                    "Authors": "Jacqueline Woodson",
                                    "Average Rating": "3.87",
                                    "Tag ID": "11644"
                                },
                                {
                                    "Title": "Dawn ",
                                    "Authors": "V.C. Andrews",
                                    "Average Rating": "3.87",
                                    "Tag ID": "11644"
                                },
                                {
                                    "Title": "Empress Orchid",
                                    "Authors": "Anchee Min",
                                    "Average Rating": "3.87",
                                    "Tag ID": "11644"
                                },
                                {
                                    "Title": "I Like You: Hospitality Under the Influence",
                                    "Authors": "Amy Sedaris",
                                    "Average Rating": "3.87",
                                    "Tag ID": "11643"
                                },
                                {
                                    "Title": "Molly Moon's Incredible Book of Hypnotism",
                                    "Authors": "Georgia Byng",
                                    "Average Rating": "3.87",
                                    "Tag ID": "11644"
                                },
                                {
                                    "Title": "The Goldfinch",
                                    "Authors": "Donna Tartt",
                                    "Average Rating": "3.87",
                                    "Tag ID": "11644"
                                },
                                {
                                    "Title": "The Mothers",
                                    "Authors": "Brit Bennett",
                                    "Average Rating": "3.87",
                                    "Tag ID": "11643"
                                },
                                {
                                    "Title": "Their Eyes Were Watching God",
                                    "Authors": "Zora Neale Hurston",
                                    "Average Rating": "3.87",
                                    "Tag ID": "11643"
                                },
                                {
                                    "Title": "Their Eyes Were Watching God",
                                    "Authors": "Zora Neale Hurston",
                                    "Average Rating": "3.87",
                                    "Tag ID": "11644"
                                },
                                {
                                    "Title": "An Acceptable Time (Time Quintet, #5)",
                                    "Authors": "Madeleine L'Engle",
                                    "Average Rating": "3.86",
                                    "Tag ID": "11644"
                                },
                                {
                                    "Title": "Breath, Eyes, Memory ",
                                    "Authors": "Edwidge Danticat",
                                    "Average Rating": "3.86",
                                    "Tag ID": "11643"
                                },
                                {
                                    "Title": "Breath, Eyes, Memory ",
                                    "Authors": "Edwidge Danticat",
                                    "Average Rating": "3.86",
                                    "Tag ID": "11644"
                                },
                                {
                                    "Title": "Déjà Dead",
                                    "Authors": "Kathy Reichs",
                                    "Average Rating": "3.86",
                                    "Tag ID": "11643"
                                },
                                {
                                    "Title": "Eats, Shoots and Leaves",
                                    "Authors": "Lynne Truss",
                                    "Average Rating": "3.86",
                                    "Tag ID": "11643"
                                },
                                {
                                    "Title": "Feed",
                                    "Authors": "Mira Grant",
                                    "Average Rating": "3.86",
                                    "Tag ID": "11643"
                                },
                                {
                                    "Title": "Fortune's Rocks",
                                    "Authors": "Anita Shreve",
                                    "Average Rating": "3.86",
                                    "Tag ID": "11643"
                                },
                                {
                                    "Title": "LaRose",
                                    "Authors": "Louise Erdrich",
                                    "Average Rating": "3.86",
                                    "Tag ID": "11644"
                                },
                                {
                                    "Title": "Murder in Mesopotamia",
                                    "Authors": "Agatha Christie",
                                    "Average Rating": "3.86",
                                    "Tag ID": "11643"
                                },
                                {
                                    "Title": "My Stroke of Insight",
                                    "Authors": "Jill Bolte Taylor",
                                    "Average Rating": "3.86",
                                    "Tag ID": "11644"
                                },
                                {
                                    "Title": "No Logo",
                                    "Authors": "Naomi Klein",
                                    "Average Rating": "3.86",
                                    "Tag ID": "11643"
                                },
                                {
                                    "Title": "No Logo",
                                    "Authors": "Naomi Klein",
                                    "Average Rating": "3.86",
                                    "Tag ID": "11644"
                                },
                                {
                                    "Title": "Orlando: A Biography",
                                    "Authors": "Virginia Woolf",
                                    "Average Rating": "3.86",
                                    "Tag ID": "11643"
                                },
                                {
                                    "Title": "Orlando: A Biography",
                                    "Authors": "Virginia Woolf",
                                    "Average Rating": "3.86",
                                    "Tag ID": "11644"
                                },
                                {
                                    "Title": "Play It as It Lays",
                                    "Authors": "Joan Didion, David Thomson",
                                    "Average Rating": "3.86",
                                    "Tag ID": "11643"
                                },
                                {
                                    "Title": "Play It as It Lays",
                                    "Authors": "Joan Didion, David Thomson",
                                    "Average Rating": "3.86",
                                    "Tag ID": "11644"
                                },
                                {
                                    "Title": "Pretend You Don't See Her",
                                    "Authors": "Mary Higgins Clark",
                                    "Average Rating": "3.86",
                                    "Tag ID": "11644"
                                },
                                {
                                    "Title": "Sula",
                                    "Authors": "Toni Morrison",
                                    "Average Rating": "3.86",
                                    "Tag ID": "11643"
                                },
                                {
                                    "Title": "Sula",
                                    "Authors": "Toni Morrison",
                                    "Average Rating": "3.86",
                                    "Tag ID": "11644"
                                },
                                {
                                    "Title": "Take the Cannoli: Stories from the New World",
                                    "Authors": "Sarah Vowell",
                                    "Average Rating": "3.86",
                                    "Tag ID": "11643"
                                },
                                {
                                    "Title": "Take the Cannoli: Stories from the New World",
                                    "Authors": "Sarah Vowell",
                                    "Average Rating": "3.86",
                                    "Tag ID": "11644"
                                },
                                {
                                    "Title": "The Passion of Artemisia",
                                    "Authors": "Susan Vreeland",
                                    "Average Rating": "3.86",
                                    "Tag ID": "11644"
                                },
                                {
                                    "Title": "The Queen of the Damned",
                                    "Authors": "Anne Rice",
                                    "Average Rating": "3.86",
                                    "Tag ID": "11644"
                                },
                                {
                                    "Title": "The Vagina Monologues",
                                    "Authors": "Eve Ensler, Gloria Steinem",
                                    "Average Rating": "3.86",
                                    "Tag ID": "11643"
                                },
                                {
                                    "Title": "The Vagina Monologues",
                                    "Authors": "Eve Ensler, Gloria Steinem",
                                    "Average Rating": "3.86",
                                    "Tag ID": "11644"
                                },
                                {
                                    "Title": "The Year of Magical Thinking",
                                    "Authors": "Joan Didion",
                                    "Average Rating": "3.86",
                                    "Tag ID": "11643"
                                },
                                {
                                    "Title": "The Year of Magical Thinking",
                                    "Authors": "Joan Didion",
                                    "Average Rating": "3.86",
                                    "Tag ID": "11644"
                                },
                                {
                                    "Title": "\"P\" is for Peril",
                                    "Authors": "Sue Grafton",
                                    "Average Rating": "3.85",
                                    "Tag ID": "11643"
                                },
                                {
                                    "Title": "A History of God: The 4,000-Year Quest of Judaism, Christianity, and Islam",
                                    "Authors": "Karen Armstrong",
                                    "Average Rating": "3.85",
                                    "Tag ID": "11643"
                                },
                                {
                                    "Title": "Cranford",
                                    "Authors": "Elizabeth Gaskell",
                                    "Average Rating": "3.85",
                                    "Tag ID": "11643"
                                },
                                {
                                    "Title": "Cranford",
                                    "Authors": "Elizabeth Gaskell",
                                    "Average Rating": "3.85",
                                    "Tag ID": "11644"
                                },
                                {
                                    "Title": "Crow Lake",
                                    "Authors": "Mary Lawson",
                                    "Average Rating": "3.85",
                                    "Tag ID": "11643"
                                },
                                {
                                    "Title": "Girl with a Pearl Earring",
                                    "Authors": "Tracy Chevalier",
                                    "Average Rating": "3.85",
                                    "Tag ID": "11643"
                                },
                                {
                                    "Title": "Girl with a Pearl Earring",
                                    "Authors": "Tracy Chevalier",
                                    "Average Rating": "3.85",
                                    "Tag ID": "11644"
                                },
                                {
                                    "Title": "I Never Promised You a Rose Garden",
                                    "Authors": "Hannah  Green, Joanne Greenberg",
                                    "Average Rating": "3.85",
                                    "Tag ID": "11643"
                                },
                                {
                                    "Title": "I Never Promised You a Rose Garden",
                                    "Authors": "Hannah  Green, Joanne Greenberg",
                                    "Average Rating": "3.85",
                                    "Tag ID": "11644"
                                },
                                {
                                    "Title": "Jamaica Inn",
                                    "Authors": "Daphne du Maurier",
                                    "Average Rating": "3.85",
                                    "Tag ID": "11643"
                                },
                                {
                                    "Title": "Jamaica Inn",
                                    "Authors": "Daphne du Maurier",
                                    "Average Rating": "3.85",
                                    "Tag ID": "11644"
                                },
                                {
                                    "Title": "Looking for Alibrandi",
                                    "Authors": "Melina Marchetta",
                                    "Average Rating": "3.85",
                                    "Tag ID": "11644"
                                },
                                {
                                    "Title": "On the Street Where You Live",
                                    "Authors": "Mary Higgins Clark",
                                    "Average Rating": "3.85",
                                    "Tag ID": "11643"
                                },
                                {
                                    "Title": "Over Sea, Under Stone",
                                    "Authors": "Susan Cooper",
                                    "Average Rating": "3.85",
                                    "Tag ID": "11643"
                                },
                                {
                                    "Title": "Over Sea, Under Stone",
                                    "Authors": "Susan Cooper",
                                    "Average Rating": "3.85",
                                    "Tag ID": "11644"
                                },
                                {
                                    "Title": "Quidditch Through the Ages",
                                    "Authors": "Kennilworthy Whisp, J.K. Rowling",
                                    "Average Rating": "3.85",
                                    "Tag ID": "11643"
                                },
                                {
                                    "Title": "Raven Black",
                                    "Authors": "Ann Cleeves",
                                    "Average Rating": "3.85",
                                    "Tag ID": "11643"
                                },
                                {
                                    "Title": "Rebecca of Sunnybrook Farm",
                                    "Authors": "Kate Douglas Wiggin",
                                    "Average Rating": "3.85",
                                    "Tag ID": "11643"
                                },
                                {
                                    "Title": "Sunshine",
                                    "Authors": "Robin McKinley",
                                    "Average Rating": "3.85",
                                    "Tag ID": "11643"
                                },
                                {
                                    "Title": "The Body in the Library",
                                    "Authors": "Agatha Christie",
                                    "Average Rating": "3.85",
                                    "Tag ID": "11643"
                                },
                                {
                                    "Title": "The Body in the Library",
                                    "Authors": "Agatha Christie",
                                    "Average Rating": "3.85",
                                    "Tag ID": "11644"
                                },
                                {
                                    "Title": "The Book of Unknown Americans",
                                    "Authors": "Cristina Henriquez",
                                    "Average Rating": "3.85",
                                    "Tag ID": "11643"
                                },
                                {
                                    "Title": "The Book of Unknown Americans",
                                    "Authors": "Cristina Henriquez",
                                    "Average Rating": "3.85",
                                    "Tag ID": "11644"
                                },
                                {
                                    "Title": "The Ear, the Eye, and the Arm",
                                    "Authors": "Nancy Farmer",
                                    "Average Rating": "3.85",
                                    "Tag ID": "11643"
                                },
                                {
                                    "Title": "The Forest House",
                                    "Authors": "Marion Zimmer Bradley, Diana L. Paxson",
                                    "Average Rating": "3.85",
                                    "Tag ID": "11643"
                                },
                                {
                                    "Title": "The Fountainhead",
                                    "Authors": "Ayn Rand, Leonard Peikoff",
                                    "Average Rating": "3.85",
                                    "Tag ID": "11644"
                                },
                                {
                                    "Title": "The Ladies of Grace Adieu and Other Stories",
                                    "Authors": "Susanna Clarke, Charles Vess",
                                    "Average Rating": "3.85",
                                    "Tag ID": "11643"
                                },
                                {
                                    "Title": "The Ladies of Grace Adieu and Other Stories",
                                    "Authors": "Susanna Clarke, Charles Vess",
                                    "Average Rating": "3.85",
                                    "Tag ID": "11644"
                                },
                                {
                                    "Title": "The Secret Diary of Adrian Mole, Aged 13 3/4",
                                    "Authors": "Sue Townsend",
                                    "Average Rating": "3.85",
                                    "Tag ID": "11643"
                                },
                                {
                                    "Title": "Wolf Hall",
                                    "Authors": "Hilary Mantel",
                                    "Average Rating": "3.85",
                                    "Tag ID": "11643"
                                },
                                {
                                    "Title": "Wolf Hall",
                                    "Authors": "Hilary Mantel",
                                    "Average Rating": "3.85",
                                    "Tag ID": "11644"
                                },
                                {
                                    "Title": "You Belong to Me",
                                    "Authors": "Mary Higgins Clark",
                                    "Average Rating": "3.85",
                                    "Tag ID": "11643"
                                },
                                {
                                    "Title": "After the Funeral ",
                                    "Authors": "Agatha Christie",
                                    "Average Rating": "3.84",
                                    "Tag ID": "11643"
                                },
                                {
                                    "Title": "After the Funeral ",
                                    "Authors": "Agatha Christie",
                                    "Average Rating": "3.84",
                                    "Tag ID": "11644"
                                },
                                {
                                    "Title": "Alif the Unseen",
                                    "Authors": "G. Willow Wilson",
                                    "Average Rating": "3.84",
                                    "Tag ID": "11643"
                                },
                                {
                                    "Title": "Alif the Unseen",
                                    "Authors": "G. Willow Wilson",
                                    "Average Rating": "3.84",
                                    "Tag ID": "11644"
                                },
                                {
                                    "Title": "Commonwealth",
                                    "Authors": "Ann Patchett",
                                    "Average Rating": "3.84",
                                    "Tag ID": "11643"
                                },
                                {
                                    "Title": "Commonwealth",
                                    "Authors": "Ann Patchett",
                                    "Average Rating": "3.84",
                                    "Tag ID": "11644"
                                },
                                {
                                    "Title": "Dragons of Summer Flame",
                                    "Authors": "Margaret Weis, Tracy Hickman",
                                    "Average Rating": "3.84",
                                    "Tag ID": "11643"
                                },
                                {
                                    "Title": "Euphoria",
                                    "Authors": "Lily King",
                                    "Average Rating": "3.84",
                                    "Tag ID": "11643"
                                },
                                {
                                    "Title": "Euphoria",
                                    "Authors": "Lily King",
                                    "Average Rating": "3.84",
                                    "Tag ID": "11644"
                                },
                                {
                                    "Title": "Gilead",
                                    "Authors": "Marilynne Robinson",
                                    "Average Rating": "3.84",
                                    "Tag ID": "11643"
                                },
                                {
                                    "Title": "Gilead",
                                    "Authors": "Marilynne Robinson",
                                    "Average Rating": "3.84",
                                    "Tag ID": "11644"
                                },
                                {
                                    "Title": "Is Everyone Hanging Out Without Me? (And Other Concerns)",
                                    "Authors": "Mindy Kaling",
                                    "Average Rating": "3.84",
                                    "Tag ID": "11643"
                                },
                                {
                                    "Title": "Is Everyone Hanging Out Without Me? (And Other Concerns)",
                                    "Authors": "Mindy Kaling",
                                    "Average Rating": "3.84",
                                    "Tag ID": "11644"
                                },
                                {
                                    "Title": "Little Men, or Life at Plumfield with Jo's Boys",
                                    "Authors": "Louisa May Alcott",
                                    "Average Rating": "3.84",
                                    "Tag ID": "11643"
                                },
                                {
                                    "Title": "Mansfield Park",
                                    "Authors": "Jane Austen, Kathryn Sutherland, Tony Tanner, Claire Lamont",
                                    "Average Rating": "3.84",
                                    "Tag ID": "11643"
                                },
                                {
                                    "Title": "Mansfield Park",
                                    "Authors": "Jane Austen, Kathryn Sutherland, Tony Tanner, Claire Lamont",
                                    "Average Rating": "3.84",
                                    "Tag ID": "11644"
                                },
                                {
                                    "Title": "Nemesis",
                                    "Authors": "Agatha Christie",
                                    "Average Rating": "3.84",
                                    "Tag ID": "11644"
                                },
                                {
                                    "Title": "O Pioneers!",
                                    "Authors": "Willa Cather",
                                    "Average Rating": "3.84",
                                    "Tag ID": "11643"
                                },
                                {
                                    "Title": "O Pioneers!",
                                    "Authors": "Willa Cather",
                                    "Average Rating": "3.84",
                                    "Tag ID": "11644"
                                },
                                {
                                    "Title": "On Photography",
                                    "Authors": "Susan Sontag",
                                    "Average Rating": "3.84",
                                    "Tag ID": "11643"
                                },
                                {
                                    "Title": "On Photography",
                                    "Authors": "Susan Sontag",
                                    "Average Rating": "3.84",
                                    "Tag ID": "11644"
                                },
                                {
                                    "Title": "Priestess of the White",
                                    "Authors": "Trudi Canavan",
                                    "Average Rating": "3.84",
                                    "Tag ID": "11643"
                                },
                                {
                                    "Title": "Tales of a Female Nomad: Living at Large in the World",
                                    "Authors": "Rita Golden Gelman",
                                    "Average Rating": "3.84",
                                    "Tag ID": "11643"
                                },
                                {
                                    "Title": "Tales of a Female Nomad: Living at Large in the World",
                                    "Authors": "Rita Golden Gelman",
                                    "Average Rating": "3.84",
                                    "Tag ID": "11644"
                                },
                                {
                                    "Title": "The Awakening and Selected Short Stories",
                                    "Authors": "Kate Chopin, Cynthia Brantley Johnson, Alyssa  Harad",
                                    "Average Rating": "3.84",
                                    "Tag ID": "11643"
                                },
                                {
                                    "Title": "The Cat Who Could Read Backwards",
                                    "Authors": "Lilian Jackson Braun",
                                    "Average Rating": "3.84",
                                    "Tag ID": "11643"
                                },
                                {
                                    "Title": "The Cat Who Could Read Backwards",
                                    "Authors": "Lilian Jackson Braun",
                                    "Average Rating": "3.84",
                                    "Tag ID": "11644"
                                },
                                {
                                    "Title": "The Moving Finger",
                                    "Authors": "Agatha Christie",
                                    "Average Rating": "3.84",
                                    "Tag ID": "11643"
                                },
                                {
                                    "Title": "The Moving Finger",
                                    "Authors": "Agatha Christie",
                                    "Average Rating": "3.84",
                                    "Tag ID": "11644"
                                },
                                {
                                    "Title": "The Renegades of Pern",
                                    "Authors": "Anne McCaffrey",
                                    "Average Rating": "3.84",
                                    "Tag ID": "11643"
                                },
                                {
                                    "Title": "The Stone Diaries",
                                    "Authors": "Carol Shields",
                                    "Average Rating": "3.84",
                                    "Tag ID": "11644"
                                },
                                {
                                    "Title": "Welcome to the World, Baby Girl!",
                                    "Authors": "Fannie Flagg",
                                    "Average Rating": "3.84",
                                    "Tag ID": "11644"
                                },
                                {
                                    "Title": "1,000 Places to See Before You Die",
                                    "Authors": "Patricia Schultz",
                                    "Average Rating": "3.83",
                                    "Tag ID": "11644"
                                },
                                {
                                    "Title": "A Pocket Full of Rye",
                                    "Authors": "Agatha Christie",
                                    "Average Rating": "3.83",
                                    "Tag ID": "11643"
                                },
                                {
                                    "Title": "Blackout",
                                    "Authors": "Connie Willis",
                                    "Average Rating": "3.83",
                                    "Tag ID": "11643"
                                },
                                {
                                    "Title": "Bonk: The Curious Coupling of Science and Sex",
                                    "Authors": "Mary Roach",
                                    "Average Rating": "3.83",
                                    "Tag ID": "11643"
                                },
                                {
                                    "Title": "Bonk: The Curious Coupling of Science and Sex",
                                    "Authors": "Mary Roach",
                                    "Average Rating": "3.83",
                                    "Tag ID": "11644"
                                },
                                {
                                    "Title": "Five Quarters of the Orange",
                                    "Authors": "Joanne Harris",
                                    "Average Rating": "3.83",
                                    "Tag ID": "11643"
                                },
                                {
                                    "Title": "Five Quarters of the Orange",
                                    "Authors": "Joanne Harris",
                                    "Average Rating": "3.83",
                                    "Tag ID": "11644"
                                },
                                {
                                    "Title": "Sexing the Cherry",
                                    "Authors": "Jeanette Winterson",
                                    "Average Rating": "3.83",
                                    "Tag ID": "11643"
                                },
                                {
                                    "Title": "Sexing the Cherry",
                                    "Authors": "Jeanette Winterson",
                                    "Average Rating": "3.83",
                                    "Tag ID": "11644"
                                },
                                {
                                    "Title": "The Cuckoo's Calling",
                                    "Authors": "Robert Galbraith, J.K. Rowling",
                                    "Average Rating": "3.83",
                                    "Tag ID": "11643"
                                },
                                {
                                    "Title": "The Secret Place",
                                    "Authors": "Tana French",
                                    "Average Rating": "3.83",
                                    "Tag ID": "11643"
                                },
                                {
                                    "Title": "The Shipping News",
                                    "Authors": "Annie Proulx",
                                    "Average Rating": "3.83",
                                    "Tag ID": "11643"
                                },
                                {
                                    "Title": "The Shipping News",
                                    "Authors": "Annie Proulx",
                                    "Average Rating": "3.83",
                                    "Tag ID": "11644"
                                },
                                {
                                    "Title": "Uncle Tom's Cabin or Life Among the Lowly",
                                    "Authors": "Harriet Beecher Stowe",
                                    "Average Rating": "3.83",
                                    "Tag ID": "11644"
                                },
                                {
                                    "Title": "You'll Grow Out of It",
                                    "Authors": "Jessi Klein",
                                    "Average Rating": "3.83",
                                    "Tag ID": "11643"
                                },
                                {
                                    "Title": "You'll Grow Out of It",
                                    "Authors": "Jessi Klein",
                                    "Average Rating": "3.83",
                                    "Tag ID": "11644"
                                },
                                {
                                    "Title": "キッチン [Kitchen]",
                                    "Authors": "Banana Yoshimoto, Megan Backus",
                                    "Average Rating": "3.83",
                                    "Tag ID": "11643"
                                },
                                {
                                    "Title": "キッチン [Kitchen]",
                                    "Authors": "Banana Yoshimoto, Megan Backus",
                                    "Average Rating": "3.83",
                                    "Tag ID": "11644"
                                },
                                {
                                    "Title": "Case Histories",
                                    "Authors": "Kate Atkinson",
                                    "Average Rating": "3.82",
                                    "Tag ID": "11643"
                                },
                                {
                                    "Title": "Cat Among the Pigeons",
                                    "Authors": "Agatha Christie",
                                    "Average Rating": "3.82",
                                    "Tag ID": "11643"
                                },
                                {
                                    "Title": "Cat Among the Pigeons",
                                    "Authors": "Agatha Christie",
                                    "Average Rating": "3.82",
                                    "Tag ID": "11644"
                                },
                                {
                                    "Title": "Daniel Deronda",
                                    "Authors": "George Eliot, Edmund White",
                                    "Average Rating": "3.82",
                                    "Tag ID": "11643"
                                },
                                {
                                    "Title": "Daniel Deronda",
                                    "Authors": "George Eliot, Edmund White",
                                    "Average Rating": "3.82",
                                    "Tag ID": "11644"
                                },
                                {
                                    "Title": "Dinner at the Homesick Restaurant",
                                    "Authors": "Anne Tyler",
                                    "Average Rating": "3.82",
                                    "Tag ID": "11643"
                                },
                                {
                                    "Title": "Dinner at the Homesick Restaurant",
                                    "Authors": "Anne Tyler",
                                    "Average Rating": "3.82",
                                    "Tag ID": "11644"
                                },
                                {
                                    "Title": "Falling Free",
                                    "Authors": "Lois McMaster Bujold",
                                    "Average Rating": "3.82",
                                    "Tag ID": "11643"
                                },
                                {
                                    "Title": "Housekeeping",
                                    "Authors": "Marilynne Robinson",
                                    "Average Rating": "3.82",
                                    "Tag ID": "11643"
                                },
                                {
                                    "Title": "Housekeeping",
                                    "Authors": "Marilynne Robinson",
                                    "Average Rating": "3.82",
                                    "Tag ID": "11644"
                                },
                                {
                                    "Title": "Petals on the Wind",
                                    "Authors": "V.C. Andrews",
                                    "Average Rating": "3.82",
                                    "Tag ID": "11643"
                                },
                                {
                                    "Title": "Push",
                                    "Authors": "Sapphire",
                                    "Average Rating": "3.82",
                                    "Tag ID": "11643"
                                },
                                {
                                    "Title": "Strangers on a Train",
                                    "Authors": "Patricia Highsmith",
                                    "Average Rating": "3.82",
                                    "Tag ID": "11643"
                                },
                                {
                                    "Title": "Strangers on a Train",
                                    "Authors": "Patricia Highsmith",
                                    "Average Rating": "3.82",
                                    "Tag ID": "11644"
                                },
                                {
                                    "Title": "Suite française ",
                                    "Authors": "Irène Némirovsky, Sandra Smith",
                                    "Average Rating": "3.82",
                                    "Tag ID": "11644"
                                },
                                {
                                    "Title": "The Duchess War",
                                    "Authors": "Courtney Milan",
                                    "Average Rating": "3.82",
                                    "Tag ID": "11643"
                                },
                                {
                                    "Title": "The Lowland",
                                    "Authors": "Jhumpa Lahiri",
                                    "Average Rating": "3.82",
                                    "Tag ID": "11643"
                                },
                                {
                                    "Title": "The Lowland",
                                    "Authors": "Jhumpa Lahiri",
                                    "Average Rating": "3.82",
                                    "Tag ID": "11644"
                                },
                                {
                                    "Title": "The Opposite of Loneliness",
                                    "Authors": "Marina Keegan",
                                    "Average Rating": "3.82",
                                    "Tag ID": "11643"
                                },
                                {
                                    "Title": "The Opposite of Loneliness",
                                    "Authors": "Marina Keegan",
                                    "Average Rating": "3.82",
                                    "Tag ID": "11644"
                                },
                                {
                                    "Title": "The Robber Bride",
                                    "Authors": "Margaret Atwood",
                                    "Average Rating": "3.82",
                                    "Tag ID": "11643"
                                },
                                {
                                    "Title": "The Robber Bride",
                                    "Authors": "Margaret Atwood",
                                    "Average Rating": "3.82",
                                    "Tag ID": "11644"
                                },
                                {
                                    "Title": "The Secret Adversary",
                                    "Authors": "Agatha Christie",
                                    "Average Rating": "3.82",
                                    "Tag ID": "11643"
                                },
                                {
                                    "Title": "Too Much Happiness",
                                    "Authors": "Alice Munro",
                                    "Average Rating": "3.82",
                                    "Tag ID": "11643"
                                },
                                {
                                    "Title": "Too Much Happiness",
                                    "Authors": "Alice Munro",
                                    "Average Rating": "3.82",
                                    "Tag ID": "11644"
                                },
                                {
                                    "Title": "Wuthering Heights",
                                    "Authors": "Emily Brontë, Richard J. Dunn",
                                    "Average Rating": "3.82",
                                    "Tag ID": "11643"
                                },
                                {
                                    "Title": "Wuthering Heights",
                                    "Authors": "Emily Brontë, Richard J. Dunn",
                                    "Average Rating": "3.82",
                                    "Tag ID": "11644"
                                },
                                {
                                    "Title": "Z: A Novel of Zelda Fitzgerald",
                                    "Authors": "Therese Anne Fowler",
                                    "Average Rating": "3.82",
                                    "Tag ID": "11643"
                                },
                                {
                                    "Title": "Z: A Novel of Zelda Fitzgerald",
                                    "Authors": "Therese Anne Fowler",
                                    "Average Rating": "3.82",
                                    "Tag ID": "11644"
                                },
                                {
                                    "Title": "Death at La Fenice",
                                    "Authors": "Donna Leon",
                                    "Average Rating": "3.81",
                                    "Tag ID": "11643"
                                },
                                {
                                    "Title": "Death at La Fenice",
                                    "Authors": "Donna Leon",
                                    "Average Rating": "3.81",
                                    "Tag ID": "11644"
                                },
                                {
                                    "Title": "I Heard That Song Before",
                                    "Authors": "Mary Higgins Clark",
                                    "Average Rating": "3.81",
                                    "Tag ID": "11643"
                                },
                                {
                                    "Title": "Little Lord Fauntleroy",
                                    "Authors": "Frances Hodgson Burnett",
                                    "Average Rating": "3.81",
                                    "Tag ID": "11643"
                                },
                                {
                                    "Title": "No One Belongs Here More Than You",
                                    "Authors": "Miranda July",
                                    "Average Rating": "3.81",
                                    "Tag ID": "11643"
                                },
                                {
                                    "Title": "No One Belongs Here More Than You",
                                    "Authors": "Miranda July",
                                    "Average Rating": "3.81",
                                    "Tag ID": "11644"
                                },
                                {
                                    "Title": "Remarkable Creatures",
                                    "Authors": "Tracy Chevalier",
                                    "Average Rating": "3.81",
                                    "Tag ID": "11644"
                                },
                                {
                                    "Title": "Salvage the Bones",
                                    "Authors": "Jesmyn Ward",
                                    "Average Rating": "3.81",
                                    "Tag ID": "11643"
                                },
                                {
                                    "Title": "Seeds of Yesterday",
                                    "Authors": "V.C. Andrews",
                                    "Average Rating": "3.81",
                                    "Tag ID": "11644"
                                },
                                {
                                    "Title": "The Signature of All Things",
                                    "Authors": "Elizabeth Gilbert",
                                    "Average Rating": "3.81",
                                    "Tag ID": "11643"
                                },
                                {
                                    "Title": "The Signature of All Things",
                                    "Authors": "Elizabeth Gilbert",
                                    "Average Rating": "3.81",
                                    "Tag ID": "11644"
                                },
                                {
                                    "Title": "Yes Please",
                                    "Authors": "Amy Poehler",
                                    "Average Rating": "3.81",
                                    "Tag ID": "11643"
                                },
                                {
                                    "Title": "Yes Please",
                                    "Authors": "Amy Poehler",
                                    "Average Rating": "3.81",
                                    "Tag ID": "11644"
                                },
                                {
                                    "Title": "Anyone But You ",
                                    "Authors": "Jennifer Crusie",
                                    "Average Rating": "3.8",
                                    "Tag ID": "11643"
                                },
                                {
                                    "Title": "El amante japonés",
                                    "Authors": "Isabel Allende, Nick Caistor, Amanda Hopkinson",
                                    "Average Rating": "3.8",
                                    "Tag ID": "11644"
                                },
                                {
                                    "Title": "Jonathan Strange & Mr Norrell",
                                    "Authors": "Susanna Clarke",
                                    "Average Rating": "3.8",
                                    "Tag ID": "11643"
                                },
                                {
                                    "Title": "Jonathan Strange & Mr Norrell",
                                    "Authors": "Susanna Clarke",
                                    "Average Rating": "3.8",
                                    "Tag ID": "11644"
                                },
                                {
                                    "Title": "Northanger Abbey",
                                    "Authors": "Jane Austen, Alfred MacAdam",
                                    "Average Rating": "3.8",
                                    "Tag ID": "11643"
                                },
                                {
                                    "Title": "Northanger Abbey",
                                    "Authors": "Jane Austen, Alfred MacAdam",
                                    "Average Rating": "3.8",
                                    "Tag ID": "11644"
                                },
                                {
                                    "Title": "Passing",
                                    "Authors": "Nella Larsen, Ntozake Shange, Thadious M. Davis",
                                    "Average Rating": "3.8",
                                    "Tag ID": "11643"
                                },
                                {
                                    "Title": "Passing",
                                    "Authors": "Nella Larsen, Ntozake Shange, Thadious M. Davis",
                                    "Average Rating": "3.8",
                                    "Tag ID": "11644"
                                },
                                {
                                    "Title": "Practical Magic",
                                    "Authors": "Alice Hoffman",
                                    "Average Rating": "3.8",
                                    "Tag ID": "11643"
                                },
                                {
                                    "Title": "Salem Falls",
                                    "Authors": "Jodi Picoult",
                                    "Average Rating": "3.8",
                                    "Tag ID": "11644"
                                },
                                {
                                    "Title": "So You Want to Be a Wizard",
                                    "Authors": "Diane Duane",
                                    "Average Rating": "3.8",
                                    "Tag ID": "11643"
                                },
                                {
                                    "Title": "The Hundred Thousand Kingdoms",
                                    "Authors": "N.K. Jemisin",
                                    "Average Rating": "3.8",
                                    "Tag ID": "11643"
                                },
                                {
                                    "Title": "The Hundred Thousand Kingdoms",
                                    "Authors": "N.K. Jemisin",
                                    "Average Rating": "3.8",
                                    "Tag ID": "11644"
                                },
                                {
                                    "Title": "The Murder on the Links",
                                    "Authors": "Agatha Christie",
                                    "Average Rating": "3.8",
                                    "Tag ID": "11644"
                                },
                                {
                                    "Title": "The Rapture of Canaan",
                                    "Authors": "Sheri Reynolds",
                                    "Average Rating": "3.8",
                                    "Tag ID": "11644"
                                },
                                {
                                    "Title": "A Thousand Acres",
                                    "Authors": "Jane Smiley",
                                    "Average Rating": "3.79",
                                    "Tag ID": "11643"
                                },
                                {
                                    "Title": "Afterwards",
                                    "Authors": "Rosamund Lupton",
                                    "Average Rating": "3.79",
                                    "Tag ID": "11643"
                                },
                                {
                                    "Title": "Baba ve Piç",
                                    "Authors": "Elif Shafak",
                                    "Average Rating": "3.79",
                                    "Tag ID": "11643"
                                },
                                {
                                    "Title": "Baba ve Piç",
                                    "Authors": "Elif Shafak",
                                    "Average Rating": "3.79",
                                    "Tag ID": "11644"
                                },
                                {
                                    "Title": "Divine Secrets of the Ya-Ya Sisterhood",
                                    "Authors": "Rebecca Wells",
                                    "Average Rating": "3.79",
                                    "Tag ID": "11643"
                                },
                                {
                                    "Title": "I'll Be Seeing You",
                                    "Authors": "Mary Higgins Clark",
                                    "Average Rating": "3.79",
                                    "Tag ID": "11643"
                                },
                                {
                                    "Title": "One Good Turn",
                                    "Authors": "Kate Atkinson",
                                    "Average Rating": "3.79",
                                    "Tag ID": "11643"
                                },
                                {
                                    "Title": "One Good Turn",
                                    "Authors": "Kate Atkinson",
                                    "Average Rating": "3.79",
                                    "Tag ID": "11644"
                                },
                                {
                                    "Title": "Spindle's End",
                                    "Authors": "Robin McKinley",
                                    "Average Rating": "3.79",
                                    "Tag ID": "11643"
                                },
                                {
                                    "Title": "Spindle's End",
                                    "Authors": "Robin McKinley",
                                    "Average Rating": "3.79",
                                    "Tag ID": "11644"
                                },
                                {
                                    "Title": "The Birth of Venus",
                                    "Authors": "Sarah Dunant",
                                    "Average Rating": "3.79",
                                    "Tag ID": "11644"
                                },
                                {
                                    "Title": "The End of Mr. Y.",
                                    "Authors": "Scarlett Thomas",
                                    "Average Rating": "3.79",
                                    "Tag ID": "3514"
                                },
                                {
                                    "Title": "The End of Mr. Y.",
                                    "Authors": "Scarlett Thomas",
                                    "Average Rating": "3.79",
                                    "Tag ID": "11644"
                                },
                                {
                                    "Title": "The Rainbow Comes and Goes: A Mother and Son On Life, Love, and Loss",
                                    "Authors": "Anderson Cooper, Gloria Vanderbilt",
                                    "Average Rating": "3.79",
                                    "Tag ID": "11643"
                                },
                                {
                                    "Title": "Watermelon",
                                    "Authors": "Marian Keyes",
                                    "Average Rating": "3.79",
                                    "Tag ID": "11644"
                                },
                                {
                                    "Title": "You Had Me At Hello",
                                    "Authors": "Mhairi McFarlane",
                                    "Average Rating": "3.79",
                                    "Tag ID": "11643"
                                },
                                {
                                    "Title": "A Map of the World",
                                    "Authors": "Jane Hamilton, Frank  Muller, C.J. Critt",
                                    "Average Rating": "3.78",
                                    "Tag ID": "11644"
                                },
                                {
                                    "Title": "Annabel",
                                    "Authors": "Lauren Oliver",
                                    "Average Rating": "3.78",
                                    "Tag ID": "11644"
                                },
                                {
                                    "Title": "Blubber",
                                    "Authors": "Judy Blume",
                                    "Average Rating": "3.78",
                                    "Tag ID": "11644"
                                },
                                {
                                    "Title": "Death in the Clouds",
                                    "Authors": "Agatha Christie",
                                    "Average Rating": "3.78",
                                    "Tag ID": "11644"
                                },
                                {
                                    "Title": "Everything I Never Told You",
                                    "Authors": "Celeste Ng",
                                    "Average Rating": "3.78",
                                    "Tag ID": "11643"
                                },
                                {
                                    "Title": "Everything I Never Told You",
                                    "Authors": "Celeste Ng",
                                    "Average Rating": "3.78",
                                    "Tag ID": "11644"
                                },
                                {
                                    "Title": "Girl Waits with Gun",
                                    "Authors": "Amy  Stewart",
                                    "Average Rating": "3.78",
                                    "Tag ID": "11643"
                                },
                                {
                                    "Title": "In Her Shoes",
                                    "Authors": "Jennifer Weiner",
                                    "Average Rating": "3.78",
                                    "Tag ID": "11643"
                                },
                                {
                                    "Title": "Jazz",
                                    "Authors": "Toni Morrison",
                                    "Average Rating": "3.78",
                                    "Tag ID": "11643"
                                },
                                {
                                    "Title": "Jazz",
                                    "Authors": "Toni Morrison",
                                    "Average Rating": "3.78",
                                    "Tag ID": "11644"
                                },
                                {
                                    "Title": "Last Chance Saloon",
                                    "Authors": "Marian Keyes",
                                    "Average Rating": "3.78",
                                    "Tag ID": "11644"
                                },
                                {
                                    "Title": "Mrs Dalloway",
                                    "Authors": "Virginia Woolf, Maureen Howard",
                                    "Average Rating": "3.78",
                                    "Tag ID": "11643"
                                },
                                {
                                    "Title": "Mrs Dalloway",
                                    "Authors": "Virginia Woolf, Maureen Howard",
                                    "Average Rating": "3.78",
                                    "Tag ID": "11644"
                                },
                                {
                                    "Title": "Nerilka's Story (Pern: Dragonriders of Pern, #5)",
                                    "Authors": "Anne McCaffrey",
                                    "Average Rating": "3.78",
                                    "Tag ID": "11643"
                                },
                                {
                                    "Title": "A Caribbean Mystery",
                                    "Authors": "Agatha Christie",
                                    "Average Rating": "3.77",
                                    "Tag ID": "11643"
                                },
                                {
                                    "Title": "Adam Bede",
                                    "Authors": "George Eliot, Joanna Trollope, Hugh Osborne",
                                    "Average Rating": "3.77",
                                    "Tag ID": "11643"
                                },
                                {
                                    "Title": "Adam Bede",
                                    "Authors": "George Eliot, Joanna Trollope, Hugh Osborne",
                                    "Average Rating": "3.77",
                                    "Tag ID": "11644"
                                },
                                {
                                    "Title": "Behind Her Eyes",
                                    "Authors": "Sarah Pinborough",
                                    "Average Rating": "3.77",
                                    "Tag ID": "11643"
                                },
                                {
                                    "Title": "Beloved",
                                    "Authors": "Toni Morrison",
                                    "Average Rating": "3.77",
                                    "Tag ID": "11643"
                                },
                                {
                                    "Title": "Beloved",
                                    "Authors": "Toni Morrison",
                                    "Average Rating": "3.77",
                                    "Tag ID": "11644"
                                },
                                {
                                    "Title": "Go Ask Alice",
                                    "Authors": "Beatrice Sparks, Anonymous",
                                    "Average Rating": "3.77",
                                    "Tag ID": "11644"
                                },
                                {
                                    "Title": "Lucky",
                                    "Authors": "Alice Sebold",
                                    "Average Rating": "3.77",
                                    "Tag ID": "11644"
                                },
                                {
                                    "Title": "Rose Daughter",
                                    "Authors": "Robin McKinley",
                                    "Average Rating": "3.77",
                                    "Tag ID": "11643"
                                },
                                {
                                    "Title": "Rumble Fish",
                                    "Authors": "S.E. Hinton",
                                    "Average Rating": "3.77",
                                    "Tag ID": "11644"
                                },
                                {
                                    "Title": "The Historian",
                                    "Authors": "Elizabeth Kostova",
                                    "Average Rating": "3.77",
                                    "Tag ID": "11643"
                                },
                                {
                                    "Title": "The Last Nude",
                                    "Authors": "Ellis Avery",
                                    "Average Rating": "3.77",
                                    "Tag ID": "32682"
                                },
                                {
                                    "Title": "The Lovely Bones",
                                    "Authors": "Alice Sebold",
                                    "Average Rating": "3.77",
                                    "Tag ID": "11644"
                                },
                                {
                                    "Title": "The Mill on the Floss",
                                    "Authors": "George Eliot, A.S. Byatt",
                                    "Average Rating": "3.77",
                                    "Tag ID": "11643"
                                },
                                {
                                    "Title": "The Mill on the Floss",
                                    "Authors": "George Eliot, A.S. Byatt",
                                    "Average Rating": "3.77",
                                    "Tag ID": "11644"
                                },
                                {
                                    "Title": "The Mystery of the Blue Train",
                                    "Authors": "Agatha Christie",
                                    "Average Rating": "3.77",
                                    "Tag ID": "11644"
                                },
                                {
                                    "Title": "The Other Side of the Story",
                                    "Authors": "Marian Keyes",
                                    "Average Rating": "3.77",
                                    "Tag ID": "11644"
                                },
                                {
                                    "Title": "人生がときめく片づけの魔法",
                                    "Authors": "Marie Kondō, Cathy Hirano",
                                    "Average Rating": "3.77",
                                    "Tag ID": "11643"
                                },
                                {
                                    "Title": "人生がときめく片づけの魔法",
                                    "Authors": "Marie Kondō, Cathy Hirano",
                                    "Average Rating": "3.77",
                                    "Tag ID": "11644"
                                },
                                {
                                    "Title": "Bokhandleren i Kabul",
                                    "Authors": "Åsne Seierstad, Ingrid Christopherson",
                                    "Average Rating": "3.76",
                                    "Tag ID": "11643"
                                },
                                {
                                    "Title": "Intet",
                                    "Authors": "Janne Teller, Martin Aitken",
                                    "Average Rating": "3.76",
                                    "Tag ID": "11643"
                                },
                                {
                                    "Title": "L'Amant",
                                    "Authors": "Marguerite Duras, Barbara Bray, Maxine Hong Kingston",
                                    "Average Rating": "3.76",
                                    "Tag ID": "11643"
                                },
                                {
                                    "Title": "L'Amant",
                                    "Authors": "Marguerite Duras, Barbara Bray, Maxine Hong Kingston",
                                    "Average Rating": "3.76",
                                    "Tag ID": "11644"
                                },
                                {
                                    "Title": "Little Earthquakes",
                                    "Authors": "Jennifer Weiner",
                                    "Average Rating": "3.76",
                                    "Tag ID": "11643"
                                },
                                {
                                    "Title": "My Ántonia",
                                    "Authors": "Willa Cather",
                                    "Average Rating": "3.76",
                                    "Tag ID": "11643"
                                },
                                {
                                    "Title": "My Ántonia",
                                    "Authors": "Willa Cather",
                                    "Average Rating": "3.76",
                                    "Tag ID": "11644"
                                },
                                {
                                    "Title": "Someone",
                                    "Authors": "Alice McDermott",
                                    "Average Rating": "3.76",
                                    "Tag ID": "11643"
                                },
                                {
                                    "Title": "The Girl with the Lower Back Tattoo",
                                    "Authors": "Amy Schumer",
                                    "Average Rating": "3.76",
                                    "Tag ID": "11643"
                                },
                                {
                                    "Title": "The Lacuna",
                                    "Authors": "Barbara Kingsolver",
                                    "Average Rating": "3.76",
                                    "Tag ID": "11643"
                                },
                                {
                                    "Title": "The Patron Saint of Liars",
                                    "Authors": "Ann Patchett",
                                    "Average Rating": "3.76",
                                    "Tag ID": "11643"
                                },
                                {
                                    "Title": "The Prime of Miss Jean Brodie ",
                                    "Authors": "Muriel Spark",
                                    "Average Rating": "3.76",
                                    "Tag ID": "11643"
                                },
                                {
                                    "Title": "The Prime of Miss Jean Brodie ",
                                    "Authors": "Muriel Spark",
                                    "Average Rating": "3.76",
                                    "Tag ID": "11644"
                                },
                                {
                                    "Title": "To The Lighthouse ",
                                    "Authors": "Virginia Woolf",
                                    "Average Rating": "3.76",
                                    "Tag ID": "11643"
                                },
                                {
                                    "Title": "To The Lighthouse ",
                                    "Authors": "Virginia Woolf",
                                    "Average Rating": "3.76",
                                    "Tag ID": "11644"
                                },
                                {
                                    "Title": "Under The Net",
                                    "Authors": "Iris Murdoch",
                                    "Average Rating": "3.76",
                                    "Tag ID": "3514"
                                },
                                {
                                    "Title": "Under The Net",
                                    "Authors": "Iris Murdoch",
                                    "Average Rating": "3.76",
                                    "Tag ID": "11643"
                                },
                                {
                                    "Title": "Under The Net",
                                    "Authors": "Iris Murdoch",
                                    "Average Rating": "3.76",
                                    "Tag ID": "11644"
                                },
                                {
                                    "Title": "엄마를 부탁해",
                                    "Authors": "Kyung-Sook Shin, 신경숙, Chi-Young Kim",
                                    "Average Rating": "3.76",
                                    "Tag ID": "11643"
                                },
                                {
                                    "Title": "엄마를 부탁해",
                                    "Authors": "Kyung-Sook Shin, 신경숙, Chi-Young Kim",
                                    "Average Rating": "3.76",
                                    "Tag ID": "11644"
                                },
                                {
                                    "Title": "Blue Nights",
                                    "Authors": "Joan Didion",
                                    "Average Rating": "3.75",
                                    "Tag ID": "11643"
                                },
                                {
                                    "Title": "Blue Nights",
                                    "Authors": "Joan Didion",
                                    "Average Rating": "3.75",
                                    "Tag ID": "11644"
                                },
                                {
                                    "Title": "Dear Life",
                                    "Authors": "Alice Munro",
                                    "Average Rating": "3.75",
                                    "Tag ID": "11643"
                                },
                                {
                                    "Title": "Dear Life",
                                    "Authors": "Alice Munro",
                                    "Average Rating": "3.75",
                                    "Tag ID": "11644"
                                },
                                {
                                    "Title": "El Zorro",
                                    "Authors": "Isabel Allende, Margaret Sayers Peden",
                                    "Average Rating": "3.75",
                                    "Tag ID": "11643"
                                },
                                {
                                    "Title": "El Zorro",
                                    "Authors": "Isabel Allende, Margaret Sayers Peden",
                                    "Average Rating": "3.75",
                                    "Tag ID": "11644"
                                },
                                {
                                    "Title": "Ellen Foster",
                                    "Authors": "Kaye Gibbons",
                                    "Average Rating": "3.75",
                                    "Tag ID": "11643"
                                },
                                {
                                    "Title": "Frankenstein; or, The Modern Prometheus",
                                    "Authors": "Mary Wollstonecraft Shelley, Percy Bysshe Shelley, Maurice Hindle",
                                    "Average Rating": "3.75",
                                    "Tag ID": "11643"
                                },
                                {
                                    "Title": "Frankenstein; or, The Modern Prometheus",
                                    "Authors": "Mary Wollstonecraft Shelley, Percy Bysshe Shelley, Maurice Hindle",
                                    "Average Rating": "3.75",
                                    "Tag ID": "11644"
                                },
                                {
                                    "Title": "How to Make Love Like a Porn Star: A Cautionary Tale",
                                    "Authors": "Jenna Jameson, Neil Strauss",
                                    "Average Rating": "3.75",
                                    "Tag ID": "11643"
                                },
                                {
                                    "Title": "Living History",
                                    "Authors": "Hillary Rodham Clinton",
                                    "Average Rating": "3.75",
                                    "Tag ID": "11644"
                                },
                                {
                                    "Title": "Oranges Are Not the Only Fruit",
                                    "Authors": "Jeanette Winterson",
                                    "Average Rating": "3.75",
                                    "Tag ID": "11643"
                                },
                                {
                                    "Title": "Oranges Are Not the Only Fruit",
                                    "Authors": "Jeanette Winterson",
                                    "Average Rating": "3.75",
                                    "Tag ID": "11644"
                                },
                                {
                                    "Title": "The Bloodletter's Daughter: A Novel of Old Bohemia",
                                    "Authors": "Linda Lafferty",
                                    "Average Rating": "3.75",
                                    "Tag ID": "11644"
                                },
                                {
                                    "Title": "The Golden Notebook",
                                    "Authors": "Doris Lessing",
                                    "Average Rating": "3.75",
                                    "Tag ID": "11643"
                                },
                                {
                                    "Title": "The Golden Notebook",
                                    "Authors": "Doris Lessing",
                                    "Average Rating": "3.75",
                                    "Tag ID": "11644"
                                },
                                {
                                    "Title": "The Sisterhood of the Traveling Pants",
                                    "Authors": "Ann Brashares",
                                    "Average Rating": "3.75",
                                    "Tag ID": "11644"
                                },
                                {
                                    "Title": "This Charming Man",
                                    "Authors": "Marian Keyes",
                                    "Average Rating": "3.75",
                                    "Tag ID": "11644"
                                },
                                {
                                    "Title": "Villette",
                                    "Authors": "Charlotte Brontë, A.S. Byatt, Μαρία Λαϊνά, Ignes Sodre",
                                    "Average Rating": "3.75",
                                    "Tag ID": "11643"
                                },
                                {
                                    "Title": "Villette",
                                    "Authors": "Charlotte Brontë, A.S. Byatt, Μαρία Λαϊνά, Ignes Sodre",
                                    "Average Rating": "3.75",
                                    "Tag ID": "11644"
                                },
                                {
                                    "Title": "White Teeth",
                                    "Authors": "Zadie Smith",
                                    "Average Rating": "3.75",
                                    "Tag ID": "11643"
                                },
                                {
                                    "Title": "White Teeth",
                                    "Authors": "Zadie Smith",
                                    "Average Rating": "3.75",
                                    "Tag ID": "11644"
                                },
                                {
                                    "Title": "Bella Tuscany",
                                    "Authors": "Frances Mayes",
                                    "Average Rating": "3.74",
                                    "Tag ID": "11643"
                                },
                                {
                                    "Title": "Galileo's Daughter",
                                    "Authors": "Dava Sobel",
                                    "Average Rating": "3.74",
                                    "Tag ID": "11643"
                                },
                                {
                                    "Title": "H is for Hawk",
                                    "Authors": "Helen Macdonald",
                                    "Average Rating": "3.74",
                                    "Tag ID": "11643"
                                },
                                {
                                    "Title": "H is for Hawk",
                                    "Authors": "Helen Macdonald",
                                    "Average Rating": "3.74",
                                    "Tag ID": "11644"
                                },
                                {
                                    "Title": "In the Woods",
                                    "Authors": "Tana French",
                                    "Average Rating": "3.74",
                                    "Tag ID": "11643"
                                },
                                {
                                    "Title": "In the Woods",
                                    "Authors": "Tana French",
                                    "Average Rating": "3.74",
                                    "Tag ID": "11644"
                                },
                                {
                                    "Title": "Life After Life",
                                    "Authors": "Kate Atkinson",
                                    "Average Rating": "3.74",
                                    "Tag ID": "11643"
                                },
                                {
                                    "Title": "Lucy Sullivan is Getting Married",
                                    "Authors": "Marian Keyes",
                                    "Average Rating": "3.74",
                                    "Tag ID": "11643"
                                },
                                {
                                    "Title": "One, Two, Buckle My Shoe",
                                    "Authors": "Agatha Christie, Hugh Fraser",
                                    "Average Rating": "3.74",
                                    "Tag ID": "11644"
                                },
                                {
                                    "Title": "Rosemary and Rue",
                                    "Authors": "Seanan McGuire",
                                    "Average Rating": "3.74",
                                    "Tag ID": "11643"
                                },
                                {
                                    "Title": "The Ghost Bride",
                                    "Authors": "Yangsze Choo",
                                    "Average Rating": "3.74",
                                    "Tag ID": "11643"
                                },
                                {
                                    "Title": "The Illustrated Mum",
                                    "Authors": "Jacqueline Wilson, Nick Sharratt",
                                    "Average Rating": "3.74",
                                    "Tag ID": "3514"
                                },
                                {
                                    "Title": "The Illustrated Mum",
                                    "Authors": "Jacqueline Wilson, Nick Sharratt",
                                    "Average Rating": "3.74",
                                    "Tag ID": "11643"
                                },
                                {
                                    "Title": "The Illustrated Mum",
                                    "Authors": "Jacqueline Wilson, Nick Sharratt",
                                    "Average Rating": "3.74",
                                    "Tag ID": "11644"
                                },
                                {
                                    "Title": "They Do it with Mirrors",
                                    "Authors": "Agatha Christie",
                                    "Average Rating": "3.74",
                                    "Tag ID": "11643"
                                },
                                {
                                    "Title": "They Do it with Mirrors",
                                    "Authors": "Agatha Christie",
                                    "Average Rating": "3.74",
                                    "Tag ID": "11644"
                                },
                                {
                                    "Title": "All-American Girl",
                                    "Authors": "Meg Cabot",
                                    "Average Rating": "3.73",
                                    "Tag ID": "11643"
                                },
                                {
                                    "Title": "Angels",
                                    "Authors": "Marian Keyes",
                                    "Average Rating": "3.73",
                                    "Tag ID": "11643"
                                },
                                {
                                    "Title": "Angels",
                                    "Authors": "Marian Keyes",
                                    "Average Rating": "3.73",
                                    "Tag ID": "11644"
                                },
                                {
                                    "Title": "Ceremony",
                                    "Authors": "Leslie Marmon Silko",
                                    "Average Rating": "3.73",
                                    "Tag ID": "11644"
                                },
                                {
                                    "Title": "Drowning Ruth",
                                    "Authors": "Christina Schwarz",
                                    "Average Rating": "3.73",
                                    "Tag ID": "11643"
                                },
                                {
                                    "Title": "Empress of the World",
                                    "Authors": "Sara Ryan",
                                    "Average Rating": "3.73",
                                    "Tag ID": "11643"
                                },
                                {
                                    "Title": "How to Be a Woman",
                                    "Authors": "Caitlin Moran",
                                    "Average Rating": "3.73",
                                    "Tag ID": "11643"
                                },
                                {
                                    "Title": "How to Be a Woman",
                                    "Authors": "Caitlin Moran",
                                    "Average Rating": "3.73",
                                    "Tag ID": "11644"
                                },
                                {
                                    "Title": "I remember nothing and other reflections",
                                    "Authors": "Nora Ephron",
                                    "Average Rating": "3.73",
                                    "Tag ID": "11643"
                                },
                                {
                                    "Title": "Lady Audley's Secret",
                                    "Authors": "Mary Elizabeth Braddon",
                                    "Average Rating": "3.73",
                                    "Tag ID": "11643"
                                },
                                {
                                    "Title": "Lady Audley's Secret",
                                    "Authors": "Mary Elizabeth Braddon",
                                    "Average Rating": "3.73",
                                    "Tag ID": "11644"
                                },
                                {
                                    "Title": "L'élégance du hérisson",
                                    "Authors": "Muriel Barbery, Alison Anderson",
                                    "Average Rating": "3.73",
                                    "Tag ID": "11643"
                                },
                                {
                                    "Title": "Memnoch The Devil",
                                    "Authors": "Anne Rice",
                                    "Average Rating": "3.73",
                                    "Tag ID": "11644"
                                },
                                {
                                    "Title": "Nick & Norah's Infinite Playlist",
                                    "Authors": "Rachel Cohn, David Levithan",
                                    "Average Rating": "3.73",
                                    "Tag ID": "11644"
                                },
                                {
                                    "Title": "The Invisible Library",
                                    "Authors": "Genevieve Cogman",
                                    "Average Rating": "3.73",
                                    "Tag ID": "11643"
                                },
                                {
                                    "Title": "The Weight of Blood",
                                    "Authors": "Laura McHugh",
                                    "Average Rating": "3.73",
                                    "Tag ID": "11643"
                                },
                                {
                                    "Title": "A Raisin in the Sun",
                                    "Authors": "Lorraine Hansberry",
                                    "Average Rating": "3.72",
                                    "Tag ID": "11643"
                                },
                                {
                                    "Title": "A Raisin in the Sun",
                                    "Authors": "Lorraine Hansberry",
                                    "Average Rating": "3.72",
                                    "Tag ID": "11644"
                                },
                                {
                                    "Title": "American Wife",
                                    "Authors": "Curtis Sittenfeld",
                                    "Average Rating": "3.72",
                                    "Tag ID": "11643"
                                },
                                {
                                    "Title": "Dept. of Speculation",
                                    "Authors": "Jenny Offill",
                                    "Average Rating": "3.72",
                                    "Tag ID": "11643"
                                },
                                {
                                    "Title": "Dept. of Speculation",
                                    "Authors": "Jenny Offill",
                                    "Average Rating": "3.72",
                                    "Tag ID": "11644"
                                },
                                {
                                    "Title": "Girl in Hyacinth Blue",
                                    "Authors": "Susan Vreeland",
                                    "Average Rating": "3.72",
                                    "Tag ID": "11643"
                                },
                                {
                                    "Title": "Good Grief",
                                    "Authors": "Lolly Winston",
                                    "Average Rating": "3.72",
                                    "Tag ID": "11643"
                                },
                                {
                                    "Title": "Jinx",
                                    "Authors": "Meg Cabot",
                                    "Average Rating": "3.72",
                                    "Tag ID": "11643"
                                },
                                {
                                    "Title": "Ladder of Years",
                                    "Authors": "Anne Tyler",
                                    "Average Rating": "3.72",
                                    "Tag ID": "11643"
                                },
                                {
                                    "Title": "Seriously...I'm Kidding",
                                    "Authors": "Ellen DeGeneres",
                                    "Average Rating": "3.72",
                                    "Tag ID": "11644"
                                },
                                {
                                    "Title": "Sickened",
                                    "Authors": "Julie Gregory",
                                    "Average Rating": "3.72",
                                    "Tag ID": "11644"
                                },
                                {
                                    "Title": "Stupeur et tremblements",
                                    "Authors": "Amélie Nothomb",
                                    "Average Rating": "3.72",
                                    "Tag ID": "11644"
                                },
                                {
                                    "Title": "The Woman Warrior: Memoirs of a Girlhood Among Ghosts",
                                    "Authors": "Maxine Hong Kingston",
                                    "Average Rating": "3.72",
                                    "Tag ID": "11643"
                                },
                                {
                                    "Title": "The Woman Warrior: Memoirs of a Girlhood Among Ghosts",
                                    "Authors": "Maxine Hong Kingston",
                                    "Average Rating": "3.72",
                                    "Tag ID": "11644"
                                },
                                {
                                    "Title": "Apple Tree Yard",
                                    "Authors": "Louise Doughty",
                                    "Average Rating": "3.71",
                                    "Tag ID": "11643"
                                },
                                {
                                    "Title": "Beauty's Release (Sleeping Beauty, #3)",
                                    "Authors": "A.N. Roquelaure, Anne Rice",
                                    "Average Rating": "3.71",
                                    "Tag ID": "11643"
                                },
                                {
                                    "Title": "Blood, Bones and Butter: The Inadvertent Education of a Reluctant Chef",
                                    "Authors": "Gabrielle Hamilton",
                                    "Average Rating": "3.71",
                                    "Tag ID": "11643"
                                },
                                {
                                    "Title": "Home",
                                    "Authors": "Toni Morrison",
                                    "Average Rating": "3.71",
                                    "Tag ID": "11643"
                                },
                                {
                                    "Title": "Home",
                                    "Authors": "Toni Morrison",
                                    "Average Rating": "3.71",
                                    "Tag ID": "11644"
                                },
                                {
                                    "Title": "Innocence Lost (Kingmaker, Kingbreaker, #2)",
                                    "Authors": "Karen Miller",
                                    "Average Rating": "3.71",
                                    "Tag ID": "11643"
                                },
                                {
                                    "Title": "Shirley ",
                                    "Authors": "Charlotte Brontë, Lucasta Miller, collaborative, Jessica Cox",
                                    "Average Rating": "3.71",
                                    "Tag ID": "11643"
                                },
                                {
                                    "Title": "Shirley ",
                                    "Authors": "Charlotte Brontë, Lucasta Miller, collaborative, Jessica Cox",
                                    "Average Rating": "3.71",
                                    "Tag ID": "11644"
                                },
                                {
                                    "Title": "The Clocks",
                                    "Authors": "Agatha Christie, Robin Bailey",
                                    "Average Rating": "3.71",
                                    "Tag ID": "11643"
                                },
                                {
                                    "Title": "The Clocks",
                                    "Authors": "Agatha Christie, Robin Bailey",
                                    "Average Rating": "3.71",
                                    "Tag ID": "11644"
                                },
                                {
                                    "Title": "The Passenger",
                                    "Authors": "Lisa Lutz",
                                    "Average Rating": "3.71",
                                    "Tag ID": "11643"
                                },
                                {
                                    "Title": "We Are All Completely Beside Ourselves",
                                    "Authors": "Karen Joy Fowler",
                                    "Average Rating": "3.71",
                                    "Tag ID": "11643"
                                },
                                {
                                    "Title": "We Are All Completely Beside Ourselves",
                                    "Authors": "Karen Joy Fowler",
                                    "Average Rating": "3.71",
                                    "Tag ID": "11644"
                                },
                                {
                                    "Title": "We Need New Names",
                                    "Authors": "NoViolet Bulawayo",
                                    "Average Rating": "3.71",
                                    "Tag ID": "11643"
                                },
                                {
                                    "Title": "We Need New Names",
                                    "Authors": "NoViolet Bulawayo",
                                    "Average Rating": "3.71",
                                    "Tag ID": "11644"
                                },
                                {
                                    "Title": "Wishful Drinking",
                                    "Authors": "Carrie Fisher",
                                    "Average Rating": "3.71",
                                    "Tag ID": "11643"
                                },
                                {
                                    "Title": "Wishful Drinking",
                                    "Authors": "Carrie Fisher",
                                    "Average Rating": "3.71",
                                    "Tag ID": "11644"
                                },
                                {
                                    "Title": "At Bertram's Hotel",
                                    "Authors": "Agatha Christie",
                                    "Average Rating": "3.7",
                                    "Tag ID": "11644"
                                },
                                {
                                    "Title": "Catherine, Called Birdy",
                                    "Authors": "Karen Cushman",
                                    "Average Rating": "3.7",
                                    "Tag ID": "11643"
                                },
                                {
                                    "Title": "Elizabeth Is Missing",
                                    "Authors": "Emma Healey",
                                    "Average Rating": "3.7",
                                    "Tag ID": "11644"
                                },
                                {
                                    "Title": "God Help the Child",
                                    "Authors": "Toni Morrison",
                                    "Average Rating": "3.7",
                                    "Tag ID": "11643"
                                },
                                {
                                    "Title": "God Help the Child",
                                    "Authors": "Toni Morrison",
                                    "Average Rating": "3.7",
                                    "Tag ID": "11644"
                                },
                                {
                                    "Title": "Mary Barton",
                                    "Authors": "Elizabeth Gaskell, Shirley Foster",
                                    "Average Rating": "3.7",
                                    "Tag ID": "11643"
                                },
                                {
                                    "Title": "Mary Barton",
                                    "Authors": "Elizabeth Gaskell, Shirley Foster",
                                    "Average Rating": "3.7",
                                    "Tag ID": "11644"
                                },
                                {
                                    "Title": "Orange Is the New Black: My Year in a Women's Prison",
                                    "Authors": "Piper Kerman",
                                    "Average Rating": "3.7",
                                    "Tag ID": "11643"
                                },
                                {
                                    "Title": "Orange Is the New Black: My Year in a Women's Prison",
                                    "Authors": "Piper Kerman",
                                    "Average Rating": "3.7",
                                    "Tag ID": "11644"
                                },
                                {
                                    "Title": "Special Topics in Calamity Physics",
                                    "Authors": "Marisha Pessl",
                                    "Average Rating": "3.7",
                                    "Tag ID": "11643"
                                },
                                {
                                    "Title": "Special Topics in Calamity Physics",
                                    "Authors": "Marisha Pessl",
                                    "Average Rating": "3.7",
                                    "Tag ID": "11644"
                                },
                                {
                                    "Title": "The Devil Wears Prada",
                                    "Authors": "Lauren Weisberger",
                                    "Average Rating": "3.7",
                                    "Tag ID": "11643"
                                },
                                {
                                    "Title": "The Luminaries",
                                    "Authors": "Eleanor Catton",
                                    "Average Rating": "3.7",
                                    "Tag ID": "11643"
                                },
                                {
                                    "Title": "The Luminaries",
                                    "Authors": "Eleanor Catton",
                                    "Average Rating": "3.7",
                                    "Tag ID": "11644"
                                },
                                {
                                    "Title": "The Tale of the Body Thief",
                                    "Authors": "Anne Rice",
                                    "Average Rating": "3.7",
                                    "Tag ID": "11644"
                                },
                                {
                                    "Title": "Wave",
                                    "Authors": "Sonali Deraniyagala",
                                    "Average Rating": "3.7",
                                    "Tag ID": "11643"
                                },
                                {
                                    "Title": "Wave",
                                    "Authors": "Sonali Deraniyagala",
                                    "Average Rating": "3.7",
                                    "Tag ID": "11644"
                                },
                                {
                                    "Title": "We Were the Mulvaneys",
                                    "Authors": "Joyce Carol Oates",
                                    "Average Rating": "3.7",
                                    "Tag ID": "11643"
                                },
                                {
                                    "Title": "We Were the Mulvaneys",
                                    "Authors": "Joyce Carol Oates",
                                    "Average Rating": "3.7",
                                    "Tag ID": "11644"
                                },
                                {
                                    "Title": "What Looks Like Crazy on an Ordinary Day",
                                    "Authors": "Pearl Cleage",
                                    "Average Rating": "3.7",
                                    "Tag ID": "11644"
                                },
                                {
                                    "Title": "When the Emperor Was Divine",
                                    "Authors": "Julie Otsuka",
                                    "Average Rating": "3.7",
                                    "Tag ID": "11643"
                                },
                                {
                                    "Title": "When the Emperor Was Divine",
                                    "Authors": "Julie Otsuka",
                                    "Average Rating": "3.7",
                                    "Tag ID": "11644"
                                },
                                {
                                    "Title": "Delta of Venus",
                                    "Authors": "Anaïs Nin",
                                    "Average Rating": "3.69",
                                    "Tag ID": "11643"
                                },
                                {
                                    "Title": "Delta of Venus",
                                    "Authors": "Anaïs Nin",
                                    "Average Rating": "3.69",
                                    "Tag ID": "11644"
                                },
                                {
                                    "Title": "Double Act",
                                    "Authors": "Jacqueline Wilson, Nick Sharratt, Sue Heap",
                                    "Average Rating": "3.69",
                                    "Tag ID": "11643"
                                },
                                {
                                    "Title": "Double Act",
                                    "Authors": "Jacqueline Wilson, Nick Sharratt, Sue Heap",
                                    "Average Rating": "3.69",
                                    "Tag ID": "11644"
                                },
                                {
                                    "Title": "How to Build a Girl",
                                    "Authors": "Caitlin Moran",
                                    "Average Rating": "3.69",
                                    "Tag ID": "11643"
                                },
                                {
                                    "Title": "How to Build a Girl",
                                    "Authors": "Caitlin Moran",
                                    "Average Rating": "3.69",
                                    "Tag ID": "11644"
                                },
                                {
                                    "Title": "La ciudad de las bestias",
                                    "Authors": "Isabel Allende, Margaret Sayers Peden",
                                    "Average Rating": "3.69",
                                    "Tag ID": "11643"
                                },
                                {
                                    "Title": "Notes on a Scandal",
                                    "Authors": "Zoë Heller",
                                    "Average Rating": "3.69",
                                    "Tag ID": "11643"
                                },
                                {
                                    "Title": "Notes on a Scandal",
                                    "Authors": "Zoë Heller",
                                    "Average Rating": "3.69",
                                    "Tag ID": "11644"
                                },
                                {
                                    "Title": "Slammerkin",
                                    "Authors": "Emma Donoghue",
                                    "Average Rating": "3.69",
                                    "Tag ID": "11643"
                                },
                                {
                                    "Title": "Slammerkin",
                                    "Authors": "Emma Donoghue",
                                    "Average Rating": "3.69",
                                    "Tag ID": "11644"
                                },
                                {
                                    "Title": "Sushi for Beginners",
                                    "Authors": "Marian Keyes",
                                    "Average Rating": "3.69",
                                    "Tag ID": "11644"
                                },
                                {
                                    "Title": "Thanks for the Memories",
                                    "Authors": "Cecelia Ahern",
                                    "Average Rating": "3.69",
                                    "Tag ID": "11644"
                                },
                                {
                                    "Title": "The Art Forger",
                                    "Authors": "B.A. Shapiro",
                                    "Average Rating": "3.69",
                                    "Tag ID": "11643"
                                },
                                {
                                    "Title": "The Children of Men",
                                    "Authors": "P.D. James",
                                    "Average Rating": "3.69",
                                    "Tag ID": "11643"
                                },
                                {
                                    "Title": "The Children of Men",
                                    "Authors": "P.D. James",
                                    "Average Rating": "3.69",
                                    "Tag ID": "11644"
                                },
                                {
                                    "Title": "The Story of Tracy Beaker",
                                    "Authors": "Jacqueline Wilson, Nick Sharratt",
                                    "Average Rating": "3.69",
                                    "Tag ID": "11643"
                                },
                                {
                                    "Title": "The Story of Tracy Beaker",
                                    "Authors": "Jacqueline Wilson, Nick Sharratt",
                                    "Average Rating": "3.69",
                                    "Tag ID": "11644"
                                },
                                {
                                    "Title": "Then Came You",
                                    "Authors": "Jennifer Weiner",
                                    "Average Rating": "3.69",
                                    "Tag ID": "11643"
                                },
                                {
                                    "Title": "Among Others",
                                    "Authors": "Jo Walton",
                                    "Average Rating": "3.68",
                                    "Tag ID": "11643"
                                },
                                {
                                    "Title": "Icy Sparks",
                                    "Authors": "Gwyn Hyman Rubio",
                                    "Average Rating": "3.68",
                                    "Tag ID": "11644"
                                },
                                {
                                    "Title": "Legally Blonde",
                                    "Authors": "Amanda Brown",
                                    "Average Rating": "3.68",
                                    "Tag ID": "11644"
                                },
                                {
                                    "Title": "On Beauty",
                                    "Authors": "Zadie Smith",
                                    "Average Rating": "3.68",
                                    "Tag ID": "11643"
                                },
                                {
                                    "Title": "On Beauty",
                                    "Authors": "Zadie Smith",
                                    "Average Rating": "3.68",
                                    "Tag ID": "11644"
                                },
                                {
                                    "Title": "Open House",
                                    "Authors": "Elizabeth Berg",
                                    "Average Rating": "3.68",
                                    "Tag ID": "11644"
                                },
                                {
                                    "Title": "Rachael Ray 365: No Repeats--A Year of Deliciously Different Dinners (A 30-Minute Meal Cookbook)",
                                    "Authors": "Rachael Ray",
                                    "Average Rating": "3.68",
                                    "Tag ID": "11644"
                                },
                                {
                                    "Title": "The Woman in Black",
                                    "Authors": "Susan Hill, John Lawrence",
                                    "Average Rating": "3.68",
                                    "Tag ID": "11643"
                                },
                                {
                                    "Title": "The Woman in Black",
                                    "Authors": "Susan Hill, John Lawrence",
                                    "Average Rating": "3.68",
                                    "Tag ID": "11644"
                                },
                                {
                                    "Title": "Julie & Julia: 365 Days, 524 Recipes, 1 Tiny Apartment Kitchen",
                                    "Authors": "Julie Powell",
                                    "Average Rating": "3.67",
                                    "Tag ID": "11643"
                                },
                                {
                                    "Title": "Mother of Pearl",
                                    "Authors": "Melinda Haynes",
                                    "Average Rating": "3.67",
                                    "Tag ID": "11644"
                                },
                                {
                                    "Title": "The Bees",
                                    "Authors": "Laline Paull",
                                    "Average Rating": "3.67",
                                    "Tag ID": "11643"
                                },
                                {
                                    "Title": "The Bees",
                                    "Authors": "Laline Paull",
                                    "Average Rating": "3.67",
                                    "Tag ID": "11644"
                                },
                                {
                                    "Title": "The Edible Woman",
                                    "Authors": "Margaret Atwood",
                                    "Average Rating": "3.67",
                                    "Tag ID": "11643"
                                },
                                {
                                    "Title": "The Edible Woman",
                                    "Authors": "Margaret Atwood",
                                    "Average Rating": "3.67",
                                    "Tag ID": "11644"
                                },
                                {
                                    "Title": "The Lady and the Unicorn",
                                    "Authors": "Tracy Chevalier",
                                    "Average Rating": "3.67",
                                    "Tag ID": "11643"
                                },
                                {
                                    "Title": "The Lady and the Unicorn",
                                    "Authors": "Tracy Chevalier",
                                    "Average Rating": "3.67",
                                    "Tag ID": "11644"
                                },
                                {
                                    "Title": "The Night Sister",
                                    "Authors": "Jennifer McMahon",
                                    "Average Rating": "3.67",
                                    "Tag ID": "11644"
                                },
                                {
                                    "Title": "This One Summer",
                                    "Authors": "Mariko Tamaki, Jillian Tamaki",
                                    "Average Rating": "3.67",
                                    "Tag ID": "11643"
                                },
                                {
                                    "Title": "This One Summer",
                                    "Authors": "Mariko Tamaki, Jillian Tamaki",
                                    "Average Rating": "3.67",
                                    "Tag ID": "11644"
                                },
                                {
                                    "Title": "When God Was a Rabbit",
                                    "Authors": "Sarah Winman",
                                    "Average Rating": "3.67",
                                    "Tag ID": "11643"
                                },
                                {
                                    "Title": "When God Was a Rabbit",
                                    "Authors": "Sarah Winman",
                                    "Average Rating": "3.67",
                                    "Tag ID": "11644"
                                },
                                {
                                    "Title": "A Place Called Here",
                                    "Authors": "Cecelia Ahern",
                                    "Average Rating": "3.66",
                                    "Tag ID": "11644"
                                },
                                {
                                    "Title": "Are You My Mother?: A Comic Drama",
                                    "Authors": "Alison Bechdel",
                                    "Average Rating": "3.66",
                                    "Tag ID": "11643"
                                },
                                {
                                    "Title": "Are You My Mother?: A Comic Drama",
                                    "Authors": "Alison Bechdel",
                                    "Average Rating": "3.66",
                                    "Tag ID": "11644"
                                },
                                {
                                    "Title": "Hallowe'en Party",
                                    "Authors": "Agatha Christie",
                                    "Average Rating": "3.66",
                                    "Tag ID": "11643"
                                },
                                {
                                    "Title": "Hallowe'en Party",
                                    "Authors": "Agatha Christie",
                                    "Average Rating": "3.66",
                                    "Tag ID": "11644"
                                },
                                {
                                    "Title": "May We Be Forgiven",
                                    "Authors": "A.M. Homes",
                                    "Average Rating": "3.66",
                                    "Tag ID": "11643"
                                },
                                {
                                    "Title": "The Book of Tomorrow",
                                    "Authors": "Cecelia Ahern",
                                    "Average Rating": "3.66",
                                    "Tag ID": "11644"
                                },
                                {
                                    "Title": "The Children's Book",
                                    "Authors": "A.S. Byatt",
                                    "Average Rating": "3.66",
                                    "Tag ID": "11643"
                                },
                                {
                                    "Title": "The Penelopiad",
                                    "Authors": "Margaret Atwood",
                                    "Average Rating": "3.66",
                                    "Tag ID": "11643"
                                },
                                {
                                    "Title": "The Penelopiad",
                                    "Authors": "Margaret Atwood",
                                    "Average Rating": "3.66",
                                    "Tag ID": "11644"
                                },
                                {
                                    "Title": "The Princess Diarist",
                                    "Authors": "Carrie Fisher",
                                    "Average Rating": "3.66",
                                    "Tag ID": "11643"
                                },
                                {
                                    "Title": "The Princess Diarist",
                                    "Authors": "Carrie Fisher",
                                    "Average Rating": "3.66",
                                    "Tag ID": "11644"
                                },
                                {
                                    "Title": "The Wordy Shipmates",
                                    "Authors": "Sarah Vowell",
                                    "Average Rating": "3.66",
                                    "Tag ID": "11643"
                                },
                                {
                                    "Title": "A Mercy",
                                    "Authors": "Toni Morrison",
                                    "Average Rating": "3.65",
                                    "Tag ID": "11643"
                                },
                                {
                                    "Title": "A Mercy",
                                    "Authors": "Toni Morrison",
                                    "Average Rating": "3.65",
                                    "Tag ID": "11644"
                                },
                                {
                                    "Title": "Agnes Grey",
                                    "Authors": "Anne Brontë, Angeline Goreau",
                                    "Average Rating": "3.65",
                                    "Tag ID": "11643"
                                },
                                {
                                    "Title": "Agnes Grey",
                                    "Authors": "Anne Brontë, Angeline Goreau",
                                    "Average Rating": "3.65",
                                    "Tag ID": "11644"
                                },
                                {
                                    "Title": "Arcadia",
                                    "Authors": "Lauren Groff",
                                    "Average Rating": "3.65",
                                    "Tag ID": "11643"
                                },
                                {
                                    "Title": "Cinderella Ate My Daughter: Dispatches from the Frontlines of the New Girlie-Girl Culture",
                                    "Authors": "Peggy Orenstein",
                                    "Average Rating": "3.65",
                                    "Tag ID": "11643"
                                },
                                {
                                    "Title": "Cinderella Ate My Daughter: Dispatches from the Frontlines of the New Girlie-Girl Culture",
                                    "Authors": "Peggy Orenstein",
                                    "Average Rating": "3.65",
                                    "Tag ID": "11644"
                                },
                                {
                                    "Title": "I Feel Bad About My Neck: And Other Thoughts on Being a Woman",
                                    "Authors": "Nora Ephron",
                                    "Average Rating": "3.65",
                                    "Tag ID": "11643"
                                },
                                {
                                    "Title": "I Feel Bad About My Neck: And Other Thoughts on Being a Woman",
                                    "Authors": "Nora Ephron",
                                    "Average Rating": "3.65",
                                    "Tag ID": "11644"
                                },
                                {
                                    "Title": "In a Dark, Dark Wood ",
                                    "Authors": "Ruth Ware",
                                    "Average Rating": "3.65",
                                    "Tag ID": "11643"
                                },
                                {
                                    "Title": "Sea Glass",
                                    "Authors": "Anita Shreve",
                                    "Average Rating": "3.65",
                                    "Tag ID": "11643"
                                },
                                {
                                    "Title": "The Innocent Mage (Kingmaker, Kingbreaker, #1)",
                                    "Authors": "Karen Miller",
                                    "Average Rating": "3.65",
                                    "Tag ID": "11643"
                                },
                                {
                                    "Title": "The Virgin Blue",
                                    "Authors": "Tracy Chevalier",
                                    "Average Rating": "3.65",
                                    "Tag ID": "11644"
                                },
                                {
                                    "Title": "The Wonder",
                                    "Authors": "Emma Donoghue",
                                    "Average Rating": "3.65",
                                    "Tag ID": "11643"
                                },
                                {
                                    "Title": "The Wonder",
                                    "Authors": "Emma Donoghue",
                                    "Average Rating": "3.65",
                                    "Tag ID": "11644"
                                },
                                {
                                    "Title": "Wonderful Tonight: An Autobiography",
                                    "Authors": "Pattie Boyd, Penny Junor",
                                    "Average Rating": "3.65",
                                    "Tag ID": "11644"
                                },
                                {
                                    "Title": "A Complicated Kindness",
                                    "Authors": "Miriam Toews",
                                    "Average Rating": "3.64",
                                    "Tag ID": "11643"
                                },
                                {
                                    "Title": "A Complicated Kindness",
                                    "Authors": "Miriam Toews",
                                    "Average Rating": "3.64",
                                    "Tag ID": "11644"
                                },
                                {
                                    "Title": "A Visit From the Goon Squad",
                                    "Authors": "Jennifer Egan",
                                    "Average Rating": "3.64",
                                    "Tag ID": "11643"
                                },
                                {
                                    "Title": "A Visit From the Goon Squad",
                                    "Authors": "Jennifer Egan",
                                    "Average Rating": "3.64",
                                    "Tag ID": "11644"
                                },
                                {
                                    "Title": "Jacob Have I Loved",
                                    "Authors": "Katherine Paterson",
                                    "Average Rating": "3.64",
                                    "Tag ID": "11643"
                                },
                                {
                                    "Title": "The Age of Miracles",
                                    "Authors": "Karen Thompson Walker",
                                    "Average Rating": "3.64",
                                    "Tag ID": "11643"
                                },
                                {
                                    "Title": "The Age of Miracles",
                                    "Authors": "Karen Thompson Walker",
                                    "Average Rating": "3.64",
                                    "Tag ID": "11644"
                                },
                                {
                                    "Title": "The Memory Keeper's Daughter",
                                    "Authors": "Kim Edwards",
                                    "Average Rating": "3.64",
                                    "Tag ID": "11644"
                                },
                                {
                                    "Title": "The Turner House",
                                    "Authors": "Angela Flournoy",
                                    "Average Rating": "3.64",
                                    "Tag ID": "11643"
                                },
                                {
                                    "Title": "The Turner House",
                                    "Authors": "Angela Flournoy",
                                    "Average Rating": "3.64",
                                    "Tag ID": "11644"
                                },
                                {
                                    "Title": "Half Blood Blues",
                                    "Authors": "Esi Edugyan",
                                    "Average Rating": "3.63",
                                    "Tag ID": "11643"
                                },
                                {
                                    "Title": "Half Blood Blues",
                                    "Authors": "Esi Edugyan",
                                    "Average Rating": "3.63",
                                    "Tag ID": "11644"
                                },
                                {
                                    "Title": "Kabul Beauty School: An American Woman Goes Behind the Veil",
                                    "Authors": "Deborah Rodriguez",
                                    "Average Rating": "3.63",
                                    "Tag ID": "11644"
                                },
                                {
                                    "Title": "Ruby",
                                    "Authors": "Cynthia Bond",
                                    "Average Rating": "3.63",
                                    "Tag ID": "11643"
                                },
                                {
                                    "Title": "The Awakening",
                                    "Authors": "Kate Chopin",
                                    "Average Rating": "3.63",
                                    "Tag ID": "11643"
                                },
                                {
                                    "Title": "The Awakening",
                                    "Authors": "Kate Chopin",
                                    "Average Rating": "3.63",
                                    "Tag ID": "11644"
                                },
                                {
                                    "Title": "Uganda Be Kidding Me",
                                    "Authors": "Chelsea Handler",
                                    "Average Rating": "3.63",
                                    "Tag ID": "11644"
                                },
                                {
                                    "Title": "Unless",
                                    "Authors": "Carol Shields",
                                    "Average Rating": "3.63",
                                    "Tag ID": "11643"
                                },
                                {
                                    "Title": "Anthem",
                                    "Authors": "Ayn Rand",
                                    "Average Rating": "3.62",
                                    "Tag ID": "11643"
                                },
                                {
                                    "Title": "Anthem",
                                    "Authors": "Ayn Rand",
                                    "Average Rating": "3.62",
                                    "Tag ID": "11644"
                                },
                                {
                                    "Title": "Ash",
                                    "Authors": "Malinda Lo",
                                    "Average Rating": "3.62",
                                    "Tag ID": "11643"
                                },
                                {
                                    "Title": "Beauty's Punishment",
                                    "Authors": "A.N. Roquelaure, Anne Rice",
                                    "Average Rating": "3.62",
                                    "Tag ID": "11643"
                                },
                                {
                                    "Title": "Bonjour tristesse",
                                    "Authors": "Françoise Sagan",
                                    "Average Rating": "3.62",
                                    "Tag ID": "11643"
                                },
                                {
                                    "Title": "Bonjour tristesse",
                                    "Authors": "Françoise Sagan",
                                    "Average Rating": "3.62",
                                    "Tag ID": "11644"
                                },
                                {
                                    "Title": "Cleopatra: A Life",
                                    "Authors": "Stacy Schiff",
                                    "Average Rating": "3.62",
                                    "Tag ID": "11643"
                                },
                                {
                                    "Title": "Elephants Can Remember",
                                    "Authors": "Agatha Christie",
                                    "Average Rating": "3.62",
                                    "Tag ID": "11643"
                                },
                                {
                                    "Title": "Elephants Can Remember",
                                    "Authors": "Agatha Christie",
                                    "Average Rating": "3.62",
                                    "Tag ID": "11644"
                                },
                                {
                                    "Title": "How the Garcia Girls Lost Their Accents ",
                                    "Authors": "Julia Alvarez",
                                    "Average Rating": "3.62",
                                    "Tag ID": "11643"
                                },
                                {
                                    "Title": "How the Garcia Girls Lost Their Accents ",
                                    "Authors": "Julia Alvarez",
                                    "Average Rating": "3.62",
                                    "Tag ID": "11644"
                                },
                                {
                                    "Title": "The Beach House",
                                    "Authors": "Jane Green",
                                    "Average Rating": "3.62",
                                    "Tag ID": "11644"
                                },
                                {
                                    "Title": "The Empathy Exams: Essays",
                                    "Authors": "Leslie Jamison",
                                    "Average Rating": "3.62",
                                    "Tag ID": "11643"
                                },
                                {
                                    "Title": "The Empathy Exams: Essays",
                                    "Authors": "Leslie Jamison",
                                    "Average Rating": "3.62",
                                    "Tag ID": "11644"
                                },
                                {
                                    "Title": "The Weight of Water",
                                    "Authors": "Anita Shreve",
                                    "Average Rating": "3.62",
                                    "Tag ID": "11643"
                                },
                                {
                                    "Title": "The Weight of Water",
                                    "Authors": "Anita Shreve",
                                    "Average Rating": "3.62",
                                    "Tag ID": "11644"
                                },
                                {
                                    "Title": "How to Be Both",
                                    "Authors": "Ali Smith",
                                    "Average Rating": "3.61",
                                    "Tag ID": "11643"
                                },
                                {
                                    "Title": "How to Be Both",
                                    "Authors": "Ali Smith",
                                    "Average Rating": "3.61",
                                    "Tag ID": "11644"
                                },
                                {
                                    "Title": "Beauty Queens",
                                    "Authors": "Libba Bray",
                                    "Average Rating": "3.6",
                                    "Tag ID": "11643"
                                },
                                {
                                    "Title": "Belinda",
                                    "Authors": "Anne Rice, Anne Rampling",
                                    "Average Rating": "3.6",
                                    "Tag ID": "3514"
                                },
                                {
                                    "Title": "Nickel and Dimed: On (Not) Getting By in America",
                                    "Authors": "Barbara Ehrenreich",
                                    "Average Rating": "3.6",
                                    "Tag ID": "11643"
                                },
                                {
                                    "Title": "Nickel and Dimed: On (Not) Getting By in America",
                                    "Authors": "Barbara Ehrenreich",
                                    "Average Rating": "3.6",
                                    "Tag ID": "11644"
                                },
                                {
                                    "Title": "Silas Marner: The Weaver of Raveloe",
                                    "Authors": "George Eliot",
                                    "Average Rating": "3.6",
                                    "Tag ID": "11644"
                                },
                                {
                                    "Title": "Swing Time",
                                    "Authors": "Zadie Smith",
                                    "Average Rating": "3.6",
                                    "Tag ID": "11643"
                                },
                                {
                                    "Title": "Swing Time",
                                    "Authors": "Zadie Smith",
                                    "Average Rating": "3.6",
                                    "Tag ID": "11644"
                                },
                                {
                                    "Title": "The Big Four",
                                    "Authors": "Agatha Christie",
                                    "Average Rating": "3.6",
                                    "Tag ID": "11643"
                                },
                                {
                                    "Title": "The Big Four",
                                    "Authors": "Agatha Christie",
                                    "Average Rating": "3.6",
                                    "Tag ID": "11644"
                                },
                                {
                                    "Title": "Unfamiliar Fishes",
                                    "Authors": "Sarah Vowell",
                                    "Average Rating": "3.6",
                                    "Tag ID": "11643"
                                },
                                {
                                    "Title": "Unfamiliar Fishes",
                                    "Authors": "Sarah Vowell",
                                    "Average Rating": "3.6",
                                    "Tag ID": "11644"
                                },
                                {
                                    "Title": "Ya-Yas in Bloom",
                                    "Authors": "Rebecca Wells",
                                    "Average Rating": "3.6",
                                    "Tag ID": "11643"
                                },
                                {
                                    "Title": "The Amateur Marriage",
                                    "Authors": "Anne Tyler",
                                    "Average Rating": "3.59",
                                    "Tag ID": "11643"
                                },
                                {
                                    "Title": "The Amateur Marriage",
                                    "Authors": "Anne Tyler",
                                    "Average Rating": "3.59",
                                    "Tag ID": "32679"
                                },
                                {
                                    "Title": "The Book of Speculation",
                                    "Authors": "Erika Swyler",
                                    "Average Rating": "3.59",
                                    "Tag ID": "11643"
                                },
                                {
                                    "Title": "The Buddha in the Attic",
                                    "Authors": "Julie Otsuka",
                                    "Average Rating": "3.59",
                                    "Tag ID": "11643"
                                },
                                {
                                    "Title": "The Buddha in the Attic",
                                    "Authors": "Julie Otsuka",
                                    "Average Rating": "3.59",
                                    "Tag ID": "11644"
                                },
                                {
                                    "Title": "Whitethorn Woods",
                                    "Authors": "Maeve Binchy",
                                    "Average Rating": "3.59",
                                    "Tag ID": "11643"
                                },
                                {
                                    "Title": "채식주의자 ",
                                    "Authors": "Han Kang, Deborah     Smith",
                                    "Average Rating": "3.59",
                                    "Tag ID": "11643"
                                },
                                {
                                    "Title": "채식주의자 ",
                                    "Authors": "Han Kang, Deborah     Smith",
                                    "Average Rating": "3.59",
                                    "Tag ID": "11644"
                                },
                                {
                                    "Title": "All the Birds in the Sky",
                                    "Authors": "Charlie Jane Anders",
                                    "Average Rating": "3.58",
                                    "Tag ID": "11643"
                                },
                                {
                                    "Title": "Girl in a Band",
                                    "Authors": "Kim Gordon",
                                    "Average Rating": "3.58",
                                    "Tag ID": "11643"
                                },
                                {
                                    "Title": "Girl in a Band",
                                    "Authors": "Kim Gordon",
                                    "Average Rating": "3.58",
                                    "Tag ID": "11644"
                                },
                                {
                                    "Title": "How I Live Now",
                                    "Authors": "Meg Rosoff",
                                    "Average Rating": "3.58",
                                    "Tag ID": "11643"
                                },
                                {
                                    "Title": "The Beginner's Goodbye",
                                    "Authors": "Anne Tyler",
                                    "Average Rating": "3.58",
                                    "Tag ID": "11643"
                                },
                                {
                                    "Title": "The First Bad Man",
                                    "Authors": "Miranda July",
                                    "Average Rating": "3.58",
                                    "Tag ID": "11643"
                                },
                                {
                                    "Title": "The First Bad Man",
                                    "Authors": "Miranda July",
                                    "Average Rating": "3.58",
                                    "Tag ID": "11644"
                                },
                                {
                                    "Title": "The Miniaturist",
                                    "Authors": "Jessie Burton",
                                    "Average Rating": "3.58",
                                    "Tag ID": "11643"
                                },
                                {
                                    "Title": "The Miniaturist",
                                    "Authors": "Jessie Burton",
                                    "Average Rating": "3.58",
                                    "Tag ID": "11644"
                                },
                                {
                                    "Title": "The Monsters of Templeton",
                                    "Authors": "Lauren Groff",
                                    "Average Rating": "3.58",
                                    "Tag ID": "11644"
                                },
                                {
                                    "Title": "A Cup of Friendship",
                                    "Authors": "Deborah Rodriguez",
                                    "Average Rating": "3.57",
                                    "Tag ID": "11643"
                                },
                                {
                                    "Title": "Hard Choices",
                                    "Authors": "Hillary Rodham Clinton",
                                    "Average Rating": "3.57",
                                    "Tag ID": "11644"
                                },
                                {
                                    "Title": "Heartburn",
                                    "Authors": "Nora Ephron",
                                    "Average Rating": "3.57",
                                    "Tag ID": "11643"
                                },
                                {
                                    "Title": "Heartburn",
                                    "Authors": "Nora Ephron",
                                    "Average Rating": "3.57",
                                    "Tag ID": "11644"
                                },
                                {
                                    "Title": "Prozac Nation",
                                    "Authors": "Elizabeth Wurtzel",
                                    "Average Rating": "3.57",
                                    "Tag ID": "11644"
                                },
                                {
                                    "Title": "Reading Lolita in Tehran: A Memoir in Books",
                                    "Authors": "Azar Nafisi",
                                    "Average Rating": "3.57",
                                    "Tag ID": "11643"
                                },
                                {
                                    "Title": "Reading Lolita in Tehran: A Memoir in Books",
                                    "Authors": "Azar Nafisi",
                                    "Average Rating": "3.57",
                                    "Tag ID": "11644"
                                },
                                {
                                    "Title": "Spook: Science Tackles the Afterlife",
                                    "Authors": "Mary Roach",
                                    "Average Rating": "3.57",
                                    "Tag ID": "11643"
                                },
                                {
                                    "Title": "Spook: Science Tackles the Afterlife",
                                    "Authors": "Mary Roach",
                                    "Average Rating": "3.57",
                                    "Tag ID": "11644"
                                },
                                {
                                    "Title": "The House on Mango Street",
                                    "Authors": "Sandra Cisneros",
                                    "Average Rating": "3.57",
                                    "Tag ID": "11643"
                                },
                                {
                                    "Title": "The House on Mango Street",
                                    "Authors": "Sandra Cisneros",
                                    "Average Rating": "3.57",
                                    "Tag ID": "11644"
                                },
                                {
                                    "Title": "The Versions of Us",
                                    "Authors": "Laura  Barnett",
                                    "Average Rating": "3.57",
                                    "Tag ID": "11644"
                                },
                                {
                                    "Title": "Fates and Furies",
                                    "Authors": "Lauren Groff",
                                    "Average Rating": "3.56",
                                    "Tag ID": "11643"
                                },
                                {
                                    "Title": "Fates and Furies",
                                    "Authors": "Lauren Groff",
                                    "Average Rating": "3.56",
                                    "Tag ID": "11644"
                                },
                                {
                                    "Title": "Hotel du Lac",
                                    "Authors": "Anita Brookner",
                                    "Average Rating": "3.56",
                                    "Tag ID": "11643"
                                },
                                {
                                    "Title": "Lady Susan",
                                    "Authors": "Jane Austen, Robert William Chapman",
                                    "Average Rating": "3.56",
                                    "Tag ID": "11643"
                                },
                                {
                                    "Title": "Lady Susan",
                                    "Authors": "Jane Austen, Robert William Chapman",
                                    "Average Rating": "3.56",
                                    "Tag ID": "11644"
                                },
                                {
                                    "Title": "The Professor",
                                    "Authors": "Charlotte Brontë",
                                    "Average Rating": "3.56",
                                    "Tag ID": "11643"
                                },
                                {
                                    "Title": "The Professor",
                                    "Authors": "Charlotte Brontë",
                                    "Average Rating": "3.56",
                                    "Tag ID": "11644"
                                },
                                {
                                    "Title": "Bee Season",
                                    "Authors": "Myla Goldberg",
                                    "Average Rating": "3.55",
                                    "Tag ID": "11643"
                                },
                                {
                                    "Title": "Falling Angels",
                                    "Authors": "Tracy Chevalier",
                                    "Average Rating": "3.55",
                                    "Tag ID": "11643"
                                },
                                {
                                    "Title": "Falling Angels",
                                    "Authors": "Tracy Chevalier",
                                    "Average Rating": "3.55",
                                    "Tag ID": "11644"
                                },
                                {
                                    "Title": "Little Altars Everywhere",
                                    "Authors": "Rebecca Wells",
                                    "Average Rating": "3.55",
                                    "Tag ID": "11643"
                                },
                                {
                                    "Title": "The Other Typist",
                                    "Authors": "Suzanne Rindell",
                                    "Average Rating": "3.55",
                                    "Tag ID": "11643"
                                },
                                {
                                    "Title": "The Other Typist",
                                    "Authors": "Suzanne Rindell",
                                    "Average Rating": "3.55",
                                    "Tag ID": "11644"
                                },
                                {
                                    "Title": "Candy Girl",
                                    "Authors": "Diablo Cody",
                                    "Average Rating": "3.54",
                                    "Tag ID": "11643"
                                },
                                {
                                    "Title": "Candy Girl",
                                    "Authors": "Diablo Cody",
                                    "Average Rating": "3.54",
                                    "Tag ID": "11644"
                                },
                                {
                                    "Title": "Perfect",
                                    "Authors": "Rachel Joyce",
                                    "Average Rating": "3.54",
                                    "Tag ID": "11643"
                                },
                                {
                                    "Title": "The Interestings",
                                    "Authors": "Meg Wolitzer",
                                    "Average Rating": "3.54",
                                    "Tag ID": "11643"
                                },
                                {
                                    "Title": "The Interestings",
                                    "Authors": "Meg Wolitzer",
                                    "Average Rating": "3.54",
                                    "Tag ID": "11644"
                                },
                                {
                                    "Title": "What Do You Do?",
                                    "Authors": "Gillian Flynn",
                                    "Average Rating": "3.54",
                                    "Tag ID": "11643"
                                },
                                {
                                    "Title": "What Do You Do?",
                                    "Authors": "Gillian Flynn",
                                    "Average Rating": "3.54",
                                    "Tag ID": "11644"
                                },
                                {
                                    "Title": "What The Dead Know",
                                    "Authors": "Laura Lippman",
                                    "Average Rating": "3.54",
                                    "Tag ID": "11643"
                                },
                                {
                                    "Title": "Bridget Jones: The Edge of Reason",
                                    "Authors": "Helen Fielding",
                                    "Average Rating": "3.53",
                                    "Tag ID": "11643"
                                },
                                {
                                    "Title": "Bridget Jones: The Edge of Reason",
                                    "Authors": "Helen Fielding",
                                    "Average Rating": "3.53",
                                    "Tag ID": "11644"
                                },
                                {
                                    "Title": "Girls in Love",
                                    "Authors": "Jacqueline Wilson",
                                    "Average Rating": "3.53",
                                    "Tag ID": "11643"
                                },
                                {
                                    "Title": "Girls in Love",
                                    "Authors": "Jacqueline Wilson",
                                    "Average Rating": "3.53",
                                    "Tag ID": "11644"
                                },
                                {
                                    "Title": "The Girl in the Red Coat",
                                    "Authors": "Kate Hamer",
                                    "Average Rating": "3.53",
                                    "Tag ID": "11644"
                                },
                                {
                                    "Title": "The Post-Birthday World ",
                                    "Authors": "Lionel Shriver",
                                    "Average Rating": "3.52",
                                    "Tag ID": "11643"
                                },
                                {
                                    "Title": "The Post-Birthday World ",
                                    "Authors": "Lionel Shriver",
                                    "Average Rating": "3.52",
                                    "Tag ID": "11644"
                                },
                                {
                                    "Title": "The Woman who Stole my Life",
                                    "Authors": "Marian Keyes",
                                    "Average Rating": "3.52",
                                    "Tag ID": "11643"
                                },
                                {
                                    "Title": "Holy Cow: An Indian Adventure",
                                    "Authors": "Sarah Macdonald",
                                    "Average Rating": "3.51",
                                    "Tag ID": "11644"
                                },
                                {
                                    "Title": "My Name Is Lucy Barton",
                                    "Authors": "Elizabeth Strout, Goran Skrobonja",
                                    "Average Rating": "3.51",
                                    "Tag ID": "11643"
                                },
                                {
                                    "Title": "The Ice Queen",
                                    "Authors": "Alice Hoffman",
                                    "Average Rating": "3.51",
                                    "Tag ID": "11643"
                                },
                                {
                                    "Title": "Boneshaker ",
                                    "Authors": "Cherie Priest",
                                    "Average Rating": "3.5",
                                    "Tag ID": "11643"
                                },
                                {
                                    "Title": "The Girls",
                                    "Authors": "Emma Cline",
                                    "Average Rating": "3.49",
                                    "Tag ID": "11643"
                                },
                                {
                                    "Title": "The Girls",
                                    "Authors": "Emma Cline",
                                    "Average Rating": "3.49",
                                    "Tag ID": "11644"
                                },
                                {
                                    "Title": "The Shining Girls",
                                    "Authors": "Lauren Beukes",
                                    "Average Rating": "3.49",
                                    "Tag ID": "11643"
                                },
                                {
                                    "Title": "The Shining Girls",
                                    "Authors": "Lauren Beukes",
                                    "Average Rating": "3.49",
                                    "Tag ID": "11644"
                                },
                                {
                                    "Title": "Happier at Home: Kiss More, Jump More, Abandon a Project, Read Samuel Johnson, and My Other Experiments in the Practice of Everyday Life",
                                    "Authors": "Gretchen Rubin, Käthe Mazur",
                                    "Average Rating": "3.48",
                                    "Tag ID": "11644"
                                },
                                {
                                    "Title": "The Last Time They Met",
                                    "Authors": "Anita Shreve",
                                    "Average Rating": "3.48",
                                    "Tag ID": "11644"
                                },
                                {
                                    "Title": "The Mistress of Spices",
                                    "Authors": "Chitra Banerjee Divakaruni",
                                    "Average Rating": "3.48",
                                    "Tag ID": "11643"
                                },
                                {
                                    "Title": "Paint It Black",
                                    "Authors": "Janet Fitch",
                                    "Average Rating": "3.47",
                                    "Tag ID": "11644"
                                },
                                {
                                    "Title": "Renegade's Magic",
                                    "Authors": "Robin Hobb",
                                    "Average Rating": "3.46",
                                    "Tag ID": "11643"
                                },
                                {
                                    "Title": "The Dirty Girls Social Club",
                                    "Authors": "Alisa Valdes, Alisa Valdes-Rodriguez",
                                    "Average Rating": "3.46",
                                    "Tag ID": "11644"
                                },
                                {
                                    "Title": "The Flamethrowers",
                                    "Authors": "Rachel Kushner",
                                    "Average Rating": "3.46",
                                    "Tag ID": "11643"
                                },
                                {
                                    "Title": "The Flamethrowers",
                                    "Authors": "Rachel Kushner",
                                    "Average Rating": "3.46",
                                    "Tag ID": "11644"
                                },
                                {
                                    "Title": "The Twelve Tribes of Hattie",
                                    "Authors": "Ayana Mathis",
                                    "Average Rating": "3.46",
                                    "Tag ID": "11643"
                                },
                                {
                                    "Title": "Great House",
                                    "Authors": "Nicole Krauss",
                                    "Average Rating": "3.45",
                                    "Tag ID": "11643"
                                },
                                {
                                    "Title": "Great House",
                                    "Authors": "Nicole Krauss",
                                    "Average Rating": "3.45",
                                    "Tag ID": "11644"
                                },
                                {
                                    "Title": "I Was Told There'd Be Cake",
                                    "Authors": "Sloane Crosley",
                                    "Average Rating": "3.45",
                                    "Tag ID": "11643"
                                },
                                {
                                    "Title": "I Was Told There'd Be Cake",
                                    "Authors": "Sloane Crosley",
                                    "Average Rating": "3.45",
                                    "Tag ID": "11644"
                                },
                                {
                                    "Title": "Modern Lovers",
                                    "Authors": "Emma Straub",
                                    "Average Rating": "3.45",
                                    "Tag ID": "11643"
                                },
                                {
                                    "Title": "Surfacing",
                                    "Authors": "Margaret Atwood",
                                    "Average Rating": "3.45",
                                    "Tag ID": "11643"
                                },
                                {
                                    "Title": "Surfacing",
                                    "Authors": "Margaret Atwood",
                                    "Average Rating": "3.45",
                                    "Tag ID": "11644"
                                },
                                {
                                    "Title": "The Nest",
                                    "Authors": "Cynthia D'Aprix Sweeney",
                                    "Average Rating": "3.45",
                                    "Tag ID": "11643"
                                },
                                {
                                    "Title": "You Will Know Me",
                                    "Authors": "Megan Abbott",
                                    "Average Rating": "3.45",
                                    "Tag ID": "11643"
                                },
                                {
                                    "Title": "Dear Daughter",
                                    "Authors": "Elizabeth Little",
                                    "Average Rating": "3.44",
                                    "Tag ID": "11643"
                                },
                                {
                                    "Title": "Fear of Flying",
                                    "Authors": "Erica Jong",
                                    "Average Rating": "3.44",
                                    "Tag ID": "11643"
                                },
                                {
                                    "Title": "Fear of Flying",
                                    "Authors": "Erica Jong",
                                    "Average Rating": "3.44",
                                    "Tag ID": "11644"
                                },
                                {
                                    "Title": "Hidden",
                                    "Authors": "Catherine McKenzie",
                                    "Average Rating": "3.44",
                                    "Tag ID": "11643"
                                },
                                {
                                    "Title": "Scarlett: The Sequel to Margaret Mitchell's Gone With the Wind",
                                    "Authors": "Alexandra Ripley",
                                    "Average Rating": "3.44",
                                    "Tag ID": "11644"
                                },
                                {
                                    "Title": "Before we met",
                                    "Authors": "Lucie Whitehouse",
                                    "Average Rating": "3.43",
                                    "Tag ID": "11643"
                                },
                                {
                                    "Title": "The Keep",
                                    "Authors": "Jennifer Egan",
                                    "Average Rating": "3.43",
                                    "Tag ID": "11643"
                                },
                                {
                                    "Title": "The Keep",
                                    "Authors": "Jennifer Egan",
                                    "Average Rating": "3.43",
                                    "Tag ID": "11644"
                                },
                                {
                                    "Title": "The Little Friend",
                                    "Authors": "Donna Tartt",
                                    "Average Rating": "3.43",
                                    "Tag ID": "11643"
                                },
                                {
                                    "Title": "The Little Friend",
                                    "Authors": "Donna Tartt",
                                    "Average Rating": "3.43",
                                    "Tag ID": "11644"
                                },
                                {
                                    "Title": "The Suspicions of Mr. Whicher: Murder and the Undoing of a Great Victorian Detective",
                                    "Authors": "Kate Summerscale",
                                    "Average Rating": "3.43",
                                    "Tag ID": "11643"
                                },
                                {
                                    "Title": "The Suspicions of Mr. Whicher: Murder and the Undoing of a Great Victorian Detective",
                                    "Authors": "Kate Summerscale",
                                    "Average Rating": "3.43",
                                    "Tag ID": "11644"
                                },
                                {
                                    "Title": "Shaman's Crossing",
                                    "Authors": "Robin Hobb",
                                    "Average Rating": "3.42",
                                    "Tag ID": "11643"
                                },
                                {
                                    "Title": "The Middlesteins",
                                    "Authors": "Jami Attenberg",
                                    "Average Rating": "3.42",
                                    "Tag ID": "11643"
                                },
                                {
                                    "Title": "Vinegar Girl",
                                    "Authors": "Anne Tyler",
                                    "Average Rating": "3.42",
                                    "Tag ID": "11644"
                                },
                                {
                                    "Title": "NW ",
                                    "Authors": "Zadie Smith",
                                    "Average Rating": "3.41",
                                    "Tag ID": "11643"
                                },
                                {
                                    "Title": "NW ",
                                    "Authors": "Zadie Smith",
                                    "Average Rating": "3.41",
                                    "Tag ID": "11644"
                                },
                                {
                                    "Title": "Saving Fish from Drowning: A Novel",
                                    "Authors": "Amy Tan",
                                    "Average Rating": "3.41",
                                    "Tag ID": "11644"
                                },
                                {
                                    "Title": "The Dive From Clausen's Pier",
                                    "Authors": "Ann Packer",
                                    "Average Rating": "3.41",
                                    "Tag ID": "11643"
                                },
                                {
                                    "Title": "The Friday Night Knitting Club",
                                    "Authors": "Kate Jacobs",
                                    "Average Rating": "3.41",
                                    "Tag ID": "11644"
                                },
                                {
                                    "Title": "The Inheritance of Loss",
                                    "Authors": "Kiran Desai",
                                    "Average Rating": "3.41",
                                    "Tag ID": "11644"
                                },
                                {
                                    "Title": "Big Brother",
                                    "Authors": "Lionel Shriver",
                                    "Average Rating": "3.4",
                                    "Tag ID": "11644"
                                },
                                {
                                    "Title": "Down the Rabbit Hole: Curious Adventures and Cautionary Tales of a Former Playboy Bunny",
                                    "Authors": "Holly Madison",
                                    "Average Rating": "3.4",
                                    "Tag ID": "11644"
                                },
                                {
                                    "Title": "The Nanny Diaries",
                                    "Authors": "Emma McLaughlin, Nicola Kraus",
                                    "Average Rating": "3.4",
                                    "Tag ID": "11643"
                                },
                                {
                                    "Title": "Committed: A Skeptic Makes Peace with Marriage",
                                    "Authors": "Elizabeth Gilbert",
                                    "Average Rating": "3.39",
                                    "Tag ID": "11643"
                                },
                                {
                                    "Title": "Everyone Worth Knowing",
                                    "Authors": "Lauren Weisberger",
                                    "Average Rating": "3.39",
                                    "Tag ID": "11643"
                                },
                                {
                                    "Title": "The Paying Guests",
                                    "Authors": "Sarah Waters",
                                    "Average Rating": "3.39",
                                    "Tag ID": "11643"
                                },
                                {
                                    "Title": "The Paying Guests",
                                    "Authors": "Sarah Waters",
                                    "Average Rating": "3.39",
                                    "Tag ID": "11644"
                                },
                                {
                                    "Title": "Brick Lane",
                                    "Authors": "Monica Ali",
                                    "Average Rating": "3.38",
                                    "Tag ID": "11643"
                                },
                                {
                                    "Title": "Brick Lane",
                                    "Authors": "Monica Ali",
                                    "Average Rating": "3.38",
                                    "Tag ID": "11644"
                                },
                                {
                                    "Title": "Eileen",
                                    "Authors": "Ottessa Moshfegh",
                                    "Average Rating": "3.38",
                                    "Tag ID": "11643"
                                },
                                {
                                    "Title": "Eileen",
                                    "Authors": "Ottessa Moshfegh",
                                    "Average Rating": "3.38",
                                    "Tag ID": "11644"
                                },
                                {
                                    "Title": "A Short History of Tractors in Ukrainian",
                                    "Authors": "Marina Lewycka",
                                    "Average Rating": "3.37",
                                    "Tag ID": "11643"
                                },
                                {
                                    "Title": "I Am Having So Much Fun Here Without You",
                                    "Authors": "Courtney Maum",
                                    "Average Rating": "3.37",
                                    "Tag ID": "11644"
                                },
                                {
                                    "Title": "Sex and the City",
                                    "Authors": "Candace Bushnell",
                                    "Average Rating": "3.37",
                                    "Tag ID": "11643"
                                },
                                {
                                    "Title": "Sex and the City",
                                    "Authors": "Candace Bushnell",
                                    "Average Rating": "3.37",
                                    "Tag ID": "11644"
                                },
                                {
                                    "Title": "The Heart Goes Last",
                                    "Authors": "Margaret Atwood",
                                    "Average Rating": "3.37",
                                    "Tag ID": "11643"
                                },
                                {
                                    "Title": "The Heart Goes Last",
                                    "Authors": "Margaret Atwood",
                                    "Average Rating": "3.37",
                                    "Tag ID": "11644"
                                },
                                {
                                    "Title": "The Tiger's Wife",
                                    "Authors": "Téa Obreht",
                                    "Average Rating": "3.37",
                                    "Tag ID": "11643"
                                },
                                {
                                    "Title": "The Tiger's Wife",
                                    "Authors": "Téa Obreht",
                                    "Average Rating": "3.37",
                                    "Tag ID": "11644"
                                },
                                {
                                    "Title": "Commencement",
                                    "Authors": "J. Courtney Sullivan",
                                    "Average Rating": "3.36",
                                    "Tag ID": "11644"
                                },
                                {
                                    "Title": "Prep",
                                    "Authors": "Curtis Sittenfeld",
                                    "Average Rating": "3.36",
                                    "Tag ID": "11643"
                                },
                                {
                                    "Title": "Prep",
                                    "Authors": "Curtis Sittenfeld",
                                    "Average Rating": "3.36",
                                    "Tag ID": "11644"
                                },
                                {
                                    "Title": "The Weird Sisters",
                                    "Authors": "Eleanor Brown",
                                    "Average Rating": "3.36",
                                    "Tag ID": "11643"
                                },
                                {
                                    "Title": "Ethan Frome",
                                    "Authors": "Edith Wharton",
                                    "Average Rating": "3.35",
                                    "Tag ID": "11643"
                                },
                                {
                                    "Title": "Ethan Frome",
                                    "Authors": "Edith Wharton",
                                    "Average Rating": "3.35",
                                    "Tag ID": "11644"
                                },
                                {
                                    "Title": "Sisterland",
                                    "Authors": "Curtis Sittenfeld",
                                    "Average Rating": "3.35",
                                    "Tag ID": "11643"
                                },
                                {
                                    "Title": "Boy, Snow, Bird",
                                    "Authors": "Helen Oyeyemi",
                                    "Average Rating": "3.34",
                                    "Tag ID": "11643"
                                },
                                {
                                    "Title": "Boy, Snow, Bird",
                                    "Authors": "Helen Oyeyemi",
                                    "Average Rating": "3.34",
                                    "Tag ID": "11644"
                                },
                                {
                                    "Title": "Histoire d'O",
                                    "Authors": "Pauline Réage, Sabine d'Estree",
                                    "Average Rating": "3.34",
                                    "Tag ID": "11643"
                                },
                                {
                                    "Title": "Histoire d'O",
                                    "Authors": "Pauline Réage, Sabine d'Estree",
                                    "Average Rating": "3.34",
                                    "Tag ID": "11644"
                                },
                                {
                                    "Title": "Tampa",
                                    "Authors": "Alissa Nutting",
                                    "Average Rating": "3.34",
                                    "Tag ID": "11643"
                                },
                                {
                                    "Title": "Tampa",
                                    "Authors": "Alissa Nutting",
                                    "Average Rating": "3.34",
                                    "Tag ID": "11644"
                                },
                                {
                                    "Title": "Not that Kind of Girl",
                                    "Authors": "Lena Dunham, Joana Avillez",
                                    "Average Rating": "3.33",
                                    "Tag ID": "11643"
                                },
                                {
                                    "Title": "Not that Kind of Girl",
                                    "Authors": "Lena Dunham, Joana Avillez",
                                    "Average Rating": "3.33",
                                    "Tag ID": "11644"
                                },
                                {
                                    "Title": "Chasing Harry Winston",
                                    "Authors": "Lauren Weisberger",
                                    "Average Rating": "3.32",
                                    "Tag ID": "11643"
                                },
                                {
                                    "Title": "Mad About the Boy",
                                    "Authors": "Helen Fielding",
                                    "Average Rating": "3.32",
                                    "Tag ID": "11643"
                                },
                                {
                                    "Title": "The Three",
                                    "Authors": "Sarah Lotz",
                                    "Average Rating": "3.32",
                                    "Tag ID": "11643"
                                },
                                {
                                    "Title": "Go Set a Watchman",
                                    "Authors": "Harper Lee",
                                    "Average Rating": "3.31",
                                    "Tag ID": "11643"
                                },
                                {
                                    "Title": "The Woman Upstairs",
                                    "Authors": "Claire Messud",
                                    "Average Rating": "3.31",
                                    "Tag ID": "11643"
                                },
                                {
                                    "Title": "The Love Affairs of Nathaniel P. ",
                                    "Authors": "Adelle Waldman",
                                    "Average Rating": "3.3",
                                    "Tag ID": "11643"
                                },
                                {
                                    "Title": "The Love Affairs of Nathaniel P. ",
                                    "Authors": "Adelle Waldman",
                                    "Average Rating": "3.3",
                                    "Tag ID": "11644"
                                },
                                {
                                    "Title": "The Postmistress",
                                    "Authors": "Sarah Blake, Orlagh Cassidy",
                                    "Average Rating": "3.3",
                                    "Tag ID": "11644"
                                },
                                {
                                    "Title": "The Silent Wife",
                                    "Authors": "A.S.A. Harrison",
                                    "Average Rating": "3.3",
                                    "Tag ID": "11643"
                                },
                                {
                                    "Title": "The Girls' Guide to Hunting and Fishing",
                                    "Authors": "Melissa Bank",
                                    "Average Rating": "3.29",
                                    "Tag ID": "11643"
                                },
                                {
                                    "Title": "Sweetbitter",
                                    "Authors": "Stephanie Danler",
                                    "Average Rating": "3.28",
                                    "Tag ID": "11644"
                                },
                                {
                                    "Title": "The Casual Vacancy",
                                    "Authors": "J.K. Rowling",
                                    "Average Rating": "3.28",
                                    "Tag ID": "11643"
                                },
                                {
                                    "Title": "Bergdorf Blondes",
                                    "Authors": "Plum Sykes",
                                    "Average Rating": "3.26",
                                    "Tag ID": "11643"
                                },
                                {
                                    "Title": "El juego de Ripper",
                                    "Authors": "Isabel Allende, Oliver Brock, Frank Wynne",
                                    "Average Rating": "3.24",
                                    "Tag ID": "11643"
                                },
                                {
                                    "Title": "El juego de Ripper",
                                    "Authors": "Isabel Allende, Oliver Brock, Frank Wynne",
                                    "Average Rating": "3.24",
                                    "Tag ID": "11644"
                                },
                                {
                                    "Title": "Hausfrau",
                                    "Authors": "Jill Alexander Essbaum",
                                    "Average Rating": "3.24",
                                    "Tag ID": "11643"
                                },
                                {
                                    "Title": "Hausfrau",
                                    "Authors": "Jill Alexander Essbaum",
                                    "Average Rating": "3.24",
                                    "Tag ID": "11644"
                                },
                                {
                                    "Title": "Dare Me",
                                    "Authors": "Megan Abbott",
                                    "Average Rating": "3.23",
                                    "Tag ID": "11643"
                                },
                                {
                                    "Title": "Her Fearful Symmetry",
                                    "Authors": "Audrey Niffenegger",
                                    "Average Rating": "3.23",
                                    "Tag ID": "11643"
                                },
                                {
                                    "Title": "California",
                                    "Authors": "Edan Lepucki",
                                    "Average Rating": "3.22",
                                    "Tag ID": "11643"
                                },
                                {
                                    "Title": "California",
                                    "Authors": "Edan Lepucki",
                                    "Average Rating": "3.22",
                                    "Tag ID": "11644"
                                },
                                {
                                    "Title": "Death Comes to Pemberley",
                                    "Authors": "P.D. James",
                                    "Average Rating": "3.21",
                                    "Tag ID": "11643"
                                },
                                {
                                    "Title": "Swamplandia!",
                                    "Authors": "Karen Russell",
                                    "Average Rating": "3.21",
                                    "Tag ID": "11643"
                                },
                                {
                                    "Title": "Swamplandia!",
                                    "Authors": "Karen Russell",
                                    "Average Rating": "3.21",
                                    "Tag ID": "11644"
                                },
                                {
                                    "Title": "The Lifeboat",
                                    "Authors": "Charlotte Rogan",
                                    "Average Rating": "3.2",
                                    "Tag ID": "11644"
                                },
                                {
                                    "Title": "Songs of the Humpback Whale: A Novel in Five Voices",
                                    "Authors": "Jodi Picoult",
                                    "Average Rating": "3.19",
                                    "Tag ID": "11644"
                                },
                                {
                                    "Title": "The Particular Sadness of Lemon Cake",
                                    "Authors": "Aimee Bender",
                                    "Average Rating": "3.19",
                                    "Tag ID": "11643"
                                },
                                {
                                    "Title": "The Particular Sadness of Lemon Cake",
                                    "Authors": "Aimee Bender",
                                    "Average Rating": "3.19",
                                    "Tag ID": "11644"
                                },
                                {
                                    "Title": "All He Ever Wanted",
                                    "Authors": "Anita Shreve",
                                    "Average Rating": "3.18",
                                    "Tag ID": "11644"
                                },
                                {
                                    "Title": "بنات الرياض",
                                    "Authors": "Rajaa Alsanea",
                                    "Average Rating": "3.17",
                                    "Tag ID": "11643"
                                },
                                {
                                    "Title": "A Gate at the Stairs",
                                    "Authors": "Lorrie Moore",
                                    "Average Rating": "3.14",
                                    "Tag ID": "11643"
                                },
                                {
                                    "Title": "A Gate at the Stairs",
                                    "Authors": "Lorrie Moore",
                                    "Average Rating": "3.14",
                                    "Tag ID": "11644"
                                },
                                {
                                    "Title": "The Autograph Man",
                                    "Authors": "Zadie Smith",
                                    "Average Rating": "3.14",
                                    "Tag ID": "11643"
                                },
                                {
                                    "Title": "The Autograph Man",
                                    "Authors": "Zadie Smith",
                                    "Average Rating": "3.14",
                                    "Tag ID": "11644"
                                },
                                {
                                    "Title": "The Vacationers",
                                    "Authors": "Emma Straub",
                                    "Average Rating": "3.14",
                                    "Tag ID": "11643"
                                },
                                {
                                    "Title": "Frog Music",
                                    "Authors": "Emma Donoghue",
                                    "Average Rating": "3.13",
                                    "Tag ID": "11643"
                                },
                                {
                                    "Title": "Frog Music",
                                    "Authors": "Emma Donoghue",
                                    "Average Rating": "3.13",
                                    "Tag ID": "11644"
                                },
                                {
                                    "Title": "The Fever",
                                    "Authors": "Megan Abbott",
                                    "Average Rating": "3.12",
                                    "Tag ID": "11643"
                                },
                                {
                                    "Title": "Olivia Joules And The Overactive Imagination",
                                    "Authors": "Helen Fielding",
                                    "Average Rating": "3.1",
                                    "Tag ID": "11643"
                                },
                                {
                                    "Title": "The Jane Austen Book Club",
                                    "Authors": "Karen Joy Fowler",
                                    "Average Rating": "3.07",
                                    "Tag ID": "11643"
                                },
                                {
                                    "Title": "The Gathering",
                                    "Authors": "Anne Enright",
                                    "Average Rating": "3.04",
                                    "Tag ID": "11643"
                                },
                                {
                                    "Title": "Seating Arrangements",
                                    "Authors": "Maggie Shipstead",
                                    "Average Rating": "3.02",
                                    "Tag ID": "11643"
                                },
                                {
                                    "Title": "The Emperor's Children",
                                    "Authors": "Claire Messud",
                                    "Average Rating": "2.93",
                                    "Tag ID": "11643"
                                },
                                {
                                    "Title": "The Emperor's Children",
                                    "Authors": "Claire Messud",
                                    "Average Rating": "2.93",
                                    "Tag ID": "11644"
                                },
                                {
                                    "Title": "Four Blondes",
                                    "Authors": "Candace Bushnell",
                                    "Average Rating": "2.8",
                                    "Tag ID": "11643"
                                },
                                {
                                    "Title": "Four Blondes",
                                    "Authors": "Candace Bushnell",
                                    "Average Rating": "2.8",
                                    "Tag ID": "11644"
                                },
                                {
                                    "Title": "The Almost Moon",
                                    "Authors": "Alice Sebold",
                                    "Average Rating": "2.67",
                                    "Tag ID": "11644"
                                }
                            ]
                        },
                        "text/html": [
                            "<table>",
                            "<tr><th>Title</th><th>Authors</th><th>Average Rating</th><th>Tag ID</th></tr>",
                            "<tr><td>Harry Potter Boxed Set Books 1-4</td><td>J.K. Rowling, Mary GrandPré</td><td>4.66</td><td>11643</td></tr>",
                            "<tr><td>桜蘭高校ホスト部 15</td><td>Bisco Hatori</td><td>4.54</td><td>11643</td></tr>",
                            "<tr><td>Fool&#39;s Quest</td><td>Robin Hobb</td><td>4.53</td><td>11643</td></tr>",
                            "<tr><td>Fool&#39;s Quest</td><td>Robin Hobb</td><td>4.53</td><td>11644</td></tr>",
                            "<tr><td>Kings Rising</td><td>C.S. Pacat</td><td>4.5</td><td>11644</td></tr>",
                            "<tr><td>The New Jim Crow: Mass Incarceration in the Age of Colorblindness</td><td>Michelle Alexander</td><td>4.49</td><td>11643</td></tr>",
                            "<tr><td>鋼の錬金術師 1</td><td>Hiromu Arakawa, Akira Watanabe</td><td>4.49</td><td>11644</td></tr>",
                            "<tr><td>The Gruffalo</td><td>Julia Donaldson, Axel Scheffler</td><td>4.47</td><td>11643</td></tr>",
                            "<tr><td>We Should All Be Feminists</td><td>Chimamanda Ngozi Adichie</td><td>4.47</td><td>11643</td></tr>",
                            "<tr><td>We Should All Be Feminists</td><td>Chimamanda Ngozi Adichie</td><td>4.47</td><td>11644</td></tr>",
                            "<tr><td>Harry Potter and the Order of the Phoenix</td><td>J.K. Rowling, Mary GrandPré</td><td>4.46</td><td>11643</td></tr>",
                            "<tr><td>The Complete Stories</td><td>Flannery O&#39;Connor</td><td>4.44</td><td>11643</td></tr>",
                            "<tr><td>The Complete Stories</td><td>Flannery O&#39;Connor</td><td>4.44</td><td>11644</td></tr>",
                            "<tr><td>A Civil Campaign</td><td>Lois McMaster Bujold</td><td>4.43</td><td>11643</td></tr>",
                            "<tr><td>Nothing to Envy: Ordinary Lives in North Korea</td><td>Barbara Demick</td><td>4.42</td><td>11644</td></tr>",
                            "<tr><td>Homegoing</td><td>Yaa Gyasi</td><td>4.41</td><td>11643</td></tr>",
                            "<tr><td>Homegoing</td><td>Yaa Gyasi</td><td>4.41</td><td>11644</td></tr>",
                            "<tr><td>The Sunne in Splendour</td><td>Sharon Kay Penman</td><td>4.4</td><td>11643</td></tr>",
                            "<tr><td>I Love You Through And Through</td><td>Bernadette Rossetti-Shustak, Caroline Jayne Church</td><td>4.39</td><td>11644</td></tr>",
                            "<tr><td>Storia della bambina perduta</td><td>Elena Ferrante, Ann Goldstein</td><td>4.39</td><td>11643</td></tr>",
                            "<tr><td>Storia della bambina perduta</td><td>Elena Ferrante, Ann Goldstein</td><td>4.39</td><td>11644</td></tr>",
                            "<tr><td>Fool&#39;s Fate</td><td>Robin Hobb</td><td>4.38</td><td>11643</td></tr>",
                            "<tr><td>Tales From a Not-So-Graceful Ice Princess</td><td>Rachel Renée Russell</td><td>4.38</td><td>11643</td></tr>",
                            "<tr><td>Kushiel&#39;s Avatar</td><td>Jacqueline Carey</td><td>4.37</td><td>11643</td></tr>",
                            "<tr><td>Queen of the Darkness</td><td>Anne Bishop</td><td>4.37</td><td>11643</td></tr>",
                            "<tr><td>Storia del nuovo cognome</td><td>Elena Ferrante, Ann Goldstein</td><td>4.37</td><td>11643</td></tr>",
                            "<tr><td>Storia del nuovo cognome</td><td>Elena Ferrante, Ann Goldstein</td><td>4.37</td><td>11644</td></tr>",
                            "<tr><td>The King of Attolia</td><td>Megan Whalen Turner</td><td>4.37</td><td>11643</td></tr>",
                            "<tr><td>Persepolis</td><td>Marjane Satrapi, Mattias Ripa, Blake Ferris, Anjali Singh</td><td>4.36</td><td>11643</td></tr>",
                            "<tr><td>Persepolis</td><td>Marjane Satrapi, Mattias Ripa, Blake Ferris, Anjali Singh</td><td>4.36</td><td>11644</td></tr>",
                            "<tr><td>The Obelisk Gate</td><td>N.K. Jemisin</td><td>4.36</td><td>11643</td></tr>",
                            "<tr><td>Bröderna Lejonhjärta</td><td>Astrid Lindgren, Ilon Wikland, Jill M. Morgan</td><td>4.35</td><td>11643</td></tr>",
                            "<tr><td>Fool&#39;s Assassin</td><td>Robin Hobb</td><td>4.35</td><td>11643</td></tr>",
                            "<tr><td>Sunset</td><td>Erin Hunter</td><td>4.35</td><td>11643</td></tr>",
                            "<tr><td>The Scar of David</td><td>Susan Abulhawa</td><td>4.35</td><td>11644</td></tr>",
                            "<tr><td>A Gathering of Shadows</td><td>V.E. Schwab, Victoria Schwab</td><td>4.33</td><td>11643</td></tr>",
                            "<tr><td>Amazing Grace</td><td>Mary Hoffman, Caroline Binch</td><td>4.33</td><td>11643</td></tr>",
                            "<tr><td>Mastering the Art of French Cooking</td><td>Julia Child, Simone Beck, Louisette Bertholle</td><td>4.33</td><td>11644</td></tr>",
                            "<tr><td>Mirror Dance</td><td>Lois McMaster Bujold</td><td>4.32</td><td>11643</td></tr>",
                            "<tr><td>The Folk of Faraway Tree</td><td>Enid Blyton</td><td>4.32</td><td>11644</td></tr>",
                            "<tr><td>The Golden Fool</td><td>Robin Hobb</td><td>4.32</td><td>11643</td></tr>",
                            "<tr><td>The Realms of the Gods (Immortals, #4)</td><td>Tamora Pierce</td><td>4.32</td><td>11643</td></tr>",
                            "<tr><td>Wild Magic (Immortals, #1)</td><td>Tamora Pierce</td><td>4.32</td><td>11643</td></tr>",
                            "<tr><td>Wild Magic (Immortals, #1)</td><td>Tamora Pierce</td><td>4.32</td><td>11644</td></tr>",
                            "<tr><td>Women&#39;s Bodies, Women&#39;s Wisdom: Creating Physical and Emotional Health and Healing</td><td>Christiane Northrup</td><td>4.32</td><td>11643</td></tr>",
                            "<tr><td>A Kiss for Little Bear</td><td>Else Holmelund Minarik, Maurice Sendak</td><td>4.31</td><td>11643</td></tr>",
                            "<tr><td>Dawn</td><td>Erin Hunter</td><td>4.31</td><td>11643</td></tr>",
                            "<tr><td>Kushiel&#39;s Chosen</td><td>Jacqueline Carey</td><td>4.31</td><td>11643</td></tr>",
                            "<tr><td>Moonrise</td><td>Erin Hunter</td><td>4.31</td><td>11643</td></tr>",
                            "<tr><td>The Fifth Season</td><td>N.K. Jemisin</td><td>4.31</td><td>11643</td></tr>",
                            "<tr><td>The Fifth Season</td><td>N.K. Jemisin</td><td>4.31</td><td>11644</td></tr>",
                            "<tr><td>The Warmth of Other Suns: The Epic Story of America&#39;s Great Migration </td><td>Isabel Wilkerson</td><td>4.31</td><td>11643</td></tr>",
                            "<tr><td>The Way to Cook</td><td>Julia Child</td><td>4.31</td><td>11643</td></tr>",
                            "<tr><td>The Way to Cook</td><td>Julia Child</td><td>4.31</td><td>11644</td></tr>",
                            "<tr><td>Citizen: An American Lyric</td><td>Claudia Rankine</td><td>4.3</td><td>11643</td></tr>",
                            "<tr><td>Citizen: An American Lyric</td><td>Claudia Rankine</td><td>4.3</td><td>11644</td></tr>",
                            "<tr><td>Emperor Mage (Immortals, #3)</td><td>Tamora Pierce</td><td>4.3</td><td>11643</td></tr>",
                            "<tr><td>Here be Dragons</td><td>Sharon Kay Penman</td><td>4.3</td><td>11643</td></tr>",
                            "<tr><td>Howl&#39;s Moving Castle</td><td>Diana Wynne Jones</td><td>4.3</td><td>11643</td></tr>",
                            "<tr><td>Howl&#39;s Moving Castle</td><td>Diana Wynne Jones</td><td>4.3</td><td>11644</td></tr>",
                            "<tr><td>Kushiel&#39;s Mercy</td><td>Jacqueline Carey</td><td>4.3</td><td>11643</td></tr>",
                            "<tr><td>Lady Knight </td><td>Tamora Pierce</td><td>4.3</td><td>11643</td></tr>",
                            "<tr><td>Rudolph the Red-Nosed Reindeer</td><td>Barbara Shook Hazen, Robert Lewis May, Richard Scarry</td><td>4.3</td><td>11644</td></tr>",
                            "<tr><td>The Places That Scare You: A Guide to Fearlessness in Difficult Times</td><td>Pema Chödrön</td><td>4.3</td><td>11643</td></tr>",
                            "<tr><td>Twilight</td><td>Erin Hunter</td><td>4.3</td><td>11643</td></tr>",
                            "<tr><td>First They Killed My Father: A Daughter of Cambodia Remembers </td><td>Loung Ung</td><td>4.29</td><td>11643</td></tr>",
                            "<tr><td>First They Killed My Father: A Daughter of Cambodia Remembers </td><td>Loung Ung</td><td>4.29</td><td>11644</td></tr>",
                            "<tr><td>Fool&#39;s Errand</td><td>Robin Hobb</td><td>4.29</td><td>11643</td></tr>",
                            "<tr><td>Storia di chi fugge e di chi resta</td><td>Elena Ferrante, Ann Goldstein</td><td>4.29</td><td>11643</td></tr>",
                            "<tr><td>Storia di chi fugge e di chi resta</td><td>Elena Ferrante, Ann Goldstein</td><td>4.29</td><td>11644</td></tr>",
                            "<tr><td>The Journals of Sylvia Plath</td><td>Sylvia Plath, Karen V. Kukil</td><td>4.29</td><td>11644</td></tr>",
                            "<tr><td>The Little House</td><td>Virginia Lee Burton</td><td>4.29</td><td>11643</td></tr>",
                            "<tr><td>The Magic Faraway Tree</td><td>Enid Blyton</td><td>4.29</td><td>11644</td></tr>",
                            "<tr><td>The Road to the Dark Tower: Exploring Stephen King&#39;s Magnum Opus</td><td>Bev Vincent</td><td>4.29</td><td>11643</td></tr>",
                            "<tr><td>The Warrior&#39;s Apprentice</td><td>Lois McMaster Bujold</td><td>4.29</td><td>11643</td></tr>",
                            "<tr><td>The Warrior&#39;s Apprentice</td><td>Lois McMaster Bujold</td><td>4.29</td><td>11644</td></tr>",
                            "<tr><td>The Winter Rose</td><td>Jennifer Donnelly</td><td>4.29</td><td>11643</td></tr>",
                            "<tr><td>Tiny Beautiful Things: Advice on Love and Life from Dear Sugar</td><td>Cheryl Strayed</td><td>4.29</td><td>11643</td></tr>",
                            "<tr><td>Tiny Beautiful Things: Advice on Love and Life from Dear Sugar</td><td>Cheryl Strayed</td><td>4.29</td><td>11644</td></tr>",
                            "<tr><td>Daughter of the Forest</td><td>Juliet Marillier</td><td>4.28</td><td>11643</td></tr>",
                            "<tr><td>Good Night, Mr. Tom</td><td>Michelle Magorian</td><td>4.28</td><td>11643</td></tr>",
                            "<tr><td>Good Night, Mr. Tom</td><td>Michelle Magorian</td><td>4.28</td><td>11644</td></tr>",
                            "<tr><td>Hairy Maclary from Donaldson&#39;s Dairy</td><td>Lynley Dodd</td><td>4.28</td><td>11643</td></tr>",
                            "<tr><td>Half of a Yellow Sun</td><td>Chimamanda Ngozi Adichie</td><td>4.28</td><td>11643</td></tr>",
                            "<tr><td>Lioness Rampant</td><td>Tamora Pierce</td><td>4.28</td><td>11643</td></tr>",
                            "<tr><td>Lioness Rampant</td><td>Tamora Pierce</td><td>4.28</td><td>11644</td></tr>",
                            "<tr><td>Out to Canaan (Mitford)</td><td>Jan Karon</td><td>4.28</td><td>11643</td></tr>",
                            "<tr><td>Starlight (Warriors: The New Prophecy, #4)</td><td>Erin Hunter</td><td>4.28</td><td>11643</td></tr>",
                            "<tr><td>The Complete Poems: Anne Sexton</td><td>Anne Sexton, Maxine Kumin</td><td>4.28</td><td>11644</td></tr>",
                            "<tr><td>The Faraway Tree Stories (The Enchanted Wood, The Faraway Tree, The Folk of the Faraway Tree)</td><td>Enid Blyton</td><td>4.28</td><td>11644</td></tr>",
                            "<tr><td>The Vor Game</td><td>Lois McMaster Bujold</td><td>4.28</td><td>11643</td></tr>",
                            "<tr><td>Trickster&#39;s Queen</td><td>Tamora Pierce</td><td>4.28</td><td>11643</td></tr>",
                            "<tr><td>Trickster&#39;s Queen</td><td>Tamora Pierce</td><td>4.28</td><td>11644</td></tr>",
                            "<tr><td>A Little Life</td><td>Hanya Yanagihara</td><td>4.27</td><td>11643</td></tr>",
                            "<tr><td>A Little Life</td><td>Hanya Yanagihara</td><td>4.27</td><td>11644</td></tr>",
                            "<tr><td>Alanna: The First Adventure</td><td>Tamora Pierce</td><td>4.27</td><td>11643</td></tr>",
                            "<tr><td>Alanna: The First Adventure</td><td>Tamora Pierce</td><td>4.27</td><td>11644</td></tr>",
                            "<tr><td>Everything that Rises Must Converge</td><td>Flannery O&#39;Connor, Robert Fitzgerald</td><td>4.27</td><td>11644</td></tr>",
                            "<tr><td>For Colored Girls Who Have Considered Suicide When the Rainbow Is Enuf </td><td>Ntozake Shange</td><td>4.27</td><td>11643</td></tr>",
                            "<tr><td>For Colored Girls Who Have Considered Suicide When the Rainbow Is Enuf </td><td>Ntozake Shange</td><td>4.27</td><td>11644</td></tr>",
                            "<tr><td>Hark! A Vagrant</td><td>Kate Beaton</td><td>4.27</td><td>11643</td></tr>",
                            "<tr><td>Hark! A Vagrant</td><td>Kate Beaton</td><td>4.27</td><td>11644</td></tr>",
                            "<tr><td>milk and honey</td><td>Rupi Kaur</td><td>4.27</td><td>11643</td></tr>",
                            "<tr><td>milk and honey</td><td>Rupi Kaur</td><td>4.27</td><td>11644</td></tr>",
                            "<tr><td>Ronja Rövardotter</td><td>Astrid Lindgren, Patricia Crampton, Trina Schart Hyman</td><td>4.27</td><td>11643</td></tr>",
                            "<tr><td>Servant of the Empire (The Empire Trilogy, #2)</td><td>Raymond E. Feist, Janny Wurts</td><td>4.27</td><td>11643</td></tr>",
                            "<tr><td>Squire</td><td>Tamora Pierce</td><td>4.27</td><td>11643</td></tr>",
                            "<tr><td>Squire</td><td>Tamora Pierce</td><td>4.27</td><td>11644</td></tr>",
                            "<tr><td>Stone Butch Blues</td><td>Leslie Feinberg</td><td>4.27</td><td>11643</td></tr>",
                            "<tr><td>The Song of Achilles</td><td>Madeline Miller</td><td>4.27</td><td>11643</td></tr>",
                            "<tr><td>The Song of Achilles</td><td>Madeline Miller</td><td>4.27</td><td>11644</td></tr>",
                            "<tr><td>These High, Green Hills</td><td>Jan Karon</td><td>4.27</td><td>11643</td></tr>",
                            "<tr><td>Americanah</td><td>Chimamanda Ngozi Adichie</td><td>4.26</td><td>11643</td></tr>",
                            "<tr><td>Americanah</td><td>Chimamanda Ngozi Adichie</td><td>4.26</td><td>11644</td></tr>",
                            "<tr><td>Bloodhound (Beka Cooper, #2)</td><td>Tamora Pierce</td><td>4.26</td><td>11643</td></tr>",
                            "<tr><td>Bloodhound (Beka Cooper, #2)</td><td>Tamora Pierce</td><td>4.26</td><td>11644</td></tr>",
                            "<tr><td>Bring Up the Bodies</td><td>Hilary Mantel</td><td>4.26</td><td>11643</td></tr>",
                            "<tr><td>Bring Up the Bodies</td><td>Hilary Mantel</td><td>4.26</td><td>11644</td></tr>",
                            "<tr><td>Dragonsinger</td><td>Anne McCaffrey</td><td>4.26</td><td>11643</td></tr>",
                            "<tr><td>Fried Green Tomatoes at the Whistle Stop Cafe</td><td>Fannie Flagg</td><td>4.26</td><td>11643</td></tr>",
                            "<tr><td>Fried Green Tomatoes at the Whistle Stop Cafe</td><td>Fannie Flagg</td><td>4.26</td><td>11644</td></tr>",
                            "<tr><td>Gaudy Night</td><td>Dorothy L. Sayers</td><td>4.26</td><td>11643</td></tr>",
                            "<tr><td>Inside the Human Body</td><td>Joanna Cole, Bruce Degen</td><td>4.26</td><td>11644</td></tr>",
                            "<tr><td>The Three Little Pigs (A Little Golden Book)</td><td>Elizabeth Ross, ROFry</td><td>4.26</td><td>11643</td></tr>",
                            "<tr><td>Very Good Lives: The Fringe Benefits of Failure and the Importance of Imagination</td><td>J.K. Rowling, Joel Holland</td><td>4.26</td><td>11643</td></tr>",
                            "<tr><td>Gregor and the Code of Claw</td><td>Suzanne Collins</td><td>4.25</td><td>11643</td></tr>",
                            "<tr><td>In the Hand of the Goddess</td><td>Tamora Pierce</td><td>4.25</td><td>11643</td></tr>",
                            "<tr><td>In the Hand of the Goddess</td><td>Tamora Pierce</td><td>4.25</td><td>11644</td></tr>",
                            "<tr><td>Skippyjon Jones in Mummy Trouble (Skippyjon Jones)</td><td>Judy Schachner</td><td>4.25</td><td>11643</td></tr>",
                            "<tr><td>Star Wars: Lost Stars</td><td>Claudia Gray</td><td>4.25</td><td>11643</td></tr>",
                            "<tr><td>The Autobiography of Henry VIII. With Notes by His Fool, Will Somers</td><td>Margaret George</td><td>4.25</td><td>11644</td></tr>",
                            "<tr><td>The Earthsea Trilogy</td><td>Ursula K. Le Guin</td><td>4.25</td><td>11643</td></tr>",
                            "<tr><td>The Earthsea Trilogy</td><td>Ursula K. Le Guin</td><td>4.25</td><td>11644</td></tr>",
                            "<tr><td>A Good Man Is Hard to Find, and Other Stories</td><td>Flannery O&#39;Connor</td><td>4.24</td><td>11643</td></tr>",
                            "<tr><td>A Good Man Is Hard to Find, and Other Stories</td><td>Flannery O&#39;Connor</td><td>4.24</td><td>11644</td></tr>",
                            "<tr><td>A Tree Grows In Brooklyn </td><td>Betty  Smith</td><td>4.24</td><td>11644</td></tr>",
                            "<tr><td>By the Sword</td><td>Mercedes Lackey</td><td>4.24</td><td>11643</td></tr>",
                            "<tr><td>Dragonsong </td><td>Anne McCaffrey</td><td>4.24</td><td>11643</td></tr>",
                            "<tr><td>First Test</td><td>Tamora Pierce</td><td>4.24</td><td>11643</td></tr>",
                            "<tr><td>Hello, Mrs. Piggle-Wiggle</td><td>Betty MacDonald, Alexandra Boiger</td><td>4.24</td><td>11644</td></tr>",
                            "<tr><td>Kushiel&#39;s Justice</td><td>Jacqueline Carey</td><td>4.24</td><td>11643</td></tr>",
                            "<tr><td>Mastiff</td><td>Tamora Pierce</td><td>4.24</td><td>11643</td></tr>",
                            "<tr><td>Mastiff</td><td>Tamora Pierce</td><td>4.24</td><td>11644</td></tr>",
                            "<tr><td>Slouching Towards Bethlehem: Essays</td><td>Joan Didion</td><td>4.24</td><td>11643</td></tr>",
                            "<tr><td>Slouching Towards Bethlehem: Essays</td><td>Joan Didion</td><td>4.24</td><td>11644</td></tr>",
                            "<tr><td>The Enchanted Wood</td><td>Enid Blyton</td><td>4.24</td><td>11643</td></tr>",
                            "<tr><td>The Enchanted Wood</td><td>Enid Blyton</td><td>4.24</td><td>11644</td></tr>",
                            "<tr><td>Ariel</td><td>Sylvia Plath</td><td>4.23</td><td>11643</td></tr>",
                            "<tr><td>Ariel</td><td>Sylvia Plath</td><td>4.23</td><td>11644</td></tr>",
                            "<tr><td>Joni</td><td>Joni Eareckson Tada, Joe Musser</td><td>4.23</td><td>11643</td></tr>",
                            "<tr><td>Noughts &amp; Crosses</td><td>Malorie Blackman</td><td>4.23</td><td>11644</td></tr>",
                            "<tr><td>Persepolis</td><td>Marjane Satrapi, Mattias Ripa</td><td>4.23</td><td>11643</td></tr>",
                            "<tr><td>Persepolis</td><td>Marjane Satrapi, Mattias Ripa</td><td>4.23</td><td>11644</td></tr>",
                            "<tr><td>Persepolis 2 </td><td>Marjane Satrapi, Anjali Singh</td><td>4.23</td><td>11643</td></tr>",
                            "<tr><td>Persepolis 2 </td><td>Marjane Satrapi, Anjali Singh</td><td>4.23</td><td>11644</td></tr>",
                            "<tr><td>Shrill: Women Are Funny, It&#39;s Okay to Be Fat, and Feminists Don&#39;t Have to Be Nice</td><td>Lindy West</td><td>4.23</td><td>11643</td></tr>",
                            "<tr><td>Shrill: Women Are Funny, It&#39;s Okay to Be Fat, and Feminists Don&#39;t Have to Be Nice</td><td>Lindy West</td><td>4.23</td><td>11644</td></tr>",
                            "<tr><td>Ten Little Niggers</td><td>Agatha Christie</td><td>4.23</td><td>11643</td></tr>",
                            "<tr><td>The Blue Castle</td><td>L.M. Montgomery</td><td>4.23</td><td>11643</td></tr>",
                            "<tr><td>The Hollow Hills</td><td>Mary  Stewart</td><td>4.23</td><td>11644</td></tr>",
                            "<tr><td>The Queen of Attolia</td><td>Megan Whalen Turner</td><td>4.23</td><td>11643</td></tr>",
                            "<tr><td>The Tiger Who Came to Tea</td><td>Judith Kerr</td><td>4.23</td><td>11643</td></tr>",
                            "<tr><td>The Tiger Who Came to Tea</td><td>Judith Kerr</td><td>4.23</td><td>11644</td></tr>",
                            "<tr><td>The Twilight Saga: The Official Guide</td><td>Stephenie Meyer</td><td>4.23</td><td>11643</td></tr>",
                            "<tr><td>Verhaaltjes, en gebeurtenissen uit het Achterhuis. Cady&#39;s leven</td><td>Anne Frank, Susan Massotty</td><td>4.23</td><td>11643</td></tr>",
                            "<tr><td>Wild Swans: Three Daughters of China</td><td>Jung Chang</td><td>4.23</td><td>11643</td></tr>",
                            "<tr><td>Wild Swans: Three Daughters of China</td><td>Jung Chang</td><td>4.23</td><td>11644</td></tr>",
                            "<tr><td>学園アリス１</td><td>Tachibana Higuchi, 樋口 橘</td><td>4.23</td><td>11644</td></tr>",
                            "<tr><td>A Mango-Shaped Space</td><td>Wendy Mass</td><td>4.22</td><td>11644</td></tr>",
                            "<tr><td>Little Bear</td><td>Else Holmelund Minarik, Maurice Sendak</td><td>4.22</td><td>11643</td></tr>",
                            "<tr><td>Page </td><td>Tamora Pierce</td><td>4.22</td><td>11643</td></tr>",
                            "<tr><td>Short Stories from Hogwarts of Heroism, Hardship and Dangerous Hobbies</td><td>J.K. Rowling, MinaLima</td><td>4.22</td><td>11643</td></tr>",
                            "<tr><td>The Center Cannot Hold</td><td>Elyn R. Saks</td><td>4.22</td><td>11644</td></tr>",
                            "<tr><td>The Dragonriders of Pern</td><td>Anne McCaffrey</td><td>4.22</td><td>11644</td></tr>",
                            "<tr><td>The Lives of Christopher Chant</td><td>Diana Wynne Jones</td><td>4.22</td><td>11643</td></tr>",
                            "<tr><td>The MasterHarper of Pern</td><td>Anne McCaffrey</td><td>4.22</td><td>11643</td></tr>",
                            "<tr><td>The Shock Doctrine: The Rise of Disaster Capitalism</td><td>Naomi Klein</td><td>4.22</td><td>11643</td></tr>",
                            "<tr><td>The Shock Doctrine: The Rise of Disaster Capitalism</td><td>Naomi Klein</td><td>4.22</td><td>11644</td></tr>",
                            "<tr><td>The Thorn Birds</td><td>Colleen McCullough</td><td>4.22</td><td>11644</td></tr>",
                            "<tr><td>Wild Seed (Patternmaster, #1)</td><td>Octavia E. Butler</td><td>4.22</td><td>11643</td></tr>",
                            "<tr><td>Wild Seed (Patternmaster, #1)</td><td>Octavia E. Butler</td><td>4.22</td><td>11644</td></tr>",
                            "<tr><td>Anne of Avonlea</td><td>L.M. Montgomery</td><td>4.21</td><td>11643</td></tr>",
                            "<tr><td>Anne of Avonlea</td><td>L.M. Montgomery</td><td>4.21</td><td>11644</td></tr>",
                            "<tr><td>Anne of the Island</td><td>L.M. Montgomery</td><td>4.21</td><td>11643</td></tr>",
                            "<tr><td>Career of Evil</td><td>Robert Galbraith, J.K. Rowling</td><td>4.21</td><td>11643</td></tr>",
                            "<tr><td>Dead Poets Society </td><td>N.H. Kleinbaum</td><td>4.21</td><td>11643</td></tr>",
                            "<tr><td>Hogwarts: An Incomplete and Unreliable Guide</td><td>J.K. Rowling</td><td>4.21</td><td>11643</td></tr>",
                            "<tr><td>Magic&#39;s Pawn</td><td>Mercedes Lackey</td><td>4.21</td><td>11643</td></tr>",
                            "<tr><td>Murder Must Advertise</td><td>Dorothy L. Sayers</td><td>4.21</td><td>11643</td></tr>",
                            "<tr><td>NANA―ナナ― 1</td><td>Ai Yazawa</td><td>4.21</td><td>11644</td></tr>",
                            "<tr><td>Parable of the Talents</td><td>Octavia E. Butler</td><td>4.21</td><td>11643</td></tr>",
                            "<tr><td>Parable of the Talents</td><td>Octavia E. Butler</td><td>4.21</td><td>11644</td></tr>",
                            "<tr><td>Ship of Destiny</td><td>Robin Hobb</td><td>4.21</td><td>11643</td></tr>",
                            "<tr><td>Ship of Destiny</td><td>Robin Hobb</td><td>4.21</td><td>11644</td></tr>",
                            "<tr><td>The Complete Poems of Emily Dickinson</td><td>Emily Dickinson, Thomas H. Johnson</td><td>4.21</td><td>11644</td></tr>",
                            "<tr><td>The Little Red Caboose (Little Golden Book)</td><td>Marian Potter</td><td>4.21</td><td>11644</td></tr>",
                            "<tr><td>The Mad Ship</td><td>Robin Hobb</td><td>4.21</td><td>11643</td></tr>",
                            "<tr><td>The Mad Ship</td><td>Robin Hobb</td><td>4.21</td><td>11644</td></tr>",
                            "<tr><td>Wolf-Speaker (Immortals, #2)</td><td>Tamora Pierce</td><td>4.21</td><td>11643</td></tr>",
                            "<tr><td>Wolf-Speaker (Immortals, #2)</td><td>Tamora Pierce</td><td>4.21</td><td>11644</td></tr>",
                            "<tr><td>A House in the Sky</td><td>Amanda Lindhout, Sara Corbett</td><td>4.2</td><td>11643</td></tr>",
                            "<tr><td>Ancillary Mercy</td><td>Ann Leckie</td><td>4.2</td><td>11643</td></tr>",
                            "<tr><td>Ancillary Mercy</td><td>Ann Leckie</td><td>4.2</td><td>11644</td></tr>",
                            "<tr><td>Christy</td><td>Catherine Marshall</td><td>4.2</td><td>11643</td></tr>",
                            "<tr><td>Eloise</td><td>Kay Thompson, Hilary Knight</td><td>4.2</td><td>11643</td></tr>",
                            "<tr><td>La casa de los espíritus</td><td>Isabel Allende, Magda Bogin</td><td>4.2</td><td>11643</td></tr>",
                            "<tr><td>La casa de los espíritus</td><td>Isabel Allende, Magda Bogin</td><td>4.2</td><td>11644</td></tr>",
                            "<tr><td>Mike Mulligan and His Steam Shovel</td><td>Virginia Lee Burton</td><td>4.2</td><td>11643</td></tr>",
                            "<tr><td>Nimona</td><td>Noelle Stevenson</td><td>4.2</td><td>11643</td></tr>",
                            "<tr><td>Nimona</td><td>Noelle Stevenson</td><td>4.2</td><td>11644</td></tr>",
                            "<tr><td>Short Stories from Hogwarts of Power, Politics and Pesky Poltergeists</td><td>J.K. Rowling, MinaLima</td><td>4.2</td><td>11643</td></tr>",
                            "<tr><td>Small Sacrifices: A True Story of Passion and Murder</td><td>Ann Rule</td><td>4.2</td><td>11644</td></tr>",
                            "<tr><td>The Cake Bible</td><td>Rose Levy Beranbaum, Maria Guarnaschelli, Vincent Lee, Manuela Paul, Dean G. Bornstein</td><td>4.2</td><td>11643</td></tr>",
                            "<tr><td>The Collected Poems</td><td>Sylvia Plath, Ted Hughes</td><td>4.2</td><td>11644</td></tr>",
                            "<tr><td>The Little Red Hen (Little Golden Book)</td><td>Diane Muldrow, J.P. Miller</td><td>4.2</td><td>11643</td></tr>",
                            "<tr><td>The Murder of Roger Ackroyd</td><td>Agatha Christie</td><td>4.2</td><td>11643</td></tr>",
                            "<tr><td>The Murder of Roger Ackroyd</td><td>Agatha Christie</td><td>4.2</td><td>11644</td></tr>",
                            "<tr><td>The Woman Who Rides Like a Man</td><td>Tamora Pierce</td><td>4.2</td><td>11643</td></tr>",
                            "<tr><td>The Woman Who Rides Like a Man</td><td>Tamora Pierce</td><td>4.2</td><td>11644</td></tr>",
                            "<tr><td>There Was an Old Lady Who Swallowed a Fly (Classic Board Books with Holes)</td><td>Pam Adams</td><td>4.2</td><td>11643</td></tr>",
                            "<tr><td>Wit : A Play</td><td>Margaret Edson</td><td>4.2</td><td>11643</td></tr>",
                            "<tr><td>Wit : A Play</td><td>Margaret Edson</td><td>4.2</td><td>11644</td></tr>",
                            "<tr><td>Zami: A New Spelling of My Name</td><td>Audre Lorde</td><td>4.2</td><td>11643</td></tr>",
                            "<tr><td>Zami: A New Spelling of My Name</td><td>Audre Lorde</td><td>4.2</td><td>11644</td></tr>",
                            "<tr><td>84, Charing Cross Road</td><td>Helene Hanff</td><td>4.19</td><td>11643</td></tr>",
                            "<tr><td>I Know Why the Caged Bird Sings</td><td>Maya Angelou</td><td>4.19</td><td>11643</td></tr>",
                            "<tr><td>I Know Why the Caged Bird Sings</td><td>Maya Angelou</td><td>4.19</td><td>11644</td></tr>",
                            "<tr><td>Kushiel&#39;s Scion</td><td>Jacqueline Carey</td><td>4.19</td><td>11643</td></tr>",
                            "<tr><td>The Heart of a Woman</td><td>Maya Angelou</td><td>4.19</td><td>11644</td></tr>",
                            "<tr><td>The Tale of Mrs. Tiggy-Winkle</td><td>Beatrix Potter</td><td>4.19</td><td>11643</td></tr>",
                            "<tr><td>The Tale of Mrs. Tiggy-Winkle</td><td>Beatrix Potter</td><td>4.19</td><td>11644</td></tr>",
                            "<tr><td>Arrow&#39;s Fall</td><td>Mercedes Lackey</td><td>4.18</td><td>11643</td></tr>",
                            "<tr><td>Kindred</td><td>Octavia E. Butler</td><td>4.18</td><td>11643</td></tr>",
                            "<tr><td>Kindred</td><td>Octavia E. Butler</td><td>4.18</td><td>11644</td></tr>",
                            "<tr><td>Little House on the Prairie</td><td>Laura Ingalls Wilder, Garth Williams</td><td>4.18</td><td>11643</td></tr>",
                            "<tr><td>Little Town on the Prairie</td><td>Laura Ingalls Wilder, Garth Williams</td><td>4.18</td><td>11643</td></tr>",
                            "<tr><td>The Dispossessed</td><td>Ursula K. Le Guin</td><td>4.18</td><td>11643</td></tr>",
                            "<tr><td>The Dispossessed</td><td>Ursula K. Le Guin</td><td>4.18</td><td>11644</td></tr>",
                            "<tr><td>The Grey King</td><td>Susan Cooper</td><td>4.18</td><td>11643</td></tr>",
                            "<tr><td>The Guns of August</td><td>Barbara W. Tuchman, Robert K. Massie</td><td>4.18</td><td>11643</td></tr>",
                            "<tr><td>The Long Way to a Small, Angry Planet</td><td>Becky  Chambers</td><td>4.18</td><td>11643</td></tr>",
                            "<tr><td>The Long Way to a Small, Angry Planet</td><td>Becky  Chambers</td><td>4.18</td><td>11644</td></tr>",
                            "<tr><td>The Pioneer Woman Cooks: Recipes from an Accidental Ranch Wife</td><td>Ree Drummond</td><td>4.18</td><td>11643</td></tr>",
                            "<tr><td>The Thing Around Your Neck</td><td>Chimamanda Ngozi Adichie</td><td>4.18</td><td>11643</td></tr>",
                            "<tr><td>The Thing Around Your Neck</td><td>Chimamanda Ngozi Adichie</td><td>4.18</td><td>11644</td></tr>",
                            "<tr><td>West with the Night</td><td>Beryl Markham</td><td>4.18</td><td>11644</td></tr>",
                            "<tr><td>Born Free: A Lioness of Two Worlds</td><td>Joy Adamson</td><td>4.17</td><td>11643</td></tr>",
                            "<tr><td>Dragonsdawn (Pern: Dragonriders of Pern, #6)</td><td>Anne McCaffrey</td><td>4.17</td><td>11643</td></tr>",
                            "<tr><td>The Color Purple</td><td>Alice Walker</td><td>4.17</td><td>11643</td></tr>",
                            "<tr><td>The Color Purple</td><td>Alice Walker</td><td>4.17</td><td>11644</td></tr>",
                            "<tr><td>The Gifts of Imperfection</td><td>Brené Brown</td><td>4.17</td><td>11644</td></tr>",
                            "<tr><td>The Memoirs of Cleopatra</td><td>Margaret George</td><td>4.17</td><td>11644</td></tr>",
                            "<tr><td>The Sparrow</td><td>Mary Doria Russell</td><td>4.17</td><td>11643</td></tr>",
                            "<tr><td>The Sparrow</td><td>Mary Doria Russell</td><td>4.17</td><td>11644</td></tr>",
                            "<tr><td>The White Dragon (Pern: Dragonriders of Pern, #3)</td><td>Anne McCaffrey</td><td>4.17</td><td>11643</td></tr>",
                            "<tr><td>These Happy Golden Years</td><td>Laura Ingalls Wilder, Garth Williams</td><td>4.17</td><td>11643</td></tr>",
                            "<tr><td>This Changes Everything: Capitalism vs. The Climate</td><td>Naomi Klein</td><td>4.17</td><td>11643</td></tr>",
                            "<tr><td>Writing Down the Bones: Freeing the Writer Within</td><td>Natalie Goldberg</td><td>4.17</td><td>11644</td></tr>",
                            "<tr><td>Arrows of the Queen (Heralds of Valdemar #1)</td><td>Mercedes Lackey</td><td>4.16</td><td>11643</td></tr>",
                            "<tr><td>By the Shores of Silver Lake</td><td>Laura Ingalls Wilder, Garth Williams</td><td>4.16</td><td>11643</td></tr>",
                            "<tr><td>Gorillas in the Mist</td><td>Dian Fossey</td><td>4.16</td><td>11643</td></tr>",
                            "<tr><td>Little House In The Big Woods</td><td>Laura Ingalls Wilder, Garth Williams</td><td>4.16</td><td>11643</td></tr>",
                            "<tr><td>Rilla of Ingleside</td><td>L.M. Montgomery</td><td>4.16</td><td>11643</td></tr>",
                            "<tr><td>Rilla of Ingleside</td><td>L.M. Montgomery</td><td>4.16</td><td>11644</td></tr>",
                            "<tr><td>Selected Poems of Emily Dickinson</td><td>Emily Dickinson</td><td>4.16</td><td>11643</td></tr>",
                            "<tr><td>Selected Poems of Emily Dickinson</td><td>Emily Dickinson</td><td>4.16</td><td>11644</td></tr>",
                            "<tr><td>Shatterglass</td><td>Tamora Pierce</td><td>4.16</td><td>11643</td></tr>",
                            "<tr><td>Shatterglass</td><td>Tamora Pierce</td><td>4.16</td><td>11644</td></tr>",
                            "<tr><td>Silver on the Tree</td><td>Susan Cooper</td><td>4.16</td><td>11643</td></tr>",
                            "<tr><td>Terrier</td><td>Tamora Pierce</td><td>4.16</td><td>11643</td></tr>",
                            "<tr><td>The Curse of Chalion</td><td>Lois McMaster Bujold</td><td>4.16</td><td>11643</td></tr>",
                            "<tr><td>The Curse of Chalion</td><td>Lois McMaster Bujold</td><td>4.16</td><td>11644</td></tr>",
                            "<tr><td>The Grand Sophy</td><td>Georgette Heyer</td><td>4.16</td><td>11643</td></tr>",
                            "<tr><td>The Long Winter (Little House, #6)</td><td>Laura Ingalls Wilder, Garth Williams</td><td>4.16</td><td>11643</td></tr>",
                            "<tr><td>The Red Tent</td><td>Anita Diamant</td><td>4.16</td><td>11643</td></tr>",
                            "<tr><td>Wir Kinder vom Bahnhof Zoo</td><td>Christiane F., Kai Hermann, Horst Rieck</td><td>4.16</td><td>11644</td></tr>",
                            "<tr><td>All the Weyrs of Pern</td><td>Anne McCaffrey</td><td>4.15</td><td>11643</td></tr>",
                            "<tr><td>Frederica</td><td>Georgette Heyer</td><td>4.15</td><td>11643</td></tr>",
                            "<tr><td>Haunted</td><td>Meg Cabot</td><td>4.15</td><td>11643</td></tr>",
                            "<tr><td>Hawksong</td><td>Amelia Atwater-Rhodes</td><td>4.15</td><td>11643</td></tr>",
                            "<tr><td>Loving What Is: Four Questions That Can Change Your Life</td><td>Byron Katie, Stephen Mitchell</td><td>4.15</td><td>11643</td></tr>",
                            "<tr><td>My Friend Flicka (Flicka, #1)</td><td>Mary O&#39;Hara, Dave Blossom</td><td>4.15</td><td>11643</td></tr>",
                            "<tr><td>On Death and Dying</td><td>Elisabeth Kübler-Ross</td><td>4.15</td><td>11644</td></tr>",
                            "<tr><td>The High Lord</td><td>Trudi Canavan</td><td>4.15</td><td>11643</td></tr>",
                            "<tr><td>The Will of the Empress</td><td>Tamora Pierce</td><td>4.15</td><td>11643</td></tr>",
                            "<tr><td>The Will of the Empress</td><td>Tamora Pierce</td><td>4.15</td><td>11644</td></tr>",
                            "<tr><td>The Wives of Henry VIII</td><td>Antonia Fraser</td><td>4.15</td><td>11643</td></tr>",
                            "<tr><td>Traveling Mercies: Some Thoughts on Faith</td><td>Anne Lamott</td><td>4.15</td><td>11643</td></tr>",
                            "<tr><td>Wolf Brother</td><td>Michelle Paver, Geoff Taylor</td><td>4.15</td><td>11643</td></tr>",
                            "<tr><td>Women Who Run With the Wolves</td><td>Clarissa Pinkola Estés</td><td>4.15</td><td>11643</td></tr>",
                            "<tr><td>ビューティーポップ 1 [Byūtī poppu 1]</td><td>Kiyoko Arai</td><td>4.15</td><td>3514</td></tr>",
                            "<tr><td>ヤマトナデシコ七変化</td><td>Tomoko Hayakawa, David Ury</td><td>4.15</td><td>11643</td></tr>",
                            "<tr><td>A Ring of Endless Light (Austin Family, #4)</td><td>Madeleine L&#39;Engle</td><td>4.14</td><td>11644</td></tr>",
                            "<tr><td>Absent in the Spring </td><td>Mary Westmacott, Agatha Christie</td><td>4.14</td><td>11644</td></tr>",
                            "<tr><td>Adulthood Is a Myth: A &quot;Sarah&#39;s Scribbles&quot; Collection</td><td>Sarah Andersen</td><td>4.14</td><td>11643</td></tr>",
                            "<tr><td>Adulthood Is a Myth: A &quot;Sarah&#39;s Scribbles&quot; Collection</td><td>Sarah Andersen</td><td>4.14</td><td>11644</td></tr>",
                            "<tr><td>Beaches</td><td>Iris Rainer Dart</td><td>4.14</td><td>11644</td></tr>",
                            "<tr><td>Briar&#39;s Book</td><td>Tamora Pierce</td><td>4.14</td><td>11643</td></tr>",
                            "<tr><td>Briar&#39;s Book</td><td>Tamora Pierce</td><td>4.14</td><td>11644</td></tr>",
                            "<tr><td>Dealing with Dragons</td><td>Patricia C. Wrede, Peter de Sève</td><td>4.14</td><td>11643</td></tr>",
                            "<tr><td>Emily Climbs</td><td>L.M. Montgomery</td><td>4.14</td><td>11643</td></tr>",
                            "<tr><td>Having Our Say: The Delany Sisters&#39; First 100 Years</td><td>Sarah L. Delany, A. Elizabeth Delany, Amy Hill Hearth</td><td>4.14</td><td>11643</td></tr>",
                            "<tr><td>Just Kids</td><td>Patti Smith</td><td>4.14</td><td>11643</td></tr>",
                            "<tr><td>Just Kids</td><td>Patti Smith</td><td>4.14</td><td>11644</td></tr>",
                            "<tr><td>Ms. Marvel, Vol. 2: Generation Why</td><td>G. Willow Wilson, Adrian Alphona, Jacob Wyatt</td><td>4.14</td><td>11643</td></tr>",
                            "<tr><td>Ms. Marvel, Vol. 2: Generation Why</td><td>G. Willow Wilson, Adrian Alphona, Jacob Wyatt</td><td>4.14</td><td>11644</td></tr>",
                            "<tr><td>Parable of the Sower (Earthseed, #1)</td><td>Octavia E. Butler</td><td>4.14</td><td>11643</td></tr>",
                            "<tr><td>Parable of the Sower (Earthseed, #1)</td><td>Octavia E. Butler</td><td>4.14</td><td>11644</td></tr>",
                            "<tr><td>The Apprentice</td><td>Tess Gerritsen</td><td>4.14</td><td>11644</td></tr>",
                            "<tr><td>The Joy of Cooking</td><td>Irma S. Rombauer, Marion Rombauer Becker, Ethan Becker</td><td>4.14</td><td>11644</td></tr>",
                            "<tr><td>The Smartest Guys in the Room: The Amazing Rise and Scandalous Fall of Enron</td><td>Bethany McLean, Peter Elkind</td><td>4.14</td><td>11643</td></tr>",
                            "<tr><td>The Spirit Catches You and You Fall Down: A Hmong Child, Her American Doctors, and the Collision of Two Cultures</td><td>Anne Fadiman</td><td>4.14</td><td>11643</td></tr>",
                            "<tr><td>The Spirit Catches You and You Fall Down: A Hmong Child, Her American Doctors, and the Collision of Two Cultures</td><td>Anne Fadiman</td><td>4.14</td><td>11644</td></tr>",
                            "<tr><td>The Waves</td><td>Virginia Woolf</td><td>4.14</td><td>11643</td></tr>",
                            "<tr><td>The Waves</td><td>Virginia Woolf</td><td>4.14</td><td>11644</td></tr>",
                            "<tr><td>You&#39;re Never Weird on the Internet (Almost)</td><td>Felicia Day, Joss Whedon</td><td>4.14</td><td>11643</td></tr>",
                            "<tr><td>You&#39;re Never Weird on the Internet (Almost)</td><td>Felicia Day, Joss Whedon</td><td>4.14</td><td>11644</td></tr>",
                            "<tr><td>A Swiftly Tilting Planet</td><td>Madeleine L&#39;Engle</td><td>4.13</td><td>11643</td></tr>",
                            "<tr><td>A Swiftly Tilting Planet</td><td>Madeleine L&#39;Engle</td><td>4.13</td><td>11644</td></tr>",
                            "<tr><td>Arrow&#39;s Flight (Heralds of Valdemar, #2)</td><td>Mercedes Lackey</td><td>4.13</td><td>11643</td></tr>",
                            "<tr><td>Creative Visualization: Use the Power of Your Imagination to Create What You Want in Your Life</td><td>Shakti Gawain</td><td>4.13</td><td>11643</td></tr>",
                            "<tr><td>Dibs in Search of Self: Personality Development in Play Therapy</td><td>Virginia M. Axline</td><td>4.13</td><td>11643</td></tr>",
                            "<tr><td>Dibs in Search of Self: Personality Development in Play Therapy</td><td>Virginia M. Axline</td><td>4.13</td><td>11644</td></tr>",
                            "<tr><td>In the Time of the Butterflies</td><td>Julia Alvarez</td><td>4.13</td><td>11644</td></tr>",
                            "<tr><td>Ms. Marvel, Vol. 1: No Normal</td><td>G. Willow Wilson, Adrian Alphona</td><td>4.13</td><td>11643</td></tr>",
                            "<tr><td>Ms. Marvel, Vol. 1: No Normal</td><td>G. Willow Wilson, Adrian Alphona</td><td>4.13</td><td>11644</td></tr>",
                            "<tr><td>North and South</td><td>Elizabeth Gaskell, Alan Shelston</td><td>4.13</td><td>11643</td></tr>",
                            "<tr><td>North and South</td><td>Elizabeth Gaskell, Alan Shelston</td><td>4.13</td><td>11644</td></tr>",
                            "<tr><td>Paladin of Souls</td><td>Lois McMaster Bujold</td><td>4.13</td><td>11643</td></tr>",
                            "<tr><td>Personal History</td><td>Katharine Graham</td><td>4.13</td><td>11643</td></tr>",
                            "<tr><td>Persuasion</td><td>Jane Austen, James Kinsley, Deidre Shauna Lynch</td><td>4.13</td><td>11643</td></tr>",
                            "<tr><td>Persuasion</td><td>Jane Austen, James Kinsley, Deidre Shauna Lynch</td><td>4.13</td><td>11644</td></tr>",
                            "<tr><td>Shards of Honor</td><td>Lois McMaster Bujold</td><td>4.13</td><td>11643</td></tr>",
                            "<tr><td>Shards of Honor</td><td>Lois McMaster Bujold</td><td>4.13</td><td>11644</td></tr>",
                            "<tr><td>The Shell Seekers</td><td>Rosamunde Pilcher</td><td>4.13</td><td>11643</td></tr>",
                            "<tr><td>The Stranger Beside Me</td><td>Ann Rule</td><td>4.13</td><td>11643</td></tr>",
                            "<tr><td>The Stranger Beside Me</td><td>Ann Rule</td><td>4.13</td><td>11644</td></tr>",
                            "<tr><td>The Women of Brewster Place</td><td>Gloria Naylor</td><td>4.13</td><td>11644</td></tr>",
                            "<tr><td>To Say Nothing of the Dog</td><td>Connie Willis</td><td>4.13</td><td>11643</td></tr>",
                            "<tr><td>Uprooted</td><td>Naomi Novik</td><td>4.13</td><td>11643</td></tr>",
                            "<tr><td>&quot;...And Ladies of the Club&quot;</td><td>Helen Hooven Santmyer</td><td>4.12</td><td>11643</td></tr>",
                            "<tr><td>Anatomy of the Spirit: The Seven Stages of Power and Healing</td><td>Caroline Myss</td><td>4.12</td><td>11643</td></tr>",
                            "<tr><td>Birds of America: Stories</td><td>Lorrie Moore</td><td>4.12</td><td>11644</td></tr>",
                            "<tr><td>Daughter of the Blood</td><td>Anne Bishop</td><td>4.12</td><td>11643</td></tr>",
                            "<tr><td>Dragons of Spring Dawning</td><td>Margaret Weis, Tracy Hickman</td><td>4.12</td><td>11643</td></tr>",
                            "<tr><td>Ghettoside: A True Story of Murder in America</td><td>Jill Leovy</td><td>4.12</td><td>11643</td></tr>",
                            "<tr><td>Interpreter of Maladies</td><td>Jhumpa Lahiri</td><td>4.12</td><td>11643</td></tr>",
                            "<tr><td>Interpreter of Maladies</td><td>Jhumpa Lahiri</td><td>4.12</td><td>11644</td></tr>",
                            "<tr><td>Rainbow Valley</td><td>L.M. Montgomery</td><td>4.12</td><td>11643</td></tr>",
                            "<tr><td>Ship of Magic</td><td>Robin Hobb</td><td>4.12</td><td>11643</td></tr>",
                            "<tr><td>Street Magic</td><td>Tamora Pierce</td><td>4.12</td><td>11643</td></tr>",
                            "<tr><td>Street Magic</td><td>Tamora Pierce</td><td>4.12</td><td>11644</td></tr>",
                            "<tr><td>Succulent Wild Woman</td><td>S.A.R.K.</td><td>4.12</td><td>11643</td></tr>",
                            "<tr><td>Succulent Wild Woman</td><td>S.A.R.K.</td><td>4.12</td><td>11644</td></tr>",
                            "<tr><td>The Crystal Cave</td><td>Mary  Stewart</td><td>4.12</td><td>11643</td></tr>",
                            "<tr><td>The Crystal Cave</td><td>Mary  Stewart</td><td>4.12</td><td>11644</td></tr>",
                            "<tr><td>The Giver</td><td>Lois Lowry</td><td>4.12</td><td>11643</td></tr>",
                            "<tr><td>The Mists of Avalon</td><td>Marion Zimmer Bradley</td><td>4.12</td><td>11643</td></tr>",
                            "<tr><td>The Mists of Avalon</td><td>Marion Zimmer Bradley</td><td>4.12</td><td>11644</td></tr>",
                            "<tr><td>The Passion</td><td>Jeanette Winterson</td><td>4.12</td><td>11643</td></tr>",
                            "<tr><td>The Passion</td><td>Jeanette Winterson</td><td>4.12</td><td>11644</td></tr>",
                            "<tr><td>The Pearl that Broke Its Shell</td><td>Nadia Hashimi</td><td>4.12</td><td>11643</td></tr>",
                            "<tr><td>Timeless</td><td>Gail Carriger</td><td>4.12</td><td>11643</td></tr>",
                            "<tr><td>花より男子 1</td><td>Yoko Kamio, 神尾葉子</td><td>4.12</td><td>3514</td></tr>",
                            "<tr><td>Blackout</td><td>Mira Grant</td><td>4.11</td><td>11643</td></tr>",
                            "<tr><td>Cruel &amp; Unusual</td><td>Patricia Cornwell</td><td>4.11</td><td>11643</td></tr>",
                            "<tr><td>Curtsies &amp; Conspiracies</td><td>Gail Carriger</td><td>4.11</td><td>11643</td></tr>",
                            "<tr><td>Faithless</td><td>Karin Slaughter</td><td>4.11</td><td>11643</td></tr>",
                            "<tr><td>Pippi Långstrump</td><td>Astrid Lindgren, Lauren Child, Florence Lamborn, Nancy Seligsohn</td><td>4.11</td><td>11643</td></tr>",
                            "<tr><td>Purple Hibiscus</td><td>Chimamanda Ngozi Adichie</td><td>4.11</td><td>11643</td></tr>",
                            "<tr><td>Purple Hibiscus</td><td>Chimamanda Ngozi Adichie</td><td>4.11</td><td>11644</td></tr>",
                            "<tr><td>Scuffy the Tugboat and His Adventures Down the River</td><td>Gertrude Crampton</td><td>4.11</td><td>11643</td></tr>",
                            "<tr><td>The Art of Simple Food: Notes and Recipes from a Delicious Revolution</td><td>Alice Waters</td><td>4.11</td><td>11643</td></tr>",
                            "<tr><td>The Defining Decade: Why Your Twenties Matter--And How to Make the Most of Them Now</td><td>Meg Jay</td><td>4.11</td><td>11644</td></tr>",
                            "<tr><td>The Farthest Shore</td><td>Ursula K. Le Guin</td><td>4.11</td><td>11643</td></tr>",
                            "<tr><td>The Farthest Shore</td><td>Ursula K. Le Guin</td><td>4.11</td><td>11644</td></tr>",
                            "<tr><td>The Ghost Road</td><td>Pat Barker</td><td>4.11</td><td>11643</td></tr>",
                            "<tr><td>The Laughing Corpse</td><td>Laurell K. Hamilton</td><td>4.11</td><td>11643</td></tr>",
                            "<tr><td>The Palace of Illusions</td><td>Chitra Banerjee Divakaruni</td><td>4.11</td><td>11643</td></tr>",
                            "<tr><td>The Palace of Illusions</td><td>Chitra Banerjee Divakaruni</td><td>4.11</td><td>11644</td></tr>",
                            "<tr><td>The Yellow Wall-paper. A story</td><td>Charlotte Perkins Gilman, Elaine Hedges</td><td>4.11</td><td>11643</td></tr>",
                            "<tr><td>The Yellow Wall-paper. A story</td><td>Charlotte Perkins Gilman, Elaine Hedges</td><td>4.11</td><td>11644</td></tr>",
                            "<tr><td>Unaccustomed Earth</td><td>Jhumpa Lahiri</td><td>4.11</td><td>11643</td></tr>",
                            "<tr><td>Unaccustomed Earth</td><td>Jhumpa Lahiri</td><td>4.11</td><td>11644</td></tr>",
                            "<tr><td>Unnatural Death</td><td>Dorothy L. Sayers</td><td>4.11</td><td>11644</td></tr>",
                            "<tr><td>War of the Twins</td><td>Margaret Weis, Tracy Hickman</td><td>4.11</td><td>11643</td></tr>",
                            "<tr><td>A Room of One&#39;s Own</td><td>Virginia Woolf</td><td>4.1</td><td>11643</td></tr>",
                            "<tr><td>A Room of One&#39;s Own</td><td>Virginia Woolf</td><td>4.1</td><td>11644</td></tr>",
                            "<tr><td>Can&#39;t We Talk about Something More Pleasant?</td><td>Roz Chast</td><td>4.1</td><td>11643</td></tr>",
                            "<tr><td>Can&#39;t We Talk about Something More Pleasant?</td><td>Roz Chast</td><td>4.1</td><td>11644</td></tr>",
                            "<tr><td>Dawn</td><td>Octavia E. Butler</td><td>4.1</td><td>11643</td></tr>",
                            "<tr><td>Dawn</td><td>Octavia E. Butler</td><td>4.1</td><td>11644</td></tr>",
                            "<tr><td>Deadline</td><td>Mira Grant</td><td>4.1</td><td>11643</td></tr>",
                            "<tr><td>Dragonflight</td><td>Anne McCaffrey, Teodor Panasiński</td><td>4.1</td><td>11643</td></tr>",
                            "<tr><td>Ensemble, c&#39;est tout</td><td>Anna Gavalda, Alison Anderson</td><td>4.1</td><td>11644</td></tr>",
                            "<tr><td>Het Achterhuis: Dagboekbrieven 14 juni 1942 - 1 augustus 1944</td><td>Anne Frank, Eleanor Roosevelt, B.M. Mooyaart-Doubleday</td><td>4.1</td><td>11644</td></tr>",
                            "<tr><td>Jane Eyre</td><td>Charlotte Brontë, Michael Mason</td><td>4.1</td><td>11643</td></tr>",
                            "<tr><td>Jane Eyre</td><td>Charlotte Brontë, Michael Mason</td><td>4.1</td><td>11644</td></tr>",
                            "<tr><td>Manga Classics: Les Misérables</td><td>Stacy King, SunNeko Lee, Crystal S. Chan, Victor Hugo</td><td>4.1</td><td>11644</td></tr>",
                            "<tr><td>Pilgrim at Tinker Creek</td><td>Annie Dillard</td><td>4.1</td><td>11643</td></tr>",
                            "<tr><td>Pilgrim at Tinker Creek</td><td>Annie Dillard</td><td>4.1</td><td>11644</td></tr>",
                            "<tr><td>Pippi Långstrump i Söderhavet</td><td>Astrid Lindgren, Gerry Bothmer</td><td>4.1</td><td>11643</td></tr>",
                            "<tr><td>Prinsessen på ærten</td><td>Janet Stevens, Hans Christian Andersen</td><td>4.1</td><td>11643</td></tr>",
                            "<tr><td>Prinsessen på ærten</td><td>Janet Stevens, Hans Christian Andersen</td><td>4.1</td><td>11644</td></tr>",
                            "<tr><td>The Boston Cooking-School Cook Book 1896</td><td>Marion Cunningham, Fannie Merritt Farmer, Archibald Candy Corporation</td><td>4.1</td><td>11644</td></tr>",
                            "<tr><td>The Golem and the Jinni</td><td>Helene Wecker</td><td>4.1</td><td>11643</td></tr>",
                            "<tr><td>The Golem and the Jinni</td><td>Helene Wecker</td><td>4.1</td><td>11644</td></tr>",
                            "<tr><td>Bastard Out of Carolina</td><td>Dorothy Allison</td><td>4.09</td><td>11643</td></tr>",
                            "<tr><td>Bastard Out of Carolina</td><td>Dorothy Allison</td><td>4.09</td><td>11644</td></tr>",
                            "<tr><td>Daddy-Long-Legs       </td><td>Jean Webster</td><td>4.09</td><td>11643</td></tr>",
                            "<tr><td>Das Drama des begabten Kindes und die Suche nach dem wahren Selbst: eine Um- und Fortschreibung</td><td>Alice  Miller, Ruth Ward</td><td>4.09</td><td>11643</td></tr>",
                            "<tr><td>Das Drama des begabten Kindes und die Suche nach dem wahren Selbst: eine Um- und Fortschreibung</td><td>Alice  Miller, Ruth Ward</td><td>4.09</td><td>11644</td></tr>",
                            "<tr><td>Desert Flower: The Extraordinary Journey of a Desert Nomad</td><td>Waris Dirie, Cathleen Miller</td><td>4.09</td><td>11644</td></tr>",
                            "<tr><td>Dragonquest</td><td>Anne McCaffrey</td><td>4.09</td><td>11643</td></tr>",
                            "<tr><td>Emily of New Moon</td><td>L.M. Montgomery</td><td>4.09</td><td>11643</td></tr>",
                            "<tr><td>Harry, A History: The True Story of a Boy Wizard, His Fans, and Life Inside the Harry Potter Phenomenon</td><td>Melissa Anelli, J.K. Rowling</td><td>4.09</td><td>11643</td></tr>",
                            "<tr><td>Into the Labyrinth</td><td>Margaret Weis, Tracy Hickman</td><td>4.09</td><td>11643</td></tr>",
                            "<tr><td>Le deuxième sexe: I. Les faits et les mythes, II. L&#39;expérience vécue</td><td>Simone de Beauvoir, H.M. Parshley, Deirdre Bair</td><td>4.09</td><td>11643</td></tr>",
                            "<tr><td>Le deuxième sexe: I. Les faits et les mythes, II. L&#39;expérience vécue</td><td>Simone de Beauvoir, H.M. Parshley, Deirdre Bair</td><td>4.09</td><td>11644</td></tr>",
                            "<tr><td>National Velvet</td><td>Enid Bagnold</td><td>4.09</td><td>11643</td></tr>",
                            "<tr><td>Reunion</td><td>Meg Cabot</td><td>4.09</td><td>11643</td></tr>",
                            "<tr><td>Sadako and the Thousand Paper Cranes</td><td>Eleanor Coerr, Ronald Himler</td><td>4.09</td><td>11643</td></tr>",
                            "<tr><td>The Lathe of Heaven</td><td>Ursula K. Le Guin</td><td>4.09</td><td>11643</td></tr>",
                            "<tr><td>The Lathe of Heaven</td><td>Ursula K. Le Guin</td><td>4.09</td><td>11644</td></tr>",
                            "<tr><td>The Lottery</td><td>Shirley Jackson</td><td>4.09</td><td>11643</td></tr>",
                            "<tr><td>The Lottery</td><td>Shirley Jackson</td><td>4.09</td><td>11644</td></tr>",
                            "<tr><td>The Many Lives &amp; Secret Sorrows of Josephine B.</td><td>Sandra Gulland</td><td>4.09</td><td>11644</td></tr>",
                            "<tr><td>The Seventh Gate</td><td>Margaret Weis, Tracy Hickman</td><td>4.09</td><td>11643</td></tr>",
                            "<tr><td>The Sixth Extinction: An Unnatural History</td><td>Elizabeth Kolbert</td><td>4.09</td><td>11643</td></tr>",
                            "<tr><td>The Sixth Extinction: An Unnatural History</td><td>Elizabeth Kolbert</td><td>4.09</td><td>11644</td></tr>",
                            "<tr><td>Incidents in the Life of a Slave Girl Written by Herself</td><td>Harriet Jacobs</td><td>4.08</td><td>11643</td></tr>",
                            "<tr><td>Incidents in the Life of a Slave Girl Written by Herself</td><td>Harriet Jacobs</td><td>4.08</td><td>11644</td></tr>",
                            "<tr><td>Letter to My Daughter</td><td>Maya Angelou</td><td>4.08</td><td>11644</td></tr>",
                            "<tr><td>Luck in the Shadows</td><td>Lynn Flewelling</td><td>4.08</td><td>11643</td></tr>",
                            "<tr><td>Luck in the Shadows</td><td>Lynn Flewelling</td><td>4.08</td><td>11644</td></tr>",
                            "<tr><td>My Life on the Road</td><td>Gloria Steinem</td><td>4.08</td><td>11643</td></tr>",
                            "<tr><td>My Life on the Road</td><td>Gloria Steinem</td><td>4.08</td><td>11644</td></tr>",
                            "<tr><td>The Beekeeper&#39;s Apprentice</td><td>Laurie R. King</td><td>4.08</td><td>11643</td></tr>",
                            "<tr><td>The Story of an Hour</td><td>Kate Chopin</td><td>4.08</td><td>11643</td></tr>",
                            "<tr><td>The Story of an Hour</td><td>Kate Chopin</td><td>4.08</td><td>11644</td></tr>",
                            "<tr><td>The Wolves of Willoughby Chase </td><td>Joan Aiken, Pat Marriott</td><td>4.08</td><td>11643</td></tr>",
                            "<tr><td>Vegan Cupcakes Take Over the World: 75 Dairy-Free Recipes for Cupcakes that Rule</td><td>Isa Chandra Moskowitz, Terry Hope Romero, Sara Quin</td><td>4.08</td><td>11643</td></tr>",
                            "<tr><td>Written on the Body</td><td>Jeanette Winterson</td><td>4.08</td><td>11643</td></tr>",
                            "<tr><td>Written on the Body</td><td>Jeanette Winterson</td><td>4.08</td><td>11644</td></tr>",
                            "<tr><td>A Darker Shade of Magic</td><td>V.E. Schwab, Victoria Schwab</td><td>4.07</td><td>11643</td></tr>",
                            "<tr><td>A Wind in the Door</td><td>Madeleine L&#39;Engle</td><td>4.07</td><td>11643</td></tr>",
                            "<tr><td>Betsy-Tacy</td><td>Maud Hart Lovelace, Lois Lenski</td><td>4.07</td><td>11643</td></tr>",
                            "<tr><td>Crystal Singer</td><td>Anne McCaffrey</td><td>4.07</td><td>11643</td></tr>",
                            "<tr><td>Drift: The Unmooring of American Military Power</td><td>Rachel Maddow</td><td>4.07</td><td>11643</td></tr>",
                            "<tr><td>Drift: The Unmooring of American Military Power</td><td>Rachel Maddow</td><td>4.07</td><td>11644</td></tr>",
                            "<tr><td>Heartless</td><td>Gail Carriger</td><td>4.07</td><td>11643</td></tr>",
                            "<tr><td>How I Became a Pirate</td><td>Melinda Long, David Shannon</td><td>4.07</td><td>11643</td></tr>",
                            "<tr><td>Ninth Key</td><td>Meg Cabot</td><td>4.07</td><td>11643</td></tr>",
                            "<tr><td>Paula</td><td>Isabel Allende</td><td>4.07</td><td>11644</td></tr>",
                            "<tr><td>Stones from the River</td><td>Ursula Hegi</td><td>4.07</td><td>11644</td></tr>",
                            "<tr><td>The Dark Is Rising</td><td>Susan Cooper</td><td>4.07</td><td>11643</td></tr>",
                            "<tr><td>The Dry</td><td>Jane Harper</td><td>4.07</td><td>11643</td></tr>",
                            "<tr><td>The Language of Flowers</td><td>Vanessa Diffenbaugh</td><td>4.07</td><td>11643</td></tr>",
                            "<tr><td>The Novice</td><td>Trudi Canavan</td><td>4.07</td><td>11643</td></tr>",
                            "<tr><td>The Secret History</td><td>Donna Tartt</td><td>4.07</td><td>11643</td></tr>",
                            "<tr><td>The Secret History</td><td>Donna Tartt</td><td>4.07</td><td>11644</td></tr>",
                            "<tr><td>The Story of My Life</td><td>Helen Keller</td><td>4.07</td><td>11643</td></tr>",
                            "<tr><td>The Story of My Life</td><td>Helen Keller</td><td>4.07</td><td>11644</td></tr>",
                            "<tr><td>The Tombs of Atuan</td><td>Ursula K. Le Guin</td><td>4.07</td><td>11643</td></tr>",
                            "<tr><td>The Tombs of Atuan</td><td>Ursula K. Le Guin</td><td>4.07</td><td>11644</td></tr>",
                            "<tr><td>Tris&#39;s Book</td><td>Tamora Pierce</td><td>4.07</td><td>11643</td></tr>",
                            "<tr><td>Tris&#39;s Book</td><td>Tamora Pierce</td><td>4.07</td><td>11644</td></tr>",
                            "<tr><td>Water for Elephants</td><td>Sara Gruen</td><td>4.07</td><td>11643</td></tr>",
                            "<tr><td>Water for Elephants</td><td>Sara Gruen</td><td>4.07</td><td>11644</td></tr>",
                            "<tr><td>We Need to Talk About Kevin</td><td>Lionel Shriver</td><td>4.07</td><td>11643</td></tr>",
                            "<tr><td>Wives and Daughters</td><td>Elizabeth Gaskell, Pam Morris</td><td>4.07</td><td>11643</td></tr>",
                            "<tr><td>Wives and Daughters</td><td>Elizabeth Gaskell, Pam Morris</td><td>4.07</td><td>11644</td></tr>",
                            "<tr><td>A Great Deliverance</td><td>Elizabeth  George</td><td>4.06</td><td>11643</td></tr>",
                            "<tr><td>Across the Nightingale Floor </td><td>Lian Hearn</td><td>4.06</td><td>11643</td></tr>",
                            "<tr><td>Daja&#39;s Book</td><td>Tamora Pierce</td><td>4.06</td><td>11643</td></tr>",
                            "<tr><td>Daja&#39;s Book</td><td>Tamora Pierce</td><td>4.06</td><td>11644</td></tr>",
                            "<tr><td>Death on the Nile</td><td>Agatha Christie</td><td>4.06</td><td>11643</td></tr>",
                            "<tr><td>Dragon Haven</td><td>Robin Hobb</td><td>4.06</td><td>11643</td></tr>",
                            "<tr><td>Five on a Treasure Island </td><td>Enid Blyton</td><td>4.06</td><td>11644</td></tr>",
                            "<tr><td>Hateship, Friendship, Courtship, Loveship, Marriage</td><td>Alice Munro</td><td>4.06</td><td>11643</td></tr>",
                            "<tr><td>Hateship, Friendship, Courtship, Loveship, Marriage</td><td>Alice Munro</td><td>4.06</td><td>11644</td></tr>",
                            "<tr><td>I Am Malala: The Girl Who Stood Up for Education and Was Shot by the Taliban</td><td>Malala Yousafzai, Christina Lamb</td><td>4.06</td><td>11644</td></tr>",
                            "<tr><td>Possessing the Secret of Joy</td><td>Alice Walker</td><td>4.06</td><td>11643</td></tr>",
                            "<tr><td>Possessing the Secret of Joy</td><td>Alice Walker</td><td>4.06</td><td>11644</td></tr>",
                            "<tr><td>Sense and Sensibility</td><td>Jane Austen, Tony Tanner, Ros Ballaster</td><td>4.06</td><td>11643</td></tr>",
                            "<tr><td>Sense and Sensibility</td><td>Jane Austen, Tony Tanner, Ros Ballaster</td><td>4.06</td><td>11644</td></tr>",
                            "<tr><td>Serpent Mage</td><td>Margaret Weis, Tracy Hickman</td><td>4.06</td><td>11643</td></tr>",
                            "<tr><td>Stormy, Misty&#39;s Foal</td><td>Marguerite Henry</td><td>4.06</td><td>3514</td></tr>",
                            "<tr><td>Stormy, Misty&#39;s Foal</td><td>Marguerite Henry</td><td>4.06</td><td>11643</td></tr>",
                            "<tr><td>Stormy, Misty&#39;s Foal</td><td>Marguerite Henry</td><td>4.06</td><td>11644</td></tr>",
                            "<tr><td>The Bone People</td><td>Keri Hulme</td><td>4.06</td><td>11643</td></tr>",
                            "<tr><td>The Bone People</td><td>Keri Hulme</td><td>4.06</td><td>11644</td></tr>",
                            "<tr><td>The Handmaid&#39;s Tale</td><td>Margaret Atwood</td><td>4.06</td><td>11643</td></tr>",
                            "<tr><td>The Handmaid&#39;s Tale</td><td>Margaret Atwood</td><td>4.06</td><td>11644</td></tr>",
                            "<tr><td>The Lottery: Adventures of the Demon Lover</td><td>Shirley Jackson</td><td>4.06</td><td>11643</td></tr>",
                            "<tr><td>The Lottery: Adventures of the Demon Lover</td><td>Shirley Jackson</td><td>4.06</td><td>11644</td></tr>",
                            "<tr><td>The Other Wind</td><td>Ursula K. Le Guin</td><td>4.06</td><td>11643</td></tr>",
                            "<tr><td>The Other Wind</td><td>Ursula K. Le Guin</td><td>4.06</td><td>11644</td></tr>",
                            "<tr><td>The Scarlet Pimpernel</td><td>Emmuska Orczy</td><td>4.06</td><td>11643</td></tr>",
                            "<tr><td>The Tales of Beedle the Bard</td><td>J.K. Rowling</td><td>4.06</td><td>11643</td></tr>",
                            "<tr><td>All That Remains</td><td>Patricia Cornwell</td><td>4.05</td><td>11643</td></tr>",
                            "<tr><td>An Old-Fashioned Girl</td><td>Louisa May Alcott</td><td>4.05</td><td>11643</td></tr>",
                            "<tr><td>An Untamed State</td><td>Roxane Gay</td><td>4.05</td><td>11643</td></tr>",
                            "<tr><td>An Untamed State</td><td>Roxane Gay</td><td>4.05</td><td>11644</td></tr>",
                            "<tr><td>Animal Dreams</td><td>Barbara Kingsolver</td><td>4.05</td><td>11643</td></tr>",
                            "<tr><td>Animal Dreams</td><td>Barbara Kingsolver</td><td>4.05</td><td>11644</td></tr>",
                            "<tr><td>Anne of Ingleside</td><td>L.M. Montgomery</td><td>4.05</td><td>11643</td></tr>",
                            "<tr><td>Anne of Ingleside</td><td>L.M. Montgomery</td><td>4.05</td><td>11644</td></tr>",
                            "<tr><td>Beauty: A Retelling of the Story of Beauty and the Beast</td><td>Robin McKinley</td><td>4.05</td><td>11643</td></tr>",
                            "<tr><td>Children of God</td><td>Mary Doria Russell</td><td>4.05</td><td>11643</td></tr>",
                            "<tr><td>Children of God</td><td>Mary Doria Russell</td><td>4.05</td><td>11644</td></tr>",
                            "<tr><td>City of Dragons</td><td>Robin Hobb</td><td>4.05</td><td>11644</td></tr>",
                            "<tr><td>Cold Fire</td><td>Tamora Pierce</td><td>4.05</td><td>11643</td></tr>",
                            "<tr><td>Cold Fire</td><td>Tamora Pierce</td><td>4.05</td><td>11644</td></tr>",
                            "<tr><td>Farmer Boy</td><td>Laura Ingalls Wilder, Garth Williams</td><td>4.05</td><td>11643</td></tr>",
                            "<tr><td>Fire Sea</td><td>Margaret Weis, Tracy Hickman</td><td>4.05</td><td>11643</td></tr>",
                            "<tr><td>His Majesty&#39;s Dragon</td><td>Naomi Novik</td><td>4.05</td><td>11643</td></tr>",
                            "<tr><td>Mary Poppins</td><td>P.L. Travers, Mary Shepard</td><td>4.05</td><td>11643</td></tr>",
                            "<tr><td>Snow Flower and the Secret Fan</td><td>Lisa See</td><td>4.05</td><td>11643</td></tr>",
                            "<tr><td>Snow Flower and the Secret Fan</td><td>Lisa See</td><td>4.05</td><td>11644</td></tr>",
                            "<tr><td>Stiff: The Curious Lives of Human Cadavers</td><td>Mary Roach</td><td>4.05</td><td>11643</td></tr>",
                            "<tr><td>Stiff: The Curious Lives of Human Cadavers</td><td>Mary Roach</td><td>4.05</td><td>11644</td></tr>",
                            "<tr><td>Sweetheart</td><td>Chelsea Cain</td><td>4.05</td><td>11644</td></tr>",
                            "<tr><td>Tender at the Bone: Growing Up at the Table</td><td>Ruth Reichl</td><td>4.05</td><td>11643</td></tr>",
                            "<tr><td>The Goblin Emperor</td><td>Katherine Addison</td><td>4.05</td><td>3514</td></tr>",
                            "<tr><td>The Goblin Emperor</td><td>Katherine Addison</td><td>4.05</td><td>11643</td></tr>",
                            "<tr><td>The Goblin Emperor</td><td>Katherine Addison</td><td>4.05</td><td>11644</td></tr>",
                            "<tr><td>The Hand of Chaos</td><td>Margaret Weis, Tracy Hickman</td><td>4.05</td><td>11643</td></tr>",
                            "<tr><td>The Left Hand of Darkness</td><td>Ursula K. Le Guin, Lech Jęczmyk</td><td>4.05</td><td>11643</td></tr>",
                            "<tr><td>The Left Hand of Darkness</td><td>Ursula K. Le Guin, Lech Jęczmyk</td><td>4.05</td><td>11644</td></tr>",
                            "<tr><td>The Likeness</td><td>Tana French</td><td>4.05</td><td>11643</td></tr>",
                            "<tr><td>The Likeness</td><td>Tana French</td><td>4.05</td><td>11644</td></tr>",
                            "<tr><td>The Temple of My Familiar</td><td>Alice Walker</td><td>4.05</td><td>11644</td></tr>",
                            "<tr><td>The Vampire Lestat</td><td>Anne Rice</td><td>4.05</td><td>11644</td></tr>",
                            "<tr><td>The Year of the Flood</td><td>Margaret Atwood</td><td>4.05</td><td>11643</td></tr>",
                            "<tr><td>The Year of the Flood</td><td>Margaret Atwood</td><td>4.05</td><td>11644</td></tr>",
                            "<tr><td>Tom&#39;s Midnight Garden</td><td>Philippa Pearce, Susan Einzig</td><td>4.05</td><td>11643</td></tr>",
                            "<tr><td>Unnatural Exposure</td><td>Patricia Cornwell</td><td>4.05</td><td>11643</td></tr>",
                            "<tr><td>We Have Always Lived in the Castle</td><td>Shirley Jackson, Jonathan Lethem</td><td>4.05</td><td>11643</td></tr>",
                            "<tr><td>We Have Always Lived in the Castle</td><td>Shirley Jackson, Jonathan Lethem</td><td>4.05</td><td>11644</td></tr>",
                            "<tr><td>A Monstrous Regiment of Women</td><td>Laurie R. King</td><td>4.04</td><td>11643</td></tr>",
                            "<tr><td>A Monstrous Regiment of Women</td><td>Laurie R. King</td><td>4.04</td><td>11644</td></tr>",
                            "<tr><td>Anne of Windy Poplars</td><td>L.M. Montgomery</td><td>4.04</td><td>11643</td></tr>",
                            "<tr><td>Anne of Windy Poplars</td><td>L.M. Montgomery</td><td>4.04</td><td>11644</td></tr>",
                            "<tr><td>Book of Shadows</td><td>Cate Tiernan</td><td>4.04</td><td>11644</td></tr>",
                            "<tr><td>Brilliance of the Moon </td><td>Lian Hearn</td><td>4.04</td><td>11643</td></tr>",
                            "<tr><td>Clouds of Witness</td><td>Dorothy L. Sayers</td><td>4.04</td><td>11643</td></tr>",
                            "<tr><td>Dragondrums (Pern: Harper Hall, #3)</td><td>Anne McCaffrey</td><td>4.04</td><td>11643</td></tr>",
                            "<tr><td>Drinking: A Love Story</td><td>Caroline Knapp</td><td>4.04</td><td>11644</td></tr>",
                            "<tr><td>Fatal Voyage</td><td>Kathy Reichs</td><td>4.04</td><td>11643</td></tr>",
                            "<tr><td>Kushiel&#39;s Dart</td><td>Jacqueline Carey</td><td>4.04</td><td>11643</td></tr>",
                            "<tr><td>Lab Girl</td><td>Hope Jahren</td><td>4.04</td><td>11644</td></tr>",
                            "<tr><td>Little Women</td><td>Louisa May Alcott</td><td>4.04</td><td>11644</td></tr>",
                            "<tr><td>Martha Stewart&#39;s Cookies</td><td>Martha Stewart, Victor Schrager</td><td>4.04</td><td>11644</td></tr>",
                            "<tr><td>Misty of Chincoteague</td><td>Marguerite Henry, Wesley Dennis</td><td>4.04</td><td>11643</td></tr>",
                            "<tr><td>Nine Parts of Desire: The Hidden World of Islamic Women</td><td>Geraldine Brooks</td><td>4.04</td><td>11643</td></tr>",
                            "<tr><td>Nine Parts of Desire: The Hidden World of Islamic Women</td><td>Geraldine Brooks</td><td>4.04</td><td>11644</td></tr>",
                            "<tr><td>Not Without My Daughter</td><td>Betty Mahmoody</td><td>4.04</td><td>11644</td></tr>",
                            "<tr><td>Talking as Fast as I Can: From Gilmore Girls to Gilmore Girls, and Everything in Between</td><td>Lauren Graham</td><td>4.04</td><td>11643</td></tr>",
                            "<tr><td>Tell the Wolves I&#39;m Home</td><td>Carol Rifka Brunt</td><td>4.04</td><td>11643</td></tr>",
                            "<tr><td>The Body Farm</td><td>Patricia Cornwell</td><td>4.04</td><td>11643</td></tr>",
                            "<tr><td>The Broken Kingdoms</td><td>N.K. Jemisin</td><td>4.04</td><td>11643</td></tr>",
                            "<tr><td>The Broken Kingdoms</td><td>N.K. Jemisin</td><td>4.04</td><td>11644</td></tr>",
                            "<tr><td>The First Fifteen Lives of Harry August</td><td>Claire North</td><td>4.04</td><td>11643</td></tr>",
                            "<tr><td>The Immortal Life of Henrietta Lacks</td><td>Rebecca Skloot</td><td>4.04</td><td>11643</td></tr>",
                            "<tr><td>The Other Boleyn Girl</td><td>Philippa Gregory</td><td>4.04</td><td>11643</td></tr>",
                            "<tr><td>千年の雪, 1</td><td>Bisco Hatori</td><td>4.04</td><td>3514</td></tr>",
                            "<tr><td>An Unquiet Mind: A Memoir of Moods and Madness</td><td>Kay Redfield Jamison</td><td>4.03</td><td>11644</td></tr>",
                            "<tr><td>Ancillary Sword</td><td>Ann Leckie</td><td>4.03</td><td>3514</td></tr>",
                            "<tr><td>Ancillary Sword</td><td>Ann Leckie</td><td>4.03</td><td>11643</td></tr>",
                            "<tr><td>Ancillary Sword</td><td>Ann Leckie</td><td>4.03</td><td>11644</td></tr>",
                            "<tr><td>Animal, Vegetable, Miracle: A Year of Food Life</td><td>Barbara Kingsolver, Steven L. Hopp, Camille Kingsolver, Richard A. Houser</td><td>4.03</td><td>11643</td></tr>",
                            "<tr><td>Doomsday Book</td><td>Connie Willis</td><td>4.03</td><td>11643</td></tr>",
                            "<tr><td>Evil at Heart</td><td>Chelsea Cain</td><td>4.03</td><td>11644</td></tr>",
                            "<tr><td>Five Go to Smuggler&#39;s Top</td><td>Enid Blyton</td><td>4.03</td><td>11643</td></tr>",
                            "<tr><td>House of Many Ways</td><td>Diana Wynne Jones</td><td>4.03</td><td>11643</td></tr>",
                            "<tr><td>Murder at the Vicarage</td><td>Agatha Christie</td><td>4.03</td><td>11643</td></tr>",
                            "<tr><td>Murder at the Vicarage</td><td>Agatha Christie</td><td>4.03</td><td>11644</td></tr>",
                            "<tr><td>Priestess of Avalon </td><td>Marion Zimmer Bradley, Diana L. Paxson</td><td>4.03</td><td>11644</td></tr>",
                            "<tr><td>Regeneration</td><td>Pat Barker</td><td>4.03</td><td>11643</td></tr>",
                            "<tr><td>Regeneration</td><td>Pat Barker</td><td>4.03</td><td>11644</td></tr>",
                            "<tr><td>Room</td><td>Emma Donoghue</td><td>4.03</td><td>11643</td></tr>",
                            "<tr><td>Room</td><td>Emma Donoghue</td><td>4.03</td><td>11644</td></tr>",
                            "<tr><td>Rose in Bloom</td><td>Louisa May Alcott</td><td>4.03</td><td>11643</td></tr>",
                            "<tr><td>The Silkworm</td><td>Robert Galbraith, J.K. Rowling</td><td>4.03</td><td>11643</td></tr>",
                            "<tr><td>This Is the Story of a Happy Marriage</td><td>Ann Patchett</td><td>4.03</td><td>11643</td></tr>",
                            "<tr><td>When Rabbit Howls</td><td>Truddi Chase, Robert A. Phillips Jr.</td><td>4.03</td><td>11644</td></tr>",
                            "<tr><td>Crocodile on the Sandbank</td><td>Elizabeth Peters</td><td>4.02</td><td>11643</td></tr>",
                            "<tr><td>Eight Cousins</td><td>Louisa May Alcott</td><td>4.02</td><td>11643</td></tr>",
                            "<tr><td>From Potter&#39;s Field</td><td>Patricia Cornwell</td><td>4.02</td><td>11643</td></tr>",
                            "<tr><td>How to Fall in Love</td><td>Cecelia Ahern</td><td>4.02</td><td>11644</td></tr>",
                            "<tr><td>Point of Origin</td><td>Patricia Cornwell</td><td>4.02</td><td>11643</td></tr>",
                            "<tr><td>Station Eleven</td><td>Emily St. John Mandel</td><td>4.02</td><td>11643</td></tr>",
                            "<tr><td>Station Eleven</td><td>Emily St. John Mandel</td><td>4.02</td><td>11644</td></tr>",
                            "<tr><td>The Bloody Chamber &amp; Other Stories</td><td>Angela Carter</td><td>4.02</td><td>11643</td></tr>",
                            "<tr><td>The Bloody Chamber &amp; Other Stories</td><td>Angela Carter</td><td>4.02</td><td>11644</td></tr>",
                            "<tr><td>The Bone Garden</td><td>Tess Gerritsen</td><td>4.02</td><td>11643</td></tr>",
                            "<tr><td>The Borrowers Afield</td><td>Mary Norton, Beth Krush, Joe Krush</td><td>4.02</td><td>11643</td></tr>",
                            "<tr><td>The Clan of the Cave Bear</td><td>Jean M. Auel</td><td>4.02</td><td>11643</td></tr>",
                            "<tr><td>The Dance of Anger: A Woman&#39;s Guide to Changing the Patterns of Intimate Relationships</td><td>Harriet Lerner</td><td>4.02</td><td>11643</td></tr>",
                            "<tr><td>The Master Butchers Singing Club</td><td>Louise Erdrich</td><td>4.02</td><td>11643</td></tr>",
                            "<tr><td>The Master Butchers Singing Club</td><td>Louise Erdrich</td><td>4.02</td><td>11644</td></tr>",
                            "<tr><td>The Poisonwood Bible</td><td>Barbara Kingsolver</td><td>4.02</td><td>11643</td></tr>",
                            "<tr><td>The Poisonwood Bible</td><td>Barbara Kingsolver</td><td>4.02</td><td>11644</td></tr>",
                            "<tr><td>The Two Princesses of Bamarre</td><td>Gail Carson Levine</td><td>4.02</td><td>11643</td></tr>",
                            "<tr><td>The Yellow Wallpaper</td><td>Charlotte Perkins Gilman</td><td>4.02</td><td>11643</td></tr>",
                            "<tr><td>The Yellow Wallpaper</td><td>Charlotte Perkins Gilman</td><td>4.02</td><td>11644</td></tr>",
                            "<tr><td>What I Loved</td><td>Siri Hustvedt</td><td>4.02</td><td>11643</td></tr>",
                            "<tr><td>What I Loved</td><td>Siri Hustvedt</td><td>4.02</td><td>11644</td></tr>",
                            "<tr><td>Blameless</td><td>Gail Carriger</td><td>4.01</td><td>11643</td></tr>",
                            "<tr><td>Burial Rites</td><td>Hannah Kent</td><td>4.01</td><td>11643</td></tr>",
                            "<tr><td>Burial Rites</td><td>Hannah Kent</td><td>4.01</td><td>11644</td></tr>",
                            "<tr><td>Dancing in my nuddy-pants!</td><td>Louise Rennison</td><td>4.01</td><td>11644</td></tr>",
                            "<tr><td>Grass for His Pillow </td><td>Lian Hearn</td><td>4.01</td><td>11643</td></tr>",
                            "<tr><td>Heaven</td><td>V.C. Andrews</td><td>4.01</td><td>11644</td></tr>",
                            "<tr><td>I, Elizabeth</td><td>Rosalind Miles</td><td>4.01</td><td>11644</td></tr>",
                            "<tr><td>La isla bajo el mar</td><td>Isabel Allende, Margaret Sayers Peden</td><td>4.01</td><td>11644</td></tr>",
                            "<tr><td>Post-Mortem:  A Mystery Introducing Dr. Kay Scarpetta</td><td>Patricia Cornwell</td><td>4.01</td><td>11643</td></tr>",
                            "<tr><td>Song of Solomon</td><td>Toni Morrison</td><td>4.01</td><td>11643</td></tr>",
                            "<tr><td>Song of Solomon</td><td>Toni Morrison</td><td>4.01</td><td>11644</td></tr>",
                            "<tr><td>The Mephisto Club</td><td>Tess Gerritsen</td><td>4.01</td><td>11644</td></tr>",
                            "<tr><td>The Secret Life of Bees</td><td>Sue Monk Kidd</td><td>4.01</td><td>11644</td></tr>",
                            "<tr><td>Victory of Eagles (Temeraire, #5)</td><td>Naomi Novik</td><td>4.01</td><td>11643</td></tr>",
                            "<tr><td>Body of Evidence </td><td>Patricia Cornwell</td><td>4</td><td>11643</td></tr>",
                            "<tr><td>Changeless</td><td>Gail Carriger</td><td>4</td><td>11643</td></tr>",
                            "<tr><td>Greenwitch</td><td>Susan Cooper</td><td>4</td><td>11643</td></tr>",
                            "<tr><td>How to Be a Domestic Goddess: Baking and the Art of Comfort Cooking</td><td>Nigella Lawson</td><td>4</td><td>11643</td></tr>",
                            "<tr><td>Oryx and Crake</td><td>Margaret Atwood</td><td>4</td><td>11643</td></tr>",
                            "<tr><td>Oryx and Crake</td><td>Margaret Atwood</td><td>4</td><td>11644</td></tr>",
                            "<tr><td>Rainbow Valley</td><td>L.M. Montgomery</td><td>4</td><td>11643</td></tr>",
                            "<tr><td>Rainbow Valley</td><td>L.M. Montgomery</td><td>4</td><td>11644</td></tr>",
                            "<tr><td>Tales from Earthsea</td><td>Ursula K. Le Guin</td><td>4</td><td>11643</td></tr>",
                            "<tr><td>Tales from Earthsea</td><td>Ursula K. Le Guin</td><td>4</td><td>11644</td></tr>",
                            "<tr><td>The Creative Habit: Learn It and Use It for Life</td><td>Twyla Tharp</td><td>4</td><td>11643</td></tr>",
                            "<tr><td>The Creative Habit: Learn It and Use It for Life</td><td>Twyla Tharp</td><td>4</td><td>11644</td></tr>",
                            "<tr><td>The Gift</td><td>Alison Croggon</td><td>4</td><td>11643</td></tr>",
                            "<tr><td>The Poisoner&#39;s Handbook: Murder and the Birth of Forensic Medicine in Jazz Age New York</td><td>Deborah Blum</td><td>4</td><td>11643</td></tr>",
                            "<tr><td>The Poisoner&#39;s Handbook: Murder and the Birth of Forensic Medicine in Jazz Age New York</td><td>Deborah Blum</td><td>4</td><td>11644</td></tr>",
                            "<tr><td>The Ship Who Sang</td><td>Anne McCaffrey</td><td>4</td><td>11643</td></tr>",
                            "<tr><td>Year of Wonders: A Novel of the Plague</td><td>Geraldine Brooks</td><td>4</td><td>11643</td></tr>",
                            "<tr><td>A Morbid Taste for Bones</td><td>Ellis Peters</td><td>3.99</td><td>11643</td></tr>",
                            "<tr><td>A Wizard of Earthsea</td><td>Ursula K. Le Guin</td><td>3.99</td><td>11643</td></tr>",
                            "<tr><td>A Wizard of Earthsea</td><td>Ursula K. Le Guin</td><td>3.99</td><td>11644</td></tr>",
                            "<tr><td>Caddie Woodlawn</td><td>Carol Ryrie Brink</td><td>3.99</td><td>11643</td></tr>",
                            "<tr><td>Close Range: Wyoming Stories</td><td>Annie Proulx</td><td>3.99</td><td>11643</td></tr>",
                            "<tr><td>Close Range: Wyoming Stories</td><td>Annie Proulx</td><td>3.99</td><td>11644</td></tr>",
                            "<tr><td>Cold Sassy Tree</td><td>Olive Ann Burns</td><td>3.99</td><td>11643</td></tr>",
                            "<tr><td>Darm mit Charme</td><td>Giulia Enders, Jill Enders</td><td>3.99</td><td>11643</td></tr>",
                            "<tr><td>Darm mit Charme</td><td>Giulia Enders, Jill Enders</td><td>3.99</td><td>11644</td></tr>",
                            "<tr><td>Emma</td><td>Jane Austen, Fiona Stafford</td><td>3.99</td><td>11643</td></tr>",
                            "<tr><td>Emma</td><td>Jane Austen, Fiona Stafford</td><td>3.99</td><td>11644</td></tr>",
                            "<tr><td>Five Go Adventuring Again</td><td>Enid Blyton</td><td>3.99</td><td>11643</td></tr>",
                            "<tr><td>Five Go Adventuring Again</td><td>Enid Blyton</td><td>3.99</td><td>11644</td></tr>",
                            "<tr><td>Messenger of Truth</td><td>Jacqueline Winspear</td><td>3.99</td><td>11643</td></tr>",
                            "<tr><td>Sandry&#39;s Book</td><td>Tamora Pierce</td><td>3.99</td><td>11643</td></tr>",
                            "<tr><td>Sandry&#39;s Book</td><td>Tamora Pierce</td><td>3.99</td><td>11644</td></tr>",
                            "<tr><td>The Argonauts</td><td>Maggie Nelson</td><td>3.99</td><td>11643</td></tr>",
                            "<tr><td>The Argonauts</td><td>Maggie Nelson</td><td>3.99</td><td>11644</td></tr>",
                            "<tr><td>The Bluest Eye</td><td>Toni Morrison</td><td>3.99</td><td>11643</td></tr>",
                            "<tr><td>The Bluest Eye</td><td>Toni Morrison</td><td>3.99</td><td>11644</td></tr>",
                            "<tr><td>The Island</td><td>Victoria Hislop</td><td>3.99</td><td>11643</td></tr>",
                            "<tr><td>The Miseducation of Cameron Post</td><td>Emily M. Danforth</td><td>3.99</td><td>11643</td></tr>",
                            "<tr><td>The Miseducation of Cameron Post</td><td>Emily M. Danforth</td><td>3.99</td><td>11644</td></tr>",
                            "<tr><td>The Railway Children</td><td>E. Nesbit</td><td>3.99</td><td>11643</td></tr>",
                            "<tr><td>A Tale for the Time Being</td><td>Ruth Ozeki</td><td>3.98</td><td>11643</td></tr>",
                            "<tr><td>A Tale for the Time Being</td><td>Ruth Ozeki</td><td>3.98</td><td>11644</td></tr>",
                            "<tr><td>Assassination Vacation</td><td>Sarah Vowell</td><td>3.98</td><td>11643</td></tr>",
                            "<tr><td>Assassination Vacation</td><td>Sarah Vowell</td><td>3.98</td><td>11644</td></tr>",
                            "<tr><td>Elven Star (The Death Gate Cycle, #2)</td><td>Margaret Weis, Tracy Hickman</td><td>3.98</td><td>11643</td></tr>",
                            "<tr><td>Forever Amber</td><td>Kathleen Winsor</td><td>3.98</td><td>11643</td></tr>",
                            "<tr><td>Geek Love</td><td>Katherine Dunn</td><td>3.98</td><td>11643</td></tr>",
                            "<tr><td>Geek Love</td><td>Katherine Dunn</td><td>3.98</td><td>11644</td></tr>",
                            "<tr><td>Girl at War</td><td>Sara Nović</td><td>3.98</td><td>11643</td></tr>",
                            "<tr><td>Girl at War</td><td>Sara Nović</td><td>3.98</td><td>11644</td></tr>",
                            "<tr><td>Grace [Eventually]: Thoughts on Faith</td><td>Anne Lamott</td><td>3.98</td><td>3514</td></tr>",
                            "<tr><td>Grave Secrets</td><td>Kathy Reichs</td><td>3.98</td><td>11643</td></tr>",
                            "<tr><td>Inside the O&#39;Briens</td><td>Lisa Genova</td><td>3.98</td><td>11643</td></tr>",
                            "<tr><td>Keeping You a Secret</td><td>Julie Anne Peters</td><td>3.98</td><td>11644</td></tr>",
                            "<tr><td>Love Medicine</td><td>Louise Erdrich</td><td>3.98</td><td>11643</td></tr>",
                            "<tr><td>Love Medicine</td><td>Louise Erdrich</td><td>3.98</td><td>11644</td></tr>",
                            "<tr><td>MaddAddam</td><td>Margaret Atwood</td><td>3.98</td><td>11643</td></tr>",
                            "<tr><td>MaddAddam</td><td>Margaret Atwood</td><td>3.98</td><td>11644</td></tr>",
                            "<tr><td>Magic Steps</td><td>Tamora Pierce</td><td>3.98</td><td>11643</td></tr>",
                            "<tr><td>Magic Steps</td><td>Tamora Pierce</td><td>3.98</td><td>11644</td></tr>",
                            "<tr><td>Mythology</td><td>Edith Hamilton, Steele Savage</td><td>3.98</td><td>11643</td></tr>",
                            "<tr><td>Prodigal Summer</td><td>Barbara Kingsolver</td><td>3.98</td><td>11643</td></tr>",
                            "<tr><td>Prodigal Summer</td><td>Barbara Kingsolver</td><td>3.98</td><td>11644</td></tr>",
                            "<tr><td>Runaway</td><td>Alice Munro</td><td>3.98</td><td>11644</td></tr>",
                            "<tr><td>Running Out of Time</td><td>Margaret Peterson Haddix</td><td>3.98</td><td>11643</td></tr>",
                            "<tr><td>Running Out of Time</td><td>Margaret Peterson Haddix</td><td>3.98</td><td>11644</td></tr>",
                            "<tr><td>Sleeping Beauty Box Set</td><td>A.N. Roquelaure, Anne Rice</td><td>3.98</td><td>11644</td></tr>",
                            "<tr><td>The Bonesetter&#39;s Daughter</td><td>Amy Tan</td><td>3.98</td><td>11643</td></tr>",
                            "<tr><td>The Bonesetter&#39;s Daughter</td><td>Amy Tan</td><td>3.98</td><td>11644</td></tr>",
                            "<tr><td>The Hundred Secret Senses</td><td>Amy Tan</td><td>3.98</td><td>11643</td></tr>",
                            "<tr><td>The Hundred Secret Senses</td><td>Amy Tan</td><td>3.98</td><td>11644</td></tr>",
                            "<tr><td>The Kitchen God&#39;s Wife</td><td>Amy Tan</td><td>3.98</td><td>11644</td></tr>",
                            "<tr><td>The Mermaids Singing </td><td>Val McDermid</td><td>3.98</td><td>11643</td></tr>",
                            "<tr><td>The Mysterious Affair at Styles</td><td>Agatha Christie, Ροζίτα Σώκου</td><td>3.98</td><td>11643</td></tr>",
                            "<tr><td>The Mysterious Affair at Styles</td><td>Agatha Christie, Ροζίτα Σώκου</td><td>3.98</td><td>11644</td></tr>",
                            "<tr><td>The Secret of the Old Clock (Nancy Drew Mystery Stories, #1)</td><td>Carolyn Keene, Russell H. Tandy, Sara Paretsky</td><td>3.98</td><td>11643</td></tr>",
                            "<tr><td>The Space Between Us</td><td>Thrity Umrigar</td><td>3.98</td><td>11644</td></tr>",
                            "<tr><td>The Two Pearls of Wisdom</td><td>Alison Goodman</td><td>3.98</td><td>11643</td></tr>",
                            "<tr><td>The Valley of Horses</td><td>Jean M. Auel</td><td>3.98</td><td>11643</td></tr>",
                            "<tr><td>Veganomicon: The Ultimate Vegan Cookbook</td><td>Isa Chandra Moskowitz, Terry Hope Romero</td><td>3.98</td><td>11643</td></tr>",
                            "<tr><td>Anatomy for the Artist</td><td>Sarah Simblet</td><td>3.97</td><td>11643</td></tr>",
                            "<tr><td>Ancillary Justice</td><td>Ann Leckie</td><td>3.97</td><td>11643</td></tr>",
                            "<tr><td>Ancillary Justice</td><td>Ann Leckie</td><td>3.97</td><td>11644</td></tr>",
                            "<tr><td>Annie on My Mind</td><td>Nancy Garden</td><td>3.97</td><td>11644</td></tr>",
                            "<tr><td>Behind the Beautiful Forevers: Life, Death, and Hope in a Mumbai Undercity</td><td>Katherine Boo</td><td>3.97</td><td>11643</td></tr>",
                            "<tr><td>Behind the Beautiful Forevers: Life, Death, and Hope in a Mumbai Undercity</td><td>Katherine Boo</td><td>3.97</td><td>11644</td></tr>",
                            "<tr><td>Faithful Place</td><td>Tana French</td><td>3.97</td><td>11643</td></tr>",
                            "<tr><td>Faithful Place</td><td>Tana French</td><td>3.97</td><td>11644</td></tr>",
                            "<tr><td>Heidi</td><td>Johanna Spyri, Angelo  Rinaldi, Beverly Cleary</td><td>3.97</td><td>11643</td></tr>",
                            "<tr><td>Heidi</td><td>Johanna Spyri, Angelo  Rinaldi, Beverly Cleary</td><td>3.97</td><td>11644</td></tr>",
                            "<tr><td>Interview with the Vampire</td><td>Anne Rice</td><td>3.97</td><td>11643</td></tr>",
                            "<tr><td>Interview with the Vampire</td><td>Anne Rice</td><td>3.97</td><td>11644</td></tr>",
                            "<tr><td>Knocked out by my nunga-nungas</td><td>Louise Rennison</td><td>3.97</td><td>11644</td></tr>",
                            "<tr><td>Moreta: Dragonlady Of Pern</td><td>Anne McCaffrey</td><td>3.97</td><td>11643</td></tr>",
                            "<tr><td>Pigs in Heaven</td><td>Barbara Kingsolver</td><td>3.97</td><td>11643</td></tr>",
                            "<tr><td>The Art of Asking; or, How I Learned to Stop Worrying and Let People Help</td><td>Amanda Palmer</td><td>3.97</td><td>11643</td></tr>",
                            "<tr><td>The Art of Asking; or, How I Learned to Stop Worrying and Let People Help</td><td>Amanda Palmer</td><td>3.97</td><td>11644</td></tr>",
                            "<tr><td>The Girl Who Circumnavigated Fairyland in a Ship of Her Own Making</td><td>Catherynne M. Valente, Ana Juan</td><td>3.97</td><td>11643</td></tr>",
                            "<tr><td>The Girl Who Circumnavigated Fairyland in a Ship of Her Own Making</td><td>Catherynne M. Valente, Ana Juan</td><td>3.97</td><td>11644</td></tr>",
                            "<tr><td>The Good Earth</td><td>Pearl S. Buck</td><td>3.97</td><td>11643</td></tr>",
                            "<tr><td>The Good Earth</td><td>Pearl S. Buck</td><td>3.97</td><td>11644</td></tr>",
                            "<tr><td>The Heart is a Lonely Hunter</td><td>Carson McCullers</td><td>3.97</td><td>11643</td></tr>",
                            "<tr><td>The Heart is a Lonely Hunter</td><td>Carson McCullers</td><td>3.97</td><td>11644</td></tr>",
                            "<tr><td>The Man in the Brown Suit</td><td>Agatha Christie</td><td>3.97</td><td>11643</td></tr>",
                            "<tr><td>The Perfect Son</td><td>Barbara Claypole White</td><td>3.97</td><td>11643</td></tr>",
                            "<tr><td>The Secret Life of Violet Grant</td><td>Beatriz Williams</td><td>3.97</td><td>11643</td></tr>",
                            "<tr><td>When Will There Be Good News?</td><td>Kate Atkinson</td><td>3.97</td><td>11643</td></tr>",
                            "<tr><td>A Murder is Announced</td><td>Agatha Christie</td><td>3.96</td><td>11643</td></tr>",
                            "<tr><td>A Murder is Announced</td><td>Agatha Christie</td><td>3.96</td><td>11644</td></tr>",
                            "<tr><td>Autobiography of a Face</td><td>Lucy Grealy</td><td>3.96</td><td>11643</td></tr>",
                            "<tr><td>Blackout: Remembering the Things I Drank to Forget</td><td>Sarah Hepola</td><td>3.96</td><td>11643</td></tr>",
                            "<tr><td>Blackout: Remembering the Things I Drank to Forget</td><td>Sarah Hepola</td><td>3.96</td><td>11644</td></tr>",
                            "<tr><td>Cuentos de Eva Luna</td><td>Isabel Allende</td><td>3.96</td><td>11644</td></tr>",
                            "<tr><td>Dark Angel</td><td>V.C. Andrews</td><td>3.96</td><td>3514</td></tr>",
                            "<tr><td>Dark Angel</td><td>V.C. Andrews</td><td>3.96</td><td>11644</td></tr>",
                            "<tr><td>De amor y de sombra</td><td>Isabel Allende, Margaret Sayers Peden</td><td>3.96</td><td>11643</td></tr>",
                            "<tr><td>Death du Jour</td><td>Kathy Reichs</td><td>3.96</td><td>11643</td></tr>",
                            "<tr><td>Don&#39;t Let&#39;s Go to the Dogs Tonight: An African Childhood</td><td>Alexandra Fuller</td><td>3.96</td><td>11644</td></tr>",
                            "<tr><td>Girl in Translation</td><td>Jean Kwok</td><td>3.96</td><td>11644</td></tr>",
                            "<tr><td>Harriet the Spy</td><td>Louise Fitzhugh</td><td>3.96</td><td>11643</td></tr>",
                            "<tr><td>Harriet the Spy</td><td>Louise Fitzhugh</td><td>3.96</td><td>11644</td></tr>",
                            "<tr><td>Heft</td><td>Liz Moore</td><td>3.96</td><td>11643</td></tr>",
                            "<tr><td>Heft</td><td>Liz Moore</td><td>3.96</td><td>11644</td></tr>",
                            "<tr><td>It&#39;s OK, I&#39;m Wearing Really Big Knickers! (Confessions of Georgia Nicolson, #2)</td><td>Louise Rennison</td><td>3.96</td><td>11644</td></tr>",
                            "<tr><td>Nigella Express: Good Food Fast</td><td>Nigella Lawson</td><td>3.96</td><td>11644</td></tr>",
                            "<tr><td>Out of Africa</td><td>Isak Dinesen, Karen Blixen</td><td>3.96</td><td>11643</td></tr>",
                            "<tr><td>Simple Abundance:  A Daybook of Comfort and Joy</td><td>Sarah Ban Breathnach</td><td>3.96</td><td>11644</td></tr>",
                            "<tr><td>The Enchanted</td><td>Rene Denfeld</td><td>3.96</td><td>11643</td></tr>",
                            "<tr><td>The Enchanted</td><td>Rene Denfeld</td><td>3.96</td><td>11644</td></tr>",
                            "<tr><td>The Magicians&#39; Guild</td><td>Trudi Canavan</td><td>3.96</td><td>11643</td></tr>",
                            "<tr><td>The Namesake</td><td>Jhumpa Lahiri</td><td>3.96</td><td>11644</td></tr>",
                            "<tr><td>Bare Bones</td><td>Kathy Reichs</td><td>3.95</td><td>11643</td></tr>",
                            "<tr><td>Birds of a Feather</td><td>Jacqueline Winspear</td><td>3.95</td><td>11643</td></tr>",
                            "<tr><td>Book of a Thousand Days</td><td>Shannon Hale, James Noel Smith</td><td>3.95</td><td>11643</td></tr>",
                            "<tr><td>Bringing up Bébé</td><td>Pamela Druckerman, Abby Craden</td><td>3.95</td><td>11644</td></tr>",
                            "<tr><td>Charmed Life </td><td>Diana Wynne Jones</td><td>3.95</td><td>11643</td></tr>",
                            "<tr><td>Chocolat</td><td>Joanne Harris</td><td>3.95</td><td>11643</td></tr>",
                            "<tr><td>Chocolat</td><td>Joanne Harris</td><td>3.95</td><td>11644</td></tr>",
                            "<tr><td>Eva Luna</td><td>Isabel Allende, Margaret Sayers Peden</td><td>3.95</td><td>11644</td></tr>",
                            "<tr><td>Fall on Your Knees</td><td>Ann-Marie MacDonald</td><td>3.95</td><td>11644</td></tr>",
                            "<tr><td>Fantastic Beasts and Where to Find Them</td><td>Newt Scamander, J.K. Rowling, Albus Dumbledore</td><td>3.95</td><td>11643</td></tr>",
                            "<tr><td>Fantastic Beasts and Where to Find Them</td><td>Newt Scamander, J.K. Rowling, Albus Dumbledore</td><td>3.95</td><td>11644</td></tr>",
                            "<tr><td>Fugitive Pieces</td><td>Anne Michaels</td><td>3.95</td><td>11643</td></tr>",
                            "<tr><td>Fugitive Pieces</td><td>Anne Michaels</td><td>3.95</td><td>11644</td></tr>",
                            "<tr><td>Longitude</td><td>Dava Sobel, Neil Armstrong</td><td>3.95</td><td>11643</td></tr>",
                            "<tr><td>Lullabies for Little Criminals</td><td>Heather O&#39;Neill</td><td>3.95</td><td>11643</td></tr>",
                            "<tr><td>Lullabies for Little Criminals</td><td>Heather O&#39;Neill</td><td>3.95</td><td>11644</td></tr>",
                            "<tr><td>Meet Samantha: An American Girl (American Girls: Samantha, #1)</td><td>Susan S. Adler, Renée Graef, Nancy Niles</td><td>3.95</td><td>11643</td></tr>",
                            "<tr><td>Pollyanna</td><td>Eleanor H. Porter</td><td>3.95</td><td>11643</td></tr>",
                            "<tr><td>Rhapsody: Child of Blood</td><td>Elizabeth Haydon</td><td>3.95</td><td>11643</td></tr>",
                            "<tr><td>Runaway Ralph</td><td>Beverly Cleary</td><td>3.95</td><td>11643</td></tr>",
                            "<tr><td>The Blind Assassin</td><td>Margaret Atwood</td><td>3.95</td><td>11643</td></tr>",
                            "<tr><td>The Blind Assassin</td><td>Margaret Atwood</td><td>3.95</td><td>11644</td></tr>",
                            "<tr><td>The Blood of Flowers</td><td>Anita Amirrezvani</td><td>3.95</td><td>11643</td></tr>",
                            "<tr><td>The Daughter of Time</td><td>Josephine Tey</td><td>3.95</td><td>11643</td></tr>",
                            "<tr><td>The Moosewood Cookbook: Recipes from Moosewood Restaurant, Ithaca, New York</td><td>Mollie Katzen</td><td>3.95</td><td>11644</td></tr>",
                            "<tr><td>The Snow Child</td><td>Eowyn Ivey</td><td>3.95</td><td>11643</td></tr>",
                            "<tr><td>The Snow Child</td><td>Eowyn Ivey</td><td>3.95</td><td>11644</td></tr>",
                            "<tr><td>The Thirteenth Tale</td><td>Diane Setterfield</td><td>3.95</td><td>11643</td></tr>",
                            "<tr><td>All Around the Town</td><td>Mary Higgins Clark</td><td>3.94</td><td>11643</td></tr>",
                            "<tr><td>Black Beauty</td><td>Anna Sewell</td><td>3.94</td><td>11644</td></tr>",
                            "<tr><td>Bossypants</td><td>Tina Fey</td><td>3.94</td><td>11643</td></tr>",
                            "<tr><td>Bossypants</td><td>Tina Fey</td><td>3.94</td><td>11644</td></tr>",
                            "<tr><td>Como agua para chocolate</td><td>Laura Esquivel, Thomas  Christensen, Carol Christensen</td><td>3.94</td><td>11644</td></tr>",
                            "<tr><td>Cover Her Face</td><td>P.D. James</td><td>3.94</td><td>11643</td></tr>",
                            "<tr><td>Cover Her Face</td><td>P.D. James</td><td>3.94</td><td>11644</td></tr>",
                            "<tr><td>Dragon Prince</td><td>Melanie Rawn</td><td>3.94</td><td>11643</td></tr>",
                            "<tr><td>Dragon Prince</td><td>Melanie Rawn</td><td>3.94</td><td>11644</td></tr>",
                            "<tr><td>Evil Under the Sun</td><td>Agatha Christie</td><td>3.94</td><td>11644</td></tr>",
                            "<tr><td>Innocent Traitor</td><td>Alison Weir</td><td>3.94</td><td>11644</td></tr>",
                            "<tr><td>Kristy&#39;s Great Idea</td><td>Ann M. Martin</td><td>3.94</td><td>11644</td></tr>",
                            "<tr><td>Love Anthony</td><td>Lisa Genova</td><td>3.94</td><td>11643</td></tr>",
                            "<tr><td>M Train</td><td>Patti Smith</td><td>3.94</td><td>11643</td></tr>",
                            "<tr><td>M Train</td><td>Patti Smith</td><td>3.94</td><td>11644</td></tr>",
                            "<tr><td>Otherwise Known as Sheila the Great</td><td>Judy Blume</td><td>3.94</td><td>11644</td></tr>",
                            "<tr><td>Silent Spring</td><td>Rachel Carson, Linda Lear, Edward O. Wilson</td><td>3.94</td><td>11643</td></tr>",
                            "<tr><td>Silent Spring</td><td>Rachel Carson, Linda Lear, Edward O. Wilson</td><td>3.94</td><td>11644</td></tr>",
                            "<tr><td>The Bean Trees</td><td>Barbara Kingsolver</td><td>3.94</td><td>11643</td></tr>",
                            "<tr><td>The Bean Trees</td><td>Barbara Kingsolver</td><td>3.94</td><td>11644</td></tr>",
                            "<tr><td>The Dolphins of Pern</td><td>Anne McCaffrey</td><td>3.94</td><td>11643</td></tr>",
                            "<tr><td>The Hidden Staircase (Nancy Drew Mystery Stories, #2)</td><td>Carolyn Keene, Mildred Benson</td><td>3.94</td><td>11643</td></tr>",
                            "<tr><td>The House of Mirth</td><td>Edith Wharton, Nina Bawden</td><td>3.94</td><td>11643</td></tr>",
                            "<tr><td>The House of Mirth</td><td>Edith Wharton, Nina Bawden</td><td>3.94</td><td>11644</td></tr>",
                            "<tr><td>The Magician&#39;s Apprentice</td><td>Trudi Canavan</td><td>3.94</td><td>11643</td></tr>",
                            "<tr><td>The Worst Witch</td><td>Jill Murphy</td><td>3.94</td><td>11643</td></tr>",
                            "<tr><td>The Worst Witch</td><td>Jill Murphy</td><td>3.94</td><td>11644</td></tr>",
                            "<tr><td>Waiting to Exhale</td><td>Terry McMillan</td><td>3.94</td><td>11644</td></tr>",
                            "<tr><td>Why Be Happy When You Could Be Normal?</td><td>Jeanette Winterson</td><td>3.94</td><td>11643</td></tr>",
                            "<tr><td>Why Be Happy When You Could Be Normal?</td><td>Jeanette Winterson</td><td>3.94</td><td>11644</td></tr>",
                            "<tr><td>Women of the Silk</td><td>Gail Tsukiyama</td><td>3.94</td><td>11643</td></tr>",
                            "<tr><td>Women of the Silk</td><td>Gail Tsukiyama</td><td>3.94</td><td>11644</td></tr>",
                            "<tr><td>博士の愛した数式 </td><td>Yōko Ogawa, Stephen Snyder</td><td>3.94</td><td>11643</td></tr>",
                            "<tr><td>博士の愛した数式 </td><td>Yōko Ogawa, Stephen Snyder</td><td>3.94</td><td>11644</td></tr>",
                            "<tr><td>All My Puny Sorrows</td><td>Miriam Toews</td><td>3.93</td><td>11643</td></tr>",
                            "<tr><td>Battleaxe (The Axis Trilogy #1)</td><td>Sara Douglass</td><td>3.93</td><td>11644</td></tr>",
                            "<tr><td>Black Sun Rising</td><td>C.S. Friedman</td><td>3.93</td><td>11643</td></tr>",
                            "<tr><td>Brokeback Mountain</td><td>Annie Proulx</td><td>3.93</td><td>11643</td></tr>",
                            "<tr><td>Brokeback Mountain</td><td>Annie Proulx</td><td>3.93</td><td>11644</td></tr>",
                            "<tr><td>Castle in the Air</td><td>Diana Wynne Jones</td><td>3.93</td><td>11643</td></tr>",
                            "<tr><td>Cause of Death</td><td>Patricia Cornwell</td><td>3.93</td><td>11643</td></tr>",
                            "<tr><td>Deadly Décisions</td><td>Kathy Reichs</td><td>3.93</td><td>11643</td></tr>",
                            "<tr><td>Dragon Wing (The Death Gate Cycle, #1)</td><td>Margaret Weis, Tracy Hickman</td><td>3.93</td><td>11643</td></tr>",
                            "<tr><td>Empire of Ivory</td><td>Naomi Novik</td><td>3.93</td><td>11643</td></tr>",
                            "<tr><td>Furiously Happy</td><td>Jenny  Lawson</td><td>3.93</td><td>11643</td></tr>",
                            "<tr><td>Furiously Happy</td><td>Jenny  Lawson</td><td>3.93</td><td>11644</td></tr>",
                            "<tr><td>Men Explain Things to Me</td><td>Rebecca Solnit</td><td>3.93</td><td>11643</td></tr>",
                            "<tr><td>Men Explain Things to Me</td><td>Rebecca Solnit</td><td>3.93</td><td>11644</td></tr>",
                            "<tr><td>Middlemarch</td><td>George Eliot, Michel Faber</td><td>3.93</td><td>11643</td></tr>",
                            "<tr><td>Middlemarch</td><td>George Eliot, Michel Faber</td><td>3.93</td><td>11644</td></tr>",
                            "<tr><td>My Year of Meats</td><td>Ruth Ozeki</td><td>3.93</td><td>11643</td></tr>",
                            "<tr><td>My Year of Meats</td><td>Ruth Ozeki</td><td>3.93</td><td>11644</td></tr>",
                            "<tr><td>Out  アウト</td><td>Natsuo Kirino, Stephen Snyder</td><td>3.93</td><td>11643</td></tr>",
                            "<tr><td>Out  アウト</td><td>Natsuo Kirino, Stephen Snyder</td><td>3.93</td><td>11644</td></tr>",
                            "<tr><td>Packing for Mars: The Curious Science of Life in the Void </td><td>Mary Roach</td><td>3.93</td><td>11643</td></tr>",
                            "<tr><td>Packing for Mars: The Curious Science of Life in the Void </td><td>Mary Roach</td><td>3.93</td><td>11644</td></tr>",
                            "<tr><td>Rachel&#39;s Holiday</td><td>Marian Keyes</td><td>3.93</td><td>11643</td></tr>",
                            "<tr><td>Rachel&#39;s Holiday</td><td>Marian Keyes</td><td>3.93</td><td>11644</td></tr>",
                            "<tr><td>Retrato en sepia</td><td>Isabel Allende, Margaret Sayers Peden</td><td>3.93</td><td>11644</td></tr>",
                            "<tr><td>Stone Mattress</td><td>Margaret Atwood</td><td>3.93</td><td>11643</td></tr>",
                            "<tr><td>Stone Mattress</td><td>Margaret Atwood</td><td>3.93</td><td>11644</td></tr>",
                            "<tr><td>The Age of Innocence</td><td>Edith Wharton, Maureen Howard</td><td>3.93</td><td>11643</td></tr>",
                            "<tr><td>The Age of Innocence</td><td>Edith Wharton, Maureen Howard</td><td>3.93</td><td>11644</td></tr>",
                            "<tr><td>The Dragon Keeper</td><td>Robin Hobb</td><td>3.93</td><td>11643</td></tr>",
                            "<tr><td>The Gnostic Gospels</td><td>Elaine Pagels</td><td>3.93</td><td>11643</td></tr>",
                            "<tr><td>The Scarlet Feather</td><td>Maeve Binchy</td><td>3.93</td><td>11643</td></tr>",
                            "<tr><td>The Talented Mr. Ripley</td><td>Patricia Highsmith</td><td>3.93</td><td>11643</td></tr>",
                            "<tr><td>The Talented Mr. Ripley</td><td>Patricia Highsmith</td><td>3.93</td><td>11644</td></tr>",
                            "<tr><td>White Oleander</td><td>Janet Fitch</td><td>3.93</td><td>11643</td></tr>",
                            "<tr><td>White Oleander</td><td>Janet Fitch</td><td>3.93</td><td>11644</td></tr>",
                            "<tr><td>4.50 From Paddington</td><td>Agatha Christie</td><td>3.92</td><td>11643</td></tr>",
                            "<tr><td>4.50 From Paddington</td><td>Agatha Christie</td><td>3.92</td><td>11644</td></tr>",
                            "<tr><td>A God in Ruins</td><td>Kate Atkinson</td><td>3.92</td><td>11644</td></tr>",
                            "<tr><td>Bel Canto</td><td>Ann Patchett</td><td>3.92</td><td>11644</td></tr>",
                            "<tr><td>Broken Harbor</td><td>Tana French</td><td>3.92</td><td>11643</td></tr>",
                            "<tr><td>Cat&#39;s Eye</td><td>Margaret Atwood</td><td>3.92</td><td>11643</td></tr>",
                            "<tr><td>Cat&#39;s Eye</td><td>Margaret Atwood</td><td>3.92</td><td>11644</td></tr>",
                            "<tr><td>Cold Comfort Farm</td><td>Stella Gibbons, Lynne Truss, Roz Chast</td><td>3.92</td><td>11643</td></tr>",
                            "<tr><td>Cold Comfort Farm</td><td>Stella Gibbons, Lynne Truss, Roz Chast</td><td>3.92</td><td>11644</td></tr>",
                            "<tr><td>Geisha: A Life</td><td>Mineko Iwasaki, Rande Brown</td><td>3.92</td><td>11643</td></tr>",
                            "<tr><td>Geisha: A Life</td><td>Mineko Iwasaki, Rande Brown</td><td>3.92</td><td>11644</td></tr>",
                            "<tr><td>Good Wives</td><td>Louisa May Alcott</td><td>3.92</td><td>11643</td></tr>",
                            "<tr><td>Good Wives</td><td>Louisa May Alcott</td><td>3.92</td><td>11644</td></tr>",
                            "<tr><td>Gulp: Adventures on the Alimentary Canal</td><td>Mary Roach</td><td>3.92</td><td>11643</td></tr>",
                            "<tr><td>Gulp: Adventures on the Alimentary Canal</td><td>Mary Roach</td><td>3.92</td><td>11644</td></tr>",
                            "<tr><td>Heartsick</td><td>Chelsea Cain</td><td>3.92</td><td>11644</td></tr>",
                            "<tr><td>Hidden Figures: The American Dream and the Untold Story of the Black Women Mathematicians Who Helped Win the Space Race</td><td>Margot Lee Shetterly</td><td>3.92</td><td>11643</td></tr>",
                            "<tr><td>Homecoming (Tillerman Family, #1)</td><td>Cynthia Voigt</td><td>3.92</td><td>11643</td></tr>",
                            "<tr><td>Homecoming (Tillerman Family, #1)</td><td>Cynthia Voigt</td><td>3.92</td><td>11644</td></tr>",
                            "<tr><td>Le bleu est une couleur chaude</td><td>Julie Maroh</td><td>3.92</td><td>11643</td></tr>",
                            "<tr><td>Le bleu est une couleur chaude</td><td>Julie Maroh</td><td>3.92</td><td>11644</td></tr>",
                            "<tr><td>My Cousin Rachel</td><td>Daphne du Maurier</td><td>3.92</td><td>11644</td></tr>",
                            "<tr><td>The Liars&#39; Club: A Memoir</td><td>Mary Karr</td><td>3.92</td><td>11643</td></tr>",
                            "<tr><td>The Liars&#39; Club: A Memoir</td><td>Mary Karr</td><td>3.92</td><td>11644</td></tr>",
                            "<tr><td>The Thief</td><td>Megan Whalen Turner</td><td>3.92</td><td>11643</td></tr>",
                            "<tr><td>Bad Feminist </td><td>Roxane Gay</td><td>3.91</td><td>11643</td></tr>",
                            "<tr><td>Bad Feminist </td><td>Roxane Gay</td><td>3.91</td><td>11644</td></tr>",
                            "<tr><td>Change of Heart</td><td>Jodi Picoult</td><td>3.91</td><td>11644</td></tr>",
                            "<tr><td>Marie Antoinette: The Journey</td><td>Antonia Fraser</td><td>3.91</td><td>11643</td></tr>",
                            "<tr><td>Romancing the Duke</td><td>Tessa Dare</td><td>3.91</td><td>11643</td></tr>",
                            "<tr><td>Scrappy Little Nobody</td><td>Anna Kendrick</td><td>3.91</td><td>11643</td></tr>",
                            "<tr><td>Soulless</td><td>Gail Carriger</td><td>3.91</td><td>11643</td></tr>",
                            "<tr><td>Tar Baby</td><td>Toni Morrison</td><td>3.91</td><td>11643</td></tr>",
                            "<tr><td>Tar Baby</td><td>Toni Morrison</td><td>3.91</td><td>11644</td></tr>",
                            "<tr><td>The Gift</td><td>Danielle Steel</td><td>3.91</td><td>11644</td></tr>",
                            "<tr><td>The God of Small Things</td><td>Arundhati Roy</td><td>3.91</td><td>11643</td></tr>",
                            "<tr><td>The God of Small Things</td><td>Arundhati Roy</td><td>3.91</td><td>11644</td></tr>",
                            "<tr><td>The History of Love</td><td>Nicole Krauss</td><td>3.91</td><td>11643</td></tr>",
                            "<tr><td>The History of Love</td><td>Nicole Krauss</td><td>3.91</td><td>11644</td></tr>",
                            "<tr><td>The Round House</td><td>Louise Erdrich</td><td>3.91</td><td>11643</td></tr>",
                            "<tr><td>The Round House</td><td>Louise Erdrich</td><td>3.91</td><td>11644</td></tr>",
                            "<tr><td>The Tenant of Wildfell Hall</td><td>Anne Brontë, Stevie Davies</td><td>3.91</td><td>11643</td></tr>",
                            "<tr><td>The Tenant of Wildfell Hall</td><td>Anne Brontë, Stevie Davies</td><td>3.91</td><td>11644</td></tr>",
                            "<tr><td>What We Keep </td><td>Elizabeth Berg</td><td>3.91</td><td>11644</td></tr>",
                            "<tr><td>Whose Body?</td><td>Dorothy L. Sayers</td><td>3.91</td><td>11643</td></tr>",
                            "<tr><td>Whose Body?</td><td>Dorothy L. Sayers</td><td>3.91</td><td>11644</td></tr>",
                            "<tr><td>Big Magic: Creative Living Beyond Fear</td><td>Elizabeth Gilbert</td><td>3.9</td><td>11643</td></tr>",
                            "<tr><td>Black Powder War</td><td>Naomi Novik</td><td>3.9</td><td>11643</td></tr>",
                            "<tr><td>City of Masks</td><td>Mary Hoffman</td><td>3.9</td><td>11643</td></tr>",
                            "<tr><td>Faking It </td><td>Jennifer Crusie</td><td>3.9</td><td>11643</td></tr>",
                            "<tr><td>Fledgling</td><td>Octavia E. Butler</td><td>3.9</td><td>11643</td></tr>",
                            "<tr><td>Fledgling</td><td>Octavia E. Butler</td><td>3.9</td><td>11644</td></tr>",
                            "<tr><td>Girl, Interrupted</td><td>Susanna Kaysen</td><td>3.9</td><td>11643</td></tr>",
                            "<tr><td>Girl, Interrupted</td><td>Susanna Kaysen</td><td>3.9</td><td>11644</td></tr>",
                            "<tr><td>Hercule Poirot&#39;s Christmas</td><td>Agatha Christie</td><td>3.9</td><td>11643</td></tr>",
                            "<tr><td>Hercule Poirot&#39;s Christmas</td><td>Agatha Christie</td><td>3.9</td><td>11644</td></tr>",
                            "<tr><td>Inés del alma mía</td><td>Isabel Allende, Margaret Sayers Peden</td><td>3.9</td><td>11644</td></tr>",
                            "<tr><td>Ordinary People</td><td>Judith Guest</td><td>3.9</td><td>11643</td></tr>",
                            "<tr><td>Ordinary People</td><td>Judith Guest</td><td>3.9</td><td>11644</td></tr>",
                            "<tr><td>The Accidental Tourist</td><td>Anne Tyler, Jennifer Bassett</td><td>3.9</td><td>11643</td></tr>",
                            "<tr><td>The Joy Luck Club</td><td>Amy Tan</td><td>3.9</td><td>11643</td></tr>",
                            "<tr><td>The Joy Luck Club</td><td>Amy Tan</td><td>3.9</td><td>11644</td></tr>",
                            "<tr><td>The Partly Cloudy Patriot</td><td>Sarah Vowell, Katherine Streeter</td><td>3.9</td><td>11643</td></tr>",
                            "<tr><td>The Partly Cloudy Patriot</td><td>Sarah Vowell, Katherine Streeter</td><td>3.9</td><td>11644</td></tr>",
                            "<tr><td>The Sea, the Sea</td><td>Iris Murdoch, Mary Kinzie</td><td>3.9</td><td>11643</td></tr>",
                            "<tr><td>The Sea, the Sea</td><td>Iris Murdoch, Mary Kinzie</td><td>3.9</td><td>11644</td></tr>",
                            "<tr><td>Where&#39;d You Go, Bernadette</td><td>Maria Semple</td><td>3.9</td><td>11643</td></tr>",
                            "<tr><td>Anastasia Krupnik</td><td>Lois Lowry</td><td>3.89</td><td>11643</td></tr>",
                            "<tr><td>Are You There God? It&#39;s Me, Margaret</td><td>Judy Blume</td><td>3.89</td><td>11644</td></tr>",
                            "<tr><td>Everything Leads to You</td><td>Nina LaCour</td><td>3.89</td><td>11643</td></tr>",
                            "<tr><td>Hija de la fortuna</td><td>Isabel Allende, Margaret Sayers Peden</td><td>3.89</td><td>11644</td></tr>",
                            "<tr><td>Indemnity Only</td><td>Sara Paretsky</td><td>3.89</td><td>11643</td></tr>",
                            "<tr><td>Lost Souls</td><td>Poppy Z. Brite</td><td>3.89</td><td>11643</td></tr>",
                            "<tr><td>Loves Music, Loves to Dance</td><td>Mary Higgins Clark</td><td>3.89</td><td>11643</td></tr>",
                            "<tr><td>Peril at End House</td><td>Agatha Christie</td><td>3.89</td><td>11643</td></tr>",
                            "<tr><td>Peril at End House</td><td>Agatha Christie</td><td>3.89</td><td>11644</td></tr>",
                            "<tr><td>Small Island</td><td>Andrea Levy</td><td>3.89</td><td>11643</td></tr>",
                            "<tr><td>Started Early, Took My Dog</td><td>Kate Atkinson</td><td>3.89</td><td>11643</td></tr>",
                            "<tr><td>Tehanu</td><td>Ursula K. Le Guin</td><td>3.89</td><td>11643</td></tr>",
                            "<tr><td>Tehanu</td><td>Ursula K. Le Guin</td><td>3.89</td><td>11644</td></tr>",
                            "<tr><td>That Was Then, This Is Now</td><td>S.E. Hinton</td><td>3.89</td><td>11644</td></tr>",
                            "<tr><td>The Beauty Myth: How Images of Beauty Are Used Against Women</td><td>Naomi Wolf</td><td>3.89</td><td>11643</td></tr>",
                            "<tr><td>The Beauty Myth: How Images of Beauty Are Used Against Women</td><td>Naomi Wolf</td><td>3.89</td><td>11644</td></tr>",
                            "<tr><td>The Beet Queen</td><td>Louise Erdrich</td><td>3.89</td><td>11643</td></tr>",
                            "<tr><td>The Beet Queen</td><td>Louise Erdrich</td><td>3.89</td><td>11644</td></tr>",
                            "<tr><td>The Copper Beech</td><td>Maeve Binchy</td><td>3.89</td><td>11643</td></tr>",
                            "<tr><td>The Cradle Will Fall</td><td>Mary Higgins Clark</td><td>3.89</td><td>11643</td></tr>",
                            "<tr><td>The Haunting οf Hill House</td><td>Shirley Jackson, Laura   Miller</td><td>3.89</td><td>11643</td></tr>",
                            "<tr><td>The Haunting οf Hill House</td><td>Shirley Jackson, Laura   Miller</td><td>3.89</td><td>11644</td></tr>",
                            "<tr><td>The Indian in the Cupboard</td><td>Lynne Reid Banks</td><td>3.89</td><td>11643</td></tr>",
                            "<tr><td>The Mirror Crack&#39;d from Side to Side</td><td>Agatha Christie</td><td>3.89</td><td>11644</td></tr>",
                            "<tr><td>The Tail of Emily Windsnap</td><td>Liz Kessler, Sarah Gibb</td><td>3.89</td><td>11644</td></tr>",
                            "<tr><td>Throne of Jade</td><td>Naomi Novik</td><td>3.89</td><td>11643</td></tr>",
                            "<tr><td>We the Living</td><td>Ayn Rand, Leonard Peikoff</td><td>3.89</td><td>11643</td></tr>",
                            "<tr><td>What Katy Did  </td><td>Susan Coolidge</td><td>3.89</td><td>11643</td></tr>",
                            "<tr><td>Anya&#39;s Ghost</td><td>Vera Brosgol</td><td>3.88</td><td>11643</td></tr>",
                            "<tr><td>Anya&#39;s Ghost</td><td>Vera Brosgol</td><td>3.88</td><td>11644</td></tr>",
                            "<tr><td>Cunt: A Declaration of Independence</td><td>Inga Muscio, Betty Dodson</td><td>3.88</td><td>11643</td></tr>",
                            "<tr><td>Cunt: A Declaration of Independence</td><td>Inga Muscio, Betty Dodson</td><td>3.88</td><td>11644</td></tr>",
                            "<tr><td>Death Comes for the Archbishop</td><td>Willa Cather</td><td>3.88</td><td>11643</td></tr>",
                            "<tr><td>Death Comes for the Archbishop</td><td>Willa Cather</td><td>3.88</td><td>11644</td></tr>",
                            "<tr><td>Deerskin</td><td>Robin McKinley</td><td>3.88</td><td>11643</td></tr>",
                            "<tr><td>El diario de Frida Kahlo: Un íntimo autorretrato </td><td>Frida Kahlo, Carlos Fuentes, Sarah M. Lowe</td><td>3.88</td><td>11644</td></tr>",
                            "<tr><td>Five Children and It </td><td>E. Nesbit</td><td>3.88</td><td>11643</td></tr>",
                            "<tr><td>Hunger Makes Me a Modern Girl</td><td>Carrie Brownstein</td><td>3.88</td><td>11643</td></tr>",
                            "<tr><td>Hunger Makes Me a Modern Girl</td><td>Carrie Brownstein</td><td>3.88</td><td>11644</td></tr>",
                            "<tr><td>Lady of Avalon</td><td>Marion Zimmer Bradley, Diana L. Paxson</td><td>3.88</td><td>11643</td></tr>",
                            "<tr><td>Light A Penny Candle</td><td>Maeve Binchy</td><td>3.88</td><td>11643</td></tr>",
                            "<tr><td>Possession</td><td>A.S. Byatt</td><td>3.88</td><td>11643</td></tr>",
                            "<tr><td>Possession</td><td>A.S. Byatt</td><td>3.88</td><td>11644</td></tr>",
                            "<tr><td>Rubyfruit Jungle</td><td>Rita Mae Brown</td><td>3.88</td><td>11643</td></tr>",
                            "<tr><td>Rubyfruit Jungle</td><td>Rita Mae Brown</td><td>3.88</td><td>11644</td></tr>",
                            "<tr><td>Saint Maybe</td><td>Anne Tyler</td><td>3.88</td><td>11643</td></tr>",
                            "<tr><td>Tara Road</td><td>Maeve Binchy</td><td>3.88</td><td>11643</td></tr>",
                            "<tr><td>The Mammoth Hunters</td><td>Jean M. Auel</td><td>3.88</td><td>11644</td></tr>",
                            "<tr><td>The Spellman Files</td><td>Lisa Lutz</td><td>3.88</td><td>11643</td></tr>",
                            "<tr><td>Wise Blood</td><td>Flannery O&#39;Connor</td><td>3.88</td><td>11643</td></tr>",
                            "<tr><td>Wise Blood</td><td>Flannery O&#39;Connor</td><td>3.88</td><td>11644</td></tr>",
                            "<tr><td>Another Brooklyn</td><td>Jacqueline Woodson</td><td>3.87</td><td>11643</td></tr>",
                            "<tr><td>Another Brooklyn</td><td>Jacqueline Woodson</td><td>3.87</td><td>11644</td></tr>",
                            "<tr><td>Dawn </td><td>V.C. Andrews</td><td>3.87</td><td>11644</td></tr>",
                            "<tr><td>Empress Orchid</td><td>Anchee Min</td><td>3.87</td><td>11644</td></tr>",
                            "<tr><td>I Like You: Hospitality Under the Influence</td><td>Amy Sedaris</td><td>3.87</td><td>11643</td></tr>",
                            "<tr><td>Molly Moon&#39;s Incredible Book of Hypnotism</td><td>Georgia Byng</td><td>3.87</td><td>11644</td></tr>",
                            "<tr><td>The Goldfinch</td><td>Donna Tartt</td><td>3.87</td><td>11644</td></tr>",
                            "<tr><td>The Mothers</td><td>Brit Bennett</td><td>3.87</td><td>11643</td></tr>",
                            "<tr><td>Their Eyes Were Watching God</td><td>Zora Neale Hurston</td><td>3.87</td><td>11643</td></tr>",
                            "<tr><td>Their Eyes Were Watching God</td><td>Zora Neale Hurston</td><td>3.87</td><td>11644</td></tr>",
                            "<tr><td>An Acceptable Time (Time Quintet, #5)</td><td>Madeleine L&#39;Engle</td><td>3.86</td><td>11644</td></tr>",
                            "<tr><td>Breath, Eyes, Memory </td><td>Edwidge Danticat</td><td>3.86</td><td>11643</td></tr>",
                            "<tr><td>Breath, Eyes, Memory </td><td>Edwidge Danticat</td><td>3.86</td><td>11644</td></tr>",
                            "<tr><td>Déjà Dead</td><td>Kathy Reichs</td><td>3.86</td><td>11643</td></tr>",
                            "<tr><td>Eats, Shoots and Leaves</td><td>Lynne Truss</td><td>3.86</td><td>11643</td></tr>",
                            "<tr><td>Feed</td><td>Mira Grant</td><td>3.86</td><td>11643</td></tr>",
                            "<tr><td>Fortune&#39;s Rocks</td><td>Anita Shreve</td><td>3.86</td><td>11643</td></tr>",
                            "<tr><td>LaRose</td><td>Louise Erdrich</td><td>3.86</td><td>11644</td></tr>",
                            "<tr><td>Murder in Mesopotamia</td><td>Agatha Christie</td><td>3.86</td><td>11643</td></tr>",
                            "<tr><td>My Stroke of Insight</td><td>Jill Bolte Taylor</td><td>3.86</td><td>11644</td></tr>",
                            "<tr><td>No Logo</td><td>Naomi Klein</td><td>3.86</td><td>11643</td></tr>",
                            "<tr><td>No Logo</td><td>Naomi Klein</td><td>3.86</td><td>11644</td></tr>",
                            "<tr><td>Orlando: A Biography</td><td>Virginia Woolf</td><td>3.86</td><td>11643</td></tr>",
                            "<tr><td>Orlando: A Biography</td><td>Virginia Woolf</td><td>3.86</td><td>11644</td></tr>",
                            "<tr><td>Play It as It Lays</td><td>Joan Didion, David Thomson</td><td>3.86</td><td>11643</td></tr>",
                            "<tr><td>Play It as It Lays</td><td>Joan Didion, David Thomson</td><td>3.86</td><td>11644</td></tr>",
                            "<tr><td>Pretend You Don&#39;t See Her</td><td>Mary Higgins Clark</td><td>3.86</td><td>11644</td></tr>",
                            "<tr><td>Sula</td><td>Toni Morrison</td><td>3.86</td><td>11643</td></tr>",
                            "<tr><td>Sula</td><td>Toni Morrison</td><td>3.86</td><td>11644</td></tr>",
                            "<tr><td>Take the Cannoli: Stories from the New World</td><td>Sarah Vowell</td><td>3.86</td><td>11643</td></tr>",
                            "<tr><td>Take the Cannoli: Stories from the New World</td><td>Sarah Vowell</td><td>3.86</td><td>11644</td></tr>",
                            "<tr><td>The Passion of Artemisia</td><td>Susan Vreeland</td><td>3.86</td><td>11644</td></tr>",
                            "<tr><td>The Queen of the Damned</td><td>Anne Rice</td><td>3.86</td><td>11644</td></tr>",
                            "<tr><td>The Vagina Monologues</td><td>Eve Ensler, Gloria Steinem</td><td>3.86</td><td>11643</td></tr>",
                            "<tr><td>The Vagina Monologues</td><td>Eve Ensler, Gloria Steinem</td><td>3.86</td><td>11644</td></tr>",
                            "<tr><td>The Year of Magical Thinking</td><td>Joan Didion</td><td>3.86</td><td>11643</td></tr>",
                            "<tr><td>The Year of Magical Thinking</td><td>Joan Didion</td><td>3.86</td><td>11644</td></tr>",
                            "<tr><td>&quot;P&quot; is for Peril</td><td>Sue Grafton</td><td>3.85</td><td>11643</td></tr>",
                            "<tr><td>A History of God: The 4,000-Year Quest of Judaism, Christianity, and Islam</td><td>Karen Armstrong</td><td>3.85</td><td>11643</td></tr>",
                            "<tr><td>Cranford</td><td>Elizabeth Gaskell</td><td>3.85</td><td>11643</td></tr>",
                            "<tr><td>Cranford</td><td>Elizabeth Gaskell</td><td>3.85</td><td>11644</td></tr>",
                            "<tr><td>Crow Lake</td><td>Mary Lawson</td><td>3.85</td><td>11643</td></tr>",
                            "<tr><td>Girl with a Pearl Earring</td><td>Tracy Chevalier</td><td>3.85</td><td>11643</td></tr>",
                            "<tr><td>Girl with a Pearl Earring</td><td>Tracy Chevalier</td><td>3.85</td><td>11644</td></tr>",
                            "<tr><td>I Never Promised You a Rose Garden</td><td>Hannah  Green, Joanne Greenberg</td><td>3.85</td><td>11643</td></tr>",
                            "<tr><td>I Never Promised You a Rose Garden</td><td>Hannah  Green, Joanne Greenberg</td><td>3.85</td><td>11644</td></tr>",
                            "<tr><td>Jamaica Inn</td><td>Daphne du Maurier</td><td>3.85</td><td>11643</td></tr>",
                            "<tr><td>Jamaica Inn</td><td>Daphne du Maurier</td><td>3.85</td><td>11644</td></tr>",
                            "<tr><td>Looking for Alibrandi</td><td>Melina Marchetta</td><td>3.85</td><td>11644</td></tr>",
                            "<tr><td>On the Street Where You Live</td><td>Mary Higgins Clark</td><td>3.85</td><td>11643</td></tr>",
                            "<tr><td>Over Sea, Under Stone</td><td>Susan Cooper</td><td>3.85</td><td>11643</td></tr>",
                            "<tr><td>Over Sea, Under Stone</td><td>Susan Cooper</td><td>3.85</td><td>11644</td></tr>",
                            "<tr><td>Quidditch Through the Ages</td><td>Kennilworthy Whisp, J.K. Rowling</td><td>3.85</td><td>11643</td></tr>",
                            "<tr><td>Raven Black</td><td>Ann Cleeves</td><td>3.85</td><td>11643</td></tr>",
                            "<tr><td>Rebecca of Sunnybrook Farm</td><td>Kate Douglas Wiggin</td><td>3.85</td><td>11643</td></tr>",
                            "<tr><td>Sunshine</td><td>Robin McKinley</td><td>3.85</td><td>11643</td></tr>",
                            "<tr><td>The Body in the Library</td><td>Agatha Christie</td><td>3.85</td><td>11643</td></tr>",
                            "<tr><td>The Body in the Library</td><td>Agatha Christie</td><td>3.85</td><td>11644</td></tr>",
                            "<tr><td>The Book of Unknown Americans</td><td>Cristina Henriquez</td><td>3.85</td><td>11643</td></tr>",
                            "<tr><td>The Book of Unknown Americans</td><td>Cristina Henriquez</td><td>3.85</td><td>11644</td></tr>",
                            "<tr><td>The Ear, the Eye, and the Arm</td><td>Nancy Farmer</td><td>3.85</td><td>11643</td></tr>",
                            "<tr><td>The Forest House</td><td>Marion Zimmer Bradley, Diana L. Paxson</td><td>3.85</td><td>11643</td></tr>",
                            "<tr><td>The Fountainhead</td><td>Ayn Rand, Leonard Peikoff</td><td>3.85</td><td>11644</td></tr>",
                            "<tr><td>The Ladies of Grace Adieu and Other Stories</td><td>Susanna Clarke, Charles Vess</td><td>3.85</td><td>11643</td></tr>",
                            "<tr><td>The Ladies of Grace Adieu and Other Stories</td><td>Susanna Clarke, Charles Vess</td><td>3.85</td><td>11644</td></tr>",
                            "<tr><td>The Secret Diary of Adrian Mole, Aged 13 3/4</td><td>Sue Townsend</td><td>3.85</td><td>11643</td></tr>",
                            "<tr><td>Wolf Hall</td><td>Hilary Mantel</td><td>3.85</td><td>11643</td></tr>",
                            "<tr><td>Wolf Hall</td><td>Hilary Mantel</td><td>3.85</td><td>11644</td></tr>",
                            "<tr><td>You Belong to Me</td><td>Mary Higgins Clark</td><td>3.85</td><td>11643</td></tr>",
                            "<tr><td>After the Funeral </td><td>Agatha Christie</td><td>3.84</td><td>11643</td></tr>",
                            "<tr><td>After the Funeral </td><td>Agatha Christie</td><td>3.84</td><td>11644</td></tr>",
                            "<tr><td>Alif the Unseen</td><td>G. Willow Wilson</td><td>3.84</td><td>11643</td></tr>",
                            "<tr><td>Alif the Unseen</td><td>G. Willow Wilson</td><td>3.84</td><td>11644</td></tr>",
                            "<tr><td>Commonwealth</td><td>Ann Patchett</td><td>3.84</td><td>11643</td></tr>",
                            "<tr><td>Commonwealth</td><td>Ann Patchett</td><td>3.84</td><td>11644</td></tr>",
                            "<tr><td>Dragons of Summer Flame</td><td>Margaret Weis, Tracy Hickman</td><td>3.84</td><td>11643</td></tr>",
                            "<tr><td>Euphoria</td><td>Lily King</td><td>3.84</td><td>11643</td></tr>",
                            "<tr><td>Euphoria</td><td>Lily King</td><td>3.84</td><td>11644</td></tr>",
                            "<tr><td>Gilead</td><td>Marilynne Robinson</td><td>3.84</td><td>11643</td></tr>",
                            "<tr><td>Gilead</td><td>Marilynne Robinson</td><td>3.84</td><td>11644</td></tr>",
                            "<tr><td>Is Everyone Hanging Out Without Me? (And Other Concerns)</td><td>Mindy Kaling</td><td>3.84</td><td>11643</td></tr>",
                            "<tr><td>Is Everyone Hanging Out Without Me? (And Other Concerns)</td><td>Mindy Kaling</td><td>3.84</td><td>11644</td></tr>",
                            "<tr><td>Little Men, or Life at Plumfield with Jo&#39;s Boys</td><td>Louisa May Alcott</td><td>3.84</td><td>11643</td></tr>",
                            "<tr><td>Mansfield Park</td><td>Jane Austen, Kathryn Sutherland, Tony Tanner, Claire Lamont</td><td>3.84</td><td>11643</td></tr>",
                            "<tr><td>Mansfield Park</td><td>Jane Austen, Kathryn Sutherland, Tony Tanner, Claire Lamont</td><td>3.84</td><td>11644</td></tr>",
                            "<tr><td>Nemesis</td><td>Agatha Christie</td><td>3.84</td><td>11644</td></tr>",
                            "<tr><td>O Pioneers!</td><td>Willa Cather</td><td>3.84</td><td>11643</td></tr>",
                            "<tr><td>O Pioneers!</td><td>Willa Cather</td><td>3.84</td><td>11644</td></tr>",
                            "<tr><td>On Photography</td><td>Susan Sontag</td><td>3.84</td><td>11643</td></tr>",
                            "<tr><td>On Photography</td><td>Susan Sontag</td><td>3.84</td><td>11644</td></tr>",
                            "<tr><td>Priestess of the White</td><td>Trudi Canavan</td><td>3.84</td><td>11643</td></tr>",
                            "<tr><td>Tales of a Female Nomad: Living at Large in the World</td><td>Rita Golden Gelman</td><td>3.84</td><td>11643</td></tr>",
                            "<tr><td>Tales of a Female Nomad: Living at Large in the World</td><td>Rita Golden Gelman</td><td>3.84</td><td>11644</td></tr>",
                            "<tr><td>The Awakening and Selected Short Stories</td><td>Kate Chopin, Cynthia Brantley Johnson, Alyssa  Harad</td><td>3.84</td><td>11643</td></tr>",
                            "<tr><td>The Cat Who Could Read Backwards</td><td>Lilian Jackson Braun</td><td>3.84</td><td>11643</td></tr>",
                            "<tr><td>The Cat Who Could Read Backwards</td><td>Lilian Jackson Braun</td><td>3.84</td><td>11644</td></tr>",
                            "<tr><td>The Moving Finger</td><td>Agatha Christie</td><td>3.84</td><td>11643</td></tr>",
                            "<tr><td>The Moving Finger</td><td>Agatha Christie</td><td>3.84</td><td>11644</td></tr>",
                            "<tr><td>The Renegades of Pern</td><td>Anne McCaffrey</td><td>3.84</td><td>11643</td></tr>",
                            "<tr><td>The Stone Diaries</td><td>Carol Shields</td><td>3.84</td><td>11644</td></tr>",
                            "<tr><td>Welcome to the World, Baby Girl!</td><td>Fannie Flagg</td><td>3.84</td><td>11644</td></tr>",
                            "<tr><td>1,000 Places to See Before You Die</td><td>Patricia Schultz</td><td>3.83</td><td>11644</td></tr>",
                            "<tr><td>A Pocket Full of Rye</td><td>Agatha Christie</td><td>3.83</td><td>11643</td></tr>",
                            "<tr><td>Blackout</td><td>Connie Willis</td><td>3.83</td><td>11643</td></tr>",
                            "<tr><td>Bonk: The Curious Coupling of Science and Sex</td><td>Mary Roach</td><td>3.83</td><td>11643</td></tr>",
                            "<tr><td>Bonk: The Curious Coupling of Science and Sex</td><td>Mary Roach</td><td>3.83</td><td>11644</td></tr>",
                            "<tr><td>Five Quarters of the Orange</td><td>Joanne Harris</td><td>3.83</td><td>11643</td></tr>",
                            "<tr><td>Five Quarters of the Orange</td><td>Joanne Harris</td><td>3.83</td><td>11644</td></tr>",
                            "<tr><td>Sexing the Cherry</td><td>Jeanette Winterson</td><td>3.83</td><td>11643</td></tr>",
                            "<tr><td>Sexing the Cherry</td><td>Jeanette Winterson</td><td>3.83</td><td>11644</td></tr>",
                            "<tr><td>The Cuckoo&#39;s Calling</td><td>Robert Galbraith, J.K. Rowling</td><td>3.83</td><td>11643</td></tr>",
                            "<tr><td>The Secret Place</td><td>Tana French</td><td>3.83</td><td>11643</td></tr>",
                            "<tr><td>The Shipping News</td><td>Annie Proulx</td><td>3.83</td><td>11643</td></tr>",
                            "<tr><td>The Shipping News</td><td>Annie Proulx</td><td>3.83</td><td>11644</td></tr>",
                            "<tr><td>Uncle Tom&#39;s Cabin or Life Among the Lowly</td><td>Harriet Beecher Stowe</td><td>3.83</td><td>11644</td></tr>",
                            "<tr><td>You&#39;ll Grow Out of It</td><td>Jessi Klein</td><td>3.83</td><td>11643</td></tr>",
                            "<tr><td>You&#39;ll Grow Out of It</td><td>Jessi Klein</td><td>3.83</td><td>11644</td></tr>",
                            "<tr><td>キッチン [Kitchen]</td><td>Banana Yoshimoto, Megan Backus</td><td>3.83</td><td>11643</td></tr>",
                            "<tr><td>キッチン [Kitchen]</td><td>Banana Yoshimoto, Megan Backus</td><td>3.83</td><td>11644</td></tr>",
                            "<tr><td>Case Histories</td><td>Kate Atkinson</td><td>3.82</td><td>11643</td></tr>",
                            "<tr><td>Cat Among the Pigeons</td><td>Agatha Christie</td><td>3.82</td><td>11643</td></tr>",
                            "<tr><td>Cat Among the Pigeons</td><td>Agatha Christie</td><td>3.82</td><td>11644</td></tr>",
                            "<tr><td>Daniel Deronda</td><td>George Eliot, Edmund White</td><td>3.82</td><td>11643</td></tr>",
                            "<tr><td>Daniel Deronda</td><td>George Eliot, Edmund White</td><td>3.82</td><td>11644</td></tr>",
                            "<tr><td>Dinner at the Homesick Restaurant</td><td>Anne Tyler</td><td>3.82</td><td>11643</td></tr>",
                            "<tr><td>Dinner at the Homesick Restaurant</td><td>Anne Tyler</td><td>3.82</td><td>11644</td></tr>",
                            "<tr><td>Falling Free</td><td>Lois McMaster Bujold</td><td>3.82</td><td>11643</td></tr>",
                            "<tr><td>Housekeeping</td><td>Marilynne Robinson</td><td>3.82</td><td>11643</td></tr>",
                            "<tr><td>Housekeeping</td><td>Marilynne Robinson</td><td>3.82</td><td>11644</td></tr>",
                            "<tr><td>Petals on the Wind</td><td>V.C. Andrews</td><td>3.82</td><td>11643</td></tr>",
                            "<tr><td>Push</td><td>Sapphire</td><td>3.82</td><td>11643</td></tr>",
                            "<tr><td>Strangers on a Train</td><td>Patricia Highsmith</td><td>3.82</td><td>11643</td></tr>",
                            "<tr><td>Strangers on a Train</td><td>Patricia Highsmith</td><td>3.82</td><td>11644</td></tr>",
                            "<tr><td>Suite française </td><td>Irène Némirovsky, Sandra Smith</td><td>3.82</td><td>11644</td></tr>",
                            "<tr><td>The Duchess War</td><td>Courtney Milan</td><td>3.82</td><td>11643</td></tr>",
                            "<tr><td>The Lowland</td><td>Jhumpa Lahiri</td><td>3.82</td><td>11643</td></tr>",
                            "<tr><td>The Lowland</td><td>Jhumpa Lahiri</td><td>3.82</td><td>11644</td></tr>",
                            "<tr><td>The Opposite of Loneliness</td><td>Marina Keegan</td><td>3.82</td><td>11643</td></tr>",
                            "<tr><td>The Opposite of Loneliness</td><td>Marina Keegan</td><td>3.82</td><td>11644</td></tr>",
                            "<tr><td>The Robber Bride</td><td>Margaret Atwood</td><td>3.82</td><td>11643</td></tr>",
                            "<tr><td>The Robber Bride</td><td>Margaret Atwood</td><td>3.82</td><td>11644</td></tr>",
                            "<tr><td>The Secret Adversary</td><td>Agatha Christie</td><td>3.82</td><td>11643</td></tr>",
                            "<tr><td>Too Much Happiness</td><td>Alice Munro</td><td>3.82</td><td>11643</td></tr>",
                            "<tr><td>Too Much Happiness</td><td>Alice Munro</td><td>3.82</td><td>11644</td></tr>",
                            "<tr><td>Wuthering Heights</td><td>Emily Brontë, Richard J. Dunn</td><td>3.82</td><td>11643</td></tr>",
                            "<tr><td>Wuthering Heights</td><td>Emily Brontë, Richard J. Dunn</td><td>3.82</td><td>11644</td></tr>",
                            "<tr><td>Z: A Novel of Zelda Fitzgerald</td><td>Therese Anne Fowler</td><td>3.82</td><td>11643</td></tr>",
                            "<tr><td>Z: A Novel of Zelda Fitzgerald</td><td>Therese Anne Fowler</td><td>3.82</td><td>11644</td></tr>",
                            "<tr><td>Death at La Fenice</td><td>Donna Leon</td><td>3.81</td><td>11643</td></tr>",
                            "<tr><td>Death at La Fenice</td><td>Donna Leon</td><td>3.81</td><td>11644</td></tr>",
                            "<tr><td>I Heard That Song Before</td><td>Mary Higgins Clark</td><td>3.81</td><td>11643</td></tr>",
                            "<tr><td>Little Lord Fauntleroy</td><td>Frances Hodgson Burnett</td><td>3.81</td><td>11643</td></tr>",
                            "<tr><td>No One Belongs Here More Than You</td><td>Miranda July</td><td>3.81</td><td>11643</td></tr>",
                            "<tr><td>No One Belongs Here More Than You</td><td>Miranda July</td><td>3.81</td><td>11644</td></tr>",
                            "<tr><td>Remarkable Creatures</td><td>Tracy Chevalier</td><td>3.81</td><td>11644</td></tr>",
                            "<tr><td>Salvage the Bones</td><td>Jesmyn Ward</td><td>3.81</td><td>11643</td></tr>",
                            "<tr><td>Seeds of Yesterday</td><td>V.C. Andrews</td><td>3.81</td><td>11644</td></tr>",
                            "<tr><td>The Signature of All Things</td><td>Elizabeth Gilbert</td><td>3.81</td><td>11643</td></tr>",
                            "<tr><td>The Signature of All Things</td><td>Elizabeth Gilbert</td><td>3.81</td><td>11644</td></tr>",
                            "<tr><td>Yes Please</td><td>Amy Poehler</td><td>3.81</td><td>11643</td></tr>",
                            "<tr><td>Yes Please</td><td>Amy Poehler</td><td>3.81</td><td>11644</td></tr>",
                            "<tr><td>Anyone But You </td><td>Jennifer Crusie</td><td>3.8</td><td>11643</td></tr>",
                            "<tr><td>El amante japonés</td><td>Isabel Allende, Nick Caistor, Amanda Hopkinson</td><td>3.8</td><td>11644</td></tr>",
                            "<tr><td>Jonathan Strange &amp; Mr Norrell</td><td>Susanna Clarke</td><td>3.8</td><td>11643</td></tr>",
                            "<tr><td>Jonathan Strange &amp; Mr Norrell</td><td>Susanna Clarke</td><td>3.8</td><td>11644</td></tr>",
                            "<tr><td>Northanger Abbey</td><td>Jane Austen, Alfred MacAdam</td><td>3.8</td><td>11643</td></tr>",
                            "<tr><td>Northanger Abbey</td><td>Jane Austen, Alfred MacAdam</td><td>3.8</td><td>11644</td></tr>",
                            "<tr><td>Passing</td><td>Nella Larsen, Ntozake Shange, Thadious M. Davis</td><td>3.8</td><td>11643</td></tr>",
                            "<tr><td>Passing</td><td>Nella Larsen, Ntozake Shange, Thadious M. Davis</td><td>3.8</td><td>11644</td></tr>",
                            "<tr><td>Practical Magic</td><td>Alice Hoffman</td><td>3.8</td><td>11643</td></tr>",
                            "<tr><td>Salem Falls</td><td>Jodi Picoult</td><td>3.8</td><td>11644</td></tr>",
                            "<tr><td>So You Want to Be a Wizard</td><td>Diane Duane</td><td>3.8</td><td>11643</td></tr>",
                            "<tr><td>The Hundred Thousand Kingdoms</td><td>N.K. Jemisin</td><td>3.8</td><td>11643</td></tr>",
                            "<tr><td>The Hundred Thousand Kingdoms</td><td>N.K. Jemisin</td><td>3.8</td><td>11644</td></tr>",
                            "<tr><td>The Murder on the Links</td><td>Agatha Christie</td><td>3.8</td><td>11644</td></tr>",
                            "<tr><td>The Rapture of Canaan</td><td>Sheri Reynolds</td><td>3.8</td><td>11644</td></tr>",
                            "<tr><td>A Thousand Acres</td><td>Jane Smiley</td><td>3.79</td><td>11643</td></tr>",
                            "<tr><td>Afterwards</td><td>Rosamund Lupton</td><td>3.79</td><td>11643</td></tr>",
                            "<tr><td>Baba ve Piç</td><td>Elif Shafak</td><td>3.79</td><td>11643</td></tr>",
                            "<tr><td>Baba ve Piç</td><td>Elif Shafak</td><td>3.79</td><td>11644</td></tr>",
                            "<tr><td>Divine Secrets of the Ya-Ya Sisterhood</td><td>Rebecca Wells</td><td>3.79</td><td>11643</td></tr>",
                            "<tr><td>I&#39;ll Be Seeing You</td><td>Mary Higgins Clark</td><td>3.79</td><td>11643</td></tr>",
                            "<tr><td>One Good Turn</td><td>Kate Atkinson</td><td>3.79</td><td>11643</td></tr>",
                            "<tr><td>One Good Turn</td><td>Kate Atkinson</td><td>3.79</td><td>11644</td></tr>",
                            "<tr><td>Spindle&#39;s End</td><td>Robin McKinley</td><td>3.79</td><td>11643</td></tr>",
                            "<tr><td>Spindle&#39;s End</td><td>Robin McKinley</td><td>3.79</td><td>11644</td></tr>",
                            "<tr><td>The Birth of Venus</td><td>Sarah Dunant</td><td>3.79</td><td>11644</td></tr>",
                            "<tr><td>The End of Mr. Y.</td><td>Scarlett Thomas</td><td>3.79</td><td>3514</td></tr>",
                            "<tr><td>The End of Mr. Y.</td><td>Scarlett Thomas</td><td>3.79</td><td>11644</td></tr>",
                            "<tr><td>The Rainbow Comes and Goes: A Mother and Son On Life, Love, and Loss</td><td>Anderson Cooper, Gloria Vanderbilt</td><td>3.79</td><td>11643</td></tr>",
                            "<tr><td>Watermelon</td><td>Marian Keyes</td><td>3.79</td><td>11644</td></tr>",
                            "<tr><td>You Had Me At Hello</td><td>Mhairi McFarlane</td><td>3.79</td><td>11643</td></tr>",
                            "<tr><td>A Map of the World</td><td>Jane Hamilton, Frank  Muller, C.J. Critt</td><td>3.78</td><td>11644</td></tr>",
                            "<tr><td>Annabel</td><td>Lauren Oliver</td><td>3.78</td><td>11644</td></tr>",
                            "<tr><td>Blubber</td><td>Judy Blume</td><td>3.78</td><td>11644</td></tr>",
                            "<tr><td>Death in the Clouds</td><td>Agatha Christie</td><td>3.78</td><td>11644</td></tr>",
                            "<tr><td>Everything I Never Told You</td><td>Celeste Ng</td><td>3.78</td><td>11643</td></tr>",
                            "<tr><td>Everything I Never Told You</td><td>Celeste Ng</td><td>3.78</td><td>11644</td></tr>",
                            "<tr><td>Girl Waits with Gun</td><td>Amy  Stewart</td><td>3.78</td><td>11643</td></tr>",
                            "<tr><td>In Her Shoes</td><td>Jennifer Weiner</td><td>3.78</td><td>11643</td></tr>",
                            "<tr><td>Jazz</td><td>Toni Morrison</td><td>3.78</td><td>11643</td></tr>",
                            "<tr><td>Jazz</td><td>Toni Morrison</td><td>3.78</td><td>11644</td></tr>",
                            "<tr><td>Last Chance Saloon</td><td>Marian Keyes</td><td>3.78</td><td>11644</td></tr>",
                            "<tr><td>Mrs Dalloway</td><td>Virginia Woolf, Maureen Howard</td><td>3.78</td><td>11643</td></tr>",
                            "<tr><td>Mrs Dalloway</td><td>Virginia Woolf, Maureen Howard</td><td>3.78</td><td>11644</td></tr>",
                            "<tr><td>Nerilka&#39;s Story (Pern: Dragonriders of Pern, #5)</td><td>Anne McCaffrey</td><td>3.78</td><td>11643</td></tr>",
                            "<tr><td>A Caribbean Mystery</td><td>Agatha Christie</td><td>3.77</td><td>11643</td></tr>",
                            "<tr><td>Adam Bede</td><td>George Eliot, Joanna Trollope, Hugh Osborne</td><td>3.77</td><td>11643</td></tr>",
                            "<tr><td>Adam Bede</td><td>George Eliot, Joanna Trollope, Hugh Osborne</td><td>3.77</td><td>11644</td></tr>",
                            "<tr><td>Behind Her Eyes</td><td>Sarah Pinborough</td><td>3.77</td><td>11643</td></tr>",
                            "<tr><td>Beloved</td><td>Toni Morrison</td><td>3.77</td><td>11643</td></tr>",
                            "<tr><td>Beloved</td><td>Toni Morrison</td><td>3.77</td><td>11644</td></tr>",
                            "<tr><td>Go Ask Alice</td><td>Beatrice Sparks, Anonymous</td><td>3.77</td><td>11644</td></tr>",
                            "<tr><td>Lucky</td><td>Alice Sebold</td><td>3.77</td><td>11644</td></tr>",
                            "<tr><td>Rose Daughter</td><td>Robin McKinley</td><td>3.77</td><td>11643</td></tr>",
                            "<tr><td>Rumble Fish</td><td>S.E. Hinton</td><td>3.77</td><td>11644</td></tr>",
                            "<tr><td>The Historian</td><td>Elizabeth Kostova</td><td>3.77</td><td>11643</td></tr>",
                            "<tr><td>The Last Nude</td><td>Ellis Avery</td><td>3.77</td><td>32682</td></tr>",
                            "<tr><td>The Lovely Bones</td><td>Alice Sebold</td><td>3.77</td><td>11644</td></tr>",
                            "<tr><td>The Mill on the Floss</td><td>George Eliot, A.S. Byatt</td><td>3.77</td><td>11643</td></tr>",
                            "<tr><td>The Mill on the Floss</td><td>George Eliot, A.S. Byatt</td><td>3.77</td><td>11644</td></tr>",
                            "<tr><td>The Mystery of the Blue Train</td><td>Agatha Christie</td><td>3.77</td><td>11644</td></tr>",
                            "<tr><td>The Other Side of the Story</td><td>Marian Keyes</td><td>3.77</td><td>11644</td></tr>",
                            "<tr><td>人生がときめく片づけの魔法</td><td>Marie Kondō, Cathy Hirano</td><td>3.77</td><td>11643</td></tr>",
                            "<tr><td>人生がときめく片づけの魔法</td><td>Marie Kondō, Cathy Hirano</td><td>3.77</td><td>11644</td></tr>",
                            "<tr><td>Bokhandleren i Kabul</td><td>Åsne Seierstad, Ingrid Christopherson</td><td>3.76</td><td>11643</td></tr>",
                            "<tr><td>Intet</td><td>Janne Teller, Martin Aitken</td><td>3.76</td><td>11643</td></tr>",
                            "<tr><td>L&#39;Amant</td><td>Marguerite Duras, Barbara Bray, Maxine Hong Kingston</td><td>3.76</td><td>11643</td></tr>",
                            "<tr><td>L&#39;Amant</td><td>Marguerite Duras, Barbara Bray, Maxine Hong Kingston</td><td>3.76</td><td>11644</td></tr>",
                            "<tr><td>Little Earthquakes</td><td>Jennifer Weiner</td><td>3.76</td><td>11643</td></tr>",
                            "<tr><td>My Ántonia</td><td>Willa Cather</td><td>3.76</td><td>11643</td></tr>",
                            "<tr><td>My Ántonia</td><td>Willa Cather</td><td>3.76</td><td>11644</td></tr>",
                            "<tr><td>Someone</td><td>Alice McDermott</td><td>3.76</td><td>11643</td></tr>",
                            "<tr><td>The Girl with the Lower Back Tattoo</td><td>Amy Schumer</td><td>3.76</td><td>11643</td></tr>",
                            "<tr><td>The Lacuna</td><td>Barbara Kingsolver</td><td>3.76</td><td>11643</td></tr>",
                            "<tr><td>The Patron Saint of Liars</td><td>Ann Patchett</td><td>3.76</td><td>11643</td></tr>",
                            "<tr><td>The Prime of Miss Jean Brodie </td><td>Muriel Spark</td><td>3.76</td><td>11643</td></tr>",
                            "<tr><td>The Prime of Miss Jean Brodie </td><td>Muriel Spark</td><td>3.76</td><td>11644</td></tr>",
                            "<tr><td>To The Lighthouse </td><td>Virginia Woolf</td><td>3.76</td><td>11643</td></tr>",
                            "<tr><td>To The Lighthouse </td><td>Virginia Woolf</td><td>3.76</td><td>11644</td></tr>",
                            "<tr><td>Under The Net</td><td>Iris Murdoch</td><td>3.76</td><td>3514</td></tr>",
                            "<tr><td>Under The Net</td><td>Iris Murdoch</td><td>3.76</td><td>11643</td></tr>",
                            "<tr><td>Under The Net</td><td>Iris Murdoch</td><td>3.76</td><td>11644</td></tr>",
                            "<tr><td>엄마를 부탁해</td><td>Kyung-Sook Shin, 신경숙, Chi-Young Kim</td><td>3.76</td><td>11643</td></tr>",
                            "<tr><td>엄마를 부탁해</td><td>Kyung-Sook Shin, 신경숙, Chi-Young Kim</td><td>3.76</td><td>11644</td></tr>",
                            "<tr><td>Blue Nights</td><td>Joan Didion</td><td>3.75</td><td>11643</td></tr>",
                            "<tr><td>Blue Nights</td><td>Joan Didion</td><td>3.75</td><td>11644</td></tr>",
                            "<tr><td>Dear Life</td><td>Alice Munro</td><td>3.75</td><td>11643</td></tr>",
                            "<tr><td>Dear Life</td><td>Alice Munro</td><td>3.75</td><td>11644</td></tr>",
                            "<tr><td>El Zorro</td><td>Isabel Allende, Margaret Sayers Peden</td><td>3.75</td><td>11643</td></tr>",
                            "<tr><td>El Zorro</td><td>Isabel Allende, Margaret Sayers Peden</td><td>3.75</td><td>11644</td></tr>",
                            "<tr><td>Ellen Foster</td><td>Kaye Gibbons</td><td>3.75</td><td>11643</td></tr>",
                            "<tr><td>Frankenstein; or, The Modern Prometheus</td><td>Mary Wollstonecraft Shelley, Percy Bysshe Shelley, Maurice Hindle</td><td>3.75</td><td>11643</td></tr>",
                            "<tr><td>Frankenstein; or, The Modern Prometheus</td><td>Mary Wollstonecraft Shelley, Percy Bysshe Shelley, Maurice Hindle</td><td>3.75</td><td>11644</td></tr>",
                            "<tr><td>How to Make Love Like a Porn Star: A Cautionary Tale</td><td>Jenna Jameson, Neil Strauss</td><td>3.75</td><td>11643</td></tr>",
                            "<tr><td>Living History</td><td>Hillary Rodham Clinton</td><td>3.75</td><td>11644</td></tr>",
                            "<tr><td>Oranges Are Not the Only Fruit</td><td>Jeanette Winterson</td><td>3.75</td><td>11643</td></tr>",
                            "<tr><td>Oranges Are Not the Only Fruit</td><td>Jeanette Winterson</td><td>3.75</td><td>11644</td></tr>",
                            "<tr><td>The Bloodletter&#39;s Daughter: A Novel of Old Bohemia</td><td>Linda Lafferty</td><td>3.75</td><td>11644</td></tr>",
                            "<tr><td>The Golden Notebook</td><td>Doris Lessing</td><td>3.75</td><td>11643</td></tr>",
                            "<tr><td>The Golden Notebook</td><td>Doris Lessing</td><td>3.75</td><td>11644</td></tr>",
                            "<tr><td>The Sisterhood of the Traveling Pants</td><td>Ann Brashares</td><td>3.75</td><td>11644</td></tr>",
                            "<tr><td>This Charming Man</td><td>Marian Keyes</td><td>3.75</td><td>11644</td></tr>",
                            "<tr><td>Villette</td><td>Charlotte Brontë, A.S. Byatt, Μαρία Λαϊνά, Ignes Sodre</td><td>3.75</td><td>11643</td></tr>",
                            "<tr><td>Villette</td><td>Charlotte Brontë, A.S. Byatt, Μαρία Λαϊνά, Ignes Sodre</td><td>3.75</td><td>11644</td></tr>",
                            "<tr><td>White Teeth</td><td>Zadie Smith</td><td>3.75</td><td>11643</td></tr>",
                            "<tr><td>White Teeth</td><td>Zadie Smith</td><td>3.75</td><td>11644</td></tr>",
                            "<tr><td>Bella Tuscany</td><td>Frances Mayes</td><td>3.74</td><td>11643</td></tr>",
                            "<tr><td>Galileo&#39;s Daughter</td><td>Dava Sobel</td><td>3.74</td><td>11643</td></tr>",
                            "<tr><td>H is for Hawk</td><td>Helen Macdonald</td><td>3.74</td><td>11643</td></tr>",
                            "<tr><td>H is for Hawk</td><td>Helen Macdonald</td><td>3.74</td><td>11644</td></tr>",
                            "<tr><td>In the Woods</td><td>Tana French</td><td>3.74</td><td>11643</td></tr>",
                            "<tr><td>In the Woods</td><td>Tana French</td><td>3.74</td><td>11644</td></tr>",
                            "<tr><td>Life After Life</td><td>Kate Atkinson</td><td>3.74</td><td>11643</td></tr>",
                            "<tr><td>Lucy Sullivan is Getting Married</td><td>Marian Keyes</td><td>3.74</td><td>11643</td></tr>",
                            "<tr><td>One, Two, Buckle My Shoe</td><td>Agatha Christie, Hugh Fraser</td><td>3.74</td><td>11644</td></tr>",
                            "<tr><td>Rosemary and Rue</td><td>Seanan McGuire</td><td>3.74</td><td>11643</td></tr>",
                            "<tr><td>The Ghost Bride</td><td>Yangsze Choo</td><td>3.74</td><td>11643</td></tr>",
                            "<tr><td>The Illustrated Mum</td><td>Jacqueline Wilson, Nick Sharratt</td><td>3.74</td><td>3514</td></tr>",
                            "<tr><td>The Illustrated Mum</td><td>Jacqueline Wilson, Nick Sharratt</td><td>3.74</td><td>11643</td></tr>",
                            "<tr><td>The Illustrated Mum</td><td>Jacqueline Wilson, Nick Sharratt</td><td>3.74</td><td>11644</td></tr>",
                            "<tr><td>They Do it with Mirrors</td><td>Agatha Christie</td><td>3.74</td><td>11643</td></tr>",
                            "<tr><td>They Do it with Mirrors</td><td>Agatha Christie</td><td>3.74</td><td>11644</td></tr>",
                            "<tr><td>All-American Girl</td><td>Meg Cabot</td><td>3.73</td><td>11643</td></tr>",
                            "<tr><td>Angels</td><td>Marian Keyes</td><td>3.73</td><td>11643</td></tr>",
                            "<tr><td>Angels</td><td>Marian Keyes</td><td>3.73</td><td>11644</td></tr>",
                            "<tr><td>Ceremony</td><td>Leslie Marmon Silko</td><td>3.73</td><td>11644</td></tr>",
                            "<tr><td>Drowning Ruth</td><td>Christina Schwarz</td><td>3.73</td><td>11643</td></tr>",
                            "<tr><td>Empress of the World</td><td>Sara Ryan</td><td>3.73</td><td>11643</td></tr>",
                            "<tr><td>How to Be a Woman</td><td>Caitlin Moran</td><td>3.73</td><td>11643</td></tr>",
                            "<tr><td>How to Be a Woman</td><td>Caitlin Moran</td><td>3.73</td><td>11644</td></tr>",
                            "<tr><td>I remember nothing and other reflections</td><td>Nora Ephron</td><td>3.73</td><td>11643</td></tr>",
                            "<tr><td>Lady Audley&#39;s Secret</td><td>Mary Elizabeth Braddon</td><td>3.73</td><td>11643</td></tr>",
                            "<tr><td>Lady Audley&#39;s Secret</td><td>Mary Elizabeth Braddon</td><td>3.73</td><td>11644</td></tr>",
                            "<tr><td>L&#39;élégance du hérisson</td><td>Muriel Barbery, Alison Anderson</td><td>3.73</td><td>11643</td></tr>",
                            "<tr><td>Memnoch The Devil</td><td>Anne Rice</td><td>3.73</td><td>11644</td></tr>",
                            "<tr><td>Nick &amp; Norah&#39;s Infinite Playlist</td><td>Rachel Cohn, David Levithan</td><td>3.73</td><td>11644</td></tr>",
                            "<tr><td>The Invisible Library</td><td>Genevieve Cogman</td><td>3.73</td><td>11643</td></tr>",
                            "<tr><td>The Weight of Blood</td><td>Laura McHugh</td><td>3.73</td><td>11643</td></tr>",
                            "<tr><td>A Raisin in the Sun</td><td>Lorraine Hansberry</td><td>3.72</td><td>11643</td></tr>",
                            "<tr><td>A Raisin in the Sun</td><td>Lorraine Hansberry</td><td>3.72</td><td>11644</td></tr>",
                            "<tr><td>American Wife</td><td>Curtis Sittenfeld</td><td>3.72</td><td>11643</td></tr>",
                            "<tr><td>Dept. of Speculation</td><td>Jenny Offill</td><td>3.72</td><td>11643</td></tr>",
                            "<tr><td>Dept. of Speculation</td><td>Jenny Offill</td><td>3.72</td><td>11644</td></tr>",
                            "<tr><td>Girl in Hyacinth Blue</td><td>Susan Vreeland</td><td>3.72</td><td>11643</td></tr>",
                            "<tr><td>Good Grief</td><td>Lolly Winston</td><td>3.72</td><td>11643</td></tr>",
                            "<tr><td>Jinx</td><td>Meg Cabot</td><td>3.72</td><td>11643</td></tr>",
                            "<tr><td>Ladder of Years</td><td>Anne Tyler</td><td>3.72</td><td>11643</td></tr>",
                            "<tr><td>Seriously...I&#39;m Kidding</td><td>Ellen DeGeneres</td><td>3.72</td><td>11644</td></tr>",
                            "<tr><td>Sickened</td><td>Julie Gregory</td><td>3.72</td><td>11644</td></tr>",
                            "<tr><td>Stupeur et tremblements</td><td>Amélie Nothomb</td><td>3.72</td><td>11644</td></tr>",
                            "<tr><td>The Woman Warrior: Memoirs of a Girlhood Among Ghosts</td><td>Maxine Hong Kingston</td><td>3.72</td><td>11643</td></tr>",
                            "<tr><td>The Woman Warrior: Memoirs of a Girlhood Among Ghosts</td><td>Maxine Hong Kingston</td><td>3.72</td><td>11644</td></tr>",
                            "<tr><td>Apple Tree Yard</td><td>Louise Doughty</td><td>3.71</td><td>11643</td></tr>",
                            "<tr><td>Beauty&#39;s Release (Sleeping Beauty, #3)</td><td>A.N. Roquelaure, Anne Rice</td><td>3.71</td><td>11643</td></tr>",
                            "<tr><td>Blood, Bones and Butter: The Inadvertent Education of a Reluctant Chef</td><td>Gabrielle Hamilton</td><td>3.71</td><td>11643</td></tr>",
                            "<tr><td>Home</td><td>Toni Morrison</td><td>3.71</td><td>11643</td></tr>",
                            "<tr><td>Home</td><td>Toni Morrison</td><td>3.71</td><td>11644</td></tr>",
                            "<tr><td>Innocence Lost (Kingmaker, Kingbreaker, #2)</td><td>Karen Miller</td><td>3.71</td><td>11643</td></tr>",
                            "<tr><td>Shirley </td><td>Charlotte Brontë, Lucasta Miller, collaborative, Jessica Cox</td><td>3.71</td><td>11643</td></tr>",
                            "<tr><td>Shirley </td><td>Charlotte Brontë, Lucasta Miller, collaborative, Jessica Cox</td><td>3.71</td><td>11644</td></tr>",
                            "<tr><td>The Clocks</td><td>Agatha Christie, Robin Bailey</td><td>3.71</td><td>11643</td></tr>",
                            "<tr><td>The Clocks</td><td>Agatha Christie, Robin Bailey</td><td>3.71</td><td>11644</td></tr>",
                            "<tr><td>The Passenger</td><td>Lisa Lutz</td><td>3.71</td><td>11643</td></tr>",
                            "<tr><td>We Are All Completely Beside Ourselves</td><td>Karen Joy Fowler</td><td>3.71</td><td>11643</td></tr>",
                            "<tr><td>We Are All Completely Beside Ourselves</td><td>Karen Joy Fowler</td><td>3.71</td><td>11644</td></tr>",
                            "<tr><td>We Need New Names</td><td>NoViolet Bulawayo</td><td>3.71</td><td>11643</td></tr>",
                            "<tr><td>We Need New Names</td><td>NoViolet Bulawayo</td><td>3.71</td><td>11644</td></tr>",
                            "<tr><td>Wishful Drinking</td><td>Carrie Fisher</td><td>3.71</td><td>11643</td></tr>",
                            "<tr><td>Wishful Drinking</td><td>Carrie Fisher</td><td>3.71</td><td>11644</td></tr>",
                            "<tr><td>At Bertram&#39;s Hotel</td><td>Agatha Christie</td><td>3.7</td><td>11644</td></tr>",
                            "<tr><td>Catherine, Called Birdy</td><td>Karen Cushman</td><td>3.7</td><td>11643</td></tr>",
                            "<tr><td>Elizabeth Is Missing</td><td>Emma Healey</td><td>3.7</td><td>11644</td></tr>",
                            "<tr><td>God Help the Child</td><td>Toni Morrison</td><td>3.7</td><td>11643</td></tr>",
                            "<tr><td>God Help the Child</td><td>Toni Morrison</td><td>3.7</td><td>11644</td></tr>",
                            "<tr><td>Mary Barton</td><td>Elizabeth Gaskell, Shirley Foster</td><td>3.7</td><td>11643</td></tr>",
                            "<tr><td>Mary Barton</td><td>Elizabeth Gaskell, Shirley Foster</td><td>3.7</td><td>11644</td></tr>",
                            "<tr><td>Orange Is the New Black: My Year in a Women&#39;s Prison</td><td>Piper Kerman</td><td>3.7</td><td>11643</td></tr>",
                            "<tr><td>Orange Is the New Black: My Year in a Women&#39;s Prison</td><td>Piper Kerman</td><td>3.7</td><td>11644</td></tr>",
                            "<tr><td>Special Topics in Calamity Physics</td><td>Marisha Pessl</td><td>3.7</td><td>11643</td></tr>",
                            "<tr><td>Special Topics in Calamity Physics</td><td>Marisha Pessl</td><td>3.7</td><td>11644</td></tr>",
                            "<tr><td>The Devil Wears Prada</td><td>Lauren Weisberger</td><td>3.7</td><td>11643</td></tr>",
                            "<tr><td>The Luminaries</td><td>Eleanor Catton</td><td>3.7</td><td>11643</td></tr>",
                            "<tr><td>The Luminaries</td><td>Eleanor Catton</td><td>3.7</td><td>11644</td></tr>",
                            "<tr><td>The Tale of the Body Thief</td><td>Anne Rice</td><td>3.7</td><td>11644</td></tr>",
                            "<tr><td>Wave</td><td>Sonali Deraniyagala</td><td>3.7</td><td>11643</td></tr>",
                            "<tr><td>Wave</td><td>Sonali Deraniyagala</td><td>3.7</td><td>11644</td></tr>",
                            "<tr><td>We Were the Mulvaneys</td><td>Joyce Carol Oates</td><td>3.7</td><td>11643</td></tr>",
                            "<tr><td>We Were the Mulvaneys</td><td>Joyce Carol Oates</td><td>3.7</td><td>11644</td></tr>",
                            "<tr><td>What Looks Like Crazy on an Ordinary Day</td><td>Pearl Cleage</td><td>3.7</td><td>11644</td></tr>",
                            "<tr><td>When the Emperor Was Divine</td><td>Julie Otsuka</td><td>3.7</td><td>11643</td></tr>",
                            "<tr><td>When the Emperor Was Divine</td><td>Julie Otsuka</td><td>3.7</td><td>11644</td></tr>",
                            "<tr><td>Delta of Venus</td><td>Anaïs Nin</td><td>3.69</td><td>11643</td></tr>",
                            "<tr><td>Delta of Venus</td><td>Anaïs Nin</td><td>3.69</td><td>11644</td></tr>",
                            "<tr><td>Double Act</td><td>Jacqueline Wilson, Nick Sharratt, Sue Heap</td><td>3.69</td><td>11643</td></tr>",
                            "<tr><td>Double Act</td><td>Jacqueline Wilson, Nick Sharratt, Sue Heap</td><td>3.69</td><td>11644</td></tr>",
                            "<tr><td>How to Build a Girl</td><td>Caitlin Moran</td><td>3.69</td><td>11643</td></tr>",
                            "<tr><td>How to Build a Girl</td><td>Caitlin Moran</td><td>3.69</td><td>11644</td></tr>",
                            "<tr><td>La ciudad de las bestias</td><td>Isabel Allende, Margaret Sayers Peden</td><td>3.69</td><td>11643</td></tr>",
                            "<tr><td>Notes on a Scandal</td><td>Zoë Heller</td><td>3.69</td><td>11643</td></tr>",
                            "<tr><td>Notes on a Scandal</td><td>Zoë Heller</td><td>3.69</td><td>11644</td></tr>",
                            "<tr><td>Slammerkin</td><td>Emma Donoghue</td><td>3.69</td><td>11643</td></tr>",
                            "<tr><td>Slammerkin</td><td>Emma Donoghue</td><td>3.69</td><td>11644</td></tr>",
                            "<tr><td>Sushi for Beginners</td><td>Marian Keyes</td><td>3.69</td><td>11644</td></tr>",
                            "<tr><td>Thanks for the Memories</td><td>Cecelia Ahern</td><td>3.69</td><td>11644</td></tr>",
                            "<tr><td>The Art Forger</td><td>B.A. Shapiro</td><td>3.69</td><td>11643</td></tr>",
                            "<tr><td>The Children of Men</td><td>P.D. James</td><td>3.69</td><td>11643</td></tr>",
                            "<tr><td>The Children of Men</td><td>P.D. James</td><td>3.69</td><td>11644</td></tr>",
                            "<tr><td>The Story of Tracy Beaker</td><td>Jacqueline Wilson, Nick Sharratt</td><td>3.69</td><td>11643</td></tr>",
                            "<tr><td>The Story of Tracy Beaker</td><td>Jacqueline Wilson, Nick Sharratt</td><td>3.69</td><td>11644</td></tr>",
                            "<tr><td>Then Came You</td><td>Jennifer Weiner</td><td>3.69</td><td>11643</td></tr>",
                            "<tr><td>Among Others</td><td>Jo Walton</td><td>3.68</td><td>11643</td></tr>",
                            "<tr><td>Icy Sparks</td><td>Gwyn Hyman Rubio</td><td>3.68</td><td>11644</td></tr>",
                            "<tr><td>Legally Blonde</td><td>Amanda Brown</td><td>3.68</td><td>11644</td></tr>",
                            "<tr><td>On Beauty</td><td>Zadie Smith</td><td>3.68</td><td>11643</td></tr>",
                            "<tr><td>On Beauty</td><td>Zadie Smith</td><td>3.68</td><td>11644</td></tr>",
                            "<tr><td>Open House</td><td>Elizabeth Berg</td><td>3.68</td><td>11644</td></tr>",
                            "<tr><td>Rachael Ray 365: No Repeats--A Year of Deliciously Different Dinners (A 30-Minute Meal Cookbook)</td><td>Rachael Ray</td><td>3.68</td><td>11644</td></tr>",
                            "<tr><td>The Woman in Black</td><td>Susan Hill, John Lawrence</td><td>3.68</td><td>11643</td></tr>",
                            "<tr><td>The Woman in Black</td><td>Susan Hill, John Lawrence</td><td>3.68</td><td>11644</td></tr>",
                            "<tr><td>Julie &amp; Julia: 365 Days, 524 Recipes, 1 Tiny Apartment Kitchen</td><td>Julie Powell</td><td>3.67</td><td>11643</td></tr>",
                            "<tr><td>Mother of Pearl</td><td>Melinda Haynes</td><td>3.67</td><td>11644</td></tr>",
                            "<tr><td>The Bees</td><td>Laline Paull</td><td>3.67</td><td>11643</td></tr>",
                            "<tr><td>The Bees</td><td>Laline Paull</td><td>3.67</td><td>11644</td></tr>",
                            "<tr><td>The Edible Woman</td><td>Margaret Atwood</td><td>3.67</td><td>11643</td></tr>",
                            "<tr><td>The Edible Woman</td><td>Margaret Atwood</td><td>3.67</td><td>11644</td></tr>",
                            "<tr><td>The Lady and the Unicorn</td><td>Tracy Chevalier</td><td>3.67</td><td>11643</td></tr>",
                            "<tr><td>The Lady and the Unicorn</td><td>Tracy Chevalier</td><td>3.67</td><td>11644</td></tr>",
                            "<tr><td>The Night Sister</td><td>Jennifer McMahon</td><td>3.67</td><td>11644</td></tr>",
                            "<tr><td>This One Summer</td><td>Mariko Tamaki, Jillian Tamaki</td><td>3.67</td><td>11643</td></tr>",
                            "<tr><td>This One Summer</td><td>Mariko Tamaki, Jillian Tamaki</td><td>3.67</td><td>11644</td></tr>",
                            "<tr><td>When God Was a Rabbit</td><td>Sarah Winman</td><td>3.67</td><td>11643</td></tr>",
                            "<tr><td>When God Was a Rabbit</td><td>Sarah Winman</td><td>3.67</td><td>11644</td></tr>",
                            "<tr><td>A Place Called Here</td><td>Cecelia Ahern</td><td>3.66</td><td>11644</td></tr>",
                            "<tr><td>Are You My Mother?: A Comic Drama</td><td>Alison Bechdel</td><td>3.66</td><td>11643</td></tr>",
                            "<tr><td>Are You My Mother?: A Comic Drama</td><td>Alison Bechdel</td><td>3.66</td><td>11644</td></tr>",
                            "<tr><td>Hallowe&#39;en Party</td><td>Agatha Christie</td><td>3.66</td><td>11643</td></tr>",
                            "<tr><td>Hallowe&#39;en Party</td><td>Agatha Christie</td><td>3.66</td><td>11644</td></tr>",
                            "<tr><td>May We Be Forgiven</td><td>A.M. Homes</td><td>3.66</td><td>11643</td></tr>",
                            "<tr><td>The Book of Tomorrow</td><td>Cecelia Ahern</td><td>3.66</td><td>11644</td></tr>",
                            "<tr><td>The Children&#39;s Book</td><td>A.S. Byatt</td><td>3.66</td><td>11643</td></tr>",
                            "<tr><td>The Penelopiad</td><td>Margaret Atwood</td><td>3.66</td><td>11643</td></tr>",
                            "<tr><td>The Penelopiad</td><td>Margaret Atwood</td><td>3.66</td><td>11644</td></tr>",
                            "<tr><td>The Princess Diarist</td><td>Carrie Fisher</td><td>3.66</td><td>11643</td></tr>",
                            "<tr><td>The Princess Diarist</td><td>Carrie Fisher</td><td>3.66</td><td>11644</td></tr>",
                            "<tr><td>The Wordy Shipmates</td><td>Sarah Vowell</td><td>3.66</td><td>11643</td></tr>",
                            "<tr><td>A Mercy</td><td>Toni Morrison</td><td>3.65</td><td>11643</td></tr>",
                            "<tr><td>A Mercy</td><td>Toni Morrison</td><td>3.65</td><td>11644</td></tr>",
                            "<tr><td>Agnes Grey</td><td>Anne Brontë, Angeline Goreau</td><td>3.65</td><td>11643</td></tr>",
                            "<tr><td>Agnes Grey</td><td>Anne Brontë, Angeline Goreau</td><td>3.65</td><td>11644</td></tr>",
                            "<tr><td>Arcadia</td><td>Lauren Groff</td><td>3.65</td><td>11643</td></tr>",
                            "<tr><td>Cinderella Ate My Daughter: Dispatches from the Frontlines of the New Girlie-Girl Culture</td><td>Peggy Orenstein</td><td>3.65</td><td>11643</td></tr>",
                            "<tr><td>Cinderella Ate My Daughter: Dispatches from the Frontlines of the New Girlie-Girl Culture</td><td>Peggy Orenstein</td><td>3.65</td><td>11644</td></tr>",
                            "<tr><td>I Feel Bad About My Neck: And Other Thoughts on Being a Woman</td><td>Nora Ephron</td><td>3.65</td><td>11643</td></tr>",
                            "<tr><td>I Feel Bad About My Neck: And Other Thoughts on Being a Woman</td><td>Nora Ephron</td><td>3.65</td><td>11644</td></tr>",
                            "<tr><td>In a Dark, Dark Wood </td><td>Ruth Ware</td><td>3.65</td><td>11643</td></tr>",
                            "<tr><td>Sea Glass</td><td>Anita Shreve</td><td>3.65</td><td>11643</td></tr>",
                            "<tr><td>The Innocent Mage (Kingmaker, Kingbreaker, #1)</td><td>Karen Miller</td><td>3.65</td><td>11643</td></tr>",
                            "<tr><td>The Virgin Blue</td><td>Tracy Chevalier</td><td>3.65</td><td>11644</td></tr>",
                            "<tr><td>The Wonder</td><td>Emma Donoghue</td><td>3.65</td><td>11643</td></tr>",
                            "<tr><td>The Wonder</td><td>Emma Donoghue</td><td>3.65</td><td>11644</td></tr>",
                            "<tr><td>Wonderful Tonight: An Autobiography</td><td>Pattie Boyd, Penny Junor</td><td>3.65</td><td>11644</td></tr>",
                            "<tr><td>A Complicated Kindness</td><td>Miriam Toews</td><td>3.64</td><td>11643</td></tr>",
                            "<tr><td>A Complicated Kindness</td><td>Miriam Toews</td><td>3.64</td><td>11644</td></tr>",
                            "<tr><td>A Visit From the Goon Squad</td><td>Jennifer Egan</td><td>3.64</td><td>11643</td></tr>",
                            "<tr><td>A Visit From the Goon Squad</td><td>Jennifer Egan</td><td>3.64</td><td>11644</td></tr>",
                            "<tr><td>Jacob Have I Loved</td><td>Katherine Paterson</td><td>3.64</td><td>11643</td></tr>",
                            "<tr><td>The Age of Miracles</td><td>Karen Thompson Walker</td><td>3.64</td><td>11643</td></tr>",
                            "<tr><td>The Age of Miracles</td><td>Karen Thompson Walker</td><td>3.64</td><td>11644</td></tr>",
                            "<tr><td>The Memory Keeper&#39;s Daughter</td><td>Kim Edwards</td><td>3.64</td><td>11644</td></tr>",
                            "<tr><td>The Turner House</td><td>Angela Flournoy</td><td>3.64</td><td>11643</td></tr>",
                            "<tr><td>The Turner House</td><td>Angela Flournoy</td><td>3.64</td><td>11644</td></tr>",
                            "<tr><td>Half Blood Blues</td><td>Esi Edugyan</td><td>3.63</td><td>11643</td></tr>",
                            "<tr><td>Half Blood Blues</td><td>Esi Edugyan</td><td>3.63</td><td>11644</td></tr>",
                            "<tr><td>Kabul Beauty School: An American Woman Goes Behind the Veil</td><td>Deborah Rodriguez</td><td>3.63</td><td>11644</td></tr>",
                            "<tr><td>Ruby</td><td>Cynthia Bond</td><td>3.63</td><td>11643</td></tr>",
                            "<tr><td>The Awakening</td><td>Kate Chopin</td><td>3.63</td><td>11643</td></tr>",
                            "<tr><td>The Awakening</td><td>Kate Chopin</td><td>3.63</td><td>11644</td></tr>",
                            "<tr><td>Uganda Be Kidding Me</td><td>Chelsea Handler</td><td>3.63</td><td>11644</td></tr>",
                            "<tr><td>Unless</td><td>Carol Shields</td><td>3.63</td><td>11643</td></tr>",
                            "<tr><td>Anthem</td><td>Ayn Rand</td><td>3.62</td><td>11643</td></tr>",
                            "<tr><td>Anthem</td><td>Ayn Rand</td><td>3.62</td><td>11644</td></tr>",
                            "<tr><td>Ash</td><td>Malinda Lo</td><td>3.62</td><td>11643</td></tr>",
                            "<tr><td>Beauty&#39;s Punishment</td><td>A.N. Roquelaure, Anne Rice</td><td>3.62</td><td>11643</td></tr>",
                            "<tr><td>Bonjour tristesse</td><td>Françoise Sagan</td><td>3.62</td><td>11643</td></tr>",
                            "<tr><td>Bonjour tristesse</td><td>Françoise Sagan</td><td>3.62</td><td>11644</td></tr>",
                            "<tr><td>Cleopatra: A Life</td><td>Stacy Schiff</td><td>3.62</td><td>11643</td></tr>",
                            "<tr><td>Elephants Can Remember</td><td>Agatha Christie</td><td>3.62</td><td>11643</td></tr>",
                            "<tr><td>Elephants Can Remember</td><td>Agatha Christie</td><td>3.62</td><td>11644</td></tr>",
                            "<tr><td>How the Garcia Girls Lost Their Accents </td><td>Julia Alvarez</td><td>3.62</td><td>11643</td></tr>",
                            "<tr><td>How the Garcia Girls Lost Their Accents </td><td>Julia Alvarez</td><td>3.62</td><td>11644</td></tr>",
                            "<tr><td>The Beach House</td><td>Jane Green</td><td>3.62</td><td>11644</td></tr>",
                            "<tr><td>The Empathy Exams: Essays</td><td>Leslie Jamison</td><td>3.62</td><td>11643</td></tr>",
                            "<tr><td>The Empathy Exams: Essays</td><td>Leslie Jamison</td><td>3.62</td><td>11644</td></tr>",
                            "<tr><td>The Weight of Water</td><td>Anita Shreve</td><td>3.62</td><td>11643</td></tr>",
                            "<tr><td>The Weight of Water</td><td>Anita Shreve</td><td>3.62</td><td>11644</td></tr>",
                            "<tr><td>How to Be Both</td><td>Ali Smith</td><td>3.61</td><td>11643</td></tr>",
                            "<tr><td>How to Be Both</td><td>Ali Smith</td><td>3.61</td><td>11644</td></tr>",
                            "<tr><td>Beauty Queens</td><td>Libba Bray</td><td>3.6</td><td>11643</td></tr>",
                            "<tr><td>Belinda</td><td>Anne Rice, Anne Rampling</td><td>3.6</td><td>3514</td></tr>",
                            "<tr><td>Nickel and Dimed: On (Not) Getting By in America</td><td>Barbara Ehrenreich</td><td>3.6</td><td>11643</td></tr>",
                            "<tr><td>Nickel and Dimed: On (Not) Getting By in America</td><td>Barbara Ehrenreich</td><td>3.6</td><td>11644</td></tr>",
                            "<tr><td>Silas Marner: The Weaver of Raveloe</td><td>George Eliot</td><td>3.6</td><td>11644</td></tr>",
                            "<tr><td>Swing Time</td><td>Zadie Smith</td><td>3.6</td><td>11643</td></tr>",
                            "<tr><td>Swing Time</td><td>Zadie Smith</td><td>3.6</td><td>11644</td></tr>",
                            "<tr><td>The Big Four</td><td>Agatha Christie</td><td>3.6</td><td>11643</td></tr>",
                            "<tr><td>The Big Four</td><td>Agatha Christie</td><td>3.6</td><td>11644</td></tr>",
                            "<tr><td>Unfamiliar Fishes</td><td>Sarah Vowell</td><td>3.6</td><td>11643</td></tr>",
                            "<tr><td>Unfamiliar Fishes</td><td>Sarah Vowell</td><td>3.6</td><td>11644</td></tr>",
                            "<tr><td>Ya-Yas in Bloom</td><td>Rebecca Wells</td><td>3.6</td><td>11643</td></tr>",
                            "<tr><td>The Amateur Marriage</td><td>Anne Tyler</td><td>3.59</td><td>11643</td></tr>",
                            "<tr><td>The Amateur Marriage</td><td>Anne Tyler</td><td>3.59</td><td>32679</td></tr>",
                            "<tr><td>The Book of Speculation</td><td>Erika Swyler</td><td>3.59</td><td>11643</td></tr>",
                            "<tr><td>The Buddha in the Attic</td><td>Julie Otsuka</td><td>3.59</td><td>11643</td></tr>",
                            "<tr><td>The Buddha in the Attic</td><td>Julie Otsuka</td><td>3.59</td><td>11644</td></tr>",
                            "<tr><td>Whitethorn Woods</td><td>Maeve Binchy</td><td>3.59</td><td>11643</td></tr>",
                            "<tr><td>채식주의자 </td><td>Han Kang, Deborah     Smith</td><td>3.59</td><td>11643</td></tr>",
                            "<tr><td>채식주의자 </td><td>Han Kang, Deborah     Smith</td><td>3.59</td><td>11644</td></tr>",
                            "<tr><td>All the Birds in the Sky</td><td>Charlie Jane Anders</td><td>3.58</td><td>11643</td></tr>",
                            "<tr><td>Girl in a Band</td><td>Kim Gordon</td><td>3.58</td><td>11643</td></tr>",
                            "<tr><td>Girl in a Band</td><td>Kim Gordon</td><td>3.58</td><td>11644</td></tr>",
                            "<tr><td>How I Live Now</td><td>Meg Rosoff</td><td>3.58</td><td>11643</td></tr>",
                            "<tr><td>The Beginner&#39;s Goodbye</td><td>Anne Tyler</td><td>3.58</td><td>11643</td></tr>",
                            "<tr><td>The First Bad Man</td><td>Miranda July</td><td>3.58</td><td>11643</td></tr>",
                            "<tr><td>The First Bad Man</td><td>Miranda July</td><td>3.58</td><td>11644</td></tr>",
                            "<tr><td>The Miniaturist</td><td>Jessie Burton</td><td>3.58</td><td>11643</td></tr>",
                            "<tr><td>The Miniaturist</td><td>Jessie Burton</td><td>3.58</td><td>11644</td></tr>",
                            "<tr><td>The Monsters of Templeton</td><td>Lauren Groff</td><td>3.58</td><td>11644</td></tr>",
                            "<tr><td>A Cup of Friendship</td><td>Deborah Rodriguez</td><td>3.57</td><td>11643</td></tr>",
                            "<tr><td>Hard Choices</td><td>Hillary Rodham Clinton</td><td>3.57</td><td>11644</td></tr>",
                            "<tr><td>Heartburn</td><td>Nora Ephron</td><td>3.57</td><td>11643</td></tr>",
                            "<tr><td>Heartburn</td><td>Nora Ephron</td><td>3.57</td><td>11644</td></tr>",
                            "<tr><td>Prozac Nation</td><td>Elizabeth Wurtzel</td><td>3.57</td><td>11644</td></tr>",
                            "<tr><td>Reading Lolita in Tehran: A Memoir in Books</td><td>Azar Nafisi</td><td>3.57</td><td>11643</td></tr>",
                            "<tr><td>Reading Lolita in Tehran: A Memoir in Books</td><td>Azar Nafisi</td><td>3.57</td><td>11644</td></tr>",
                            "<tr><td>Spook: Science Tackles the Afterlife</td><td>Mary Roach</td><td>3.57</td><td>11643</td></tr>",
                            "<tr><td>Spook: Science Tackles the Afterlife</td><td>Mary Roach</td><td>3.57</td><td>11644</td></tr>",
                            "<tr><td>The House on Mango Street</td><td>Sandra Cisneros</td><td>3.57</td><td>11643</td></tr>",
                            "<tr><td>The House on Mango Street</td><td>Sandra Cisneros</td><td>3.57</td><td>11644</td></tr>",
                            "<tr><td>The Versions of Us</td><td>Laura  Barnett</td><td>3.57</td><td>11644</td></tr>",
                            "<tr><td>Fates and Furies</td><td>Lauren Groff</td><td>3.56</td><td>11643</td></tr>",
                            "<tr><td>Fates and Furies</td><td>Lauren Groff</td><td>3.56</td><td>11644</td></tr>",
                            "<tr><td>Hotel du Lac</td><td>Anita Brookner</td><td>3.56</td><td>11643</td></tr>",
                            "<tr><td>Lady Susan</td><td>Jane Austen, Robert William Chapman</td><td>3.56</td><td>11643</td></tr>",
                            "<tr><td>Lady Susan</td><td>Jane Austen, Robert William Chapman</td><td>3.56</td><td>11644</td></tr>",
                            "<tr><td>The Professor</td><td>Charlotte Brontë</td><td>3.56</td><td>11643</td></tr>",
                            "<tr><td>The Professor</td><td>Charlotte Brontë</td><td>3.56</td><td>11644</td></tr>",
                            "<tr><td>Bee Season</td><td>Myla Goldberg</td><td>3.55</td><td>11643</td></tr>",
                            "<tr><td>Falling Angels</td><td>Tracy Chevalier</td><td>3.55</td><td>11643</td></tr>",
                            "<tr><td>Falling Angels</td><td>Tracy Chevalier</td><td>3.55</td><td>11644</td></tr>",
                            "<tr><td>Little Altars Everywhere</td><td>Rebecca Wells</td><td>3.55</td><td>11643</td></tr>",
                            "<tr><td>The Other Typist</td><td>Suzanne Rindell</td><td>3.55</td><td>11643</td></tr>",
                            "<tr><td>The Other Typist</td><td>Suzanne Rindell</td><td>3.55</td><td>11644</td></tr>",
                            "<tr><td>Candy Girl</td><td>Diablo Cody</td><td>3.54</td><td>11643</td></tr>",
                            "<tr><td>Candy Girl</td><td>Diablo Cody</td><td>3.54</td><td>11644</td></tr>",
                            "<tr><td>Perfect</td><td>Rachel Joyce</td><td>3.54</td><td>11643</td></tr>",
                            "<tr><td>The Interestings</td><td>Meg Wolitzer</td><td>3.54</td><td>11643</td></tr>",
                            "<tr><td>The Interestings</td><td>Meg Wolitzer</td><td>3.54</td><td>11644</td></tr>",
                            "<tr><td>What Do You Do?</td><td>Gillian Flynn</td><td>3.54</td><td>11643</td></tr>",
                            "<tr><td>What Do You Do?</td><td>Gillian Flynn</td><td>3.54</td><td>11644</td></tr>",
                            "<tr><td>What The Dead Know</td><td>Laura Lippman</td><td>3.54</td><td>11643</td></tr>",
                            "<tr><td>Bridget Jones: The Edge of Reason</td><td>Helen Fielding</td><td>3.53</td><td>11643</td></tr>",
                            "<tr><td>Bridget Jones: The Edge of Reason</td><td>Helen Fielding</td><td>3.53</td><td>11644</td></tr>",
                            "<tr><td>Girls in Love</td><td>Jacqueline Wilson</td><td>3.53</td><td>11643</td></tr>",
                            "<tr><td>Girls in Love</td><td>Jacqueline Wilson</td><td>3.53</td><td>11644</td></tr>",
                            "<tr><td>The Girl in the Red Coat</td><td>Kate Hamer</td><td>3.53</td><td>11644</td></tr>",
                            "<tr><td>The Post-Birthday World </td><td>Lionel Shriver</td><td>3.52</td><td>11643</td></tr>",
                            "<tr><td>The Post-Birthday World </td><td>Lionel Shriver</td><td>3.52</td><td>11644</td></tr>",
                            "<tr><td>The Woman who Stole my Life</td><td>Marian Keyes</td><td>3.52</td><td>11643</td></tr>",
                            "<tr><td>Holy Cow: An Indian Adventure</td><td>Sarah Macdonald</td><td>3.51</td><td>11644</td></tr>",
                            "<tr><td>My Name Is Lucy Barton</td><td>Elizabeth Strout, Goran Skrobonja</td><td>3.51</td><td>11643</td></tr>",
                            "<tr><td>The Ice Queen</td><td>Alice Hoffman</td><td>3.51</td><td>11643</td></tr>",
                            "<tr><td>Boneshaker </td><td>Cherie Priest</td><td>3.5</td><td>11643</td></tr>",
                            "<tr><td>The Girls</td><td>Emma Cline</td><td>3.49</td><td>11643</td></tr>",
                            "<tr><td>The Girls</td><td>Emma Cline</td><td>3.49</td><td>11644</td></tr>",
                            "<tr><td>The Shining Girls</td><td>Lauren Beukes</td><td>3.49</td><td>11643</td></tr>",
                            "<tr><td>The Shining Girls</td><td>Lauren Beukes</td><td>3.49</td><td>11644</td></tr>",
                            "<tr><td>Happier at Home: Kiss More, Jump More, Abandon a Project, Read Samuel Johnson, and My Other Experiments in the Practice of Everyday Life</td><td>Gretchen Rubin, Käthe Mazur</td><td>3.48</td><td>11644</td></tr>",
                            "<tr><td>The Last Time They Met</td><td>Anita Shreve</td><td>3.48</td><td>11644</td></tr>",
                            "<tr><td>The Mistress of Spices</td><td>Chitra Banerjee Divakaruni</td><td>3.48</td><td>11643</td></tr>",
                            "<tr><td>Paint It Black</td><td>Janet Fitch</td><td>3.47</td><td>11644</td></tr>",
                            "<tr><td>Renegade&#39;s Magic</td><td>Robin Hobb</td><td>3.46</td><td>11643</td></tr>",
                            "<tr><td>The Dirty Girls Social Club</td><td>Alisa Valdes, Alisa Valdes-Rodriguez</td><td>3.46</td><td>11644</td></tr>",
                            "<tr><td>The Flamethrowers</td><td>Rachel Kushner</td><td>3.46</td><td>11643</td></tr>",
                            "<tr><td>The Flamethrowers</td><td>Rachel Kushner</td><td>3.46</td><td>11644</td></tr>",
                            "<tr><td>The Twelve Tribes of Hattie</td><td>Ayana Mathis</td><td>3.46</td><td>11643</td></tr>",
                            "<tr><td>Great House</td><td>Nicole Krauss</td><td>3.45</td><td>11643</td></tr>",
                            "<tr><td>Great House</td><td>Nicole Krauss</td><td>3.45</td><td>11644</td></tr>",
                            "<tr><td>I Was Told There&#39;d Be Cake</td><td>Sloane Crosley</td><td>3.45</td><td>11643</td></tr>",
                            "<tr><td>I Was Told There&#39;d Be Cake</td><td>Sloane Crosley</td><td>3.45</td><td>11644</td></tr>",
                            "<tr><td>Modern Lovers</td><td>Emma Straub</td><td>3.45</td><td>11643</td></tr>",
                            "<tr><td>Surfacing</td><td>Margaret Atwood</td><td>3.45</td><td>11643</td></tr>",
                            "<tr><td>Surfacing</td><td>Margaret Atwood</td><td>3.45</td><td>11644</td></tr>",
                            "<tr><td>The Nest</td><td>Cynthia D&#39;Aprix Sweeney</td><td>3.45</td><td>11643</td></tr>",
                            "<tr><td>You Will Know Me</td><td>Megan Abbott</td><td>3.45</td><td>11643</td></tr>",
                            "<tr><td>Dear Daughter</td><td>Elizabeth Little</td><td>3.44</td><td>11643</td></tr>",
                            "<tr><td>Fear of Flying</td><td>Erica Jong</td><td>3.44</td><td>11643</td></tr>",
                            "<tr><td>Fear of Flying</td><td>Erica Jong</td><td>3.44</td><td>11644</td></tr>",
                            "<tr><td>Hidden</td><td>Catherine McKenzie</td><td>3.44</td><td>11643</td></tr>",
                            "<tr><td>Scarlett: The Sequel to Margaret Mitchell&#39;s Gone With the Wind</td><td>Alexandra Ripley</td><td>3.44</td><td>11644</td></tr>",
                            "<tr><td>Before we met</td><td>Lucie Whitehouse</td><td>3.43</td><td>11643</td></tr>",
                            "<tr><td>The Keep</td><td>Jennifer Egan</td><td>3.43</td><td>11643</td></tr>",
                            "<tr><td>The Keep</td><td>Jennifer Egan</td><td>3.43</td><td>11644</td></tr>",
                            "<tr><td>The Little Friend</td><td>Donna Tartt</td><td>3.43</td><td>11643</td></tr>",
                            "<tr><td>The Little Friend</td><td>Donna Tartt</td><td>3.43</td><td>11644</td></tr>",
                            "<tr><td>The Suspicions of Mr. Whicher: Murder and the Undoing of a Great Victorian Detective</td><td>Kate Summerscale</td><td>3.43</td><td>11643</td></tr>",
                            "<tr><td>The Suspicions of Mr. Whicher: Murder and the Undoing of a Great Victorian Detective</td><td>Kate Summerscale</td><td>3.43</td><td>11644</td></tr>",
                            "<tr><td>Shaman&#39;s Crossing</td><td>Robin Hobb</td><td>3.42</td><td>11643</td></tr>",
                            "<tr><td>The Middlesteins</td><td>Jami Attenberg</td><td>3.42</td><td>11643</td></tr>",
                            "<tr><td>Vinegar Girl</td><td>Anne Tyler</td><td>3.42</td><td>11644</td></tr>",
                            "<tr><td>NW </td><td>Zadie Smith</td><td>3.41</td><td>11643</td></tr>",
                            "<tr><td>NW </td><td>Zadie Smith</td><td>3.41</td><td>11644</td></tr>",
                            "<tr><td>Saving Fish from Drowning: A Novel</td><td>Amy Tan</td><td>3.41</td><td>11644</td></tr>",
                            "<tr><td>The Dive From Clausen&#39;s Pier</td><td>Ann Packer</td><td>3.41</td><td>11643</td></tr>",
                            "<tr><td>The Friday Night Knitting Club</td><td>Kate Jacobs</td><td>3.41</td><td>11644</td></tr>",
                            "<tr><td>The Inheritance of Loss</td><td>Kiran Desai</td><td>3.41</td><td>11644</td></tr>",
                            "<tr><td>Big Brother</td><td>Lionel Shriver</td><td>3.4</td><td>11644</td></tr>",
                            "<tr><td>Down the Rabbit Hole: Curious Adventures and Cautionary Tales of a Former Playboy Bunny</td><td>Holly Madison</td><td>3.4</td><td>11644</td></tr>",
                            "<tr><td>The Nanny Diaries</td><td>Emma McLaughlin, Nicola Kraus</td><td>3.4</td><td>11643</td></tr>",
                            "<tr><td>Committed: A Skeptic Makes Peace with Marriage</td><td>Elizabeth Gilbert</td><td>3.39</td><td>11643</td></tr>",
                            "<tr><td>Everyone Worth Knowing</td><td>Lauren Weisberger</td><td>3.39</td><td>11643</td></tr>",
                            "<tr><td>The Paying Guests</td><td>Sarah Waters</td><td>3.39</td><td>11643</td></tr>",
                            "<tr><td>The Paying Guests</td><td>Sarah Waters</td><td>3.39</td><td>11644</td></tr>",
                            "<tr><td>Brick Lane</td><td>Monica Ali</td><td>3.38</td><td>11643</td></tr>",
                            "<tr><td>Brick Lane</td><td>Monica Ali</td><td>3.38</td><td>11644</td></tr>",
                            "<tr><td>Eileen</td><td>Ottessa Moshfegh</td><td>3.38</td><td>11643</td></tr>",
                            "<tr><td>Eileen</td><td>Ottessa Moshfegh</td><td>3.38</td><td>11644</td></tr>",
                            "<tr><td>A Short History of Tractors in Ukrainian</td><td>Marina Lewycka</td><td>3.37</td><td>11643</td></tr>",
                            "<tr><td>I Am Having So Much Fun Here Without You</td><td>Courtney Maum</td><td>3.37</td><td>11644</td></tr>",
                            "<tr><td>Sex and the City</td><td>Candace Bushnell</td><td>3.37</td><td>11643</td></tr>",
                            "<tr><td>Sex and the City</td><td>Candace Bushnell</td><td>3.37</td><td>11644</td></tr>",
                            "<tr><td>The Heart Goes Last</td><td>Margaret Atwood</td><td>3.37</td><td>11643</td></tr>",
                            "<tr><td>The Heart Goes Last</td><td>Margaret Atwood</td><td>3.37</td><td>11644</td></tr>",
                            "<tr><td>The Tiger&#39;s Wife</td><td>Téa Obreht</td><td>3.37</td><td>11643</td></tr>",
                            "<tr><td>The Tiger&#39;s Wife</td><td>Téa Obreht</td><td>3.37</td><td>11644</td></tr>",
                            "<tr><td>Commencement</td><td>J. Courtney Sullivan</td><td>3.36</td><td>11644</td></tr>",
                            "<tr><td>Prep</td><td>Curtis Sittenfeld</td><td>3.36</td><td>11643</td></tr>",
                            "<tr><td>Prep</td><td>Curtis Sittenfeld</td><td>3.36</td><td>11644</td></tr>",
                            "<tr><td>The Weird Sisters</td><td>Eleanor Brown</td><td>3.36</td><td>11643</td></tr>",
                            "<tr><td>Ethan Frome</td><td>Edith Wharton</td><td>3.35</td><td>11643</td></tr>",
                            "<tr><td>Ethan Frome</td><td>Edith Wharton</td><td>3.35</td><td>11644</td></tr>",
                            "<tr><td>Sisterland</td><td>Curtis Sittenfeld</td><td>3.35</td><td>11643</td></tr>",
                            "<tr><td>Boy, Snow, Bird</td><td>Helen Oyeyemi</td><td>3.34</td><td>11643</td></tr>",
                            "<tr><td>Boy, Snow, Bird</td><td>Helen Oyeyemi</td><td>3.34</td><td>11644</td></tr>",
                            "<tr><td>Histoire d&#39;O</td><td>Pauline Réage, Sabine d&#39;Estree</td><td>3.34</td><td>11643</td></tr>",
                            "<tr><td>Histoire d&#39;O</td><td>Pauline Réage, Sabine d&#39;Estree</td><td>3.34</td><td>11644</td></tr>",
                            "<tr><td>Tampa</td><td>Alissa Nutting</td><td>3.34</td><td>11643</td></tr>",
                            "<tr><td>Tampa</td><td>Alissa Nutting</td><td>3.34</td><td>11644</td></tr>",
                            "<tr><td>Not that Kind of Girl</td><td>Lena Dunham, Joana Avillez</td><td>3.33</td><td>11643</td></tr>",
                            "<tr><td>Not that Kind of Girl</td><td>Lena Dunham, Joana Avillez</td><td>3.33</td><td>11644</td></tr>",
                            "<tr><td>Chasing Harry Winston</td><td>Lauren Weisberger</td><td>3.32</td><td>11643</td></tr>",
                            "<tr><td>Mad About the Boy</td><td>Helen Fielding</td><td>3.32</td><td>11643</td></tr>",
                            "<tr><td>The Three</td><td>Sarah Lotz</td><td>3.32</td><td>11643</td></tr>",
                            "<tr><td>Go Set a Watchman</td><td>Harper Lee</td><td>3.31</td><td>11643</td></tr>",
                            "<tr><td>The Woman Upstairs</td><td>Claire Messud</td><td>3.31</td><td>11643</td></tr>",
                            "<tr><td>The Love Affairs of Nathaniel P. </td><td>Adelle Waldman</td><td>3.3</td><td>11643</td></tr>",
                            "<tr><td>The Love Affairs of Nathaniel P. </td><td>Adelle Waldman</td><td>3.3</td><td>11644</td></tr>",
                            "<tr><td>The Postmistress</td><td>Sarah Blake, Orlagh Cassidy</td><td>3.3</td><td>11644</td></tr>",
                            "<tr><td>The Silent Wife</td><td>A.S.A. Harrison</td><td>3.3</td><td>11643</td></tr>",
                            "<tr><td>The Girls&#39; Guide to Hunting and Fishing</td><td>Melissa Bank</td><td>3.29</td><td>11643</td></tr>",
                            "<tr><td>Sweetbitter</td><td>Stephanie Danler</td><td>3.28</td><td>11644</td></tr>",
                            "<tr><td>The Casual Vacancy</td><td>J.K. Rowling</td><td>3.28</td><td>11643</td></tr>",
                            "<tr><td>Bergdorf Blondes</td><td>Plum Sykes</td><td>3.26</td><td>11643</td></tr>",
                            "<tr><td>El juego de Ripper</td><td>Isabel Allende, Oliver Brock, Frank Wynne</td><td>3.24</td><td>11643</td></tr>",
                            "<tr><td>El juego de Ripper</td><td>Isabel Allende, Oliver Brock, Frank Wynne</td><td>3.24</td><td>11644</td></tr>",
                            "<tr><td>Hausfrau</td><td>Jill Alexander Essbaum</td><td>3.24</td><td>11643</td></tr>",
                            "<tr><td>Hausfrau</td><td>Jill Alexander Essbaum</td><td>3.24</td><td>11644</td></tr>",
                            "<tr><td>Dare Me</td><td>Megan Abbott</td><td>3.23</td><td>11643</td></tr>",
                            "<tr><td>Her Fearful Symmetry</td><td>Audrey Niffenegger</td><td>3.23</td><td>11643</td></tr>",
                            "<tr><td>California</td><td>Edan Lepucki</td><td>3.22</td><td>11643</td></tr>",
                            "<tr><td>California</td><td>Edan Lepucki</td><td>3.22</td><td>11644</td></tr>",
                            "<tr><td>Death Comes to Pemberley</td><td>P.D. James</td><td>3.21</td><td>11643</td></tr>",
                            "<tr><td>Swamplandia!</td><td>Karen Russell</td><td>3.21</td><td>11643</td></tr>",
                            "<tr><td>Swamplandia!</td><td>Karen Russell</td><td>3.21</td><td>11644</td></tr>",
                            "<tr><td>The Lifeboat</td><td>Charlotte Rogan</td><td>3.2</td><td>11644</td></tr>",
                            "<tr><td>Songs of the Humpback Whale: A Novel in Five Voices</td><td>Jodi Picoult</td><td>3.19</td><td>11644</td></tr>",
                            "<tr><td>The Particular Sadness of Lemon Cake</td><td>Aimee Bender</td><td>3.19</td><td>11643</td></tr>",
                            "<tr><td>The Particular Sadness of Lemon Cake</td><td>Aimee Bender</td><td>3.19</td><td>11644</td></tr>",
                            "<tr><td>All He Ever Wanted</td><td>Anita Shreve</td><td>3.18</td><td>11644</td></tr>",
                            "<tr><td>بنات الرياض</td><td>Rajaa Alsanea</td><td>3.17</td><td>11643</td></tr>",
                            "<tr><td>A Gate at the Stairs</td><td>Lorrie Moore</td><td>3.14</td><td>11643</td></tr>",
                            "<tr><td>A Gate at the Stairs</td><td>Lorrie Moore</td><td>3.14</td><td>11644</td></tr>",
                            "<tr><td>The Autograph Man</td><td>Zadie Smith</td><td>3.14</td><td>11643</td></tr>",
                            "<tr><td>The Autograph Man</td><td>Zadie Smith</td><td>3.14</td><td>11644</td></tr>",
                            "<tr><td>The Vacationers</td><td>Emma Straub</td><td>3.14</td><td>11643</td></tr>",
                            "<tr><td>Frog Music</td><td>Emma Donoghue</td><td>3.13</td><td>11643</td></tr>",
                            "<tr><td>Frog Music</td><td>Emma Donoghue</td><td>3.13</td><td>11644</td></tr>",
                            "<tr><td>The Fever</td><td>Megan Abbott</td><td>3.12</td><td>11643</td></tr>",
                            "<tr><td>Olivia Joules And The Overactive Imagination</td><td>Helen Fielding</td><td>3.1</td><td>11643</td></tr>",
                            "<tr><td>The Jane Austen Book Club</td><td>Karen Joy Fowler</td><td>3.07</td><td>11643</td></tr>",
                            "<tr><td>The Gathering</td><td>Anne Enright</td><td>3.04</td><td>11643</td></tr>",
                            "<tr><td>Seating Arrangements</td><td>Maggie Shipstead</td><td>3.02</td><td>11643</td></tr>",
                            "<tr><td>The Emperor&#39;s Children</td><td>Claire Messud</td><td>2.93</td><td>11643</td></tr>",
                            "<tr><td>The Emperor&#39;s Children</td><td>Claire Messud</td><td>2.93</td><td>11644</td></tr>",
                            "<tr><td>Four Blondes</td><td>Candace Bushnell</td><td>2.8</td><td>11643</td></tr>",
                            "<tr><td>Four Blondes</td><td>Candace Bushnell</td><td>2.8</td><td>11644</td></tr>",
                            "<tr><td>The Almost Moon</td><td>Alice Sebold</td><td>2.67</td><td>11644</td></tr>",
                            "</table>"
                        ]
                    }
                }
            ],
            "execution_count": 56
        },
        {
            "cell_type": "markdown",
            "source": [
                "### **Record your thoughts about why you wrote the query the way you did.**\n",
                "\n",
                "I started out by selecting all of the columns I would need to display the requested data. I decided on an inner join because it would get me the data I needed without any extraneous data (though all the join methods returned the same thing anyway in this case). Because there were null book titles, I set up a where statement to exclude them. I had to group by everything I selected since none of it was used in an aggregate function. For the having statement, I included only the tags I was looking for. I then ordered everything by average rating in descending order to show the highest rated first."
            ],
            "metadata": {
                "azdata_cell_guid": "1e19a72c-1bca-446b-a0c7-a8efbc35dcf1"
            },
            "attachments": {}
        },
        {
            "cell_type": "markdown",
            "source": [
                "# Part 2: Choose Another Month\n",
                "\n",
                "Choose another month and plan at least 2 events / promotions and answer the following questions.\n",
                "\n",
                "Which month did you choose?  \n",
                "\n",
                "What 2 events / promotions are you highlighting?\n",
                "\n",
                "> 1. January\n",
                "\n",
                "> 2. Houseplant Appreciation Day and International Holocaust Rememberance Day"
            ],
            "metadata": {
                "azdata_cell_guid": "3eaf376d-9de3-4553-a9d0-9caf74ee3d6a"
            },
            "attachments": {}
        },
        {
            "cell_type": "markdown",
            "source": [
                "# Part 3: Summarize your Work\n",
                "\n",
                "For each event write at least one query that joins any two tables in the BooksDB to support your choice and record you thoughts as to why you used the paticlular query. At least one of your queries needs to include a HAVING clause."
            ],
            "metadata": {
                "azdata_cell_guid": "1ba1363a-4f02-4962-a95a-93b80c5926b1"
            },
            "attachments": {}
        },
        {
            "cell_type": "code",
            "source": [
                "-- Event 1 Query\r\n",
                "select * from BooksDB.dbo.tags where tag_name like '%chlorophyll%' or tag_name like '%soil%' or tag_name like '%succulent%' or tag_name like '%plant%'"
            ],
            "metadata": {
                "azdata_cell_guid": "f50d32ce-4cb2-4af2-acb1-607777a76cf8",
                "language": "sql"
            },
            "outputs": [
                {
                    "output_type": "display_data",
                    "data": {
                        "text/html": "(16 rows affected)"
                    },
                    "metadata": {}
                },
                {
                    "output_type": "display_data",
                    "data": {
                        "text/html": "Total execution time: 00:00:00.314"
                    },
                    "metadata": {}
                },
                {
                    "output_type": "execute_result",
                    "metadata": {},
                    "execution_count": 42,
                    "data": {
                        "application/vnd.dataresource+json": {
                            "schema": {
                                "fields": [
                                    {
                                        "name": "tag_id"
                                    },
                                    {
                                        "name": "tag_name"
                                    }
                                ]
                            },
                            "data": [
                                {
                                    "tag_id": "4903",
                                    "tag_name": "bone-marrow-transplant"
                                },
                                {
                                    "tag_id": "7294",
                                    "tag_name": "church-planting"
                                },
                                {
                                    "tag_id": "8118",
                                    "tag_name": "cook-books-plant-based"
                                },
                                {
                                    "tag_id": "8341",
                                    "tag_name": "cotton-plantations"
                                },
                                {
                                    "tag_id": "14184",
                                    "tag_name": "heart-transplant"
                                },
                                {
                                    "tag_id": "23714",
                                    "tag_name": "plant"
                                },
                                {
                                    "tag_id": "23715",
                                    "tag_name": "plant-based"
                                },
                                {
                                    "tag_id": "23716",
                                    "tag_name": "plantagenet"
                                },
                                {
                                    "tag_id": "23717",
                                    "tag_name": "plantagenets"
                                },
                                {
                                    "tag_id": "23718",
                                    "tag_name": "plantation"
                                },
                                {
                                    "tag_id": "23719",
                                    "tag_name": "plantation-life"
                                },
                                {
                                    "tag_id": "23720",
                                    "tag_name": "plantations"
                                },
                                {
                                    "tag_id": "23721",
                                    "tag_name": "planting"
                                },
                                {
                                    "tag_id": "23722",
                                    "tag_name": "plants"
                                },
                                {
                                    "tag_id": "23723",
                                    "tag_name": "plants-fruits-vegetables"
                                },
                                {
                                    "tag_id": "31144",
                                    "tag_name": "transplantation"
                                }
                            ]
                        },
                        "text/html": [
                            "<table>",
                            "<tr><th>tag_id</th><th>tag_name</th></tr>",
                            "<tr><td>4903</td><td>bone-marrow-transplant</td></tr>",
                            "<tr><td>7294</td><td>church-planting</td></tr>",
                            "<tr><td>8118</td><td>cook-books-plant-based</td></tr>",
                            "<tr><td>8341</td><td>cotton-plantations</td></tr>",
                            "<tr><td>14184</td><td>heart-transplant</td></tr>",
                            "<tr><td>23714</td><td>plant</td></tr>",
                            "<tr><td>23715</td><td>plant-based</td></tr>",
                            "<tr><td>23716</td><td>plantagenet</td></tr>",
                            "<tr><td>23717</td><td>plantagenets</td></tr>",
                            "<tr><td>23718</td><td>plantation</td></tr>",
                            "<tr><td>23719</td><td>plantation-life</td></tr>",
                            "<tr><td>23720</td><td>plantations</td></tr>",
                            "<tr><td>23721</td><td>planting</td></tr>",
                            "<tr><td>23722</td><td>plants</td></tr>",
                            "<tr><td>23723</td><td>plants-fruits-vegetables</td></tr>",
                            "<tr><td>31144</td><td>transplantation</td></tr>",
                            "</table>"
                        ]
                    }
                }
            ],
            "execution_count": 42
        },
        {
            "cell_type": "code",
            "source": [
                "select b.original_title as \"Title\", b.authors as \"Authors\", b.average_rating as \"Average Rating\", bt.tag_id as \"Tag ID\"\r\n",
                "from BooksDB.dbo.book_tags as bt\r\n",
                "inner join BooksDB.dbo.books as b\r\n",
                "on b.best_book_id = bt.goodreads_book_id\r\n",
                "group by b.original_title,b.authors,b.average_rating,bt.tag_id\r\n",
                "having bt.tag_id like '23714' or bt.tag_id like '23721' or bt.tag_id like '23722' or bt.tag_id like '23723'\r\n",
                "order by b.original_title asc;"
            ],
            "metadata": {
                "azdata_cell_guid": "5606f7f2-c46b-42d3-ac64-7ae21c3394f8",
                "language": "sql"
            },
            "outputs": [
                {
                    "output_type": "display_data",
                    "data": {
                        "text/html": "(6 rows affected)"
                    },
                    "metadata": {}
                },
                {
                    "output_type": "display_data",
                    "data": {
                        "text/html": "Total execution time: 00:00:01.163"
                    },
                    "metadata": {}
                },
                {
                    "output_type": "execute_result",
                    "metadata": {},
                    "execution_count": 40,
                    "data": {
                        "application/vnd.dataresource+json": {
                            "schema": {
                                "fields": [
                                    {
                                        "name": "Title"
                                    },
                                    {
                                        "name": "Authors"
                                    },
                                    {
                                        "name": "Average Rating"
                                    },
                                    {
                                        "name": "Tag ID"
                                    }
                                ]
                            },
                            "data": [
                                {
                                    "Title": "Lab Girl",
                                    "Authors": "Hope Jahren",
                                    "Average Rating": "4.04",
                                    "Tag ID": "23722"
                                },
                                {
                                    "Title": "The Botany of Desire: A Plant's-Eye View of the World",
                                    "Authors": "Michael Pollan",
                                    "Average Rating": "4.05",
                                    "Tag ID": "23722"
                                },
                                {
                                    "Title": "The Carrot Seed",
                                    "Authors": "Ruth Krauss, Crockett Johnson",
                                    "Average Rating": "4.07",
                                    "Tag ID": "23721"
                                },
                                {
                                    "Title": "The Carrot Seed",
                                    "Authors": "Ruth Krauss, Crockett Johnson",
                                    "Average Rating": "4.07",
                                    "Tag ID": "23722"
                                },
                                {
                                    "Title": "The Carrot Seed",
                                    "Authors": "Ruth Krauss, Crockett Johnson",
                                    "Average Rating": "4.07",
                                    "Tag ID": "23723"
                                },
                                {
                                    "Title": "The Day of the Triffids",
                                    "Authors": "John Wyndham",
                                    "Average Rating": "4",
                                    "Tag ID": "23714"
                                }
                            ]
                        },
                        "text/html": [
                            "<table>",
                            "<tr><th>Title</th><th>Authors</th><th>Average Rating</th><th>Tag ID</th></tr>",
                            "<tr><td>Lab Girl</td><td>Hope Jahren</td><td>4.04</td><td>23722</td></tr>",
                            "<tr><td>The Botany of Desire: A Plant&#39;s-Eye View of the World</td><td>Michael Pollan</td><td>4.05</td><td>23722</td></tr>",
                            "<tr><td>The Carrot Seed</td><td>Ruth Krauss, Crockett Johnson</td><td>4.07</td><td>23721</td></tr>",
                            "<tr><td>The Carrot Seed</td><td>Ruth Krauss, Crockett Johnson</td><td>4.07</td><td>23722</td></tr>",
                            "<tr><td>The Carrot Seed</td><td>Ruth Krauss, Crockett Johnson</td><td>4.07</td><td>23723</td></tr>",
                            "<tr><td>The Day of the Triffids</td><td>John Wyndham</td><td>4</td><td>23714</td></tr>",
                            "</table>"
                        ]
                    }
                }
            ],
            "execution_count": 40
        },
        {
            "cell_type": "markdown",
            "source": [
                "### **Summary of event 1:**\n",
                "\n",
                "I first started by doing a search of the tags database for plant-related keywords. I selected the tag IDs I thought might apply to houseplants and used a query similar to the one used for women's history month for the same reasons as it was used for women's history month. All-in-all, this would be a very disappointing appreciation of houseplents. The only likely candidates are _The Botany of Desire: A Plant's-Eye View of the World_ and _The Carrot Seed_. Maybe we could sell some houseplants instead or cute houseplant themed bookmarks or knick knacks."
            ],
            "metadata": {
                "azdata_cell_guid": "3bc72d4c-077b-42d3-9528-9aff8e7b6cf3"
            },
            "attachments": {}
        },
        {
            "cell_type": "code",
            "source": [
                "-- Event 2 Query\r\n",
                "select * from BooksDB.dbo.tags where tag_name like '%holocaust%' or tag_name like '%wwii%' or tag_name like '%ww2%' or tag_name like '%nazi%';"
            ],
            "metadata": {
                "azdata_cell_guid": "dca0a98f-065f-4b0e-9d93-fcb01cad668c",
                "language": "sql"
            },
            "outputs": [
                {
                    "output_type": "display_data",
                    "data": {
                        "text/html": "(56 rows affected)"
                    },
                    "metadata": {}
                },
                {
                    "output_type": "display_data",
                    "data": {
                        "text/html": "Total execution time: 00:00:00.363"
                    },
                    "metadata": {}
                },
                {
                    "output_type": "execute_result",
                    "metadata": {},
                    "execution_count": 57,
                    "data": {
                        "application/vnd.dataresource+json": {
                            "schema": {
                                "fields": [
                                    {
                                        "name": "tag_id"
                                    },
                                    {
                                        "name": "tag_name"
                                    }
                                ]
                            },
                            "data": [
                                {
                                    "tag_id": "934",
                                    "tag_name": "20th-century-post-ww2"
                                },
                                {
                                    "tag_id": "11843",
                                    "tag_name": "fiction-wwii"
                                },
                                {
                                    "tag_id": "14352",
                                    "tag_name": "hiding-jews-from-nazis"
                                },
                                {
                                    "tag_id": "14512",
                                    "tag_name": "historical-fiction-ww2"
                                },
                                {
                                    "tag_id": "14513",
                                    "tag_name": "historical-fiction-wwii"
                                },
                                {
                                    "tag_id": "14627",
                                    "tag_name": "history-us-wwii"
                                },
                                {
                                    "tag_id": "14637",
                                    "tag_name": "history-ww2"
                                },
                                {
                                    "tag_id": "14639",
                                    "tag_name": "history-wwii"
                                },
                                {
                                    "tag_id": "14730",
                                    "tag_name": "holocaust"
                                },
                                {
                                    "tag_id": "14731",
                                    "tag_name": "holocaust-and-wwii"
                                },
                                {
                                    "tag_id": "14732",
                                    "tag_name": "holocaust-books"
                                },
                                {
                                    "tag_id": "14733",
                                    "tag_name": "holocaust-fiction"
                                },
                                {
                                    "tag_id": "14734",
                                    "tag_name": "holocaust-genocide"
                                },
                                {
                                    "tag_id": "14735",
                                    "tag_name": "holocaust-lit"
                                },
                                {
                                    "tag_id": "14736",
                                    "tag_name": "holocaust-literature"
                                },
                                {
                                    "tag_id": "14737",
                                    "tag_name": "holocaust-memoir"
                                },
                                {
                                    "tag_id": "14738",
                                    "tag_name": "holocaust-memoirs"
                                },
                                {
                                    "tag_id": "14739",
                                    "tag_name": "holocaust-related"
                                },
                                {
                                    "tag_id": "14740",
                                    "tag_name": "holocaust-studies"
                                },
                                {
                                    "tag_id": "14741",
                                    "tag_name": "holocaust-survivor"
                                },
                                {
                                    "tag_id": "14742",
                                    "tag_name": "holocaust-survivors"
                                },
                                {
                                    "tag_id": "14743",
                                    "tag_name": "holocaust-ww2"
                                },
                                {
                                    "tag_id": "14744",
                                    "tag_name": "holocaust-wwii"
                                },
                                {
                                    "tag_id": "14745",
                                    "tag_name": "holocausto"
                                },
                                {
                                    "tag_id": "16388",
                                    "tag_name": "jewish-holocaust"
                                },
                                {
                                    "tag_id": "21223",
                                    "tag_name": "nazi"
                                },
                                {
                                    "tag_id": "21224",
                                    "tag_name": "nazi-french-occupation"
                                },
                                {
                                    "tag_id": "21225",
                                    "tag_name": "nazi-germany"
                                },
                                {
                                    "tag_id": "21226",
                                    "tag_name": "nazis"
                                },
                                {
                                    "tag_id": "21227",
                                    "tag_name": "nazism"
                                },
                                {
                                    "tag_id": "25779",
                                    "tag_name": "resistance-to-nazis"
                                },
                                {
                                    "tag_id": "29850",
                                    "tag_name": "the-holocaust"
                                },
                                {
                                    "tag_id": "32157",
                                    "tag_name": "war-ww2"
                                },
                                {
                                    "tag_id": "32817",
                                    "tag_name": "world-war-ii-holocaust"
                                },
                                {
                                    "tag_id": "32906",
                                    "tag_name": "ww2"
                                },
                                {
                                    "tag_id": "32907",
                                    "tag_name": "ww2-books"
                                },
                                {
                                    "tag_id": "32908",
                                    "tag_name": "ww2-fiction"
                                },
                                {
                                    "tag_id": "32909",
                                    "tag_name": "ww2-history"
                                },
                                {
                                    "tag_id": "32910",
                                    "tag_name": "ww2-holocaust"
                                },
                                {
                                    "tag_id": "32911",
                                    "tag_name": "ww2-pacific"
                                },
                                {
                                    "tag_id": "32916",
                                    "tag_name": "wwi-wwii"
                                },
                                {
                                    "tag_id": "32917",
                                    "tag_name": "wwii"
                                },
                                {
                                    "tag_id": "32918",
                                    "tag_name": "wwii-books"
                                },
                                {
                                    "tag_id": "32919",
                                    "tag_name": "wwii-collection"
                                },
                                {
                                    "tag_id": "32920",
                                    "tag_name": "wwii-era"
                                },
                                {
                                    "tag_id": "32921",
                                    "tag_name": "wwii-europe"
                                },
                                {
                                    "tag_id": "32922",
                                    "tag_name": "wwii-fiction"
                                },
                                {
                                    "tag_id": "32923",
                                    "tag_name": "wwii-historical-fiction"
                                },
                                {
                                    "tag_id": "32924",
                                    "tag_name": "wwii-history"
                                },
                                {
                                    "tag_id": "32925",
                                    "tag_name": "wwii-holocaust"
                                },
                                {
                                    "tag_id": "32926",
                                    "tag_name": "wwii-memoirs"
                                },
                                {
                                    "tag_id": "32927",
                                    "tag_name": "wwii-non-fiction"
                                },
                                {
                                    "tag_id": "32928",
                                    "tag_name": "wwii-nonfiction"
                                },
                                {
                                    "tag_id": "32929",
                                    "tag_name": "wwii-normandy"
                                },
                                {
                                    "tag_id": "32930",
                                    "tag_name": "wwii-pacific"
                                },
                                {
                                    "tag_id": "32931",
                                    "tag_name": "wwii-related"
                                }
                            ]
                        },
                        "text/html": [
                            "<table>",
                            "<tr><th>tag_id</th><th>tag_name</th></tr>",
                            "<tr><td>934</td><td>20th-century-post-ww2</td></tr>",
                            "<tr><td>11843</td><td>fiction-wwii</td></tr>",
                            "<tr><td>14352</td><td>hiding-jews-from-nazis</td></tr>",
                            "<tr><td>14512</td><td>historical-fiction-ww2</td></tr>",
                            "<tr><td>14513</td><td>historical-fiction-wwii</td></tr>",
                            "<tr><td>14627</td><td>history-us-wwii</td></tr>",
                            "<tr><td>14637</td><td>history-ww2</td></tr>",
                            "<tr><td>14639</td><td>history-wwii</td></tr>",
                            "<tr><td>14730</td><td>holocaust</td></tr>",
                            "<tr><td>14731</td><td>holocaust-and-wwii</td></tr>",
                            "<tr><td>14732</td><td>holocaust-books</td></tr>",
                            "<tr><td>14733</td><td>holocaust-fiction</td></tr>",
                            "<tr><td>14734</td><td>holocaust-genocide</td></tr>",
                            "<tr><td>14735</td><td>holocaust-lit</td></tr>",
                            "<tr><td>14736</td><td>holocaust-literature</td></tr>",
                            "<tr><td>14737</td><td>holocaust-memoir</td></tr>",
                            "<tr><td>14738</td><td>holocaust-memoirs</td></tr>",
                            "<tr><td>14739</td><td>holocaust-related</td></tr>",
                            "<tr><td>14740</td><td>holocaust-studies</td></tr>",
                            "<tr><td>14741</td><td>holocaust-survivor</td></tr>",
                            "<tr><td>14742</td><td>holocaust-survivors</td></tr>",
                            "<tr><td>14743</td><td>holocaust-ww2</td></tr>",
                            "<tr><td>14744</td><td>holocaust-wwii</td></tr>",
                            "<tr><td>14745</td><td>holocausto</td></tr>",
                            "<tr><td>16388</td><td>jewish-holocaust</td></tr>",
                            "<tr><td>21223</td><td>nazi</td></tr>",
                            "<tr><td>21224</td><td>nazi-french-occupation</td></tr>",
                            "<tr><td>21225</td><td>nazi-germany</td></tr>",
                            "<tr><td>21226</td><td>nazis</td></tr>",
                            "<tr><td>21227</td><td>nazism</td></tr>",
                            "<tr><td>25779</td><td>resistance-to-nazis</td></tr>",
                            "<tr><td>29850</td><td>the-holocaust</td></tr>",
                            "<tr><td>32157</td><td>war-ww2</td></tr>",
                            "<tr><td>32817</td><td>world-war-ii-holocaust</td></tr>",
                            "<tr><td>32906</td><td>ww2</td></tr>",
                            "<tr><td>32907</td><td>ww2-books</td></tr>",
                            "<tr><td>32908</td><td>ww2-fiction</td></tr>",
                            "<tr><td>32909</td><td>ww2-history</td></tr>",
                            "<tr><td>32910</td><td>ww2-holocaust</td></tr>",
                            "<tr><td>32911</td><td>ww2-pacific</td></tr>",
                            "<tr><td>32916</td><td>wwi-wwii</td></tr>",
                            "<tr><td>32917</td><td>wwii</td></tr>",
                            "<tr><td>32918</td><td>wwii-books</td></tr>",
                            "<tr><td>32919</td><td>wwii-collection</td></tr>",
                            "<tr><td>32920</td><td>wwii-era</td></tr>",
                            "<tr><td>32921</td><td>wwii-europe</td></tr>",
                            "<tr><td>32922</td><td>wwii-fiction</td></tr>",
                            "<tr><td>32923</td><td>wwii-historical-fiction</td></tr>",
                            "<tr><td>32924</td><td>wwii-history</td></tr>",
                            "<tr><td>32925</td><td>wwii-holocaust</td></tr>",
                            "<tr><td>32926</td><td>wwii-memoirs</td></tr>",
                            "<tr><td>32927</td><td>wwii-non-fiction</td></tr>",
                            "<tr><td>32928</td><td>wwii-nonfiction</td></tr>",
                            "<tr><td>32929</td><td>wwii-normandy</td></tr>",
                            "<tr><td>32930</td><td>wwii-pacific</td></tr>",
                            "<tr><td>32931</td><td>wwii-related</td></tr>",
                            "</table>"
                        ]
                    }
                }
            ],
            "execution_count": 57
        },
        {
            "cell_type": "code",
            "source": [
                "select b.original_title as \"Title\", b.authors as \"Authors\", b.average_rating as \"Average Rating\", bt.tag_id as \"Tag ID\"\r\n",
                "from BooksDB.dbo.book_tags as bt\r\n",
                "inner join BooksDB.dbo.books as b\r\n",
                "on b.best_book_id = bt.goodreads_book_id\r\n",
                "group by b.original_title,b.authors,b.average_rating,bt.tag_id\r\n",
                "having bt.tag_id like '14352' or bt.tag_id like '14737' or bt.tag_id like '14742'\r\n",
                "order by b.original_title asc;"
            ],
            "metadata": {
                "azdata_cell_guid": "3aaae3a8-eff7-4b37-8970-2d913a67239b",
                "language": "sql"
            },
            "outputs": [
                {
                    "output_type": "display_data",
                    "data": {
                        "text/html": "(7 rows affected)"
                    },
                    "metadata": {}
                },
                {
                    "output_type": "display_data",
                    "data": {
                        "text/html": "Total execution time: 00:00:01.346"
                    },
                    "metadata": {}
                },
                {
                    "output_type": "execute_result",
                    "metadata": {},
                    "execution_count": 58,
                    "data": {
                        "application/vnd.dataresource+json": {
                            "schema": {
                                "fields": [
                                    {
                                        "name": "Title"
                                    },
                                    {
                                        "name": "Authors"
                                    },
                                    {
                                        "name": "Average Rating"
                                    },
                                    {
                                        "name": "Tag ID"
                                    }
                                ]
                            },
                            "data": [
                                {
                                    "Title": "All But My Life",
                                    "Authors": "Gerda Weissmann Klein",
                                    "Average Rating": "4.28",
                                    "Tag ID": "14737"
                                },
                                {
                                    "Title": "All But My Life",
                                    "Authors": "Gerda Weissmann Klein",
                                    "Average Rating": "4.28",
                                    "Tag ID": "14738"
                                },
                                {
                                    "Title": "All But My Life",
                                    "Authors": "Gerda Weissmann Klein",
                                    "Average Rating": "4.28",
                                    "Tag ID": "14741"
                                },
                                {
                                    "Title": "Day After Night",
                                    "Authors": "Anita Diamant",
                                    "Average Rating": "3.65",
                                    "Tag ID": "14742"
                                },
                                {
                                    "Title": "I Have Lived A Thousand Years: Growing Up In The Holocaust",
                                    "Authors": "Livia E. Bitton-Jackson",
                                    "Average Rating": "4.17",
                                    "Tag ID": "14737"
                                },
                                {
                                    "Title": "The Paris Architect",
                                    "Authors": "Charles Belfoure",
                                    "Average Rating": "3.98",
                                    "Tag ID": "14352"
                                },
                                {
                                    "Title": "The Storyteller",
                                    "Authors": "Jodi Picoult",
                                    "Average Rating": "4.26",
                                    "Tag ID": "14742"
                                }
                            ]
                        },
                        "text/html": [
                            "<table>",
                            "<tr><th>Title</th><th>Authors</th><th>Average Rating</th><th>Tag ID</th></tr>",
                            "<tr><td>All But My Life</td><td>Gerda Weissmann Klein</td><td>4.28</td><td>14737</td></tr>",
                            "<tr><td>All But My Life</td><td>Gerda Weissmann Klein</td><td>4.28</td><td>14738</td></tr>",
                            "<tr><td>All But My Life</td><td>Gerda Weissmann Klein</td><td>4.28</td><td>14741</td></tr>",
                            "<tr><td>Day After Night</td><td>Anita Diamant</td><td>3.65</td><td>14742</td></tr>",
                            "<tr><td>I Have Lived A Thousand Years: Growing Up In The Holocaust</td><td>Livia E. Bitton-Jackson</td><td>4.17</td><td>14737</td></tr>",
                            "<tr><td>The Paris Architect</td><td>Charles Belfoure</td><td>3.98</td><td>14352</td></tr>",
                            "<tr><td>The Storyteller</td><td>Jodi Picoult</td><td>4.26</td><td>14742</td></tr>",
                            "</table>"
                        ]
                    }
                }
            ],
            "execution_count": 58
        },
        {
            "cell_type": "markdown",
            "source": [
                "### **Summary of event 2:**\n",
                "\n",
                "I started out by searching the tags database for holocaust related keywords. Since this is a day of rememberance, I selected the tag IDs that I felt focused more on the victims of the holocaust and those that aided them. I then queried for those IDs and found that 14738 and 14741 applied only to _All But My Life_, which was also covered by 14737, and so decided to rerun the query without those IDs to tighten up the code a bit. There aren't many books to choose from with my criteria, but they do seem to be rather highly rated, so this rememberance will be quality over quantity, I suppose."
            ],
            "metadata": {
                "azdata_cell_guid": "99d518dc-cd8b-42d6-9a9d-708771c9aa99"
            },
            "attachments": {}
        }
    ]
}